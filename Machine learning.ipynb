{
  "cells": [
    {
      "cell_type": "markdown",
      "id": "CQ1Iv7vSkt3O",
      "metadata": {
        "id": "CQ1Iv7vSkt3O"
      },
      "source": [
        "# Importing the necessary libraries and dataset"
      ]
    },
    {
      "cell_type": "code",
      "execution_count": 1,
      "id": "0t_W-Clbkvh9",
      "metadata": {
        "id": "0t_W-Clbkvh9"
      },
      "outputs": [],
      "source": [
        "import numpy as np\n",
        "import pandas as pd\n",
        "import seaborn as sb\n",
        "import matplotlib.pyplot as plt \n",
        "sb.set()"
      ]
    },
    {
      "cell_type": "code",
      "execution_count": 2,
      "id": "9GTiwaaEkxA2",
      "metadata": {
        "id": "9GTiwaaEkxA2"
      },
      "outputs": [],
      "source": [
        "choc = pd.read_csv('traintest.csv')"
      ]
    },
    {
      "cell_type": "markdown",
      "id": "6913e346",
      "metadata": {
        "id": "6913e346"
      },
      "source": [
        "# One-hot encoding for categorical variables"
      ]
    },
    {
      "cell_type": "code",
      "execution_count": 3,
      "id": "bf61371b",
      "metadata": {
        "colab": {
          "base_uri": "https://localhost:8080/",
          "height": 505
        },
        "id": "bf61371b",
        "outputId": "6275ac4c-d547-4698-98c4-a30f1a266ac1"
      },
      "outputs": [
        {
          "output_type": "execute_result",
          "data": {
            "text/plain": [
              "      Andes mint  Australia  Belize  Blend  Bolivia  Bolvia  Brazil  Burma  \\\n",
              "0            0.0        0.0     0.0    0.0      0.0     0.0     0.0    0.0   \n",
              "1            0.0        0.0     0.0    0.0      0.0     0.0     0.0    0.0   \n",
              "2            0.0        0.0     0.0    0.0      0.0     0.0     0.0    0.0   \n",
              "3            0.0        0.0     0.0    0.0      1.0     0.0     0.0    0.0   \n",
              "4            0.0        0.0     0.0    0.0      0.0     0.0     0.0    0.0   \n",
              "...          ...        ...     ...    ...      ...     ...     ...    ...   \n",
              "2010         0.0        0.0     0.0    1.0      0.0     0.0     0.0    0.0   \n",
              "2011         0.0        0.0     0.0    0.0      0.0     0.0     0.0    0.0   \n",
              "2012         0.0        0.0     1.0    0.0      0.0     0.0     0.0    0.0   \n",
              "2013         0.0        0.0     0.0    0.0      0.0     0.0     0.0    0.0   \n",
              "2014         0.0        0.0     0.0    1.0      0.0     0.0     0.0    0.0   \n",
              "\n",
              "      Cadbury egg  Cameroon  ...  why bother  wild berry  wine  winey  wood  \\\n",
              "0             0.0       0.0  ...         0.0         0.0   0.0    0.0   0.0   \n",
              "1             0.0       0.0  ...         0.0         0.0   0.0    0.0   0.0   \n",
              "2             0.0       0.0  ...         0.0         0.0   0.0    0.0   0.0   \n",
              "3             0.0       0.0  ...         0.0         0.0   0.0    0.0   0.0   \n",
              "4             0.0       0.0  ...         0.0         0.0   0.0    0.0   0.0   \n",
              "...           ...       ...  ...         ...         ...   ...    ...   ...   \n",
              "2010          0.0       0.0  ...         0.0         0.0   0.0    0.0   0.0   \n",
              "2011          0.0       0.0  ...         0.0         0.0   0.0    0.0   0.0   \n",
              "2012          0.0       0.0  ...         0.0         0.0   0.0    0.0   0.0   \n",
              "2013          0.0       0.0  ...         0.0         0.0   0.0    0.0   0.0   \n",
              "2014          0.0       0.0  ...         0.0         0.0   0.0    0.0   0.0   \n",
              "\n",
              "      woodsy  woody  wtf  yellow fruit  yogurt  \n",
              "0        0.0    0.0  0.0           0.0     0.0  \n",
              "1        0.0    0.0  0.0           0.0     0.0  \n",
              "2        0.0    0.0  0.0           0.0     0.0  \n",
              "3        0.0    0.0  0.0           0.0     0.0  \n",
              "4        0.0    0.0  0.0           0.0     0.0  \n",
              "...      ...    ...  ...           ...     ...  \n",
              "2010     0.0    0.0  0.0           0.0     0.0  \n",
              "2011     0.0    0.0  0.0           0.0     0.0  \n",
              "2012     0.0    0.0  0.0           0.0     0.0  \n",
              "2013     0.0    0.0  0.0           0.0     0.0  \n",
              "2014     0.0    0.0  0.0           0.0     0.0  \n",
              "\n",
              "[2015 rows x 853 columns]"
            ],
            "text/html": [
              "\n",
              "  <div id=\"df-ee706eb2-0539-499e-89b4-4ffe462887ad\">\n",
              "    <div class=\"colab-df-container\">\n",
              "      <div>\n",
              "<style scoped>\n",
              "    .dataframe tbody tr th:only-of-type {\n",
              "        vertical-align: middle;\n",
              "    }\n",
              "\n",
              "    .dataframe tbody tr th {\n",
              "        vertical-align: top;\n",
              "    }\n",
              "\n",
              "    .dataframe thead th {\n",
              "        text-align: right;\n",
              "    }\n",
              "</style>\n",
              "<table border=\"1\" class=\"dataframe\">\n",
              "  <thead>\n",
              "    <tr style=\"text-align: right;\">\n",
              "      <th></th>\n",
              "      <th>Andes mint</th>\n",
              "      <th>Australia</th>\n",
              "      <th>Belize</th>\n",
              "      <th>Blend</th>\n",
              "      <th>Bolivia</th>\n",
              "      <th>Bolvia</th>\n",
              "      <th>Brazil</th>\n",
              "      <th>Burma</th>\n",
              "      <th>Cadbury egg</th>\n",
              "      <th>Cameroon</th>\n",
              "      <th>...</th>\n",
              "      <th>why bother</th>\n",
              "      <th>wild berry</th>\n",
              "      <th>wine</th>\n",
              "      <th>winey</th>\n",
              "      <th>wood</th>\n",
              "      <th>woodsy</th>\n",
              "      <th>woody</th>\n",
              "      <th>wtf</th>\n",
              "      <th>yellow fruit</th>\n",
              "      <th>yogurt</th>\n",
              "    </tr>\n",
              "  </thead>\n",
              "  <tbody>\n",
              "    <tr>\n",
              "      <th>0</th>\n",
              "      <td>0.0</td>\n",
              "      <td>0.0</td>\n",
              "      <td>0.0</td>\n",
              "      <td>0.0</td>\n",
              "      <td>0.0</td>\n",
              "      <td>0.0</td>\n",
              "      <td>0.0</td>\n",
              "      <td>0.0</td>\n",
              "      <td>0.0</td>\n",
              "      <td>0.0</td>\n",
              "      <td>...</td>\n",
              "      <td>0.0</td>\n",
              "      <td>0.0</td>\n",
              "      <td>0.0</td>\n",
              "      <td>0.0</td>\n",
              "      <td>0.0</td>\n",
              "      <td>0.0</td>\n",
              "      <td>0.0</td>\n",
              "      <td>0.0</td>\n",
              "      <td>0.0</td>\n",
              "      <td>0.0</td>\n",
              "    </tr>\n",
              "    <tr>\n",
              "      <th>1</th>\n",
              "      <td>0.0</td>\n",
              "      <td>0.0</td>\n",
              "      <td>0.0</td>\n",
              "      <td>0.0</td>\n",
              "      <td>0.0</td>\n",
              "      <td>0.0</td>\n",
              "      <td>0.0</td>\n",
              "      <td>0.0</td>\n",
              "      <td>0.0</td>\n",
              "      <td>0.0</td>\n",
              "      <td>...</td>\n",
              "      <td>0.0</td>\n",
              "      <td>0.0</td>\n",
              "      <td>0.0</td>\n",
              "      <td>0.0</td>\n",
              "      <td>0.0</td>\n",
              "      <td>0.0</td>\n",
              "      <td>0.0</td>\n",
              "      <td>0.0</td>\n",
              "      <td>0.0</td>\n",
              "      <td>0.0</td>\n",
              "    </tr>\n",
              "    <tr>\n",
              "      <th>2</th>\n",
              "      <td>0.0</td>\n",
              "      <td>0.0</td>\n",
              "      <td>0.0</td>\n",
              "      <td>0.0</td>\n",
              "      <td>0.0</td>\n",
              "      <td>0.0</td>\n",
              "      <td>0.0</td>\n",
              "      <td>0.0</td>\n",
              "      <td>0.0</td>\n",
              "      <td>0.0</td>\n",
              "      <td>...</td>\n",
              "      <td>0.0</td>\n",
              "      <td>0.0</td>\n",
              "      <td>0.0</td>\n",
              "      <td>0.0</td>\n",
              "      <td>0.0</td>\n",
              "      <td>0.0</td>\n",
              "      <td>0.0</td>\n",
              "      <td>0.0</td>\n",
              "      <td>0.0</td>\n",
              "      <td>0.0</td>\n",
              "    </tr>\n",
              "    <tr>\n",
              "      <th>3</th>\n",
              "      <td>0.0</td>\n",
              "      <td>0.0</td>\n",
              "      <td>0.0</td>\n",
              "      <td>0.0</td>\n",
              "      <td>1.0</td>\n",
              "      <td>0.0</td>\n",
              "      <td>0.0</td>\n",
              "      <td>0.0</td>\n",
              "      <td>0.0</td>\n",
              "      <td>0.0</td>\n",
              "      <td>...</td>\n",
              "      <td>0.0</td>\n",
              "      <td>0.0</td>\n",
              "      <td>0.0</td>\n",
              "      <td>0.0</td>\n",
              "      <td>0.0</td>\n",
              "      <td>0.0</td>\n",
              "      <td>0.0</td>\n",
              "      <td>0.0</td>\n",
              "      <td>0.0</td>\n",
              "      <td>0.0</td>\n",
              "    </tr>\n",
              "    <tr>\n",
              "      <th>4</th>\n",
              "      <td>0.0</td>\n",
              "      <td>0.0</td>\n",
              "      <td>0.0</td>\n",
              "      <td>0.0</td>\n",
              "      <td>0.0</td>\n",
              "      <td>0.0</td>\n",
              "      <td>0.0</td>\n",
              "      <td>0.0</td>\n",
              "      <td>0.0</td>\n",
              "      <td>0.0</td>\n",
              "      <td>...</td>\n",
              "      <td>0.0</td>\n",
              "      <td>0.0</td>\n",
              "      <td>0.0</td>\n",
              "      <td>0.0</td>\n",
              "      <td>0.0</td>\n",
              "      <td>0.0</td>\n",
              "      <td>0.0</td>\n",
              "      <td>0.0</td>\n",
              "      <td>0.0</td>\n",
              "      <td>0.0</td>\n",
              "    </tr>\n",
              "    <tr>\n",
              "      <th>...</th>\n",
              "      <td>...</td>\n",
              "      <td>...</td>\n",
              "      <td>...</td>\n",
              "      <td>...</td>\n",
              "      <td>...</td>\n",
              "      <td>...</td>\n",
              "      <td>...</td>\n",
              "      <td>...</td>\n",
              "      <td>...</td>\n",
              "      <td>...</td>\n",
              "      <td>...</td>\n",
              "      <td>...</td>\n",
              "      <td>...</td>\n",
              "      <td>...</td>\n",
              "      <td>...</td>\n",
              "      <td>...</td>\n",
              "      <td>...</td>\n",
              "      <td>...</td>\n",
              "      <td>...</td>\n",
              "      <td>...</td>\n",
              "      <td>...</td>\n",
              "    </tr>\n",
              "    <tr>\n",
              "      <th>2010</th>\n",
              "      <td>0.0</td>\n",
              "      <td>0.0</td>\n",
              "      <td>0.0</td>\n",
              "      <td>1.0</td>\n",
              "      <td>0.0</td>\n",
              "      <td>0.0</td>\n",
              "      <td>0.0</td>\n",
              "      <td>0.0</td>\n",
              "      <td>0.0</td>\n",
              "      <td>0.0</td>\n",
              "      <td>...</td>\n",
              "      <td>0.0</td>\n",
              "      <td>0.0</td>\n",
              "      <td>0.0</td>\n",
              "      <td>0.0</td>\n",
              "      <td>0.0</td>\n",
              "      <td>0.0</td>\n",
              "      <td>0.0</td>\n",
              "      <td>0.0</td>\n",
              "      <td>0.0</td>\n",
              "      <td>0.0</td>\n",
              "    </tr>\n",
              "    <tr>\n",
              "      <th>2011</th>\n",
              "      <td>0.0</td>\n",
              "      <td>0.0</td>\n",
              "      <td>0.0</td>\n",
              "      <td>0.0</td>\n",
              "      <td>0.0</td>\n",
              "      <td>0.0</td>\n",
              "      <td>0.0</td>\n",
              "      <td>0.0</td>\n",
              "      <td>0.0</td>\n",
              "      <td>0.0</td>\n",
              "      <td>...</td>\n",
              "      <td>0.0</td>\n",
              "      <td>0.0</td>\n",
              "      <td>0.0</td>\n",
              "      <td>0.0</td>\n",
              "      <td>0.0</td>\n",
              "      <td>0.0</td>\n",
              "      <td>0.0</td>\n",
              "      <td>0.0</td>\n",
              "      <td>0.0</td>\n",
              "      <td>0.0</td>\n",
              "    </tr>\n",
              "    <tr>\n",
              "      <th>2012</th>\n",
              "      <td>0.0</td>\n",
              "      <td>0.0</td>\n",
              "      <td>1.0</td>\n",
              "      <td>0.0</td>\n",
              "      <td>0.0</td>\n",
              "      <td>0.0</td>\n",
              "      <td>0.0</td>\n",
              "      <td>0.0</td>\n",
              "      <td>0.0</td>\n",
              "      <td>0.0</td>\n",
              "      <td>...</td>\n",
              "      <td>0.0</td>\n",
              "      <td>0.0</td>\n",
              "      <td>0.0</td>\n",
              "      <td>0.0</td>\n",
              "      <td>0.0</td>\n",
              "      <td>0.0</td>\n",
              "      <td>0.0</td>\n",
              "      <td>0.0</td>\n",
              "      <td>0.0</td>\n",
              "      <td>0.0</td>\n",
              "    </tr>\n",
              "    <tr>\n",
              "      <th>2013</th>\n",
              "      <td>0.0</td>\n",
              "      <td>0.0</td>\n",
              "      <td>0.0</td>\n",
              "      <td>0.0</td>\n",
              "      <td>0.0</td>\n",
              "      <td>0.0</td>\n",
              "      <td>0.0</td>\n",
              "      <td>0.0</td>\n",
              "      <td>0.0</td>\n",
              "      <td>0.0</td>\n",
              "      <td>...</td>\n",
              "      <td>0.0</td>\n",
              "      <td>0.0</td>\n",
              "      <td>0.0</td>\n",
              "      <td>0.0</td>\n",
              "      <td>0.0</td>\n",
              "      <td>0.0</td>\n",
              "      <td>0.0</td>\n",
              "      <td>0.0</td>\n",
              "      <td>0.0</td>\n",
              "      <td>0.0</td>\n",
              "    </tr>\n",
              "    <tr>\n",
              "      <th>2014</th>\n",
              "      <td>0.0</td>\n",
              "      <td>0.0</td>\n",
              "      <td>0.0</td>\n",
              "      <td>1.0</td>\n",
              "      <td>0.0</td>\n",
              "      <td>0.0</td>\n",
              "      <td>0.0</td>\n",
              "      <td>0.0</td>\n",
              "      <td>0.0</td>\n",
              "      <td>0.0</td>\n",
              "      <td>...</td>\n",
              "      <td>0.0</td>\n",
              "      <td>0.0</td>\n",
              "      <td>0.0</td>\n",
              "      <td>0.0</td>\n",
              "      <td>0.0</td>\n",
              "      <td>0.0</td>\n",
              "      <td>0.0</td>\n",
              "      <td>0.0</td>\n",
              "      <td>0.0</td>\n",
              "      <td>0.0</td>\n",
              "    </tr>\n",
              "  </tbody>\n",
              "</table>\n",
              "<p>2015 rows × 853 columns</p>\n",
              "</div>\n",
              "      <button class=\"colab-df-convert\" onclick=\"convertToInteractive('df-ee706eb2-0539-499e-89b4-4ffe462887ad')\"\n",
              "              title=\"Convert this dataframe to an interactive table.\"\n",
              "              style=\"display:none;\">\n",
              "        \n",
              "  <svg xmlns=\"http://www.w3.org/2000/svg\" height=\"24px\"viewBox=\"0 0 24 24\"\n",
              "       width=\"24px\">\n",
              "    <path d=\"M0 0h24v24H0V0z\" fill=\"none\"/>\n",
              "    <path d=\"M18.56 5.44l.94 2.06.94-2.06 2.06-.94-2.06-.94-.94-2.06-.94 2.06-2.06.94zm-11 1L8.5 8.5l.94-2.06 2.06-.94-2.06-.94L8.5 2.5l-.94 2.06-2.06.94zm10 10l.94 2.06.94-2.06 2.06-.94-2.06-.94-.94-2.06-.94 2.06-2.06.94z\"/><path d=\"M17.41 7.96l-1.37-1.37c-.4-.4-.92-.59-1.43-.59-.52 0-1.04.2-1.43.59L10.3 9.45l-7.72 7.72c-.78.78-.78 2.05 0 2.83L4 21.41c.39.39.9.59 1.41.59.51 0 1.02-.2 1.41-.59l7.78-7.78 2.81-2.81c.8-.78.8-2.07 0-2.86zM5.41 20L4 18.59l7.72-7.72 1.47 1.35L5.41 20z\"/>\n",
              "  </svg>\n",
              "      </button>\n",
              "      \n",
              "  <style>\n",
              "    .colab-df-container {\n",
              "      display:flex;\n",
              "      flex-wrap:wrap;\n",
              "      gap: 12px;\n",
              "    }\n",
              "\n",
              "    .colab-df-convert {\n",
              "      background-color: #E8F0FE;\n",
              "      border: none;\n",
              "      border-radius: 50%;\n",
              "      cursor: pointer;\n",
              "      display: none;\n",
              "      fill: #1967D2;\n",
              "      height: 32px;\n",
              "      padding: 0 0 0 0;\n",
              "      width: 32px;\n",
              "    }\n",
              "\n",
              "    .colab-df-convert:hover {\n",
              "      background-color: #E2EBFA;\n",
              "      box-shadow: 0px 1px 2px rgba(60, 64, 67, 0.3), 0px 1px 3px 1px rgba(60, 64, 67, 0.15);\n",
              "      fill: #174EA6;\n",
              "    }\n",
              "\n",
              "    [theme=dark] .colab-df-convert {\n",
              "      background-color: #3B4455;\n",
              "      fill: #D2E3FC;\n",
              "    }\n",
              "\n",
              "    [theme=dark] .colab-df-convert:hover {\n",
              "      background-color: #434B5C;\n",
              "      box-shadow: 0px 1px 3px 1px rgba(0, 0, 0, 0.15);\n",
              "      filter: drop-shadow(0px 1px 2px rgba(0, 0, 0, 0.3));\n",
              "      fill: #FFFFFF;\n",
              "    }\n",
              "  </style>\n",
              "\n",
              "      <script>\n",
              "        const buttonEl =\n",
              "          document.querySelector('#df-ee706eb2-0539-499e-89b4-4ffe462887ad button.colab-df-convert');\n",
              "        buttonEl.style.display =\n",
              "          google.colab.kernel.accessAllowed ? 'block' : 'none';\n",
              "\n",
              "        async function convertToInteractive(key) {\n",
              "          const element = document.querySelector('#df-ee706eb2-0539-499e-89b4-4ffe462887ad');\n",
              "          const dataTable =\n",
              "            await google.colab.kernel.invokeFunction('convertToInteractive',\n",
              "                                                     [key], {});\n",
              "          if (!dataTable) return;\n",
              "\n",
              "          const docLinkHtml = 'Like what you see? Visit the ' +\n",
              "            '<a target=\"_blank\" href=https://colab.research.google.com/notebooks/data_table.ipynb>data table notebook</a>'\n",
              "            + ' to learn more about interactive tables.';\n",
              "          element.innerHTML = '';\n",
              "          dataTable['output_type'] = 'display_data';\n",
              "          await google.colab.output.renderOutput(dataTable, element);\n",
              "          const docLink = document.createElement('div');\n",
              "          docLink.innerHTML = docLinkHtml;\n",
              "          element.appendChild(docLink);\n",
              "        }\n",
              "      </script>\n",
              "    </div>\n",
              "  </div>\n",
              "  "
            ]
          },
          "metadata": {},
          "execution_count": 3
        }
      ],
      "source": [
        "# one hot encoding categoricals\n",
        "choc_cat = choc[['country_of_bean_origin', 'first_taste', 'second_taste', 'third_taste', 'fourth_taste']]\n",
        "choc_cat_ohe = pd.get_dummies(pd.DataFrame(choc_cat.values.tolist()),prefix_sep ='',prefix='')\n",
        "\n",
        "# extracting rest of the predictors\n",
        "choc_num = choc[['cocoa_percent', 'counts_of_ingredients', 'number_of_taste', 'vanilla', 'lecithin', 'salt', 'sugar']]\n",
        "\n",
        "# extracting response\n",
        "choc_response = choc['rating_category']\n",
        "\n",
        "# combining predictors and response\n",
        "choc_ohe = pd.concat([choc_cat_ohe, choc_response, choc_num], sort = False, axis = 1)\n",
        "choc_ohe = choc_ohe.groupby(level=0, axis=1).sum().drop(columns='no taste')\n",
        "choc_ohe"
      ]
    },
    {
      "cell_type": "markdown",
      "id": "9118ed2c",
      "metadata": {
        "id": "9118ed2c"
      },
      "source": [
        "For our models, we are going to use Stratified K Fold cross validation to evaluate the model, as well as calculating its accuracy rate on a training and testing data set"
      ]
    },
    {
      "cell_type": "code",
      "execution_count": 4,
      "id": "d8556a75",
      "metadata": {
        "id": "d8556a75"
      },
      "outputs": [],
      "source": [
        "from sklearn.model_selection import RepeatedStratifiedKFold, cross_validate, train_test_split"
      ]
    },
    {
      "cell_type": "code",
      "execution_count": 5,
      "id": "ab4aa915",
      "metadata": {
        "id": "ab4aa915"
      },
      "outputs": [],
      "source": [
        "from sklearn.metrics import make_scorer, accuracy_score, precision_score, recall_score, f1_score, confusion_matrix\n",
        "\n",
        "scoring = {'accuracy' : make_scorer(accuracy_score), \n",
        "           'precision' : make_scorer(precision_score),\n",
        "           'recall' : make_scorer(recall_score), \n",
        "           'f1_score' : make_scorer(f1_score)}"
      ]
    },
    {
      "cell_type": "markdown",
      "id": "6bf881f4",
      "metadata": {
        "id": "6bf881f4"
      },
      "source": [
        "Extract response and predictor variables, and split train and test set"
      ]
    },
    {
      "cell_type": "code",
      "execution_count": 6,
      "id": "697f0c34",
      "metadata": {
        "id": "697f0c34"
      },
      "outputs": [],
      "source": [
        "y = pd.DataFrame(choc_ohe['rating_category'])\n",
        "X = pd.DataFrame(choc_ohe.drop('rating_category', axis = 1))\n",
        "X_train, X_test, y_train, y_test = train_test_split(X, y, test_size = 0.2, stratify = y)"
      ]
    },
    {
      "cell_type": "markdown",
      "id": "yo8oGsIzlDMe",
      "metadata": {
        "id": "yo8oGsIzlDMe"
      },
      "source": [
        "# Creating helper functions"
      ]
    },
    {
      "cell_type": "code",
      "execution_count": 7,
      "id": "tmSRaf1BlCo-",
      "metadata": {
        "id": "tmSRaf1BlCo-"
      },
      "outputs": [],
      "source": [
        "def evalModel(classifier, X, y, scoring):\n",
        "    cv = RepeatedStratifiedKFold(n_splits=5, n_repeats=3, random_state=1)\n",
        "    n_scores = cross_validate(classifier, X, y, scoring=scoring, cv=cv, n_jobs=-1, error_score='raise')\n",
        "    print('accuracy: %.3f (%.3f)' % (np.mean(n_scores[\"test_accuracy\"]), np.std(n_scores[\"test_accuracy\"])))\n",
        "    print('precison: %.3f (%.3f)' % (np.mean(n_scores[\"test_precision\"]), np.std(n_scores[\"test_precision\"])))\n",
        "    print('recall: %.3f (%.3f)' % (np.mean(n_scores[\"test_recall\"]), np.std(n_scores[\"test_recall\"])))\n",
        "    print('f1 score: %.3f (%.3f)' % (np.mean(n_scores[\"test_f1_score\"]), np.std(n_scores[\"test_f1_score\"])))\n",
        "\n",
        "def fitModel(classifier, X_train, X_test, y_train, y_test):\n",
        "    # train thetree model\n",
        "    classifier.fit(X_train, y_train.rating_category.ravel())\n",
        "\n",
        "    # Predict Response corresponding to Predictors\n",
        "    y_train_pred = classifier.predict(X_train)\n",
        "    y_test_pred = classifier.predict(X_test)\n",
        "\n",
        "    # Check the Goodness of Fit on Train Data\n",
        "    print(\"Goodness of Fit of Model \\tTrain Dataset\")\n",
        "    print(\"Classification Accuracy \\t:\", classifier.score(X_train, y_train))\n",
        "    print()\n",
        "    # Check the Goodness of Fit on Test Data\n",
        "    print(\"Goodness of Fit of Model \\tTest Dataset\")\n",
        "    print(\"Classification Accuracy \\t:\", classifier.score(X_test, y_test))\n",
        "    print()\n",
        "\n",
        "    trainData = confusion_matrix(y_train, y_train_pred)\n",
        "    testData = confusion_matrix(y_test, y_test_pred)\n",
        "\n",
        "    print(\"True '1' rate Train :\\t\", (trainData[1][1]/(trainData[1][0]+trainData[1][1])))\n",
        "    print(\"True '0' rate Train :\\t\", (trainData[0][0]/(trainData[0][0]+trainData[0][1])))\n",
        "    print()\n",
        "    print(\"False '1' rate Train :\\t\", ((trainData[0][1])/((trainData[0][1]+trainData[0][0]))))\n",
        "    print(\"False '0' rate Train :\\t\", ((trainData[1][0])/((trainData[1][0]+trainData[1][1]))))\n",
        "    print()\n",
        "    print(\"True '1' rate Test :\\t\", (testData[1][1]/(testData[1][0]+testData[1][1])))\n",
        "    print(\"True '0' rate Test :\\t\", (testData[0][0]/(testData[0][0]+testData[0][1])))\n",
        "    print()\n",
        "    print(\"False '1' rate Test :\\t\", ((testData[0][1])/((testData[0][1]+testData[0][0]))))\n",
        "    print(\"False '0' rate Test :\\t\", ((testData[1][0])/((testData[1][0]+testData[1][1]))))\n",
        "    print()\n",
        "\n",
        "    # Plot the Confusion Matrix for Train and Test\n",
        "    f, axes = plt.subplots(2, 1, figsize=(8, 16))\n",
        "    sb.heatmap(trainData, annot = True, fmt=\".0f\", annot_kws={\"size\": 18}, ax = axes[0])\n",
        "    sb.heatmap(testData,  annot = True, fmt=\".0f\", annot_kws={\"size\": 18}, ax = axes[1])"
      ]
    },
    {
      "cell_type": "markdown",
      "id": "d71c725a",
      "metadata": {
        "id": "d71c725a"
      },
      "source": [
        "# Classification Tree"
      ]
    },
    {
      "cell_type": "markdown",
      "id": "c05014f1",
      "metadata": {
        "id": "c05014f1"
      },
      "source": [
        "We start off with a very simple model, a decision tree classifier"
      ]
    },
    {
      "cell_type": "code",
      "execution_count": 8,
      "id": "cc9db588",
      "metadata": {
        "id": "cc9db588"
      },
      "outputs": [],
      "source": [
        "from sklearn.tree import DecisionTreeClassifier"
      ]
    },
    {
      "cell_type": "markdown",
      "id": "6174ce00",
      "metadata": {
        "id": "6174ce00"
      },
      "source": [
        "Using stratified K fold cross validation to evaluate the model"
      ]
    },
    {
      "cell_type": "code",
      "execution_count": 9,
      "id": "679eef7e",
      "metadata": {
        "colab": {
          "base_uri": "https://localhost:8080/"
        },
        "id": "679eef7e",
        "outputId": "c220baf6-0be9-4026-b829-f3ea1ef26e60"
      },
      "outputs": [
        {
          "output_type": "stream",
          "name": "stdout",
          "text": [
            "accuracy: 0.672 (0.017)\n",
            "precison: 0.697 (0.016)\n",
            "recall: 0.764 (0.018)\n",
            "f1 score: 0.729 (0.014)\n"
          ]
        }
      ],
      "source": [
        "dectree = DecisionTreeClassifier(max_depth = 60)\n",
        "evalModel(dectree, X, y, scoring)"
      ]
    },
    {
      "cell_type": "markdown",
      "id": "284c8a1f",
      "metadata": {
        "id": "284c8a1f"
      },
      "source": [
        "Test the model on a train and test data set"
      ]
    },
    {
      "cell_type": "code",
      "execution_count": 10,
      "id": "956b4e16",
      "metadata": {
        "colab": {
          "base_uri": "https://localhost:8080/",
          "height": 1000
        },
        "id": "956b4e16",
        "outputId": "02eb77af-42d4-40b7-96c0-33122b3ca901"
      },
      "outputs": [
        {
          "output_type": "stream",
          "name": "stdout",
          "text": [
            "Goodness of Fit of Model \tTrain Dataset\n",
            "Classification Accuracy \t: 0.9708436724565757\n",
            "\n",
            "Goodness of Fit of Model \tTest Dataset\n",
            "Classification Accuracy \t: 0.6947890818858561\n",
            "\n",
            "True '1' rate Train :\t 1.0\n",
            "True '0' rate Train :\t 0.9309838472834068\n",
            "\n",
            "False '1' rate Train :\t 0.06901615271659324\n",
            "False '0' rate Train :\t 0.0\n",
            "\n",
            "True '1' rate Test :\t 0.7467811158798283\n",
            "True '0' rate Test :\t 0.6235294117647059\n",
            "\n",
            "False '1' rate Test :\t 0.3764705882352941\n",
            "False '0' rate Test :\t 0.2532188841201717\n",
            "\n"
          ]
        },
        {
          "output_type": "display_data",
          "data": {
            "text/plain": [
              "<Figure size 576x1152 with 4 Axes>"
            ],
            "image/png": "[encoded data removed]"
          },
          "metadata": {
            "needs_background": "light"
          }
        }
      ],
      "source": [
        "fitModel(dectree, X_train, X_test, y_train, y_test)"
      ]
    },
    {
      "cell_type": "markdown",
      "id": "8b3f9a46",
      "metadata": {
        "id": "8b3f9a46"
      },
      "source": [
        "Overall, the Classification Tree model did quite a bad job of predicting our chocolate rating, let's see how we can improve upon that accuracy."
      ]
    },
    {
      "cell_type": "markdown",
      "id": "d05ac4a7",
      "metadata": {
        "id": "d05ac4a7"
      },
      "source": [
        "# Random Forest"
      ]
    },
    {
      "cell_type": "code",
      "execution_count": 11,
      "id": "9f2c9e8b",
      "metadata": {
        "id": "9f2c9e8b"
      },
      "outputs": [],
      "source": [
        "from sklearn.ensemble import RandomForestClassifier"
      ]
    },
    {
      "cell_type": "markdown",
      "id": "8d16a7e5",
      "metadata": {
        "id": "8d16a7e5"
      },
      "source": [
        "Using stratified K fold cross validation to evaluate the model"
      ]
    },
    {
      "cell_type": "code",
      "execution_count": 12,
      "id": "6f31a982",
      "metadata": {
        "colab": {
          "base_uri": "https://localhost:8080/"
        },
        "id": "6f31a982",
        "outputId": "ad9f86bf-2b0e-4d63-fcc4-7c847fffc9b0"
      },
      "outputs": [
        {
          "output_type": "stream",
          "name": "stdout",
          "text": [
            "accuracy: 0.720 (0.018)\n",
            "precison: 0.721 (0.013)\n",
            "recall: 0.842 (0.031)\n",
            "f1 score: 0.776 (0.017)\n"
          ]
        }
      ],
      "source": [
        "rforest = RandomForestClassifier(n_estimators = 800, max_depth = 80)\n",
        "evalModel(rforest, X, y, scoring)"
      ]
    },
    {
      "cell_type": "markdown",
      "id": "bf19d284",
      "metadata": {
        "id": "bf19d284"
      },
      "source": [
        "Test the model on a train and test data set"
      ]
    },
    {
      "cell_type": "code",
      "execution_count": 13,
      "id": "60f23220",
      "metadata": {
        "colab": {
          "base_uri": "https://localhost:8080/",
          "height": 1000
        },
        "id": "60f23220",
        "outputId": "7d54ecca-580b-4ac3-9cab-b6f4a1c4519c"
      },
      "outputs": [
        {
          "output_type": "stream",
          "name": "stdout",
          "text": [
            "Goodness of Fit of Model \tTrain Dataset\n",
            "Classification Accuracy \t: 1.0\n",
            "\n",
            "Goodness of Fit of Model \tTest Dataset\n",
            "Classification Accuracy \t: 0.7022332506203474\n",
            "\n",
            "True '1' rate Train :\t 1.0\n",
            "True '0' rate Train :\t 1.0\n",
            "\n",
            "False '1' rate Train :\t 0.0\n",
            "False '0' rate Train :\t 0.0\n",
            "\n",
            "True '1' rate Test :\t 0.8283261802575107\n",
            "True '0' rate Test :\t 0.5294117647058824\n",
            "\n",
            "False '1' rate Test :\t 0.47058823529411764\n",
            "False '0' rate Test :\t 0.17167381974248927\n",
            "\n"
          ]
        },
        {
          "output_type": "display_data",
          "data": {
            "text/plain": [
              "<Figure size 576x1152 with 4 Axes>"
            ],
            "image/png": "[encoded data removed]"
          },
          "metadata": {
            "needs_background": "light"
          }
        }
      ],
      "source": [
        "fitModel(rforest, X_train, X_test, y_train, y_test)"
      ]
    },
    {
      "cell_type": "markdown",
      "id": "5d709a34",
      "metadata": {
        "id": "5d709a34"
      },
      "source": [
        "Better accuracy and recall value on the test set. Better ability of predicting true '1', however that is at the cost of high false '1' rate."
      ]
    },
    {
      "cell_type": "markdown",
      "id": "d7598e5d",
      "metadata": {
        "id": "d7598e5d"
      },
      "source": [
        "# Upsampling the minority class in rating category"
      ]
    },
    {
      "cell_type": "code",
      "execution_count": 14,
      "id": "0159a675",
      "metadata": {
        "colab": {
          "base_uri": "https://localhost:8080/"
        },
        "id": "0159a675",
        "outputId": "86574a68-745c-48e0-8231-8a45e5c9ce79"
      },
      "outputs": [
        {
          "output_type": "execute_result",
          "data": {
            "text/plain": [
              "1.0    1164\n",
              "0.0     851\n",
              "Name: rating_category, dtype: int64"
            ]
          },
          "metadata": {},
          "execution_count": 14
        }
      ],
      "source": [
        "# See which category of rating is imbalanced\n",
        "choc_ohe.rating_category.value_counts()"
      ]
    },
    {
      "cell_type": "code",
      "execution_count": 15,
      "id": "7cc2beaa",
      "metadata": {
        "id": "7cc2beaa"
      },
      "outputs": [],
      "source": [
        "from imblearn.over_sampling import SVMSMOTE\n",
        "from imblearn.over_sampling import SMOTE\n",
        "from imblearn.over_sampling import BorderlineSMOTE\n",
        "from imblearn.over_sampling import KMeansSMOTE\n",
        "from imblearn.over_sampling import ADASYN\n",
        "from imblearn.under_sampling import RandomUnderSampler\n",
        "from imblearn.pipeline import Pipeline"
      ]
    },
    {
      "cell_type": "code",
      "execution_count": 16,
      "id": "82f4a397",
      "metadata": {
        "id": "82f4a397"
      },
      "outputs": [],
      "source": [
        "rforest = RandomForestClassifier(n_estimators = 800, max_depth = 80)\n",
        "over = ADASYN()\n",
        "under = RandomUnderSampler(sampling_strategy=0.5) \n",
        "steps = [(\"smote\", over),(\"model\", rforest)]\n",
        "pipeline = Pipeline(steps = steps)"
      ]
    },
    {
      "cell_type": "markdown",
      "id": "6d74d80f",
      "metadata": {
        "id": "6d74d80f"
      },
      "source": [
        "Experimented with different kind of SMOTE algorithms, including SMOTE, SVMSMOTE, BorderlineSMOTE, KMeansSMOTE and ADASYN.\n",
        "Found that ADASYN generally resulted in the best parameters"
      ]
    },
    {
      "cell_type": "markdown",
      "id": "7fe54f19",
      "metadata": {
        "id": "7fe54f19"
      },
      "source": [
        "Using stratified K fold cross validation to evalute the model"
      ]
    },
    {
      "cell_type": "code",
      "execution_count": 17,
      "id": "7d8cdf7f",
      "metadata": {
        "colab": {
          "base_uri": "https://localhost:8080/"
        },
        "id": "7d8cdf7f",
        "outputId": "64ea558f-52e0-46e9-88e5-590eae119218"
      },
      "outputs": [
        {
          "output_type": "stream",
          "name": "stdout",
          "text": [
            "accuracy: 0.722 (0.017)\n",
            "precison: 0.728 (0.014)\n",
            "recall: 0.829 (0.027)\n",
            "f1 score: 0.775 (0.015)\n"
          ]
        }
      ],
      "source": [
        "evalModel(pipeline, X, y, scoring)"
      ]
    },
    {
      "cell_type": "markdown",
      "id": "67d7ee9a",
      "metadata": {
        "id": "67d7ee9a"
      },
      "source": [
        "Test the model on a train and test data set"
      ]
    },
    {
      "cell_type": "code",
      "execution_count": 18,
      "id": "24dec37f",
      "metadata": {
        "colab": {
          "base_uri": "https://localhost:8080/"
        },
        "id": "24dec37f",
        "outputId": "f4c594a1-be06-489e-b7b9-b52fc3a9e38a"
      },
      "outputs": [
        {
          "output_type": "execute_result",
          "data": {
            "text/plain": [
              "rating_category\n",
              "1.0                931\n",
              "0.0                681\n",
              "dtype: int64"
            ]
          },
          "metadata": {},
          "execution_count": 18
        }
      ],
      "source": [
        "y_train.value_counts()"
      ]
    },
    {
      "cell_type": "code",
      "execution_count": 19,
      "id": "698aa97e",
      "metadata": {
        "colab": {
          "base_uri": "https://localhost:8080/"
        },
        "id": "698aa97e",
        "outputId": "30a80966-3a4b-4dee-f636-9f27afc26efa"
      },
      "outputs": [
        {
          "output_type": "execute_result",
          "data": {
            "text/plain": [
              "rating_category\n",
              "1.0                931\n",
              "0.0                866\n",
              "dtype: int64"
            ]
          },
          "metadata": {},
          "execution_count": 19
        }
      ],
      "source": [
        "X_train_res, y_train_res = over.fit_resample(X_train, y_train)\n",
        "y_train_res.value_counts()"
      ]
    },
    {
      "cell_type": "code",
      "execution_count": 20,
      "id": "0ca02d85",
      "metadata": {
        "colab": {
          "base_uri": "https://localhost:8080/",
          "height": 1000
        },
        "id": "0ca02d85",
        "outputId": "e20a3350-2da3-464b-acc0-0b99bd595364"
      },
      "outputs": [
        {
          "output_type": "stream",
          "name": "stdout",
          "text": [
            "Goodness of Fit of Model \tTrain Dataset\n",
            "Classification Accuracy \t: 1.0\n",
            "\n",
            "Goodness of Fit of Model \tTest Dataset\n",
            "Classification Accuracy \t: 0.6923076923076923\n",
            "\n",
            "True '1' rate Train :\t 1.0\n",
            "True '0' rate Train :\t 1.0\n",
            "\n",
            "False '1' rate Train :\t 0.0\n",
            "False '0' rate Train :\t 0.0\n",
            "\n",
            "True '1' rate Test :\t 0.8068669527896996\n",
            "True '0' rate Test :\t 0.5352941176470588\n",
            "\n",
            "False '1' rate Test :\t 0.4647058823529412\n",
            "False '0' rate Test :\t 0.19313304721030042\n",
            "\n"
          ]
        },
        {
          "output_type": "display_data",
          "data": {
            "text/plain": [
              "<Figure size 576x1152 with 4 Axes>"
            ],
            "image/png": "[encoded data removed]"
          },
          "metadata": {
            "needs_background": "light"
          }
        }
      ],
      "source": [
        "fitModel(rforest, X_train_res, X_test, y_train_res, y_test)"
      ]
    },
    {
      "cell_type": "markdown",
      "id": "254341e6",
      "metadata": {
        "id": "254341e6"
      },
      "source": [
        "Better accuracy, and better recall rate as well"
      ]
    },
    {
      "cell_type": "markdown",
      "id": "056cdd0c",
      "metadata": {
        "id": "056cdd0c"
      },
      "source": [
        "# Removing minority classes in predictors"
      ]
    },
    {
      "cell_type": "code",
      "execution_count": 21,
      "id": "81f60a04",
      "metadata": {
        "id": "81f60a04",
        "outputId": "11faf700-18ad-4241-bcaa-09bbfbeffd15",
        "colab": {
          "base_uri": "https://localhost:8080/"
        }
      },
      "outputs": [
        {
          "output_type": "execute_result",
          "data": {
            "text/plain": [
              "country_of_bean_origin    2.226323\n",
              "dtype: float64"
            ]
          },
          "metadata": {},
          "execution_count": 21
        }
      ],
      "source": [
        "pd.DataFrame(choc[\"country_of_bean_origin\"].value_counts()).skew()"
      ]
    },
    {
      "cell_type": "code",
      "execution_count": 22,
      "id": "71533a21",
      "metadata": {
        "id": "71533a21",
        "outputId": "95557b57-cf99-41f6-eb93-9457b95effc0",
        "colab": {
          "base_uri": "https://localhost:8080/"
        }
      },
      "outputs": [
        {
          "output_type": "execute_result",
          "data": {
            "text/plain": [
              "country_of_bean_origin    4.534471\n",
              "dtype: float64"
            ]
          },
          "metadata": {},
          "execution_count": 22
        }
      ],
      "source": [
        "pd.DataFrame(choc[\"country_of_bean_origin\"].value_counts()).kurtosis()"
      ]
    },
    {
      "cell_type": "markdown",
      "id": "02c04f02",
      "metadata": {
        "id": "02c04f02"
      },
      "source": [
        "Very skewed distribution"
      ]
    },
    {
      "cell_type": "code",
      "execution_count": 23,
      "id": "02bb857b",
      "metadata": {
        "colab": {
          "base_uri": "https://localhost:8080/"
        },
        "id": "02bb857b",
        "outputId": "123f26d9-d0a7-4d90-faf7-07f1b3722f16"
      },
      "outputs": [
        {
          "output_type": "execute_result",
          "data": {
            "text/plain": [
              "country_of_bean_origin    0.982775\n",
              "dtype: float64"
            ]
          },
          "metadata": {},
          "execution_count": 23
        }
      ],
      "source": [
        "beanOriginCounts = pd.DataFrame(choc['country_of_bean_origin'].value_counts())\n",
        "beanOriginTop = beanOriginCounts[beanOriginCounts['country_of_bean_origin'] > 35].reset_index()\n",
        "beanOriginTop.skew(numeric_only=True)"
      ]
    },
    {
      "cell_type": "code",
      "execution_count": 24,
      "id": "6447caea",
      "metadata": {
        "id": "6447caea",
        "outputId": "37a002a2-3fe6-48d7-cb5b-38a5e9649842",
        "colab": {
          "base_uri": "https://localhost:8080/"
        }
      },
      "outputs": [
        {
          "output_type": "execute_result",
          "data": {
            "text/plain": [
              "country_of_bean_origin   -0.520408\n",
              "dtype: float64"
            ]
          },
          "metadata": {},
          "execution_count": 24
        }
      ],
      "source": [
        "beanOriginTop.kurtosis(numeric_only=True)"
      ]
    },
    {
      "cell_type": "markdown",
      "id": "3df819b1",
      "metadata": {
        "id": "3df819b1"
      },
      "source": [
        "More acceptable skewness and kurtosis values"
      ]
    },
    {
      "cell_type": "code",
      "execution_count": 25,
      "id": "326e7182",
      "metadata": {
        "colab": {
          "base_uri": "https://localhost:8080/",
          "height": 487
        },
        "id": "326e7182",
        "outputId": "933b07f4-43f8-4d17-d049-fb791cdf063c"
      },
      "outputs": [
        {
          "output_type": "execute_result",
          "data": {
            "text/plain": [
              "     country_of_bean_origin  cocoa_percent  rating_category  rating  \\\n",
              "0                Madagascar           76.0                1    3.75   \n",
              "1        Dominican republic           76.0                1    3.50   \n",
              "2                  Tanzania           76.0                1    3.25   \n",
              "3                   Bolivia           70.0                1    3.50   \n",
              "4                 Venezuela           70.0                1    4.00   \n",
              "...                     ...            ...              ...     ...   \n",
              "1637       Papua new guinea           75.0                0    3.00   \n",
              "1638                  Blend           80.0                0    2.75   \n",
              "1639               Colombia           75.0                1    3.75   \n",
              "1640                 Belize           72.0                1    3.50   \n",
              "1641                  Blend           75.0                0    3.00   \n",
              "\n",
              "      counts_of_ingredients  cocoa_butter  vanilla  lecithin  salt  sugar  \\\n",
              "0                         3             1        0         0     0      1   \n",
              "1                         3             1        0         0     0      1   \n",
              "2                         3             1        0         0     0      1   \n",
              "3                         4             1        0         1     0      1   \n",
              "4                         4             1        0         1     0      1   \n",
              "...                     ...           ...      ...       ...   ...    ...   \n",
              "1637                      4             1        0         0     1      0   \n",
              "1638                      4             1        0         0     1      0   \n",
              "1639                      3             1        0         0     0      1   \n",
              "1640                      3             1        0         0     0      1   \n",
              "1641                      3             1        0         0     0      1   \n",
              "\n",
              "        first_taste second_taste third_taste fourth_taste  number_of_taste  \n",
              "0             cocoa   blackberry   full body     no taste                3  \n",
              "1             cocoa      vegetal      savory     no taste                3  \n",
              "2        rich cocoa        fatty      bready     no taste                3  \n",
              "3           vegetal        nutty    no taste     no taste                2  \n",
              "4              oily          nut     caramel    raspberry                4  \n",
              "...             ...          ...         ...          ...              ...  \n",
              "1637  hint of smoke        fruit    no taste     no taste                2  \n",
              "1638           waxy      cloying     vegetal     no taste                3  \n",
              "1639   strong nutty  marshmallow    no taste     no taste                2  \n",
              "1640          muted       roasty  accessible     no taste                3  \n",
              "1641          fatty       earthy       cocoa     no taste                3  \n",
              "\n",
              "[1642 rows x 15 columns]"
            ],
            "text/html": [
              "\n",
              "  <div id=\"df-2dbcf1a0-f02c-4976-8eb3-4b25cba7f34a\">\n",
              "    <div class=\"colab-df-container\">\n",
              "      <div>\n",
              "<style scoped>\n",
              "    .dataframe tbody tr th:only-of-type {\n",
              "        vertical-align: middle;\n",
              "    }\n",
              "\n",
              "    .dataframe tbody tr th {\n",
              "        vertical-align: top;\n",
              "    }\n",
              "\n",
              "    .dataframe thead th {\n",
              "        text-align: right;\n",
              "    }\n",
              "</style>\n",
              "<table border=\"1\" class=\"dataframe\">\n",
              "  <thead>\n",
              "    <tr style=\"text-align: right;\">\n",
              "      <th></th>\n",
              "      <th>country_of_bean_origin</th>\n",
              "      <th>cocoa_percent</th>\n",
              "      <th>rating_category</th>\n",
              "      <th>rating</th>\n",
              "      <th>counts_of_ingredients</th>\n",
              "      <th>cocoa_butter</th>\n",
              "      <th>vanilla</th>\n",
              "      <th>lecithin</th>\n",
              "      <th>salt</th>\n",
              "      <th>sugar</th>\n",
              "      <th>first_taste</th>\n",
              "      <th>second_taste</th>\n",
              "      <th>third_taste</th>\n",
              "      <th>fourth_taste</th>\n",
              "      <th>number_of_taste</th>\n",
              "    </tr>\n",
              "  </thead>\n",
              "  <tbody>\n",
              "    <tr>\n",
              "      <th>0</th>\n",
              "      <td>Madagascar</td>\n",
              "      <td>76.0</td>\n",
              "      <td>1</td>\n",
              "      <td>3.75</td>\n",
              "      <td>3</td>\n",
              "      <td>1</td>\n",
              "      <td>0</td>\n",
              "      <td>0</td>\n",
              "      <td>0</td>\n",
              "      <td>1</td>\n",
              "      <td>cocoa</td>\n",
              "      <td>blackberry</td>\n",
              "      <td>full body</td>\n",
              "      <td>no taste</td>\n",
              "      <td>3</td>\n",
              "    </tr>\n",
              "    <tr>\n",
              "      <th>1</th>\n",
              "      <td>Dominican republic</td>\n",
              "      <td>76.0</td>\n",
              "      <td>1</td>\n",
              "      <td>3.50</td>\n",
              "      <td>3</td>\n",
              "      <td>1</td>\n",
              "      <td>0</td>\n",
              "      <td>0</td>\n",
              "      <td>0</td>\n",
              "      <td>1</td>\n",
              "      <td>cocoa</td>\n",
              "      <td>vegetal</td>\n",
              "      <td>savory</td>\n",
              "      <td>no taste</td>\n",
              "      <td>3</td>\n",
              "    </tr>\n",
              "    <tr>\n",
              "      <th>2</th>\n",
              "      <td>Tanzania</td>\n",
              "      <td>76.0</td>\n",
              "      <td>1</td>\n",
              "      <td>3.25</td>\n",
              "      <td>3</td>\n",
              "      <td>1</td>\n",
              "      <td>0</td>\n",
              "      <td>0</td>\n",
              "      <td>0</td>\n",
              "      <td>1</td>\n",
              "      <td>rich cocoa</td>\n",
              "      <td>fatty</td>\n",
              "      <td>bready</td>\n",
              "      <td>no taste</td>\n",
              "      <td>3</td>\n",
              "    </tr>\n",
              "    <tr>\n",
              "      <th>3</th>\n",
              "      <td>Bolivia</td>\n",
              "      <td>70.0</td>\n",
              "      <td>1</td>\n",
              "      <td>3.50</td>\n",
              "      <td>4</td>\n",
              "      <td>1</td>\n",
              "      <td>0</td>\n",
              "      <td>1</td>\n",
              "      <td>0</td>\n",
              "      <td>1</td>\n",
              "      <td>vegetal</td>\n",
              "      <td>nutty</td>\n",
              "      <td>no taste</td>\n",
              "      <td>no taste</td>\n",
              "      <td>2</td>\n",
              "    </tr>\n",
              "    <tr>\n",
              "      <th>4</th>\n",
              "      <td>Venezuela</td>\n",
              "      <td>70.0</td>\n",
              "      <td>1</td>\n",
              "      <td>4.00</td>\n",
              "      <td>4</td>\n",
              "      <td>1</td>\n",
              "      <td>0</td>\n",
              "      <td>1</td>\n",
              "      <td>0</td>\n",
              "      <td>1</td>\n",
              "      <td>oily</td>\n",
              "      <td>nut</td>\n",
              "      <td>caramel</td>\n",
              "      <td>raspberry</td>\n",
              "      <td>4</td>\n",
              "    </tr>\n",
              "    <tr>\n",
              "      <th>...</th>\n",
              "      <td>...</td>\n",
              "      <td>...</td>\n",
              "      <td>...</td>\n",
              "      <td>...</td>\n",
              "      <td>...</td>\n",
              "      <td>...</td>\n",
              "      <td>...</td>\n",
              "      <td>...</td>\n",
              "      <td>...</td>\n",
              "      <td>...</td>\n",
              "      <td>...</td>\n",
              "      <td>...</td>\n",
              "      <td>...</td>\n",
              "      <td>...</td>\n",
              "      <td>...</td>\n",
              "    </tr>\n",
              "    <tr>\n",
              "      <th>1637</th>\n",
              "      <td>Papua new guinea</td>\n",
              "      <td>75.0</td>\n",
              "      <td>0</td>\n",
              "      <td>3.00</td>\n",
              "      <td>4</td>\n",
              "      <td>1</td>\n",
              "      <td>0</td>\n",
              "      <td>0</td>\n",
              "      <td>1</td>\n",
              "      <td>0</td>\n",
              "      <td>hint of smoke</td>\n",
              "      <td>fruit</td>\n",
              "      <td>no taste</td>\n",
              "      <td>no taste</td>\n",
              "      <td>2</td>\n",
              "    </tr>\n",
              "    <tr>\n",
              "      <th>1638</th>\n",
              "      <td>Blend</td>\n",
              "      <td>80.0</td>\n",
              "      <td>0</td>\n",
              "      <td>2.75</td>\n",
              "      <td>4</td>\n",
              "      <td>1</td>\n",
              "      <td>0</td>\n",
              "      <td>0</td>\n",
              "      <td>1</td>\n",
              "      <td>0</td>\n",
              "      <td>waxy</td>\n",
              "      <td>cloying</td>\n",
              "      <td>vegetal</td>\n",
              "      <td>no taste</td>\n",
              "      <td>3</td>\n",
              "    </tr>\n",
              "    <tr>\n",
              "      <th>1639</th>\n",
              "      <td>Colombia</td>\n",
              "      <td>75.0</td>\n",
              "      <td>1</td>\n",
              "      <td>3.75</td>\n",
              "      <td>3</td>\n",
              "      <td>1</td>\n",
              "      <td>0</td>\n",
              "      <td>0</td>\n",
              "      <td>0</td>\n",
              "      <td>1</td>\n",
              "      <td>strong nutty</td>\n",
              "      <td>marshmallow</td>\n",
              "      <td>no taste</td>\n",
              "      <td>no taste</td>\n",
              "      <td>2</td>\n",
              "    </tr>\n",
              "    <tr>\n",
              "      <th>1640</th>\n",
              "      <td>Belize</td>\n",
              "      <td>72.0</td>\n",
              "      <td>1</td>\n",
              "      <td>3.50</td>\n",
              "      <td>3</td>\n",
              "      <td>1</td>\n",
              "      <td>0</td>\n",
              "      <td>0</td>\n",
              "      <td>0</td>\n",
              "      <td>1</td>\n",
              "      <td>muted</td>\n",
              "      <td>roasty</td>\n",
              "      <td>accessible</td>\n",
              "      <td>no taste</td>\n",
              "      <td>3</td>\n",
              "    </tr>\n",
              "    <tr>\n",
              "      <th>1641</th>\n",
              "      <td>Blend</td>\n",
              "      <td>75.0</td>\n",
              "      <td>0</td>\n",
              "      <td>3.00</td>\n",
              "      <td>3</td>\n",
              "      <td>1</td>\n",
              "      <td>0</td>\n",
              "      <td>0</td>\n",
              "      <td>0</td>\n",
              "      <td>1</td>\n",
              "      <td>fatty</td>\n",
              "      <td>earthy</td>\n",
              "      <td>cocoa</td>\n",
              "      <td>no taste</td>\n",
              "      <td>3</td>\n",
              "    </tr>\n",
              "  </tbody>\n",
              "</table>\n",
              "<p>1642 rows × 15 columns</p>\n",
              "</div>\n",
              "      <button class=\"colab-df-convert\" onclick=\"convertToInteractive('df-2dbcf1a0-f02c-4976-8eb3-4b25cba7f34a')\"\n",
              "              title=\"Convert this dataframe to an interactive table.\"\n",
              "              style=\"display:none;\">\n",
              "        \n",
              "  <svg xmlns=\"http://www.w3.org/2000/svg\" height=\"24px\"viewBox=\"0 0 24 24\"\n",
              "       width=\"24px\">\n",
              "    <path d=\"M0 0h24v24H0V0z\" fill=\"none\"/>\n",
              "    <path d=\"M18.56 5.44l.94 2.06.94-2.06 2.06-.94-2.06-.94-.94-2.06-.94 2.06-2.06.94zm-11 1L8.5 8.5l.94-2.06 2.06-.94-2.06-.94L8.5 2.5l-.94 2.06-2.06.94zm10 10l.94 2.06.94-2.06 2.06-.94-2.06-.94-.94-2.06-.94 2.06-2.06.94z\"/><path d=\"M17.41 7.96l-1.37-1.37c-.4-.4-.92-.59-1.43-.59-.52 0-1.04.2-1.43.59L10.3 9.45l-7.72 7.72c-.78.78-.78 2.05 0 2.83L4 21.41c.39.39.9.59 1.41.59.51 0 1.02-.2 1.41-.59l7.78-7.78 2.81-2.81c.8-.78.8-2.07 0-2.86zM5.41 20L4 18.59l7.72-7.72 1.47 1.35L5.41 20z\"/>\n",
              "  </svg>\n",
              "      </button>\n",
              "      \n",
              "  <style>\n",
              "    .colab-df-container {\n",
              "      display:flex;\n",
              "      flex-wrap:wrap;\n",
              "      gap: 12px;\n",
              "    }\n",
              "\n",
              "    .colab-df-convert {\n",
              "      background-color: #E8F0FE;\n",
              "      border: none;\n",
              "      border-radius: 50%;\n",
              "      cursor: pointer;\n",
              "      display: none;\n",
              "      fill: #1967D2;\n",
              "      height: 32px;\n",
              "      padding: 0 0 0 0;\n",
              "      width: 32px;\n",
              "    }\n",
              "\n",
              "    .colab-df-convert:hover {\n",
              "      background-color: #E2EBFA;\n",
              "      box-shadow: 0px 1px 2px rgba(60, 64, 67, 0.3), 0px 1px 3px 1px rgba(60, 64, 67, 0.15);\n",
              "      fill: #174EA6;\n",
              "    }\n",
              "\n",
              "    [theme=dark] .colab-df-convert {\n",
              "      background-color: #3B4455;\n",
              "      fill: #D2E3FC;\n",
              "    }\n",
              "\n",
              "    [theme=dark] .colab-df-convert:hover {\n",
              "      background-color: #434B5C;\n",
              "      box-shadow: 0px 1px 3px 1px rgba(0, 0, 0, 0.15);\n",
              "      filter: drop-shadow(0px 1px 2px rgba(0, 0, 0, 0.3));\n",
              "      fill: #FFFFFF;\n",
              "    }\n",
              "  </style>\n",
              "\n",
              "      <script>\n",
              "        const buttonEl =\n",
              "          document.querySelector('#df-2dbcf1a0-f02c-4976-8eb3-4b25cba7f34a button.colab-df-convert');\n",
              "        buttonEl.style.display =\n",
              "          google.colab.kernel.accessAllowed ? 'block' : 'none';\n",
              "\n",
              "        async function convertToInteractive(key) {\n",
              "          const element = document.querySelector('#df-2dbcf1a0-f02c-4976-8eb3-4b25cba7f34a');\n",
              "          const dataTable =\n",
              "            await google.colab.kernel.invokeFunction('convertToInteractive',\n",
              "                                                     [key], {});\n",
              "          if (!dataTable) return;\n",
              "\n",
              "          const docLinkHtml = 'Like what you see? Visit the ' +\n",
              "            '<a target=\"_blank\" href=https://colab.research.google.com/notebooks/data_table.ipynb>data table notebook</a>'\n",
              "            + ' to learn more about interactive tables.';\n",
              "          element.innerHTML = '';\n",
              "          dataTable['output_type'] = 'display_data';\n",
              "          await google.colab.output.renderOutput(dataTable, element);\n",
              "          const docLink = document.createElement('div');\n",
              "          docLink.innerHTML = docLinkHtml;\n",
              "          element.appendChild(docLink);\n",
              "        }\n",
              "      </script>\n",
              "    </div>\n",
              "  </div>\n",
              "  "
            ]
          },
          "metadata": {},
          "execution_count": 25
        }
      ],
      "source": [
        "choc_xoutlier = choc[choc[\"country_of_bean_origin\"].isin(beanOriginTop[\"index\"])].reset_index(drop=True)\n",
        "choc_xoutlier"
      ]
    },
    {
      "cell_type": "code",
      "execution_count": 26,
      "id": "c5d72f3c",
      "metadata": {
        "colab": {
          "base_uri": "https://localhost:8080/",
          "height": 505
        },
        "id": "c5d72f3c",
        "outputId": "65be2ebd-cb71-4bd9-e019-c0fc188645b3"
      },
      "outputs": [
        {
          "output_type": "execute_result",
          "data": {
            "text/plain": [
              "      Belize  Blend  Bolivia  Brazil  Cadbury egg  Colombia  Costa rica  \\\n",
              "0        0.0    0.0      0.0     0.0          0.0       0.0         0.0   \n",
              "1        0.0    0.0      0.0     0.0          0.0       0.0         0.0   \n",
              "2        0.0    0.0      0.0     0.0          0.0       0.0         0.0   \n",
              "3        0.0    0.0      1.0     0.0          0.0       0.0         0.0   \n",
              "4        0.0    0.0      0.0     0.0          0.0       0.0         0.0   \n",
              "...      ...    ...      ...     ...          ...       ...         ...   \n",
              "1637     0.0    0.0      0.0     0.0          0.0       0.0         0.0   \n",
              "1638     0.0    1.0      0.0     0.0          0.0       0.0         0.0   \n",
              "1639     0.0    0.0      0.0     0.0          0.0       1.0         0.0   \n",
              "1640     1.0    0.0      0.0     0.0          0.0       0.0         0.0   \n",
              "1641     0.0    1.0      0.0     0.0          0.0       0.0         0.0   \n",
              "\n",
              "      Dominican republic  Easter candy  Ecuador  ...  why bother  wild berry  \\\n",
              "0                    0.0           0.0      0.0  ...         0.0         0.0   \n",
              "1                    1.0           0.0      0.0  ...         0.0         0.0   \n",
              "2                    0.0           0.0      0.0  ...         0.0         0.0   \n",
              "3                    0.0           0.0      0.0  ...         0.0         0.0   \n",
              "4                    0.0           0.0      0.0  ...         0.0         0.0   \n",
              "...                  ...           ...      ...  ...         ...         ...   \n",
              "1637                 0.0           0.0      0.0  ...         0.0         0.0   \n",
              "1638                 0.0           0.0      0.0  ...         0.0         0.0   \n",
              "1639                 0.0           0.0      0.0  ...         0.0         0.0   \n",
              "1640                 0.0           0.0      0.0  ...         0.0         0.0   \n",
              "1641                 0.0           0.0      0.0  ...         0.0         0.0   \n",
              "\n",
              "      wine  winey  wood  woodsy  woody  wtf  yellow fruit  yogurt  \n",
              "0      0.0    0.0   0.0     0.0    0.0  0.0           0.0     0.0  \n",
              "1      0.0    0.0   0.0     0.0    0.0  0.0           0.0     0.0  \n",
              "2      0.0    0.0   0.0     0.0    0.0  0.0           0.0     0.0  \n",
              "3      0.0    0.0   0.0     0.0    0.0  0.0           0.0     0.0  \n",
              "4      0.0    0.0   0.0     0.0    0.0  0.0           0.0     0.0  \n",
              "...    ...    ...   ...     ...    ...  ...           ...     ...  \n",
              "1637   0.0    0.0   0.0     0.0    0.0  0.0           0.0     0.0  \n",
              "1638   0.0    0.0   0.0     0.0    0.0  0.0           0.0     0.0  \n",
              "1639   0.0    0.0   0.0     0.0    0.0  0.0           0.0     0.0  \n",
              "1640   0.0    0.0   0.0     0.0    0.0  0.0           0.0     0.0  \n",
              "1641   0.0    0.0   0.0     0.0    0.0  0.0           0.0     0.0  \n",
              "\n",
              "[1642 rows x 707 columns]"
            ],
            "text/html": [
              "\n",
              "  <div id=\"df-fa76c1ea-94f2-4782-8aa1-b0b5313a86c0\">\n",
              "    <div class=\"colab-df-container\">\n",
              "      <div>\n",
              "<style scoped>\n",
              "    .dataframe tbody tr th:only-of-type {\n",
              "        vertical-align: middle;\n",
              "    }\n",
              "\n",
              "    .dataframe tbody tr th {\n",
              "        vertical-align: top;\n",
              "    }\n",
              "\n",
              "    .dataframe thead th {\n",
              "        text-align: right;\n",
              "    }\n",
              "</style>\n",
              "<table border=\"1\" class=\"dataframe\">\n",
              "  <thead>\n",
              "    <tr style=\"text-align: right;\">\n",
              "      <th></th>\n",
              "      <th>Belize</th>\n",
              "      <th>Blend</th>\n",
              "      <th>Bolivia</th>\n",
              "      <th>Brazil</th>\n",
              "      <th>Cadbury egg</th>\n",
              "      <th>Colombia</th>\n",
              "      <th>Costa rica</th>\n",
              "      <th>Dominican republic</th>\n",
              "      <th>Easter candy</th>\n",
              "      <th>Ecuador</th>\n",
              "      <th>...</th>\n",
              "      <th>why bother</th>\n",
              "      <th>wild berry</th>\n",
              "      <th>wine</th>\n",
              "      <th>winey</th>\n",
              "      <th>wood</th>\n",
              "      <th>woodsy</th>\n",
              "      <th>woody</th>\n",
              "      <th>wtf</th>\n",
              "      <th>yellow fruit</th>\n",
              "      <th>yogurt</th>\n",
              "    </tr>\n",
              "  </thead>\n",
              "  <tbody>\n",
              "    <tr>\n",
              "      <th>0</th>\n",
              "      <td>0.0</td>\n",
              "      <td>0.0</td>\n",
              "      <td>0.0</td>\n",
              "      <td>0.0</td>\n",
              "      <td>0.0</td>\n",
              "      <td>0.0</td>\n",
              "      <td>0.0</td>\n",
              "      <td>0.0</td>\n",
              "      <td>0.0</td>\n",
              "      <td>0.0</td>\n",
              "      <td>...</td>\n",
              "      <td>0.0</td>\n",
              "      <td>0.0</td>\n",
              "      <td>0.0</td>\n",
              "      <td>0.0</td>\n",
              "      <td>0.0</td>\n",
              "      <td>0.0</td>\n",
              "      <td>0.0</td>\n",
              "      <td>0.0</td>\n",
              "      <td>0.0</td>\n",
              "      <td>0.0</td>\n",
              "    </tr>\n",
              "    <tr>\n",
              "      <th>1</th>\n",
              "      <td>0.0</td>\n",
              "      <td>0.0</td>\n",
              "      <td>0.0</td>\n",
              "      <td>0.0</td>\n",
              "      <td>0.0</td>\n",
              "      <td>0.0</td>\n",
              "      <td>0.0</td>\n",
              "      <td>1.0</td>\n",
              "      <td>0.0</td>\n",
              "      <td>0.0</td>\n",
              "      <td>...</td>\n",
              "      <td>0.0</td>\n",
              "      <td>0.0</td>\n",
              "      <td>0.0</td>\n",
              "      <td>0.0</td>\n",
              "      <td>0.0</td>\n",
              "      <td>0.0</td>\n",
              "      <td>0.0</td>\n",
              "      <td>0.0</td>\n",
              "      <td>0.0</td>\n",
              "      <td>0.0</td>\n",
              "    </tr>\n",
              "    <tr>\n",
              "      <th>2</th>\n",
              "      <td>0.0</td>\n",
              "      <td>0.0</td>\n",
              "      <td>0.0</td>\n",
              "      <td>0.0</td>\n",
              "      <td>0.0</td>\n",
              "      <td>0.0</td>\n",
              "      <td>0.0</td>\n",
              "      <td>0.0</td>\n",
              "      <td>0.0</td>\n",
              "      <td>0.0</td>\n",
              "      <td>...</td>\n",
              "      <td>0.0</td>\n",
              "      <td>0.0</td>\n",
              "      <td>0.0</td>\n",
              "      <td>0.0</td>\n",
              "      <td>0.0</td>\n",
              "      <td>0.0</td>\n",
              "      <td>0.0</td>\n",
              "      <td>0.0</td>\n",
              "      <td>0.0</td>\n",
              "      <td>0.0</td>\n",
              "    </tr>\n",
              "    <tr>\n",
              "      <th>3</th>\n",
              "      <td>0.0</td>\n",
              "      <td>0.0</td>\n",
              "      <td>1.0</td>\n",
              "      <td>0.0</td>\n",
              "      <td>0.0</td>\n",
              "      <td>0.0</td>\n",
              "      <td>0.0</td>\n",
              "      <td>0.0</td>\n",
              "      <td>0.0</td>\n",
              "      <td>0.0</td>\n",
              "      <td>...</td>\n",
              "      <td>0.0</td>\n",
              "      <td>0.0</td>\n",
              "      <td>0.0</td>\n",
              "      <td>0.0</td>\n",
              "      <td>0.0</td>\n",
              "      <td>0.0</td>\n",
              "      <td>0.0</td>\n",
              "      <td>0.0</td>\n",
              "      <td>0.0</td>\n",
              "      <td>0.0</td>\n",
              "    </tr>\n",
              "    <tr>\n",
              "      <th>4</th>\n",
              "      <td>0.0</td>\n",
              "      <td>0.0</td>\n",
              "      <td>0.0</td>\n",
              "      <td>0.0</td>\n",
              "      <td>0.0</td>\n",
              "      <td>0.0</td>\n",
              "      <td>0.0</td>\n",
              "      <td>0.0</td>\n",
              "      <td>0.0</td>\n",
              "      <td>0.0</td>\n",
              "      <td>...</td>\n",
              "      <td>0.0</td>\n",
              "      <td>0.0</td>\n",
              "      <td>0.0</td>\n",
              "      <td>0.0</td>\n",
              "      <td>0.0</td>\n",
              "      <td>0.0</td>\n",
              "      <td>0.0</td>\n",
              "      <td>0.0</td>\n",
              "      <td>0.0</td>\n",
              "      <td>0.0</td>\n",
              "    </tr>\n",
              "    <tr>\n",
              "      <th>...</th>\n",
              "      <td>...</td>\n",
              "      <td>...</td>\n",
              "      <td>...</td>\n",
              "      <td>...</td>\n",
              "      <td>...</td>\n",
              "      <td>...</td>\n",
              "      <td>...</td>\n",
              "      <td>...</td>\n",
              "      <td>...</td>\n",
              "      <td>...</td>\n",
              "      <td>...</td>\n",
              "      <td>...</td>\n",
              "      <td>...</td>\n",
              "      <td>...</td>\n",
              "      <td>...</td>\n",
              "      <td>...</td>\n",
              "      <td>...</td>\n",
              "      <td>...</td>\n",
              "      <td>...</td>\n",
              "      <td>...</td>\n",
              "      <td>...</td>\n",
              "    </tr>\n",
              "    <tr>\n",
              "      <th>1637</th>\n",
              "      <td>0.0</td>\n",
              "      <td>0.0</td>\n",
              "      <td>0.0</td>\n",
              "      <td>0.0</td>\n",
              "      <td>0.0</td>\n",
              "      <td>0.0</td>\n",
              "      <td>0.0</td>\n",
              "      <td>0.0</td>\n",
              "      <td>0.0</td>\n",
              "      <td>0.0</td>\n",
              "      <td>...</td>\n",
              "      <td>0.0</td>\n",
              "      <td>0.0</td>\n",
              "      <td>0.0</td>\n",
              "      <td>0.0</td>\n",
              "      <td>0.0</td>\n",
              "      <td>0.0</td>\n",
              "      <td>0.0</td>\n",
              "      <td>0.0</td>\n",
              "      <td>0.0</td>\n",
              "      <td>0.0</td>\n",
              "    </tr>\n",
              "    <tr>\n",
              "      <th>1638</th>\n",
              "      <td>0.0</td>\n",
              "      <td>1.0</td>\n",
              "      <td>0.0</td>\n",
              "      <td>0.0</td>\n",
              "      <td>0.0</td>\n",
              "      <td>0.0</td>\n",
              "      <td>0.0</td>\n",
              "      <td>0.0</td>\n",
              "      <td>0.0</td>\n",
              "      <td>0.0</td>\n",
              "      <td>...</td>\n",
              "      <td>0.0</td>\n",
              "      <td>0.0</td>\n",
              "      <td>0.0</td>\n",
              "      <td>0.0</td>\n",
              "      <td>0.0</td>\n",
              "      <td>0.0</td>\n",
              "      <td>0.0</td>\n",
              "      <td>0.0</td>\n",
              "      <td>0.0</td>\n",
              "      <td>0.0</td>\n",
              "    </tr>\n",
              "    <tr>\n",
              "      <th>1639</th>\n",
              "      <td>0.0</td>\n",
              "      <td>0.0</td>\n",
              "      <td>0.0</td>\n",
              "      <td>0.0</td>\n",
              "      <td>0.0</td>\n",
              "      <td>1.0</td>\n",
              "      <td>0.0</td>\n",
              "      <td>0.0</td>\n",
              "      <td>0.0</td>\n",
              "      <td>0.0</td>\n",
              "      <td>...</td>\n",
              "      <td>0.0</td>\n",
              "      <td>0.0</td>\n",
              "      <td>0.0</td>\n",
              "      <td>0.0</td>\n",
              "      <td>0.0</td>\n",
              "      <td>0.0</td>\n",
              "      <td>0.0</td>\n",
              "      <td>0.0</td>\n",
              "      <td>0.0</td>\n",
              "      <td>0.0</td>\n",
              "    </tr>\n",
              "    <tr>\n",
              "      <th>1640</th>\n",
              "      <td>1.0</td>\n",
              "      <td>0.0</td>\n",
              "      <td>0.0</td>\n",
              "      <td>0.0</td>\n",
              "      <td>0.0</td>\n",
              "      <td>0.0</td>\n",
              "      <td>0.0</td>\n",
              "      <td>0.0</td>\n",
              "      <td>0.0</td>\n",
              "      <td>0.0</td>\n",
              "      <td>...</td>\n",
              "      <td>0.0</td>\n",
              "      <td>0.0</td>\n",
              "      <td>0.0</td>\n",
              "      <td>0.0</td>\n",
              "      <td>0.0</td>\n",
              "      <td>0.0</td>\n",
              "      <td>0.0</td>\n",
              "      <td>0.0</td>\n",
              "      <td>0.0</td>\n",
              "      <td>0.0</td>\n",
              "    </tr>\n",
              "    <tr>\n",
              "      <th>1641</th>\n",
              "      <td>0.0</td>\n",
              "      <td>1.0</td>\n",
              "      <td>0.0</td>\n",
              "      <td>0.0</td>\n",
              "      <td>0.0</td>\n",
              "      <td>0.0</td>\n",
              "      <td>0.0</td>\n",
              "      <td>0.0</td>\n",
              "      <td>0.0</td>\n",
              "      <td>0.0</td>\n",
              "      <td>...</td>\n",
              "      <td>0.0</td>\n",
              "      <td>0.0</td>\n",
              "      <td>0.0</td>\n",
              "      <td>0.0</td>\n",
              "      <td>0.0</td>\n",
              "      <td>0.0</td>\n",
              "      <td>0.0</td>\n",
              "      <td>0.0</td>\n",
              "      <td>0.0</td>\n",
              "      <td>0.0</td>\n",
              "    </tr>\n",
              "  </tbody>\n",
              "</table>\n",
              "<p>1642 rows × 707 columns</p>\n",
              "</div>\n",
              "      <button class=\"colab-df-convert\" onclick=\"convertToInteractive('df-fa76c1ea-94f2-4782-8aa1-b0b5313a86c0')\"\n",
              "              title=\"Convert this dataframe to an interactive table.\"\n",
              "              style=\"display:none;\">\n",
              "        \n",
              "  <svg xmlns=\"http://www.w3.org/2000/svg\" height=\"24px\"viewBox=\"0 0 24 24\"\n",
              "       width=\"24px\">\n",
              "    <path d=\"M0 0h24v24H0V0z\" fill=\"none\"/>\n",
              "    <path d=\"M18.56 5.44l.94 2.06.94-2.06 2.06-.94-2.06-.94-.94-2.06-.94 2.06-2.06.94zm-11 1L8.5 8.5l.94-2.06 2.06-.94-2.06-.94L8.5 2.5l-.94 2.06-2.06.94zm10 10l.94 2.06.94-2.06 2.06-.94-2.06-.94-.94-2.06-.94 2.06-2.06.94z\"/><path d=\"M17.41 7.96l-1.37-1.37c-.4-.4-.92-.59-1.43-.59-.52 0-1.04.2-1.43.59L10.3 9.45l-7.72 7.72c-.78.78-.78 2.05 0 2.83L4 21.41c.39.39.9.59 1.41.59.51 0 1.02-.2 1.41-.59l7.78-7.78 2.81-2.81c.8-.78.8-2.07 0-2.86zM5.41 20L4 18.59l7.72-7.72 1.47 1.35L5.41 20z\"/>\n",
              "  </svg>\n",
              "      </button>\n",
              "      \n",
              "  <style>\n",
              "    .colab-df-container {\n",
              "      display:flex;\n",
              "      flex-wrap:wrap;\n",
              "      gap: 12px;\n",
              "    }\n",
              "\n",
              "    .colab-df-convert {\n",
              "      background-color: #E8F0FE;\n",
              "      border: none;\n",
              "      border-radius: 50%;\n",
              "      cursor: pointer;\n",
              "      display: none;\n",
              "      fill: #1967D2;\n",
              "      height: 32px;\n",
              "      padding: 0 0 0 0;\n",
              "      width: 32px;\n",
              "    }\n",
              "\n",
              "    .colab-df-convert:hover {\n",
              "      background-color: #E2EBFA;\n",
              "      box-shadow: 0px 1px 2px rgba(60, 64, 67, 0.3), 0px 1px 3px 1px rgba(60, 64, 67, 0.15);\n",
              "      fill: #174EA6;\n",
              "    }\n",
              "\n",
              "    [theme=dark] .colab-df-convert {\n",
              "      background-color: #3B4455;\n",
              "      fill: #D2E3FC;\n",
              "    }\n",
              "\n",
              "    [theme=dark] .colab-df-convert:hover {\n",
              "      background-color: #434B5C;\n",
              "      box-shadow: 0px 1px 3px 1px rgba(0, 0, 0, 0.15);\n",
              "      filter: drop-shadow(0px 1px 2px rgba(0, 0, 0, 0.3));\n",
              "      fill: #FFFFFF;\n",
              "    }\n",
              "  </style>\n",
              "\n",
              "      <script>\n",
              "        const buttonEl =\n",
              "          document.querySelector('#df-fa76c1ea-94f2-4782-8aa1-b0b5313a86c0 button.colab-df-convert');\n",
              "        buttonEl.style.display =\n",
              "          google.colab.kernel.accessAllowed ? 'block' : 'none';\n",
              "\n",
              "        async function convertToInteractive(key) {\n",
              "          const element = document.querySelector('#df-fa76c1ea-94f2-4782-8aa1-b0b5313a86c0');\n",
              "          const dataTable =\n",
              "            await google.colab.kernel.invokeFunction('convertToInteractive',\n",
              "                                                     [key], {});\n",
              "          if (!dataTable) return;\n",
              "\n",
              "          const docLinkHtml = 'Like what you see? Visit the ' +\n",
              "            '<a target=\"_blank\" href=https://colab.research.google.com/notebooks/data_table.ipynb>data table notebook</a>'\n",
              "            + ' to learn more about interactive tables.';\n",
              "          element.innerHTML = '';\n",
              "          dataTable['output_type'] = 'display_data';\n",
              "          await google.colab.output.renderOutput(dataTable, element);\n",
              "          const docLink = document.createElement('div');\n",
              "          docLink.innerHTML = docLinkHtml;\n",
              "          element.appendChild(docLink);\n",
              "        }\n",
              "      </script>\n",
              "    </div>\n",
              "  </div>\n",
              "  "
            ]
          },
          "metadata": {},
          "execution_count": 26
        }
      ],
      "source": [
        "# one hot encoding categoricals\n",
        "choc_cat = choc_xoutlier[['country_of_bean_origin', 'first_taste', 'second_taste', 'third_taste', 'fourth_taste']]\n",
        "choc_cat_ohe = pd.get_dummies(pd.DataFrame(choc_cat.values.tolist()),prefix_sep ='',prefix='')\n",
        "\n",
        "# extracting rest of the predictors\n",
        "choc_num = choc_xoutlier[['cocoa_percent', 'counts_of_ingredients', 'number_of_taste', 'vanilla', 'lecithin', 'salt', 'sugar']]\n",
        "\n",
        "# extracting response\n",
        "choc_response = pd.DataFrame(choc_xoutlier['rating_category'])\n",
        "\n",
        "# combining predictors and response\n",
        "choc_xoutlier_ohe = pd.concat([choc_cat_ohe, choc_response, choc_num], sort = False, axis = 1)\n",
        "choc_xoutlier_ohe = choc_xoutlier_ohe.groupby(level=0, axis=1).sum().drop(columns='no taste')\n",
        "choc_xoutlier_ohe"
      ]
    },
    {
      "cell_type": "code",
      "execution_count": 27,
      "id": "fbec10bc",
      "metadata": {
        "colab": {
          "base_uri": "https://localhost:8080/"
        },
        "id": "fbec10bc",
        "outputId": "132d611c-acf5-45c8-f0b0-bf66652099fb"
      },
      "outputs": [
        {
          "output_type": "execute_result",
          "data": {
            "text/plain": [
              "1.0    965\n",
              "0.0    677\n",
              "Name: rating_category, dtype: int64"
            ]
          },
          "metadata": {},
          "execution_count": 27
        }
      ],
      "source": [
        "choc_xoutlier_ohe.rating_category.value_counts()"
      ]
    },
    {
      "cell_type": "code",
      "execution_count": 28,
      "id": "f6c5f66d",
      "metadata": {
        "id": "f6c5f66d"
      },
      "outputs": [],
      "source": [
        "y = pd.DataFrame(choc_xoutlier_ohe['rating_category'])\n",
        "X = pd.DataFrame(choc_xoutlier_ohe.drop('rating_category', axis = 1))\n",
        "X_train, X_test, y_train, y_test = train_test_split(X, y, test_size = 0.2, stratify = y)"
      ]
    },
    {
      "cell_type": "code",
      "execution_count": 29,
      "id": "74188fb2",
      "metadata": {
        "id": "74188fb2"
      },
      "outputs": [],
      "source": [
        "rforest = RandomForestClassifier(n_estimators = 800, max_depth = 60)\n",
        "over = ADASYN()\n",
        "under = RandomUnderSampler(sampling_strategy=0.5) \n",
        "steps = [(\"smote\", over),(\"model\", rforest)]\n",
        "pipeline = Pipeline(steps = steps)"
      ]
    },
    {
      "cell_type": "markdown",
      "id": "000f6aec",
      "metadata": {
        "id": "000f6aec"
      },
      "source": [
        "Using stratified K fold cross validation to evalute the model"
      ]
    },
    {
      "cell_type": "code",
      "execution_count": 30,
      "id": "f2cceb3e",
      "metadata": {
        "colab": {
          "base_uri": "https://localhost:8080/"
        },
        "id": "f2cceb3e",
        "outputId": "d022be0f-732a-426b-b96b-15d4648b473a"
      },
      "outputs": [
        {
          "output_type": "stream",
          "name": "stdout",
          "text": [
            "accuracy: 0.717 (0.017)\n",
            "precison: 0.717 (0.013)\n",
            "recall: 0.856 (0.019)\n",
            "f1 score: 0.780 (0.013)\n"
          ]
        }
      ],
      "source": [
        "evalModel(rforest, X, y, scoring)"
      ]
    },
    {
      "cell_type": "markdown",
      "id": "a6e75043",
      "metadata": {
        "id": "a6e75043"
      },
      "source": [
        "Test the model on a train and test data set"
      ]
    },
    {
      "cell_type": "code",
      "execution_count": 31,
      "id": "3e4dbe47",
      "metadata": {
        "colab": {
          "base_uri": "https://localhost:8080/"
        },
        "id": "3e4dbe47",
        "outputId": "96e6d354-74aa-4852-ad32-fccdbfb6250a"
      },
      "outputs": [
        {
          "output_type": "execute_result",
          "data": {
            "text/plain": [
              "rating_category\n",
              "1.0                772\n",
              "0.0                689\n",
              "dtype: int64"
            ]
          },
          "metadata": {},
          "execution_count": 31
        }
      ],
      "source": [
        "X_train_res, y_train_res = over.fit_resample(X_train, y_train)\n",
        "y_train_res.value_counts()"
      ]
    },
    {
      "cell_type": "markdown",
      "id": "ccc86666",
      "metadata": {
        "id": "ccc86666"
      },
      "source": [
        "Test the model on a train and test data set"
      ]
    },
    {
      "cell_type": "code",
      "execution_count": 32,
      "id": "415493df",
      "metadata": {
        "colab": {
          "base_uri": "https://localhost:8080/",
          "height": 1000
        },
        "id": "415493df",
        "outputId": "91235d80-c9a8-4f0c-8125-5df54f75f427"
      },
      "outputs": [
        {
          "output_type": "stream",
          "name": "stdout",
          "text": [
            "Goodness of Fit of Model \tTrain Dataset\n",
            "Classification Accuracy \t: 1.0\n",
            "\n",
            "Goodness of Fit of Model \tTest Dataset\n",
            "Classification Accuracy \t: 0.6990881458966566\n",
            "\n",
            "True '1' rate Train :\t 1.0\n",
            "True '0' rate Train :\t 1.0\n",
            "\n",
            "False '1' rate Train :\t 0.0\n",
            "False '0' rate Train :\t 0.0\n",
            "\n",
            "True '1' rate Test :\t 0.8238341968911918\n",
            "True '0' rate Test :\t 0.5220588235294118\n",
            "\n",
            "False '1' rate Test :\t 0.47794117647058826\n",
            "False '0' rate Test :\t 0.17616580310880828\n",
            "\n"
          ]
        },
        {
          "output_type": "display_data",
          "data": {
            "text/plain": [
              "<Figure size 576x1152 with 4 Axes>"
            ],
            "image/png": "[encoded data removed]"
          },
          "metadata": {
            "needs_background": "light"
          }
        }
      ],
      "source": [
        "fitModel(rforest, X_train_res, X_test, y_train_res, y_test)"
      ]
    },
    {
      "cell_type": "markdown",
      "id": "9185a157",
      "metadata": {
        "id": "9185a157"
      },
      "source": [
        "To add comment here"
      ]
    },
    {
      "cell_type": "markdown",
      "id": "1da8392c",
      "metadata": {
        "id": "1da8392c"
      },
      "source": [
        "# Gradient Boosting"
      ]
    },
    {
      "cell_type": "markdown",
      "id": "aa35e1c1",
      "metadata": {
        "id": "aa35e1c1"
      },
      "source": [
        "Let's try a more sophisticated model, Gradient Boosting Machine"
      ]
    },
    {
      "cell_type": "code",
      "execution_count": 33,
      "id": "28dbcaf2",
      "metadata": {
        "id": "28dbcaf2"
      },
      "outputs": [],
      "source": [
        "from sklearn.ensemble import GradientBoostingClassifier\n",
        "# gradient boosting for classification in scikit-learn"
      ]
    },
    {
      "cell_type": "code",
      "execution_count": 34,
      "id": "ab93bf75",
      "metadata": {
        "id": "ab93bf75"
      },
      "outputs": [],
      "source": [
        "GradBoost = GradientBoostingClassifier(loss = \"deviance\", learning_rate = 0.1, n_estimators = 500, subsample = 0.8, max_depth = 6)\n",
        "over = ADASYN()\n",
        "under = RandomUnderSampler(sampling_strategy=0.5) \n",
        "steps = [(\"smote\", over),(\"model\", GradBoost)]\n",
        "pipeline = Pipeline(steps = steps)"
      ]
    },
    {
      "cell_type": "markdown",
      "id": "df6d72d8",
      "metadata": {
        "id": "df6d72d8"
      },
      "source": [
        "Using stratified K fold cross validation to evalute the model"
      ]
    },
    {
      "cell_type": "code",
      "execution_count": 35,
      "id": "1442edf8",
      "metadata": {
        "colab": {
          "base_uri": "https://localhost:8080/"
        },
        "id": "1442edf8",
        "outputId": "58e3fba9-b4c7-44fc-dc5d-8256c70b08c7"
      },
      "outputs": [
        {
          "output_type": "stream",
          "name": "stdout",
          "text": [
            "accuracy: 0.731 (0.019)\n",
            "precison: 0.749 (0.011)\n",
            "recall: 0.817 (0.027)\n",
            "f1 score: 0.781 (0.017)\n"
          ]
        }
      ],
      "source": [
        "evalModel(pipeline, X, y, scoring)"
      ]
    },
    {
      "cell_type": "markdown",
      "id": "e86894ea",
      "metadata": {
        "id": "e86894ea"
      },
      "source": [
        "Test the model on a train and test data set"
      ]
    },
    {
      "cell_type": "code",
      "execution_count": 36,
      "id": "374c4bfd",
      "metadata": {
        "colab": {
          "base_uri": "https://localhost:8080/"
        },
        "id": "374c4bfd",
        "outputId": "e8af68e9-069c-48e1-c49b-07bdf458e8f9"
      },
      "outputs": [
        {
          "output_type": "execute_result",
          "data": {
            "text/plain": [
              "rating_category\n",
              "1.0                772\n",
              "0.0                689\n",
              "dtype: int64"
            ]
          },
          "metadata": {},
          "execution_count": 36
        }
      ],
      "source": [
        "X_train_res, y_train_res = over.fit_resample(X_train, y_train)\n",
        "y_train_res.value_counts()"
      ]
    },
    {
      "cell_type": "code",
      "execution_count": 37,
      "id": "568282c4",
      "metadata": {
        "colab": {
          "base_uri": "https://localhost:8080/",
          "height": 1000
        },
        "id": "568282c4",
        "outputId": "9e832e1b-cbf9-4cd4-a7f0-6396a7d288f1"
      },
      "outputs": [
        {
          "output_type": "stream",
          "name": "stdout",
          "text": [
            "Goodness of Fit of Model \tTrain Dataset\n",
            "Classification Accuracy \t: 0.9972621492128679\n",
            "\n",
            "Goodness of Fit of Model \tTest Dataset\n",
            "Classification Accuracy \t: 0.6960486322188449\n",
            "\n",
            "True '1' rate Train :\t 0.9961139896373057\n",
            "True '0' rate Train :\t 0.9985486211901307\n",
            "\n",
            "False '1' rate Train :\t 0.001451378809869376\n",
            "False '0' rate Train :\t 0.0038860103626943004\n",
            "\n",
            "True '1' rate Test :\t 0.7927461139896373\n",
            "True '0' rate Test :\t 0.5588235294117647\n",
            "\n",
            "False '1' rate Test :\t 0.4411764705882353\n",
            "False '0' rate Test :\t 0.20725388601036268\n",
            "\n"
          ]
        },
        {
          "output_type": "display_data",
          "data": {
            "text/plain": [
              "<Figure size 576x1152 with 4 Axes>"
            ],
            "image/png": "[encoded data removed]"
          },
          "metadata": {
            "needs_background": "light"
          }
        }
      ],
      "source": [
        "fitModel(GradBoost, X_train_res, X_test, y_train_res, y_test)"
      ]
    },
    {
      "cell_type": "markdown",
      "id": "4daa1b65",
      "metadata": {
        "id": "4daa1b65"
      },
      "source": [
        "## Without removing outliers"
      ]
    },
    {
      "cell_type": "code",
      "execution_count": 38,
      "id": "NU35P8hd3vfb",
      "metadata": {
        "id": "NU35P8hd3vfb"
      },
      "outputs": [],
      "source": [
        "y = pd.DataFrame(choc_ohe['rating_category'])\n",
        "X = pd.DataFrame(choc_ohe.drop('rating_category', axis = 1))\n",
        "X_train, X_test, y_train, y_test = train_test_split(X, y, test_size = 0.2, stratify = y)"
      ]
    },
    {
      "cell_type": "code",
      "execution_count": 39,
      "id": "52d-vGqM37Xe",
      "metadata": {
        "colab": {
          "base_uri": "https://localhost:8080/"
        },
        "id": "52d-vGqM37Xe",
        "outputId": "b247b273-e0f4-4394-9e59-7a59e362ad3a"
      },
      "outputs": [
        {
          "output_type": "execute_result",
          "data": {
            "text/plain": [
              "1.0    931\n",
              "0.0    681\n",
              "Name: rating_category, dtype: int64"
            ]
          },
          "metadata": {},
          "execution_count": 39
        }
      ],
      "source": [
        "y_train.rating_category.value_counts()"
      ]
    },
    {
      "cell_type": "code",
      "execution_count": 40,
      "id": "08882745",
      "metadata": {
        "id": "08882745"
      },
      "outputs": [],
      "source": [
        "GradBoost = GradientBoostingClassifier(loss = \"deviance\", learning_rate = 0.1, n_estimators = 500, subsample = 0.8, max_depth = 9)\n",
        "over = ADASYN()\n",
        "under = RandomUnderSampler(sampling_strategy=0.5)\n",
        "steps = [(\"smote\", over),(\"model\", GradBoost)]\n",
        "pipeline = Pipeline(steps = steps)"
      ]
    },
    {
      "cell_type": "code",
      "execution_count": 41,
      "id": "4c74b5a0",
      "metadata": {
        "colab": {
          "base_uri": "https://localhost:8080/"
        },
        "id": "4c74b5a0",
        "outputId": "5f7f6193-c49b-4bb8-dbbd-eba9cdb515b2"
      },
      "outputs": [
        {
          "output_type": "stream",
          "name": "stdout",
          "text": [
            "accuracy: 0.723 (0.026)\n",
            "precison: 0.742 (0.021)\n",
            "recall: 0.799 (0.029)\n",
            "f1 score: 0.769 (0.022)\n"
          ]
        }
      ],
      "source": [
        "evalModel(pipeline, X, y, scoring)"
      ]
    },
    {
      "cell_type": "code",
      "execution_count": 42,
      "id": "396a1c8b",
      "metadata": {
        "colab": {
          "base_uri": "https://localhost:8080/"
        },
        "id": "396a1c8b",
        "outputId": "a714ed87-e393-4776-d885-3e8df6d16875"
      },
      "outputs": [
        {
          "output_type": "execute_result",
          "data": {
            "text/plain": [
              "rating_category\n",
              "1.0                931\n",
              "0.0                862\n",
              "dtype: int64"
            ]
          },
          "metadata": {},
          "execution_count": 42
        }
      ],
      "source": [
        "X_train_res, y_train_res = over.fit_resample(X_train, y_train)\n",
        "y_train_res.value_counts()"
      ]
    },
    {
      "cell_type": "code",
      "execution_count": 43,
      "id": "1330a1be",
      "metadata": {
        "colab": {
          "base_uri": "https://localhost:8080/",
          "height": 1000
        },
        "id": "1330a1be",
        "outputId": "e2b8621d-95ed-40b9-e317-fe1ce0f74e78"
      },
      "outputs": [
        {
          "output_type": "stream",
          "name": "stdout",
          "text": [
            "Goodness of Fit of Model \tTrain Dataset\n",
            "Classification Accuracy \t: 1.0\n",
            "\n",
            "Goodness of Fit of Model \tTest Dataset\n",
            "Classification Accuracy \t: 0.7096774193548387\n",
            "\n",
            "True '1' rate Train :\t 1.0\n",
            "True '0' rate Train :\t 1.0\n",
            "\n",
            "False '1' rate Train :\t 0.0\n",
            "False '0' rate Train :\t 0.0\n",
            "\n",
            "True '1' rate Test :\t 0.8111587982832618\n",
            "True '0' rate Test :\t 0.5705882352941176\n",
            "\n",
            "False '1' rate Test :\t 0.4294117647058823\n",
            "False '0' rate Test :\t 0.1888412017167382\n",
            "\n"
          ]
        },
        {
          "output_type": "display_data",
          "data": {
            "text/plain": [
              "<Figure size 576x1152 with 4 Axes>"
            ],
            "image/png": "[encoded data removed]"
          },
          "metadata": {
            "needs_background": "light"
          }
        }
      ],
      "source": [
        "fitModel(GradBoost, X_train_res, X_test, y_train_res, y_test)"
      ]
    }
  ],
  "metadata": {
    "colab": {
      "name": "Machine learning.ipynb",
      "provenance": [],
      "toc_visible": true,
      "collapsed_sections": []
    },
    "kernelspec": {
      "display_name": "Python 3 (ipykernel)",
      "language": "python",
      "name": "python3"
    },
    "language_info": {
      "codemirror_mode": {
        "name": "ipython",
        "version": 3
      },
      "file_extension": ".py",
      "mimetype": "text/x-python",
      "name": "python",
      "nbconvert_exporter": "python",
      "pygments_lexer": "ipython3",
      "version": "3.9.7"
    }
  },
  "nbformat": 4,
  "nbformat_minor": 5
}