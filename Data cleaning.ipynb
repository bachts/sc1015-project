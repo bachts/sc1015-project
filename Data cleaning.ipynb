{
 "cells": [
  {
   "cell_type": "markdown",
   "id": "10f4b63d",
   "metadata": {},
   "source": [
    "# Importing the necessary libraries"
   ]
  },
  {
   "cell_type": "markdown",
   "id": "8c0f9561",
   "metadata": {},
   "source": [
    "import numpy as np\n",
    "import pandas as pd\n",
    "import seaborn as sb\n",
    "import matplotlib.pyplot as plt \n",
    "sb.set()"
   ]
  },
  {
   "cell_type": "markdown",
   "id": "62819437",
   "metadata": {},
   "source": [
    "# Cleaning the dataset"
   ]
  },
  {
   "cell_type": "markdown",
   "id": "5e0ac6db",
   "metadata": {},
   "source": [
    "## Importing the dataset"
   ]
  },
  {
   "cell_type": "code",
   "execution_count": null,
   "id": "91c2c23c",
   "metadata": {},
   "outputs": [],
   "source": [
    "chocoRaw = pd.read_csv('chocolate.csv')\n",
    "chocoTaste = pd.read_csv('chocolate_taste_dataset.csv')"
   ]
  },
  {
   "cell_type": "markdown",
   "id": "a5834886",
   "metadata": {},
   "source": [
    "## Examining basic infos "
   ]
  },
  {
   "cell_type": "code",
   "execution_count": null,
   "id": "6a4a374c",
   "metadata": {},
   "outputs": [],
   "source": [
    "chocoRaw.info()"
   ]
  },
  {
   "cell_type": "code",
   "execution_count": null,
   "id": "8d2e3944",
   "metadata": {},
   "outputs": [],
   "source": [
    "chocoTaste"
   ]
  },
  {
   "cell_type": "markdown",
   "id": "d79862a8",
   "metadata": {},
   "source": [
    "## Dropping redundant columns"
   ]
  },
  {
   "cell_type": "markdown",
   "id": "b9c489c0",
   "metadata": {},
   "source": [
    "Some columns such as \"ref\", \"company\", \"review_date\" or \"company_location\" are variables that can not be controlled when creating a chocolate bar, which should be removed. \"specific_bean_origin_or_bar_name\" is also removed because it is too specific, and there are too many minority variables."
   ]
  },
  {
   "cell_type": "code",
   "execution_count": null,
   "id": "2f762876",
   "metadata": {},
   "outputs": [],
   "source": [
    "choc = pd.DataFrame(chocoRaw.drop(columns=['Unnamed: 0', 'ref', 'company', 'company_location', 'review_date', 'beans', 'specific_bean_origin_or_bar_name']))"
   ]
  },
  {
   "cell_type": "markdown",
   "id": "72c19c05",
   "metadata": {},
   "source": [
    "## Changing the values of ingredients to integer"
   ]
  },
  {
   "cell_type": "markdown",
   "id": "a0d88aa0",
   "metadata": {},
   "source": [
    "We replaced the values in the ingredients columns to cater to future machine learning model usage.\n",
    "- \"have\" changed into 1\n",
    "- \"not_have\" changed into 0"
   ]
  },
  {
   "cell_type": "code",
   "execution_count": null,
   "id": "2d05c679",
   "metadata": {},
   "outputs": [],
   "source": [
    "choc['cocoa_butter'] = choc['cocoa_butter'].replace('have_cocoa_butter' ,'1')\n",
    "choc['cocoa_butter'] = choc['cocoa_butter'].replace('have_not_cocoa_butter' ,'0')\n",
    "choc['cocoa_butter'] = choc['cocoa_butter'].astype('category')\n",
    "choc['vanilla'] = choc['vanilla'].replace('have_vanila' ,'1')\n",
    "choc['vanilla'] = choc['vanilla'].replace('have_not_vanila' ,'0')\n",
    "choc['vanilla'] = choc['vanilla'].astype('category')\n",
    "choc['lecithin'] = choc['lecithin'].replace('have_lecithin' ,'1')\n",
    "choc['lecithin'] = choc['lecithin'].replace('have_not_lecithin' ,'0')\n",
    "choc['lecithin'] = choc['lecithin'].astype('category')\n",
    "choc['salt'] = choc['salt'].replace('have_salt' ,'1')\n",
    "choc['salt'] = choc['salt'].replace('have_not_salt' ,'0')\n",
    "choc['salt'] = choc['salt'].astype('category')\n",
    "choc['sugar'] = choc['sugar'].replace('have_sugar' ,'1')\n",
    "choc['sugar'] = choc['sugar'].replace('have_not_sugar' ,'0')\n",
    "choc['sugar'] = choc['sugar'].astype('category')\n",
    "choc['sweetener_without_sugar'] = choc['sweetener_without_sugar'].replace('have_sweetener_without_sugar' ,'1')\n",
    "choc['sweetener_without_sugar'] = choc['sweetener_without_sugar'].replace('have_not_sweetener_without_sugar' ,'0')\n",
    "choc['sweetener_without_sugar'] = choc['sweetener_without_sugar'].astype('category')"
   ]
  },
  {
   "cell_type": "markdown",
   "id": "f501c6db",
   "metadata": {},
   "source": [
    "Seeing the proportion of each ingredients"
   ]
  },
  {
   "cell_type": "code",
   "execution_count": null,
   "id": "c5d8cb45",
   "metadata": {},
   "outputs": [],
   "source": [
    "#jus to see proportion of yes and no of each ingredients\n",
    "print(\"cocoa butter:\")\n",
    "print(choc[\"cocoa_butter\"].value_counts())\n",
    "print()\n",
    "print(\"vanilla:\")\n",
    "print(choc[\"vanilla\"].value_counts())\n",
    "print()\n",
    "print(\"lecithin:\")\n",
    "print(choc[\"lecithin\"].value_counts())\n",
    "print()\n",
    "print(\"salt:\")\n",
    "print(choc[\"salt\"].value_counts())\n",
    "print()\n",
    "print(\"sugar:\")\n",
    "print(choc[\"sugar\"].value_counts())\n",
    "print()\n",
    "print(\"sweetener w/o sugar:\")\n",
    "print(choc[\"sweetener_without_sugar\"].value_counts())"
   ]
  },
  {
   "cell_type": "markdown",
   "id": "95746e27",
   "metadata": {},
   "source": [
    "## Reclassifying rating "
   ]
  },
  {
   "cell_type": "code",
   "execution_count": null,
   "id": "25bb638c",
   "metadata": {},
   "outputs": [],
   "source": [
    "rating = pd.DataFrame(choc['rating'])\n",
    "sb.catplot(y = \"rating\", data = rating, kind = \"count\", height = 8)"
   ]
  },
  {
   "cell_type": "markdown",
   "id": "34dfa2ed",
   "metadata": {},
   "source": [
    "As we can see, the rating data are too imbalanced, with a heavy skew towards the higher rating. Therefore, we reclassify them into 3 categories, which helps with reducing class imbalance, without too much oversampling or downscaling:\n",
    "- rating<=2.75: \"low\"\n",
    "- 2.75 < rating <= 3.25: \"mid\"\n",
    "- 3.25 < rating <= 4: \"high\n",
    "Once again, we assign numerical values to the new ratings:\n",
    "- \"high\" = 2\n",
    "- \"mid\" = 1\n",
    "- \"low\" = 0"
   ]
  },
  {
   "cell_type": "code",
   "execution_count": null,
   "id": "41764899",
   "metadata": {},
   "outputs": [],
   "source": [
    "conditions = [(choc['rating'] <= 2.75),\n",
    "              (choc['rating'] > 2.75) & (choc['rating'] <= 3.25),\n",
    "              (choc['rating'] > 3.25) & (choc['rating'] <= 4)]\n",
    "\n",
    "values = ['0', '1', '2']\n",
    "\n",
    "choc['rating_category'] = np.select(conditions, values)\n",
    "swap = choc.pop('rating_category')\n",
    "choc.insert(5,'rating_category', swap)\n",
    "choc['rating_category'] = choc['rating_category'].astype('category')\n",
    "\n",
    "sb.catplot(y = 'rating_category', data = choc, kind = 'count', height = 8)"
   ]
  },
  {
   "cell_type": "markdown",
   "id": "7f5851d3",
   "metadata": {},
   "source": [
    "The different ratings are now much more balanced."
   ]
  },
  {
   "cell_type": "markdown",
   "id": "52d3e8f8",
   "metadata": {},
   "source": [
    "## Adding \"number_of_taste column\""
   ]
  },
  {
   "cell_type": "markdown",
   "id": "2911cd75",
   "metadata": {},
   "source": [
    "There are data on number of ingredients, so we believe there should be data on number of taste as well."
   ]
  },
  {
   "cell_type": "code",
   "execution_count": null,
   "id": "840d994a",
   "metadata": {},
   "outputs": [],
   "source": [
    "choc['number_of_taste'] = choc.apply(lambda row: 4 - sum(row[0:2223]=='no taste'), axis = 1).astype('category')\n",
    "choc"
   ]
  },
  {
   "cell_type": "code",
   "execution_count": null,
   "id": "cadfff5c",
   "metadata": {},
   "outputs": [],
   "source": [
    "choc.info()"
   ]
  }
 ],
 "metadata": {
  "kernelspec": {
   "display_name": "Python 3",
   "language": "python",
   "name": "python3"
  },
  "language_info": {
   "codemirror_mode": {
    "name": "ipython",
    "version": 3
   },
   "file_extension": ".py",
   "mimetype": "text/x-python",
   "name": "python",
   "nbconvert_exporter": "python",
   "pygments_lexer": "ipython3",
   "version": "3.8.8"
  }
 },
 "nbformat": 4,
 "nbformat_minor": 5
}
