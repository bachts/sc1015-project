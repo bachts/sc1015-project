{
 "cells": [
  {
   "cell_type": "markdown",
   "id": "10f4b63d",
   "metadata": {},
   "source": [
    "# Importing the necessary libraries"
   ]
  },
  {
   "cell_type": "code",
   "execution_count": 1,
   "id": "adac58e0",
   "metadata": {},
   "outputs": [],
   "source": [
    "import numpy as np\n",
    "import pandas as pd\n",
    "import seaborn as sb\n",
    "import matplotlib.pyplot as plt \n",
    "sb.set()"
   ]
  },
  {
   "cell_type": "markdown",
   "id": "62819437",
   "metadata": {},
   "source": [
    "# Cleaning the dataset"
   ]
  },
  {
   "cell_type": "markdown",
   "id": "5e0ac6db",
   "metadata": {},
   "source": [
    "## Importing the dataset"
   ]
  },
  {
   "cell_type": "code",
   "execution_count": 2,
   "id": "91c2c23c",
   "metadata": {},
   "outputs": [],
   "source": [
    "chocoRaw = pd.read_csv('chocolate.csv')"
   ]
  },
  {
   "cell_type": "markdown",
   "id": "a5834886",
   "metadata": {},
   "source": [
    "## Examining basic infos "
   ]
  },
  {
   "cell_type": "code",
   "execution_count": 3,
   "id": "6a4a374c",
   "metadata": {},
   "outputs": [
    {
     "name": "stdout",
     "output_type": "stream",
     "text": [
      "<class 'pandas.core.frame.DataFrame'>\n",
      "RangeIndex: 2224 entries, 0 to 2223\n",
      "Data columns (total 21 columns):\n",
      " #   Column                            Non-Null Count  Dtype  \n",
      "---  ------                            --------------  -----  \n",
      " 0   Unnamed: 0                        2224 non-null   int64  \n",
      " 1   ref                               2224 non-null   int64  \n",
      " 2   company                           2224 non-null   object \n",
      " 3   company_location                  2224 non-null   object \n",
      " 4   review_date                       2224 non-null   int64  \n",
      " 5   country_of_bean_origin            2224 non-null   object \n",
      " 6   specific_bean_origin_or_bar_name  2224 non-null   object \n",
      " 7   cocoa_percent                     2224 non-null   float64\n",
      " 8   rating                            2224 non-null   float64\n",
      " 9   counts_of_ingredients             2224 non-null   int64  \n",
      " 10  beans                             2224 non-null   object \n",
      " 11  cocoa_butter                      2224 non-null   object \n",
      " 12  vanilla                           2224 non-null   object \n",
      " 13  lecithin                          2224 non-null   object \n",
      " 14  salt                              2224 non-null   object \n",
      " 15  sugar                             2224 non-null   object \n",
      " 16  sweetener_without_sugar           2224 non-null   object \n",
      " 17  first_taste                       2224 non-null   object \n",
      " 18  second_taste                      2147 non-null   object \n",
      " 19  third_taste                       1604 non-null   object \n",
      " 20  fourth_taste                      242 non-null    object \n",
      "dtypes: float64(2), int64(4), object(15)\n",
      "memory usage: 365.0+ KB\n"
     ]
    }
   ],
   "source": [
    "chocoRaw.info()"
   ]
  },
  {
   "cell_type": "markdown",
   "id": "d79862a8",
   "metadata": {},
   "source": [
    "## Dropping redundant columns"
   ]
  },
  {
   "cell_type": "markdown",
   "id": "b9c489c0",
   "metadata": {},
   "source": [
    "Some columns such as \"ref\", \"company\", \"review_date\" or \"company_location\" are variables that can not be controlled when creating a chocolate bar, which should be removed. \"specific_bean_origin_or_bar_name\" is also removed because it is too specific, and there are too many minority variables."
   ]
  },
  {
   "cell_type": "code",
   "execution_count": 4,
   "id": "2f762876",
   "metadata": {},
   "outputs": [],
   "source": [
    "choc = pd.DataFrame(chocoRaw.drop(columns=['Unnamed: 0', 'ref', 'company', 'company_location', 'review_date', 'beans', 'specific_bean_origin_or_bar_name']))"
   ]
  },
  {
   "cell_type": "markdown",
   "id": "62468796",
   "metadata": {},
   "source": [
    "## Filling NaN values in taste columns with \"no taste\""
   ]
  },
  {
   "cell_type": "code",
   "execution_count": 5,
   "id": "f3c712f8",
   "metadata": {},
   "outputs": [],
   "source": [
    "choc.fillna(\"no taste\",inplace = True)"
   ]
  },
  {
   "cell_type": "markdown",
   "id": "72c19c05",
   "metadata": {},
   "source": [
    "## Changing the values of ingredients to integer"
   ]
  },
  {
   "cell_type": "markdown",
   "id": "a0d88aa0",
   "metadata": {},
   "source": [
    "We replaced the values in the ingredients columns to cater to future machine learning model usage.\n",
    "- \"have\" changed into 1\n",
    "- \"not_have\" changed into 0"
   ]
  },
  {
   "cell_type": "code",
   "execution_count": 6,
   "id": "2d05c679",
   "metadata": {},
   "outputs": [],
   "source": [
    "choc['cocoa_butter'] = choc['cocoa_butter'].replace('have_cocoa_butter' , 1)\n",
    "choc['cocoa_butter'] = choc['cocoa_butter'].replace('have_not_cocoa_butter' , 0)\n",
    "\n",
    "choc['vanilla'] = choc['vanilla'].replace('have_vanila' , 1)\n",
    "choc['vanilla'] = choc['vanilla'].replace('have_not_vanila' , 0)\n",
    "\n",
    "choc['lecithin'] = choc['lecithin'].replace('have_lecithin' , 1)\n",
    "choc['lecithin'] = choc['lecithin'].replace('have_not_lecithin' , 0)\n",
    "\n",
    "choc['salt'] = choc['salt'].replace('have_salt' , 1)\n",
    "choc['salt'] = choc['salt'].replace('have_not_salt' , 0)\n",
    "\n",
    "choc['sugar'] = choc['sugar'].replace('have_sugar' , 1)\n",
    "choc['sugar'] = choc['sugar'].replace('have_not_sugar' , 0)\n",
    "\n",
    "choc['sweetener_without_sugar'] = choc['sweetener_without_sugar'].replace('have_sweetener_without_sugar' , 1)\n",
    "choc['sweetener_without_sugar'] = choc['sweetener_without_sugar'].replace('have_not_sweetener_without_sugar' , 0)"
   ]
  },
  {
   "cell_type": "markdown",
   "id": "95746e27",
   "metadata": {},
   "source": [
    "## Reclassifying rating "
   ]
  },
  {
   "cell_type": "code",
   "execution_count": 7,
   "id": "25bb638c",
   "metadata": {},
   "outputs": [
    {
     "data": {
      "text/plain": [
       "<seaborn.axisgrid.FacetGrid at 0x1b8f16bc160>"
      ]
     },
     "execution_count": 7,
     "metadata": {},
     "output_type": "execute_result"
    },
    {
     "data": {
      "image/png": "[encoded data removed]",
      "text/plain": [
       "<Figure size 576x576 with 1 Axes>"
      ]
     },
     "metadata": {},
     "output_type": "display_data"
    }
   ],
   "source": [
    "sb.catplot(y = \"rating\", data = choc, kind = \"count\", height = 8)"
   ]
  },
  {
   "cell_type": "markdown",
   "id": "34dfa2ed",
   "metadata": {},
   "source": [
    "As we can see, the rating data are too imbalanced, with a heavy skew towards the higher rating. Therefore, we reclassify them into 2 categories, which helps with reducing class imbalance, without too much oversampling or downscaling:\n",
    "- rating <= 3.25: \"low and mid\"\n",
    "- 3.25 < rating <= 4: \"high\"<br>\n",
    "\n",
    "Once again, we assign numerical values to the new ratings:\n",
    "- \"high = 1\n",
    "- \"low and mid\" = 0"
   ]
  },
  {
   "cell_type": "code",
   "execution_count": 8,
   "id": "41764899",
   "metadata": {},
   "outputs": [
    {
     "data": {
      "image/png": "[encoded data removed]",
      "text/plain": [
       "<Figure size 432x432 with 1 Axes>"
      ]
     },
     "metadata": {},
     "output_type": "display_data"
    }
   ],
   "source": [
    "conditions = [(choc['rating'] <= 3.25),\n",
    "              (choc['rating'] > 3.25) & (choc['rating'] <= 4)]\n",
    "\n",
    "values = [0, 1]\n",
    "\n",
    "choc['rating_category'] = np.select(conditions, values)\n",
    "swap = choc.pop('rating_category')\n",
    "choc.insert(2,'rating_category', swap)\n",
    "choc['rating_category'] = choc['rating_category']\n",
    "\n",
    "sb.catplot(y = 'rating_category', data = choc, kind = 'count', height = 6)\n",
    "plt.show()"
   ]
  },
  {
   "cell_type": "markdown",
   "id": "7f5851d3",
   "metadata": {},
   "source": [
    "The different ratings are now much more balanced."
   ]
  },
  {
   "cell_type": "markdown",
   "id": "52d3e8f8",
   "metadata": {},
   "source": [
    "## Adding \"number_of_taste\" column"
   ]
  },
  {
   "cell_type": "markdown",
   "id": "2911cd75",
   "metadata": {},
   "source": [
    "There are data on number of ingredients, so we believe there should be data on number of taste as well."
   ]
  },
  {
   "cell_type": "code",
   "execution_count": 9,
   "id": "840d994a",
   "metadata": {},
   "outputs": [
    {
     "data": {
      "text/html": [
       "<div>\n",
       "<style scoped>\n",
       "    .dataframe tbody tr th:only-of-type {\n",
       "        vertical-align: middle;\n",
       "    }\n",
       "\n",
       "    .dataframe tbody tr th {\n",
       "        vertical-align: top;\n",
       "    }\n",
       "\n",
       "    .dataframe thead th {\n",
       "        text-align: right;\n",
       "    }\n",
       "</style>\n",
       "<table border=\"1\" class=\"dataframe\">\n",
       "  <thead>\n",
       "    <tr style=\"text-align: right;\">\n",
       "      <th></th>\n",
       "      <th>country_of_bean_origin</th>\n",
       "      <th>cocoa_percent</th>\n",
       "      <th>rating_category</th>\n",
       "      <th>rating</th>\n",
       "      <th>counts_of_ingredients</th>\n",
       "      <th>cocoa_butter</th>\n",
       "      <th>vanilla</th>\n",
       "      <th>lecithin</th>\n",
       "      <th>salt</th>\n",
       "      <th>sugar</th>\n",
       "      <th>sweetener_without_sugar</th>\n",
       "      <th>first_taste</th>\n",
       "      <th>second_taste</th>\n",
       "      <th>third_taste</th>\n",
       "      <th>fourth_taste</th>\n",
       "      <th>number_of_taste</th>\n",
       "    </tr>\n",
       "  </thead>\n",
       "  <tbody>\n",
       "    <tr>\n",
       "      <th>0</th>\n",
       "      <td>Madagascar</td>\n",
       "      <td>76.0</td>\n",
       "      <td>1</td>\n",
       "      <td>3.75</td>\n",
       "      <td>3</td>\n",
       "      <td>1</td>\n",
       "      <td>0</td>\n",
       "      <td>0</td>\n",
       "      <td>0</td>\n",
       "      <td>1</td>\n",
       "      <td>0</td>\n",
       "      <td>cocoa</td>\n",
       "      <td>blackberry</td>\n",
       "      <td>full body</td>\n",
       "      <td>no taste</td>\n",
       "      <td>3</td>\n",
       "    </tr>\n",
       "    <tr>\n",
       "      <th>1</th>\n",
       "      <td>Dominican republic</td>\n",
       "      <td>76.0</td>\n",
       "      <td>1</td>\n",
       "      <td>3.50</td>\n",
       "      <td>3</td>\n",
       "      <td>1</td>\n",
       "      <td>0</td>\n",
       "      <td>0</td>\n",
       "      <td>0</td>\n",
       "      <td>1</td>\n",
       "      <td>0</td>\n",
       "      <td>cocoa</td>\n",
       "      <td>vegetal</td>\n",
       "      <td>savory</td>\n",
       "      <td>no taste</td>\n",
       "      <td>3</td>\n",
       "    </tr>\n",
       "    <tr>\n",
       "      <th>2</th>\n",
       "      <td>Tanzania</td>\n",
       "      <td>76.0</td>\n",
       "      <td>0</td>\n",
       "      <td>3.25</td>\n",
       "      <td>3</td>\n",
       "      <td>1</td>\n",
       "      <td>0</td>\n",
       "      <td>0</td>\n",
       "      <td>0</td>\n",
       "      <td>1</td>\n",
       "      <td>0</td>\n",
       "      <td>rich cocoa</td>\n",
       "      <td>fatty</td>\n",
       "      <td>bready</td>\n",
       "      <td>no taste</td>\n",
       "      <td>3</td>\n",
       "    </tr>\n",
       "    <tr>\n",
       "      <th>3</th>\n",
       "      <td>Peru</td>\n",
       "      <td>63.0</td>\n",
       "      <td>1</td>\n",
       "      <td>3.75</td>\n",
       "      <td>4</td>\n",
       "      <td>1</td>\n",
       "      <td>0</td>\n",
       "      <td>1</td>\n",
       "      <td>0</td>\n",
       "      <td>1</td>\n",
       "      <td>0</td>\n",
       "      <td>fruity</td>\n",
       "      <td>melon</td>\n",
       "      <td>roasty</td>\n",
       "      <td>no taste</td>\n",
       "      <td>3</td>\n",
       "    </tr>\n",
       "    <tr>\n",
       "      <th>4</th>\n",
       "      <td>Bolivia</td>\n",
       "      <td>70.0</td>\n",
       "      <td>1</td>\n",
       "      <td>3.50</td>\n",
       "      <td>4</td>\n",
       "      <td>1</td>\n",
       "      <td>0</td>\n",
       "      <td>1</td>\n",
       "      <td>0</td>\n",
       "      <td>1</td>\n",
       "      <td>0</td>\n",
       "      <td>vegetal</td>\n",
       "      <td>nutty</td>\n",
       "      <td>no taste</td>\n",
       "      <td>no taste</td>\n",
       "      <td>2</td>\n",
       "    </tr>\n",
       "    <tr>\n",
       "      <th>...</th>\n",
       "      <td>...</td>\n",
       "      <td>...</td>\n",
       "      <td>...</td>\n",
       "      <td>...</td>\n",
       "      <td>...</td>\n",
       "      <td>...</td>\n",
       "      <td>...</td>\n",
       "      <td>...</td>\n",
       "      <td>...</td>\n",
       "      <td>...</td>\n",
       "      <td>...</td>\n",
       "      <td>...</td>\n",
       "      <td>...</td>\n",
       "      <td>...</td>\n",
       "      <td>...</td>\n",
       "      <td>...</td>\n",
       "    </tr>\n",
       "    <tr>\n",
       "      <th>2219</th>\n",
       "      <td>Blend</td>\n",
       "      <td>80.0</td>\n",
       "      <td>0</td>\n",
       "      <td>2.75</td>\n",
       "      <td>4</td>\n",
       "      <td>1</td>\n",
       "      <td>0</td>\n",
       "      <td>0</td>\n",
       "      <td>1</td>\n",
       "      <td>0</td>\n",
       "      <td>1</td>\n",
       "      <td>waxy</td>\n",
       "      <td>cloying</td>\n",
       "      <td>vegetal</td>\n",
       "      <td>no taste</td>\n",
       "      <td>3</td>\n",
       "    </tr>\n",
       "    <tr>\n",
       "      <th>2220</th>\n",
       "      <td>Colombia</td>\n",
       "      <td>75.0</td>\n",
       "      <td>1</td>\n",
       "      <td>3.75</td>\n",
       "      <td>3</td>\n",
       "      <td>1</td>\n",
       "      <td>0</td>\n",
       "      <td>0</td>\n",
       "      <td>0</td>\n",
       "      <td>1</td>\n",
       "      <td>0</td>\n",
       "      <td>strong nutty</td>\n",
       "      <td>marshmallow</td>\n",
       "      <td>no taste</td>\n",
       "      <td>no taste</td>\n",
       "      <td>2</td>\n",
       "    </tr>\n",
       "    <tr>\n",
       "      <th>2221</th>\n",
       "      <td>Belize</td>\n",
       "      <td>72.0</td>\n",
       "      <td>1</td>\n",
       "      <td>3.50</td>\n",
       "      <td>3</td>\n",
       "      <td>1</td>\n",
       "      <td>0</td>\n",
       "      <td>0</td>\n",
       "      <td>0</td>\n",
       "      <td>1</td>\n",
       "      <td>0</td>\n",
       "      <td>muted</td>\n",
       "      <td>roasty</td>\n",
       "      <td>accessible</td>\n",
       "      <td>no taste</td>\n",
       "      <td>3</td>\n",
       "    </tr>\n",
       "    <tr>\n",
       "      <th>2222</th>\n",
       "      <td>Congo</td>\n",
       "      <td>70.0</td>\n",
       "      <td>0</td>\n",
       "      <td>3.25</td>\n",
       "      <td>3</td>\n",
       "      <td>1</td>\n",
       "      <td>0</td>\n",
       "      <td>0</td>\n",
       "      <td>0</td>\n",
       "      <td>1</td>\n",
       "      <td>0</td>\n",
       "      <td>fatty</td>\n",
       "      <td>mild nuts</td>\n",
       "      <td>mild fruit</td>\n",
       "      <td>no taste</td>\n",
       "      <td>3</td>\n",
       "    </tr>\n",
       "    <tr>\n",
       "      <th>2223</th>\n",
       "      <td>Blend</td>\n",
       "      <td>75.0</td>\n",
       "      <td>0</td>\n",
       "      <td>3.00</td>\n",
       "      <td>3</td>\n",
       "      <td>1</td>\n",
       "      <td>0</td>\n",
       "      <td>0</td>\n",
       "      <td>0</td>\n",
       "      <td>1</td>\n",
       "      <td>0</td>\n",
       "      <td>fatty</td>\n",
       "      <td>earthy</td>\n",
       "      <td>cocoa</td>\n",
       "      <td>no taste</td>\n",
       "      <td>3</td>\n",
       "    </tr>\n",
       "  </tbody>\n",
       "</table>\n",
       "<p>2224 rows × 16 columns</p>\n",
       "</div>"
      ],
      "text/plain": [
       "     country_of_bean_origin  cocoa_percent  rating_category  rating  \\\n",
       "0                Madagascar           76.0                1    3.75   \n",
       "1        Dominican republic           76.0                1    3.50   \n",
       "2                  Tanzania           76.0                0    3.25   \n",
       "3                      Peru           63.0                1    3.75   \n",
       "4                   Bolivia           70.0                1    3.50   \n",
       "...                     ...            ...              ...     ...   \n",
       "2219                  Blend           80.0                0    2.75   \n",
       "2220               Colombia           75.0                1    3.75   \n",
       "2221                 Belize           72.0                1    3.50   \n",
       "2222                  Congo           70.0                0    3.25   \n",
       "2223                  Blend           75.0                0    3.00   \n",
       "\n",
       "      counts_of_ingredients  cocoa_butter  vanilla  lecithin  salt  sugar  \\\n",
       "0                         3             1        0         0     0      1   \n",
       "1                         3             1        0         0     0      1   \n",
       "2                         3             1        0         0     0      1   \n",
       "3                         4             1        0         1     0      1   \n",
       "4                         4             1        0         1     0      1   \n",
       "...                     ...           ...      ...       ...   ...    ...   \n",
       "2219                      4             1        0         0     1      0   \n",
       "2220                      3             1        0         0     0      1   \n",
       "2221                      3             1        0         0     0      1   \n",
       "2222                      3             1        0         0     0      1   \n",
       "2223                      3             1        0         0     0      1   \n",
       "\n",
       "      sweetener_without_sugar   first_taste second_taste third_taste  \\\n",
       "0                           0         cocoa   blackberry   full body   \n",
       "1                           0         cocoa      vegetal      savory   \n",
       "2                           0    rich cocoa        fatty      bready   \n",
       "3                           0        fruity        melon      roasty   \n",
       "4                           0       vegetal        nutty    no taste   \n",
       "...                       ...           ...          ...         ...   \n",
       "2219                        1          waxy      cloying     vegetal   \n",
       "2220                        0  strong nutty  marshmallow    no taste   \n",
       "2221                        0         muted       roasty  accessible   \n",
       "2222                        0         fatty    mild nuts  mild fruit   \n",
       "2223                        0         fatty       earthy       cocoa   \n",
       "\n",
       "     fourth_taste number_of_taste  \n",
       "0        no taste               3  \n",
       "1        no taste               3  \n",
       "2        no taste               3  \n",
       "3        no taste               3  \n",
       "4        no taste               2  \n",
       "...           ...             ...  \n",
       "2219     no taste               3  \n",
       "2220     no taste               2  \n",
       "2221     no taste               3  \n",
       "2222     no taste               3  \n",
       "2223     no taste               3  \n",
       "\n",
       "[2224 rows x 16 columns]"
      ]
     },
     "execution_count": 9,
     "metadata": {},
     "output_type": "execute_result"
    }
   ],
   "source": [
    "choc['number_of_taste'] = choc.apply(lambda row: 4 - sum(row[0:2223]=='no taste'), axis = 1).astype('category')\n",
    "choc"
   ]
  },
  {
   "cell_type": "code",
   "execution_count": 10,
   "id": "cadfff5c",
   "metadata": {},
   "outputs": [
    {
     "name": "stdout",
     "output_type": "stream",
     "text": [
      "<class 'pandas.core.frame.DataFrame'>\n",
      "RangeIndex: 2224 entries, 0 to 2223\n",
      "Data columns (total 16 columns):\n",
      " #   Column                   Non-Null Count  Dtype   \n",
      "---  ------                   --------------  -----   \n",
      " 0   country_of_bean_origin   2224 non-null   object  \n",
      " 1   cocoa_percent            2224 non-null   float64 \n",
      " 2   rating_category          2224 non-null   int32   \n",
      " 3   rating                   2224 non-null   float64 \n",
      " 4   counts_of_ingredients    2224 non-null   int64   \n",
      " 5   cocoa_butter             2224 non-null   int64   \n",
      " 6   vanilla                  2224 non-null   int64   \n",
      " 7   lecithin                 2224 non-null   int64   \n",
      " 8   salt                     2224 non-null   int64   \n",
      " 9   sugar                    2224 non-null   int64   \n",
      " 10  sweetener_without_sugar  2224 non-null   int64   \n",
      " 11  first_taste              2224 non-null   object  \n",
      " 12  second_taste             2224 non-null   object  \n",
      " 13  third_taste              2224 non-null   object  \n",
      " 14  fourth_taste             2224 non-null   object  \n",
      " 15  number_of_taste          2224 non-null   category\n",
      "dtypes: category(1), float64(2), int32(1), int64(7), object(5)\n",
      "memory usage: 254.4+ KB\n"
     ]
    }
   ],
   "source": [
    "choc.info()"
   ]
  },
  {
   "cell_type": "code",
   "execution_count": 11,
   "id": "9c0f9a15",
   "metadata": {},
   "outputs": [],
   "source": [
    "choc.to_csv('cleaned_chocolate.csv', index = False)"
   ]
  },
  {
   "cell_type": "code",
   "execution_count": null,
   "id": "6d46cbf4",
   "metadata": {},
   "outputs": [],
   "source": []
  }
 ],
 "metadata": {
  "kernelspec": {
   "display_name": "Python 3 (ipykernel)",
   "language": "python",
   "name": "python3"
  },
  "language_info": {
   "codemirror_mode": {
    "name": "ipython",
    "version": 3
   },
   "file_extension": ".py",
   "mimetype": "text/x-python",
   "name": "python",
   "nbconvert_exporter": "python",
   "pygments_lexer": "ipython3",
   "version": "3.9.7"
  }
 },
 "nbformat": 4,
 "nbformat_minor": 5
}
