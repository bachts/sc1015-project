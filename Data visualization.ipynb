{
 "cells": [
  {
   "cell_type": "markdown",
   "id": "a8356e4e",
   "metadata": {},
   "source": [
    "# Importing the libraries"
   ]
  },
  {
   "cell_type": "code",
   "execution_count": null,
   "id": "d9991dec",
   "metadata": {},
   "outputs": [],
   "source": [
    "import numpy as np\n",
    "import pandas as pd\n",
    "import seaborn as sb\n",
    "import matplotlib.pyplot as plt \n",
    "sb.set()"
   ]
  },
  {
   "cell_type": "markdown",
   "id": "91fa1455",
   "metadata": {},
   "source": [
    "# Importing the cleaned data set"
   ]
  },
  {
   "cell_type": "code",
   "execution_count": null,
   "id": "43959a63",
   "metadata": {},
   "outputs": [],
   "source": [
    "choc = pd.read_csv('cleaned_chocolate.csv')"
   ]
  },
  {
   "cell_type": "markdown",
   "id": "49a1bbf9",
   "metadata": {},
   "source": [
    "# Visualizing the distribution of cocoa percent"
   ]
  },
  {
   "cell_type": "code",
   "execution_count": null,
   "id": "ae80b42c",
   "metadata": {},
   "outputs": [],
   "source": [
    "sb.displot(choc['cocoa_percent'], kde = True, binwidth = 2, height = 7, aspect = 2)\n",
    "plt.show()"
   ]
  },
  {
   "cell_type": "code",
   "execution_count": null,
   "id": "213c436f",
   "metadata": {},
   "outputs": [],
   "source": [
    "f = plt.figure(figsize=(16,4))\n",
    "sb.boxplot(data = choc[\"cocoa_percent\"], orient = 'h')"
   ]
  },
  {
   "cell_type": "markdown",
   "id": "b14f9d9f",
   "metadata": {},
   "source": [
    "## Removing outliers for cocoa_percent using IQR rule"
   ]
  },
  {
   "cell_type": "code",
   "execution_count": null,
   "id": "52c60643",
   "metadata": {},
   "outputs": [],
   "source": [
    "q3 = choc[\"cocoa_percent\"].quantile(0.75)\n",
    "q1 = choc[\"cocoa_percent\"].quantile(0.25)\n",
    "iqr = q3-q1\n",
    "choc = choc[(choc[\"cocoa_percent\"]>=(q1-1.5*iqr)) & (choc[\"cocoa_percent\"]<=(q3+1.5*iqr))]"
   ]
  },
  {
   "cell_type": "code",
   "execution_count": null,
   "id": "06f6121c",
   "metadata": {},
   "outputs": [],
   "source": [
    "f = plt.figure(figsize=(16,4))\n",
    "sb.boxplot(data = choc[\"cocoa_percent\"], orient = 'h')"
   ]
  },
  {
   "cell_type": "markdown",
   "id": "3490ee6c",
   "metadata": {},
   "source": [
    "## Relationship between cocoa_percent and rating_category"
   ]
  },
  {
   "cell_type": "code",
   "execution_count": null,
   "id": "972a2b3d",
   "metadata": {},
   "outputs": [],
   "source": [
    "#from this we can see that generally cocoa percent similar, so not as important of a factor to affect ratings\n",
    "f = plt.figure(figsize=(16,12))\n",
    "sb.boxplot(x = \"cocoa_percent\", y = \"rating_category\", data = choc)"
   ]
  },
  {
   "cell_type": "markdown",
   "id": "be1818c4",
   "metadata": {},
   "source": [
    "# Relationship between Ingredient and proportion of each rating category"
   ]
  },
  {
   "cell_type": "markdown",
   "id": "bccdb70d",
   "metadata": {},
   "source": [
    "We are examining the changes in the distribution of rating category when there is versus when there is not a specific ingredient"
   ]
  },
  {
   "cell_type": "markdown",
   "id": "f7a40b26",
   "metadata": {},
   "source": [
    "## Creating helper functions to calculate the percentages"
   ]
  },
  {
   "cell_type": "code",
   "execution_count": null,
   "id": "5078a7e9",
   "metadata": {},
   "outputs": [],
   "source": [
    "# helper functions for plotting\n",
    "def ratingProportionPlot(data, y, ylabel = None, title = None):\n",
    "    i = len(data[y].value_counts())\n",
    "    graph = pd.crosstab(index = data[y],\n",
    "                        columns = data['rating_category'],\n",
    "                        normalize = 'index')[['2', '1', '0']]\n",
    "    graph.plot(kind = 'barh',\n",
    "               stacked = True,\n",
    "               figsize = (15,i*1.5),\n",
    "               title = title,\n",
    "               xlabel = ylabel)\n",
    "    plt.show()\n",
    "\n",
    "def ratingPercentagePlot(data, x, xlabel, height = 5, aspect = 1, ylim = 50):\n",
    "    palette = {'2':(0.2980392156862745, 0.4470588235294118, 0.6901960784313725),\n",
    "               '1':(0.8666666666666667, 0.5176470588235295, 0.3215686274509804),\n",
    "               '0':(0.3333333333333333, 0.6588235294117647, 0.40784313725490196)}\n",
    "\n",
    "    new = data.groupby(data[x])['rating_category'].value_counts(normalize=True)\n",
    "    new = new.mul(100).rename('Percentage').reset_index()\n",
    "    new = new.rename(columns = {x:xlabel})\n",
    "    new = new.rename(columns = {\"level_1\":'Rating Category'})\n",
    "\n",
    "    g = sb.catplot(x=xlabel, y='Percentage', hue='Rating Category', kind='bar', data=new,\n",
    "                   palette=palette, height=height, aspect=aspect)\n",
    "    g.ax.set_ylim(0,ylim)\n",
    "\n",
    "    for p in g.ax.patches:\n",
    "        txt = str(p.get_height().round(1)) + '%'\n",
    "        txt_x = p.get_x()\n",
    "        txt_y = p.get_height()\n",
    "        g.ax.text(txt_x,txt_y,txt)\n",
    "    \n",
    "    plt.show()"
   ]
  },
  {
   "cell_type": "markdown",
   "id": "e6443911",
   "metadata": {},
   "source": [
    "Cocoa Butter"
   ]
  },
  {
   "cell_type": "code",
   "execution_count": null,
   "id": "4f51d207",
   "metadata": {},
   "outputs": [],
   "source": [
    "ratingProportionPlot(data = choc, y = 'cocoa_butter', ylabel = 'cocoa butter',\n",
    "                     title = 'Proportion of each rating category by cocoa butter')"
   ]
  },
  {
   "cell_type": "code",
   "execution_count": null,
   "id": "ce4ea567",
   "metadata": {},
   "outputs": [],
   "source": [
    "ratingPercentagePlot(data = choc, x = 'cocoa_butter', xlabel = 'Cocoa Butter')"
   ]
  },
  {
   "cell_type": "markdown",
   "id": "213be326",
   "metadata": {},
   "source": [
    "Vanilla"
   ]
  },
  {
   "cell_type": "code",
   "execution_count": null,
   "id": "a362d42b",
   "metadata": {},
   "outputs": [],
   "source": [
    "ratingProportionPlot(data = choc, y = 'vanilla', ylabel = 'vanilla',\n",
    "                     title = 'Proportion of each rating category by vanilla')"
   ]
  },
  {
   "cell_type": "code",
   "execution_count": null,
   "id": "54237df2",
   "metadata": {},
   "outputs": [],
   "source": [
    "ratingPercentagePlot(data = choc, x = 'vanilla', xlabel = 'Vanilla')"
   ]
  },
  {
   "cell_type": "markdown",
   "id": "d64900a3",
   "metadata": {},
   "source": [
    "Lecithin"
   ]
  },
  {
   "cell_type": "code",
   "execution_count": null,
   "id": "689a0955",
   "metadata": {},
   "outputs": [],
   "source": [
    "ratingProportionPlot(data = choc, y = 'lecithin', ylabel = 'lecithin',\n",
    "                     title = 'Proportion of each rating category by lecithin')"
   ]
  },
  {
   "cell_type": "code",
   "execution_count": null,
   "id": "64d64661",
   "metadata": {},
   "outputs": [],
   "source": [
    "ratingPercentagePlot(data = choc, x = 'lecithin', xlabel = 'Lecithin')"
   ]
  },
  {
   "cell_type": "markdown",
   "id": "c3a63ddd",
   "metadata": {},
   "source": [
    "Salt"
   ]
  },
  {
   "cell_type": "code",
   "execution_count": null,
   "id": "10da1893",
   "metadata": {},
   "outputs": [],
   "source": [
    "ratingProportionPlot(data = choc, y = 'salt', ylabel = 'salt',\n",
    "                     title = 'Proportion of each rating category by salt')"
   ]
  },
  {
   "cell_type": "code",
   "execution_count": null,
   "id": "9d47bc83",
   "metadata": {},
   "outputs": [],
   "source": [
    "ratingPercentagePlot(data = choc, x = 'salt', xlabel = 'Salt')"
   ]
  },
  {
   "cell_type": "markdown",
   "id": "2c6d9b7f",
   "metadata": {},
   "source": [
    "Sugar"
   ]
  },
  {
   "cell_type": "code",
   "execution_count": null,
   "id": "c6a5d88a",
   "metadata": {},
   "outputs": [],
   "source": [
    "ratingProportionPlot(data = choc, y = 'sugar', ylabel = 'sugar',\n",
    "                     title = 'Proportion of each rating category by sugar')"
   ]
  },
  {
   "cell_type": "code",
   "execution_count": null,
   "id": "884aa861",
   "metadata": {},
   "outputs": [],
   "source": [
    "ratingPercentagePlot(data = choc, x = 'sugar', xlabel = 'Sugar')"
   ]
  },
  {
   "cell_type": "markdown",
   "id": "ecfba2c0",
   "metadata": {},
   "source": [
    "Sweetener"
   ]
  },
  {
   "cell_type": "code",
   "execution_count": null,
   "id": "ca6a139f",
   "metadata": {},
   "outputs": [],
   "source": [
    "ratingProportionPlot(data = choc, y = 'sweetener_without_sugar', ylabel = 'sweetener',\n",
    "                     title = 'Proportion of each rating category by sweetener')"
   ]
  },
  {
   "cell_type": "code",
   "execution_count": null,
   "id": "8e448fc3",
   "metadata": {},
   "outputs": [],
   "source": [
    "ratingPercentagePlot(data = choc, x = 'sweetener_without_sugar', xlabel = 'Sweetener w/o Sugar')"
   ]
  },
  {
   "cell_type": "markdown",
   "id": "9350ed16",
   "metadata": {},
   "source": [
    "Correlation between Sugar and Sweetener without Sugar"
   ]
  },
  {
   "cell_type": "code",
   "execution_count": null,
   "id": "d9b8e8c0",
   "metadata": {},
   "outputs": [],
   "source": [
    "sugars = pd.DataFrame(choc[['sugar', 'sweetener_without_sugar']]).astype('int')\n",
    "sb.heatmap(sugars.corr(), annot=True)\n",
    "plt.show()"
   ]
  },
  {
   "cell_type": "markdown",
   "id": "5ea1c0ae",
   "metadata": {},
   "source": [
    "We observe that \"sugar\" and \"sweetener_without_sugar\" have perfect negative correlation with each other, therefore we can drop one column.\n",
    "Interesting note: All dark chocolate in our dataset requires some forms of sweetener in it."
   ]
  },
  {
   "cell_type": "code",
   "execution_count": null,
   "id": "dd760f76",
   "metadata": {},
   "outputs": [],
   "source": [
    "choc = choc.drop(columns='sweetener_without_sugar')"
   ]
  },
  {
   "cell_type": "markdown",
   "id": "c0b559eb",
   "metadata": {},
   "source": [
    "## Frequency of the number of ingredients"
   ]
  },
  {
   "cell_type": "code",
   "execution_count": null,
   "id": "b24718c0",
   "metadata": {},
   "outputs": [],
   "source": [
    "sb.catplot(x = 'counts_of_ingredients', data = choc, kind = 'count')"
   ]
  },
  {
   "cell_type": "markdown",
   "id": "65f65998",
   "metadata": {},
   "source": [
    "Most dark chocolate bars have between 2-5 ingredients, with chocolate bars having 5 ingredients being quite rare.\n",
    "Chocolate bars with all 6 ingredients are clear outliers, therefore we can remove it. This could be due to the fact that the columns 'sugar' and 'sweetener_without_sugar' are negatively correlated with each other."
   ]
  },
  {
   "cell_type": "code",
   "execution_count": null,
   "id": "cd4f5e91",
   "metadata": {},
   "outputs": [],
   "source": [
    "choc = choc[choc['counts_of_ingredients'] <= 5]\n",
    "sb.catplot(x = 'counts_of_ingredients', data = choc, kind = 'count')"
   ]
  },
  {
   "cell_type": "markdown",
   "id": "9f7d0a14",
   "metadata": {},
   "source": [
    "## Number of ingredients and the rating proportions"
   ]
  },
  {
   "cell_type": "code",
   "execution_count": null,
   "id": "24a2c613",
   "metadata": {},
   "outputs": [],
   "source": [
    "ratingProportionPlot(data = choc, y = 'counts_of_ingredients', ylabel = 'Number of ingredients',\n",
    "                     title = 'Proportion of each rating category by number of ingredients')"
   ]
  },
  {
   "cell_type": "code",
   "execution_count": null,
   "id": "dae8c2b1",
   "metadata": {},
   "outputs": [],
   "source": [
    "ratingPercentagePlot(data = choc, x = 'counts_of_ingredients', xlabel = 'Number of Ingredients',\n",
    "                     height = 7, aspect = 1.4)"
   ]
  },
  {
   "cell_type": "markdown",
   "id": "8562d155",
   "metadata": {},
   "source": [
    "## Number of taste"
   ]
  },
  {
   "cell_type": "code",
   "execution_count": null,
   "id": "9570c3f9",
   "metadata": {},
   "outputs": [],
   "source": [
    "sb.catplot(x = 'number_of_taste', data = choc, kind = 'count')"
   ]
  },
  {
   "cell_type": "code",
   "execution_count": null,
   "id": "621b47ab",
   "metadata": {},
   "outputs": [],
   "source": [
    "ratingProportionPlot(data = choc, y = 'number_of_taste', ylabel = 'Number of Taste')"
   ]
  },
  {
   "cell_type": "code",
   "execution_count": null,
   "id": "39e182df",
   "metadata": {},
   "outputs": [],
   "source": [
    "ratingPercentagePlot(data = choc, x = 'number_of_taste', xlabel = 'Number of Taste',\n",
    "                     height = 7, aspect = 1.4, ylim = 60)"
   ]
  },
  {
   "cell_type": "markdown",
   "id": "e971b1b2",
   "metadata": {},
   "source": [
    "## Correlation between different ingredients and rating category"
   ]
  },
  {
   "cell_type": "code",
   "execution_count": null,
   "id": "3c552379",
   "metadata": {},
   "outputs": [],
   "source": [
    "fig = plt.figure(figsize=(10,10))\n",
    "ingredients = pd.DataFrame(choc[['cocoa_butter', 'vanilla', 'lecithin', 'salt',\n",
    "                                 'sugar', 'rating_category']]).astype('int')\n",
    "sb.heatmap(ingredients.corr(), annot=True, cmap='PuBu')\n",
    "plt.show()"
   ]
  },
  {
   "cell_type": "markdown",
   "id": "aedf7830",
   "metadata": {},
   "source": [
    "## Further investigation using the Chi-squared Test"
   ]
  },
  {
   "cell_type": "markdown",
   "id": "c9f66d4d",
   "metadata": {},
   "source": [
    "Importing the library"
   ]
  },
  {
   "cell_type": "code",
   "execution_count": null,
   "id": "aafbaa3d",
   "metadata": {},
   "outputs": [],
   "source": [
    "from scipy.stats import chi2_contingency"
   ]
  },
  {
   "cell_type": "code",
   "execution_count": null,
   "id": "60ad1b56",
   "metadata": {},
   "outputs": [],
   "source": [
    "names = []\n",
    "pvalues = []\n",
    "\n",
    "for i in ingredients.columns:\n",
    "    if i == 'rating_category':\n",
    "        continue\n",
    "    chi2, p, dof, expected = chi2_contingency(pd.crosstab(choc[i], choc['rating_category']))\n",
    "    names.append(i)\n",
    "    pvalues.append(p)\n",
    "\n",
    "pvalues_df = pd.DataFrame({'ingredients':names, 'p-value':pvalues})\n",
    "pvalues_df"
   ]
  },
  {
   "cell_type": "code",
   "execution_count": null,
   "id": "7d2a5148",
   "metadata": {},
   "outputs": [],
   "source": [
    "sb.barplot(x = 'ingredients', y = 'p-value', data = pvalues_df)\n",
    "plt.show()"
   ]
  },
  {
   "cell_type": "markdown",
   "id": "853a0d1c",
   "metadata": {},
   "source": [
    "Only 'vanilla' and 'sugar' have small enough p values, that shows signifcant statistical relevance for 'rating_category'"
   ]
  },
  {
   "cell_type": "markdown",
   "id": "08dad09c",
   "metadata": {},
   "source": [
    "## Relationship between Country of Bean Origin and Proportion of Rating Category"
   ]
  },
  {
   "cell_type": "markdown",
   "id": "b3acb0c7",
   "metadata": {},
   "source": [
    "Extracting countries with at least 40 data points for visualization"
   ]
  },
  {
   "cell_type": "code",
   "execution_count": null,
   "id": "f46e5030",
   "metadata": {},
   "outputs": [],
   "source": [
    "beanOriginCounts = pd.DataFrame(choc['country_of_bean_origin'].value_counts())\n",
    "beanOriginTop   = beanOriginCounts[beanOriginCounts['country_of_bean_origin'] > 40].reset_index()\n",
    "beanOriginTop"
   ]
  },
  {
   "cell_type": "code",
   "execution_count": null,
   "id": "2bc47c6b",
   "metadata": {},
   "outputs": [],
   "source": [
    "j = 0\n",
    "for country in beanOriginTop['index']:\n",
    "    temp = choc[choc['country_of_bean_origin'] == country].copy()\n",
    "    temp.insert(0, column = '', value = [country]*len(temp))\n",
    "    temp = pd.crosstab(index = temp[''],\n",
    "                      columns = choc['rating_category'],\n",
    "                      normalize = 'index')\n",
    "    if j == 0:\n",
    "        bean = temp.copy()\n",
    "        j += 1\n",
    "    else:\n",
    "        bean = pd.concat([bean, temp], axis = 0)\n",
    "\n",
    "bean = bean[['2', '1', '0']]\n",
    "bean = bean.sort_values('2')\n",
    "\n",
    "bean.plot(kind = 'barh', stacked = True, figsize = (15,7))\n",
    "plt.show()"
   ]
  },
  {
   "cell_type": "markdown",
   "id": "15579ef5",
   "metadata": {},
   "source": [
    "This time we observe quite a clear impact on rating category for each bean origins"
   ]
  },
  {
   "cell_type": "markdown",
   "id": "6b4fc538",
   "metadata": {},
   "source": [
    "## Relationship between Taste and Proportion of Rating Category"
   ]
  },
  {
   "cell_type": "markdown",
   "id": "d4eb0f6c",
   "metadata": {},
   "source": [
    "Extracting tastes with at least 50 data points for visualization"
   ]
  },
  {
   "cell_type": "code",
   "execution_count": null,
   "id": "1de24aa3",
   "metadata": {},
   "outputs": [],
   "source": [
    "chocoTasteTop = chocoTaste[chocoTaste['count_of_taste'] >= 50]\n",
    "chocoTasteTop"
   ]
  },
  {
   "cell_type": "code",
   "execution_count": null,
   "id": "26dee213",
   "metadata": {},
   "outputs": [],
   "source": [
    "j = 0\n",
    "for taste in chocoTasteTop['taste']:\n",
    "    temp = choc[(choc['first_taste'] == taste) |\n",
    "                (choc['second_taste'] == taste) |\n",
    "                (choc['third_taste'] == taste) |\n",
    "                (choc['fourth_taste'] == taste)].copy()\n",
    "    temp.insert(0, column = '', value = [taste]*len(temp))\n",
    "    temp = pd.crosstab(index = temp[''],\n",
    "                       columns = choc['rating_category'],\n",
    "                       normalize = 'index')\n",
    "    if j == 0:\n",
    "        tastes = temp.copy()\n",
    "        j = j+1\n",
    "    else:\n",
    "        tastes = pd.concat([tastes, temp], axis = 0)\n",
    "\n",
    "tastes = tastes[['2', '1', '0']]\n",
    "tastes = tastes.sort_values('2')\n",
    "\n",
    "tastes.plot(kind = 'barh', stacked = True, figsize = (15,15))\n",
    "plt.show()"
   ]
  },
  {
   "cell_type": "markdown",
   "id": "c33a9d6b",
   "metadata": {},
   "source": [
    "Once again, we observe a clear impact on rating category based on its described taste and feeling"
   ]
  },
  {
   "cell_type": "markdown",
   "id": "d85f8ae9",
   "metadata": {},
   "source": [
    "## Examining the relationships between different groups of variables"
   ]
  },
  {
   "cell_type": "markdown",
   "id": "47f1bf0a",
   "metadata": {},
   "source": [
    "Between cocoa_percent, counts_of_ingredients and rating_category"
   ]
  },
  {
   "cell_type": "code",
   "execution_count": null,
   "id": "e7144d8e",
   "metadata": {},
   "outputs": [],
   "source": [
    "f = plt.figure(figsize=(15,10))\n",
    "sb.boxplot(y = \"cocoa_percent\", x = \"rating_category\", data = choc, hue = \"counts_of_ingredients\", orient = \"v\")"
   ]
  },
  {
   "cell_type": "markdown",
   "id": "27b0cd1c",
   "metadata": {},
   "source": [
    "Some combinations of counts_of_ingredients and cocoa_percent are more favorable for higher ratings. Such as cocoa_percent in the 66-70% range with 5 ingredients"
   ]
  },
  {
   "cell_type": "markdown",
   "id": "59e0a7f4",
   "metadata": {},
   "source": [
    "Between cocoa_percent, number_of_taste and rating_category"
   ]
  },
  {
   "cell_type": "code",
   "execution_count": null,
   "id": "b2d5d685",
   "metadata": {},
   "outputs": [],
   "source": [
    "f = plt.figure(figsize=(15,10))\n",
    "sb.boxplot(y = \"cocoa_percent\", x = \"rating_category\", data = choc, hue = \"number_of_taste\", orient = \"v\")"
   ]
  },
  {
   "cell_type": "markdown",
   "id": "474d4206",
   "metadata": {},
   "source": [
    "Investigating different rating categories"
   ]
  },
  {
   "cell_type": "code",
   "execution_count": null,
   "id": "d6ec3d39",
   "metadata": {},
   "outputs": [],
   "source": [
    "high = choc[choc[\"rating_category\"]==\"2\"]\n",
    "mid = choc[choc[\"rating_category\"]==\"1\"]\n",
    "low = choc[choc[\"rating_category\"]==\"0\"]"
   ]
  },
  {
   "cell_type": "code",
   "execution_count": null,
   "id": "d7e911a3",
   "metadata": {},
   "outputs": [],
   "source": [
    "new = high.groupby(high['number_of_taste'])['counts_of_ingredients'].value_counts()\n",
    "new = new.rename('Count').reset_index()\n",
    "new = new.rename(columns = {'number_of_taste':'Number of Taste'})\n",
    "\n",
    "g = sb.catplot(x='Number of Taste', y='Count', hue='counts_of_ingredients', kind='bar', data=new,\n",
    "               height=7, aspect=1.4)\n",
    "\n",
    "for p in g.ax.patches:\n",
    "    if p.get_height() != p.get_height():\n",
    "        txt = '          0'\n",
    "    else:\n",
    "        txt = '          '+str(int(p.get_height()))\n",
    "    txt_x = p.get_x()\n",
    "    txt_y = p.get_height()\n",
    "    g.ax.text(txt_x,txt_y,txt,ha='center')\n",
    "\n",
    "plt.show()"
   ]
  },
  {
   "cell_type": "code",
   "execution_count": null,
   "id": "ce104b2d",
   "metadata": {},
   "outputs": [],
   "source": [
    "new = mid.groupby(mid['number_of_taste'])['counts_of_ingredients'].value_counts()\n",
    "new = new.rename('Count').reset_index()\n",
    "new = new.rename(columns = {'number_of_taste':'Number of Taste'})\n",
    "\n",
    "g = sb.catplot(x='Number of Taste', y='Count', hue='counts_of_ingredients', kind='bar', data=new,\n",
    "               height=7, aspect=1.4)\n",
    "\n",
    "for p in g.ax.patches:\n",
    "    txt = '          '+str(int(p.get_height()))\n",
    "    txt_x = p.get_x()\n",
    "    txt_y = p.get_height()\n",
    "    g.ax.text(txt_x,txt_y,txt,ha='center')\n",
    "\n",
    "plt.show()"
   ]
  },
  {
   "cell_type": "code",
   "execution_count": null,
   "id": "e2dcc054",
   "metadata": {},
   "outputs": [],
   "source": [
    "new = low.groupby(low['number_of_taste'])['counts_of_ingredients'].value_counts()\n",
    "new = new.rename('Count').reset_index()\n",
    "new = new.rename(columns = {'number_of_taste':'Number of Taste'})\n",
    "\n",
    "g = sb.catplot(x='Number of Taste', y='Count', hue='counts_of_ingredients', kind='bar', data=new,\n",
    "               height=7, aspect=1.4)\n",
    "\n",
    "for p in g.ax.patches:\n",
    "    txt = '          '+str(int(p.get_height()))\n",
    "    txt_x = p.get_x()\n",
    "    txt_y = p.get_height()\n",
    "    g.ax.text(txt_x,txt_y,txt,ha='center')\n",
    "\n",
    "plt.show()"
   ]
  }
 ],
 "metadata": {
  "kernelspec": {
   "display_name": "Python 3",
   "language": "python",
   "name": "python3"
  },
  "language_info": {
   "codemirror_mode": {
    "name": "ipython",
    "version": 3
   },
   "file_extension": ".py",
   "mimetype": "text/x-python",
   "name": "python",
   "nbconvert_exporter": "python",
   "pygments_lexer": "ipython3",
   "version": "3.8.8"
  }
 },
 "nbformat": 4,
 "nbformat_minor": 5
}
