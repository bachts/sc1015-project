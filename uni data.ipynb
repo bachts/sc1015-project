{
 "cells": [
  {
   "cell_type": "code",
   "execution_count": 1,
   "id": "bd547fb4",
   "metadata": {},
   "outputs": [],
   "source": [
    "import pandas as pd"
   ]
  },
  {
   "cell_type": "code",
   "execution_count": 4,
   "id": "5a13a796",
   "metadata": {},
   "outputs": [],
   "source": [
    "def get_entries():\n",
    "    import requests\n",
    "\n",
    "    url = \"https://www.topuniversities.com/sites/default/files/qs-rankings-data/en/3740566_indicators.txt?1637817445?v=1637823042256\"\n",
    "\n",
    "    headers = {\n",
    "        \"user-agent\": \"Mozilla/5.0\",\n",
    "        \"x-requested-with\": \"XMLHttpRequest\"\n",
    "    }\n",
    "\n",
    "    response = requests.get(url, headers=headers)\n",
    "    response.raise_for_status()\n",
    "\n",
    "    def make_pretty(entry):\n",
    "        from bs4 import BeautifulSoup as Soup\n",
    "        return {\n",
    "            \"name\": Soup(entry[\"uni\"], \"html.parser\").select_one(\".uni-link\").get_text(strip=True),\n",
    "            \"loc\": entry[\"location\"],\n",
    "            \"rank\": entry[\"overall_rank\"],\n",
    "            \"academic_rep\": Soup(entry[\"ind_76\"], \"html.parser\").select_one(\".td-wrap-in\").get_text(strip=True),\n",
    "            \"employer_rep\": Soup(entry[\"ind_77\"], \"html.parser\").select_one(\".td-wrap-in\").get_text(strip=True),\n",
    "    \n",
    "        }\n",
    "\n",
    "    yield from map(make_pretty, response.json()[\"data\"])\n",
    "data = get_entries()"
   ]
  },
  {
   "cell_type": "code",
   "execution_count": 7,
   "id": "4973e5f8",
   "metadata": {},
   "outputs": [
    {
     "name": "stdout",
     "output_type": "stream",
     "text": [
      "<class 'generator'>\n"
     ]
    }
   ],
   "source": [
    "print(type(data))\n",
    "df = pd.DataFrame(data)"
   ]
  },
  {
   "cell_type": "code",
   "execution_count": 21,
   "id": "a857f1b8",
   "metadata": {},
   "outputs": [
    {
     "data": {
      "text/plain": [
       "count              1299\n",
       "unique               97\n",
       "top       United States\n",
       "freq                177\n",
       "Name: loc, dtype: object"
      ]
     },
     "execution_count": 21,
     "metadata": {},
     "output_type": "execute_result"
    }
   ],
   "source": [
    "df[\"loc\"].describe()"
   ]
  },
  {
   "cell_type": "code",
   "execution_count": 22,
   "id": "2f5ed713",
   "metadata": {},
   "outputs": [],
   "source": [
    "df.to_csv(\"uni_data.csv\")"
   ]
  },
  {
   "cell_type": "code",
   "execution_count": null,
   "id": "f997df49",
   "metadata": {},
   "outputs": [],
   "source": []
  }
 ],
 "metadata": {
  "kernelspec": {
   "display_name": "Python 3",
   "language": "python",
   "name": "python3"
  },
  "language_info": {
   "codemirror_mode": {
    "name": "ipython",
    "version": 3
   },
   "file_extension": ".py",
   "mimetype": "text/x-python",
   "name": "python",
   "nbconvert_exporter": "python",
   "pygments_lexer": "ipython3",
   "version": "3.8.8"
  }
 },
 "nbformat": 4,
 "nbformat_minor": 5
}
