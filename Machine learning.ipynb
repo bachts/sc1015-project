{
 "cells": [
  {
   "cell_type": "markdown",
   "id": "af7b5d81",
   "metadata": {},
   "source": [
    "Importing the necessary libraries and dataset"
   ]
  },
  {
   "cell_type": "code",
   "execution_count": 2,
   "id": "3f415884",
   "metadata": {},
   "outputs": [],
   "source": [
    "import numpy as np\n",
    "import pandas as pd\n",
    "import seaborn as sb\n",
    "import matplotlib.pyplot as plt \n",
    "sb.set()"
   ]
  },
  {
   "cell_type": "code",
   "execution_count": 3,
   "id": "ab787f83",
   "metadata": {},
   "outputs": [],
   "source": [
    "choc = pd.read_csv('cleaned_chocolate.csv')"
   ]
  },
  {
   "cell_type": "markdown",
   "id": "6913e346",
   "metadata": {},
   "source": [
    "# One-hot encoding for categorical variables"
   ]
  },
  {
   "cell_type": "code",
   "execution_count": 4,
   "id": "bf61371b",
   "metadata": {},
   "outputs": [
    {
     "data": {
      "text/html": [
       "<div>\n",
       "<style scoped>\n",
       "    .dataframe tbody tr th:only-of-type {\n",
       "        vertical-align: middle;\n",
       "    }\n",
       "\n",
       "    .dataframe tbody tr th {\n",
       "        vertical-align: top;\n",
       "    }\n",
       "\n",
       "    .dataframe thead th {\n",
       "        text-align: right;\n",
       "    }\n",
       "</style>\n",
       "<table border=\"1\" class=\"dataframe\">\n",
       "  <thead>\n",
       "    <tr style=\"text-align: right;\">\n",
       "      <th></th>\n",
       "      <th>country_of_bean_origin_Australia</th>\n",
       "      <th>country_of_bean_origin_Belize</th>\n",
       "      <th>country_of_bean_origin_Blend</th>\n",
       "      <th>country_of_bean_origin_Bolivia</th>\n",
       "      <th>country_of_bean_origin_Bolvia</th>\n",
       "      <th>country_of_bean_origin_Brazil</th>\n",
       "      <th>country_of_bean_origin_Burma</th>\n",
       "      <th>country_of_bean_origin_Cameroon</th>\n",
       "      <th>country_of_bean_origin_Colombia</th>\n",
       "      <th>country_of_bean_origin_Congo</th>\n",
       "      <th>...</th>\n",
       "      <th>fourth_taste_wine</th>\n",
       "      <th>fourth_taste_woody</th>\n",
       "      <th>rating_category</th>\n",
       "      <th>cocoa_percent</th>\n",
       "      <th>counts_of_ingredients</th>\n",
       "      <th>number_of_taste</th>\n",
       "      <th>vanilla</th>\n",
       "      <th>lecithin</th>\n",
       "      <th>salt</th>\n",
       "      <th>sugar</th>\n",
       "    </tr>\n",
       "  </thead>\n",
       "  <tbody>\n",
       "    <tr>\n",
       "      <th>0</th>\n",
       "      <td>0</td>\n",
       "      <td>0</td>\n",
       "      <td>0</td>\n",
       "      <td>0</td>\n",
       "      <td>0</td>\n",
       "      <td>0</td>\n",
       "      <td>0</td>\n",
       "      <td>0</td>\n",
       "      <td>0</td>\n",
       "      <td>0</td>\n",
       "      <td>...</td>\n",
       "      <td>0</td>\n",
       "      <td>0</td>\n",
       "      <td>1</td>\n",
       "      <td>76.0</td>\n",
       "      <td>3</td>\n",
       "      <td>3</td>\n",
       "      <td>0</td>\n",
       "      <td>0</td>\n",
       "      <td>0</td>\n",
       "      <td>1</td>\n",
       "    </tr>\n",
       "    <tr>\n",
       "      <th>1</th>\n",
       "      <td>0</td>\n",
       "      <td>0</td>\n",
       "      <td>0</td>\n",
       "      <td>0</td>\n",
       "      <td>0</td>\n",
       "      <td>0</td>\n",
       "      <td>0</td>\n",
       "      <td>0</td>\n",
       "      <td>0</td>\n",
       "      <td>0</td>\n",
       "      <td>...</td>\n",
       "      <td>0</td>\n",
       "      <td>0</td>\n",
       "      <td>1</td>\n",
       "      <td>76.0</td>\n",
       "      <td>3</td>\n",
       "      <td>3</td>\n",
       "      <td>0</td>\n",
       "      <td>0</td>\n",
       "      <td>0</td>\n",
       "      <td>1</td>\n",
       "    </tr>\n",
       "    <tr>\n",
       "      <th>2</th>\n",
       "      <td>0</td>\n",
       "      <td>0</td>\n",
       "      <td>0</td>\n",
       "      <td>0</td>\n",
       "      <td>0</td>\n",
       "      <td>0</td>\n",
       "      <td>0</td>\n",
       "      <td>0</td>\n",
       "      <td>0</td>\n",
       "      <td>0</td>\n",
       "      <td>...</td>\n",
       "      <td>0</td>\n",
       "      <td>0</td>\n",
       "      <td>1</td>\n",
       "      <td>76.0</td>\n",
       "      <td>3</td>\n",
       "      <td>3</td>\n",
       "      <td>0</td>\n",
       "      <td>0</td>\n",
       "      <td>0</td>\n",
       "      <td>1</td>\n",
       "    </tr>\n",
       "    <tr>\n",
       "      <th>3</th>\n",
       "      <td>0</td>\n",
       "      <td>0</td>\n",
       "      <td>0</td>\n",
       "      <td>0</td>\n",
       "      <td>0</td>\n",
       "      <td>0</td>\n",
       "      <td>0</td>\n",
       "      <td>0</td>\n",
       "      <td>0</td>\n",
       "      <td>0</td>\n",
       "      <td>...</td>\n",
       "      <td>0</td>\n",
       "      <td>0</td>\n",
       "      <td>1</td>\n",
       "      <td>63.0</td>\n",
       "      <td>4</td>\n",
       "      <td>3</td>\n",
       "      <td>0</td>\n",
       "      <td>1</td>\n",
       "      <td>0</td>\n",
       "      <td>1</td>\n",
       "    </tr>\n",
       "    <tr>\n",
       "      <th>4</th>\n",
       "      <td>0</td>\n",
       "      <td>0</td>\n",
       "      <td>0</td>\n",
       "      <td>1</td>\n",
       "      <td>0</td>\n",
       "      <td>0</td>\n",
       "      <td>0</td>\n",
       "      <td>0</td>\n",
       "      <td>0</td>\n",
       "      <td>0</td>\n",
       "      <td>...</td>\n",
       "      <td>0</td>\n",
       "      <td>0</td>\n",
       "      <td>1</td>\n",
       "      <td>70.0</td>\n",
       "      <td>4</td>\n",
       "      <td>2</td>\n",
       "      <td>0</td>\n",
       "      <td>1</td>\n",
       "      <td>0</td>\n",
       "      <td>1</td>\n",
       "    </tr>\n",
       "    <tr>\n",
       "      <th>...</th>\n",
       "      <td>...</td>\n",
       "      <td>...</td>\n",
       "      <td>...</td>\n",
       "      <td>...</td>\n",
       "      <td>...</td>\n",
       "      <td>...</td>\n",
       "      <td>...</td>\n",
       "      <td>...</td>\n",
       "      <td>...</td>\n",
       "      <td>...</td>\n",
       "      <td>...</td>\n",
       "      <td>...</td>\n",
       "      <td>...</td>\n",
       "      <td>...</td>\n",
       "      <td>...</td>\n",
       "      <td>...</td>\n",
       "      <td>...</td>\n",
       "      <td>...</td>\n",
       "      <td>...</td>\n",
       "      <td>...</td>\n",
       "      <td>...</td>\n",
       "    </tr>\n",
       "    <tr>\n",
       "      <th>2219</th>\n",
       "      <td>0</td>\n",
       "      <td>0</td>\n",
       "      <td>1</td>\n",
       "      <td>0</td>\n",
       "      <td>0</td>\n",
       "      <td>0</td>\n",
       "      <td>0</td>\n",
       "      <td>0</td>\n",
       "      <td>0</td>\n",
       "      <td>0</td>\n",
       "      <td>...</td>\n",
       "      <td>0</td>\n",
       "      <td>0</td>\n",
       "      <td>0</td>\n",
       "      <td>80.0</td>\n",
       "      <td>4</td>\n",
       "      <td>3</td>\n",
       "      <td>0</td>\n",
       "      <td>0</td>\n",
       "      <td>1</td>\n",
       "      <td>0</td>\n",
       "    </tr>\n",
       "    <tr>\n",
       "      <th>2220</th>\n",
       "      <td>0</td>\n",
       "      <td>0</td>\n",
       "      <td>0</td>\n",
       "      <td>0</td>\n",
       "      <td>0</td>\n",
       "      <td>0</td>\n",
       "      <td>0</td>\n",
       "      <td>0</td>\n",
       "      <td>1</td>\n",
       "      <td>0</td>\n",
       "      <td>...</td>\n",
       "      <td>0</td>\n",
       "      <td>0</td>\n",
       "      <td>1</td>\n",
       "      <td>75.0</td>\n",
       "      <td>3</td>\n",
       "      <td>2</td>\n",
       "      <td>0</td>\n",
       "      <td>0</td>\n",
       "      <td>0</td>\n",
       "      <td>1</td>\n",
       "    </tr>\n",
       "    <tr>\n",
       "      <th>2221</th>\n",
       "      <td>0</td>\n",
       "      <td>1</td>\n",
       "      <td>0</td>\n",
       "      <td>0</td>\n",
       "      <td>0</td>\n",
       "      <td>0</td>\n",
       "      <td>0</td>\n",
       "      <td>0</td>\n",
       "      <td>0</td>\n",
       "      <td>0</td>\n",
       "      <td>...</td>\n",
       "      <td>0</td>\n",
       "      <td>0</td>\n",
       "      <td>1</td>\n",
       "      <td>72.0</td>\n",
       "      <td>3</td>\n",
       "      <td>3</td>\n",
       "      <td>0</td>\n",
       "      <td>0</td>\n",
       "      <td>0</td>\n",
       "      <td>1</td>\n",
       "    </tr>\n",
       "    <tr>\n",
       "      <th>2222</th>\n",
       "      <td>0</td>\n",
       "      <td>0</td>\n",
       "      <td>0</td>\n",
       "      <td>0</td>\n",
       "      <td>0</td>\n",
       "      <td>0</td>\n",
       "      <td>0</td>\n",
       "      <td>0</td>\n",
       "      <td>0</td>\n",
       "      <td>1</td>\n",
       "      <td>...</td>\n",
       "      <td>0</td>\n",
       "      <td>0</td>\n",
       "      <td>1</td>\n",
       "      <td>70.0</td>\n",
       "      <td>3</td>\n",
       "      <td>3</td>\n",
       "      <td>0</td>\n",
       "      <td>0</td>\n",
       "      <td>0</td>\n",
       "      <td>1</td>\n",
       "    </tr>\n",
       "    <tr>\n",
       "      <th>2223</th>\n",
       "      <td>0</td>\n",
       "      <td>0</td>\n",
       "      <td>1</td>\n",
       "      <td>0</td>\n",
       "      <td>0</td>\n",
       "      <td>0</td>\n",
       "      <td>0</td>\n",
       "      <td>0</td>\n",
       "      <td>0</td>\n",
       "      <td>0</td>\n",
       "      <td>...</td>\n",
       "      <td>0</td>\n",
       "      <td>0</td>\n",
       "      <td>0</td>\n",
       "      <td>75.0</td>\n",
       "      <td>3</td>\n",
       "      <td>3</td>\n",
       "      <td>0</td>\n",
       "      <td>0</td>\n",
       "      <td>0</td>\n",
       "      <td>1</td>\n",
       "    </tr>\n",
       "  </tbody>\n",
       "</table>\n",
       "<p>2224 rows × 1428 columns</p>\n",
       "</div>"
      ],
      "text/plain": [
       "      country_of_bean_origin_Australia  country_of_bean_origin_Belize  \\\n",
       "0                                    0                              0   \n",
       "1                                    0                              0   \n",
       "2                                    0                              0   \n",
       "3                                    0                              0   \n",
       "4                                    0                              0   \n",
       "...                                ...                            ...   \n",
       "2219                                 0                              0   \n",
       "2220                                 0                              0   \n",
       "2221                                 0                              1   \n",
       "2222                                 0                              0   \n",
       "2223                                 0                              0   \n",
       "\n",
       "      country_of_bean_origin_Blend  country_of_bean_origin_Bolivia  \\\n",
       "0                                0                               0   \n",
       "1                                0                               0   \n",
       "2                                0                               0   \n",
       "3                                0                               0   \n",
       "4                                0                               1   \n",
       "...                            ...                             ...   \n",
       "2219                             1                               0   \n",
       "2220                             0                               0   \n",
       "2221                             0                               0   \n",
       "2222                             0                               0   \n",
       "2223                             1                               0   \n",
       "\n",
       "      country_of_bean_origin_Bolvia  country_of_bean_origin_Brazil  \\\n",
       "0                                 0                              0   \n",
       "1                                 0                              0   \n",
       "2                                 0                              0   \n",
       "3                                 0                              0   \n",
       "4                                 0                              0   \n",
       "...                             ...                            ...   \n",
       "2219                              0                              0   \n",
       "2220                              0                              0   \n",
       "2221                              0                              0   \n",
       "2222                              0                              0   \n",
       "2223                              0                              0   \n",
       "\n",
       "      country_of_bean_origin_Burma  country_of_bean_origin_Cameroon  \\\n",
       "0                                0                                0   \n",
       "1                                0                                0   \n",
       "2                                0                                0   \n",
       "3                                0                                0   \n",
       "4                                0                                0   \n",
       "...                            ...                              ...   \n",
       "2219                             0                                0   \n",
       "2220                             0                                0   \n",
       "2221                             0                                0   \n",
       "2222                             0                                0   \n",
       "2223                             0                                0   \n",
       "\n",
       "      country_of_bean_origin_Colombia  country_of_bean_origin_Congo  ...  \\\n",
       "0                                   0                             0  ...   \n",
       "1                                   0                             0  ...   \n",
       "2                                   0                             0  ...   \n",
       "3                                   0                             0  ...   \n",
       "4                                   0                             0  ...   \n",
       "...                               ...                           ...  ...   \n",
       "2219                                0                             0  ...   \n",
       "2220                                1                             0  ...   \n",
       "2221                                0                             0  ...   \n",
       "2222                                0                             1  ...   \n",
       "2223                                0                             0  ...   \n",
       "\n",
       "      fourth_taste_wine  fourth_taste_woody  rating_category  cocoa_percent  \\\n",
       "0                     0                   0                1           76.0   \n",
       "1                     0                   0                1           76.0   \n",
       "2                     0                   0                1           76.0   \n",
       "3                     0                   0                1           63.0   \n",
       "4                     0                   0                1           70.0   \n",
       "...                 ...                 ...              ...            ...   \n",
       "2219                  0                   0                0           80.0   \n",
       "2220                  0                   0                1           75.0   \n",
       "2221                  0                   0                1           72.0   \n",
       "2222                  0                   0                1           70.0   \n",
       "2223                  0                   0                0           75.0   \n",
       "\n",
       "      counts_of_ingredients  number_of_taste  vanilla  lecithin  salt  sugar  \n",
       "0                         3                3        0         0     0      1  \n",
       "1                         3                3        0         0     0      1  \n",
       "2                         3                3        0         0     0      1  \n",
       "3                         4                3        0         1     0      1  \n",
       "4                         4                2        0         1     0      1  \n",
       "...                     ...              ...      ...       ...   ...    ...  \n",
       "2219                      4                3        0         0     1      0  \n",
       "2220                      3                2        0         0     0      1  \n",
       "2221                      3                3        0         0     0      1  \n",
       "2222                      3                3        0         0     0      1  \n",
       "2223                      3                3        0         0     0      1  \n",
       "\n",
       "[2224 rows x 1428 columns]"
      ]
     },
     "execution_count": 4,
     "metadata": {},
     "output_type": "execute_result"
    }
   ],
   "source": [
    "# one hot encoding\n",
    "choc_ohe = choc[['country_of_bean_origin',\n",
    "                 'first_taste', 'second_taste', 'third_taste', 'fourth_taste']]\n",
    "choc_ohe = pd.get_dummies(data = choc_ohe)\n",
    "\n",
    "# extracting rest of the predictors\n",
    "choc_num = choc[['cocoa_percent', 'counts_of_ingredients', 'number_of_taste',\n",
    "                     'vanilla', 'lecithin', 'salt', 'sugar']]\n",
    "\n",
    "# extracting response\n",
    "choc_response = choc['rating_category']\n",
    "\n",
    "# combining predictors and response\n",
    "choc_ohe = pd.concat([choc_ohe, choc_response, choc_num], sort = False, axis = 1)\n",
    "choc_ohe"
   ]
  },
  {
   "cell_type": "markdown",
   "id": "9118ed2c",
   "metadata": {},
   "source": [
    "For our models, we are going to use Stratified K Fold cross validation to evaluate the model, as well as calculating its accuracy rate on a training and testing data set"
   ]
  },
  {
   "cell_type": "code",
   "execution_count": 5,
   "id": "d8556a75",
   "metadata": {},
   "outputs": [],
   "source": [
    "from sklearn.model_selection import RepeatedStratifiedKFold\n",
    "from sklearn.model_selection import cross_validate\n",
    "from sklearn.model_selection import train_test_split"
   ]
  },
  {
   "cell_type": "markdown",
   "id": "6bf881f4",
   "metadata": {},
   "source": [
    "Extract response and predictor variables, and split train and test set"
   ]
  },
  {
   "cell_type": "code",
   "execution_count": 6,
   "id": "697f0c34",
   "metadata": {},
   "outputs": [],
   "source": [
    "y1 = pd.DataFrame(choc_ohe['rating_category'])\n",
    "X1 = pd.DataFrame(choc_ohe.drop('rating_category', axis = 1))\n",
    "X1_train, X1_test, y1_train, y1_test = train_test_split(X1, y1, test_size = 0.2, stratify = y1)"
   ]
  },
  {
   "cell_type": "markdown",
   "id": "d71c725a",
   "metadata": {},
   "source": [
    "# Classification tree"
   ]
  },
  {
   "cell_type": "markdown",
   "id": "c05014f1",
   "metadata": {},
   "source": [
    "We start off with a very simple model, a decision tree classifier"
   ]
  },
  {
   "cell_type": "code",
   "execution_count": 7,
   "id": "cc9db588",
   "metadata": {},
   "outputs": [],
   "source": [
    "from sklearn.tree import DecisionTreeClassifier\n",
    "from sklearn.model_selection import train_test_split\n",
    "from sklearn.metrics import confusion_matrix\n",
    "\n",
    "# Extract Response and Predictors"
   ]
  },
  {
   "cell_type": "code",
   "execution_count": 8,
   "id": "ab4aa915",
   "metadata": {},
   "outputs": [],
   "source": [
    "from sklearn.metrics import make_scorer, accuracy_score, precision_score, recall_score, f1_score\n",
    "\n",
    "scoring = {'accuracy' : make_scorer(accuracy_score), \n",
    "           'precision' : make_scorer(precision_score),\n",
    "           'recall' : make_scorer(recall_score), \n",
    "           'f1_score' : make_scorer(f1_score)}"
   ]
  },
  {
   "cell_type": "markdown",
   "id": "6174ce00",
   "metadata": {},
   "source": [
    "Using stratified K fold cross validation to evaluate the model"
   ]
  },
  {
   "cell_type": "code",
   "execution_count": 9,
   "id": "679eef7e",
   "metadata": {},
   "outputs": [
    {
     "name": "stdout",
     "output_type": "stream",
     "text": [
      "accuracy: 0.628 (0.022)\n",
      "precison: 0.649 (0.019)\n",
      "recall: 0.736 (0.036)\n",
      "f1 score: 0.689 (0.020)\n"
     ]
    }
   ],
   "source": [
    "dectree = DecisionTreeClassifier(max_depth = 40) #Give good parameters\n",
    "cv = RepeatedStratifiedKFold(n_splits=5, n_repeats=3, random_state=1)\n",
    "n_scores = cross_validate(dectree, X1, y1, scoring=scoring, cv=cv, n_jobs=-1, error_score='raise')\n",
    "#print(n_scores)\n",
    "print('accuracy: %.3f (%.3f)' % (np.mean(n_scores[\"test_accuracy\"]), np.std(n_scores[\"test_accuracy\"])))\n",
    "print('precison: %.3f (%.3f)' % (np.mean(n_scores[\"test_precision\"]), np.std(n_scores[\"test_precision\"])))\n",
    "print('recall: %.3f (%.3f)' % (np.mean(n_scores[\"test_recall\"]), np.std(n_scores[\"test_recall\"])))\n",
    "print('f1 score: %.3f (%.3f)' % (np.mean(n_scores[\"test_f1_score\"]), np.std(n_scores[\"test_f1_score\"])))"
   ]
  },
  {
   "cell_type": "markdown",
   "id": "284c8a1f",
   "metadata": {},
   "source": [
    "Test the model on a train and test data set"
   ]
  },
  {
   "cell_type": "code",
   "execution_count": 10,
   "id": "956b4e16",
   "metadata": {},
   "outputs": [
    {
     "name": "stdout",
     "output_type": "stream",
     "text": [
      "Goodness of Fit of Model \tTrain Dataset\n",
      "Classification Accuracy \t: 0.9184935356942102\n",
      "\n",
      "Goodness of Fit of Model \tTest Dataset\n",
      "Classification Accuracy \t: 0.6426966292134831\n",
      "\n",
      "True '1' rate Train :\t 0.991991991991992\n",
      "True '0' rate Train :\t 0.8243589743589743\n",
      "\n",
      "False '1' rate Train :\t 0.17564102564102563\n",
      "False '0' rate Train :\t 0.008008008008008008\n",
      "\n",
      "True '1' rate Test :\t 0.74\n",
      "True '0' rate Test :\t 0.517948717948718\n",
      "\n",
      "False '1' rate Test :\t 0.48205128205128206\n",
      "False '0' rate Test :\t 0.26\n",
      "\n"
     ]
    },
    {
     "data": {
      "text/plain": [
       "<AxesSubplot:>"
      ]
     },
     "execution_count": 10,
     "metadata": {},
     "output_type": "execute_result"
    },
    {
     "data": {
      "image/png": "[encoded data removed]",
      "text/plain": [
       "<Figure size 576x1152 with 4 Axes>"
      ]
     },
     "metadata": {},
     "output_type": "display_data"
    }
   ],
   "source": [
    "dectree.fit(X1_train, y1_train)                     # train the decision tree model\n",
    "\n",
    "# Predict Response corresponding to Predictors\n",
    "y1_train_pred = dectree.predict(X1_train)\n",
    "y1_test_pred = dectree.predict(X1_test)\n",
    "\n",
    "# Check the Goodness of Fit on Train Data\n",
    "print(\"Goodness of Fit of Model \\tTrain Dataset\")\n",
    "print(\"Classification Accuracy \\t:\", dectree.score(X1_train, y1_train))\n",
    "print()\n",
    "\n",
    "# Check the Goodness of Fit on Test Data\n",
    "print(\"Goodness of Fit of Model \\tTest Dataset\")\n",
    "print(\"Classification Accuracy \\t:\", dectree.score(X1_test, y1_test))\n",
    "print()\n",
    "\n",
    "trainData = confusion_matrix(y1_train, y1_train_pred)\n",
    "testData = confusion_matrix(y1_test, y1_test_pred)\n",
    "\n",
    "\n",
    "print(\"True '1' rate Train :\\t\", (trainData[1][1]/(trainData[1][0]+trainData[1][1])))\n",
    "print(\"True '0' rate Train :\\t\", (trainData[0][0]/(trainData[0][0]+trainData[0][1])))\n",
    "print()\n",
    "\n",
    "print(\"False '1' rate Train :\\t\", ((trainData[0][1])/((trainData[0][1]+trainData[0][0]))))\n",
    "print(\"False '0' rate Train :\\t\", ((trainData[1][0])/((trainData[1][0]+trainData[1][1]))))\n",
    "print()\n",
    "\n",
    "print(\"True '1' rate Test :\\t\", (testData[1][1]/(testData[1][0]+testData[1][1])))\n",
    "print(\"True '0' rate Test :\\t\", (testData[0][0]/(testData[0][0]+testData[0][1])))\n",
    "print()\n",
    "\n",
    "print(\"False '1' rate Test :\\t\", ((testData[0][1])/((testData[0][1]+testData[0][0]))))\n",
    "print(\"False '0' rate Test :\\t\", ((testData[1][0])/((testData[1][0]+testData[1][1]))))\n",
    "print()\n",
    "\n",
    "# Plot the Confusion Matrix for Train and Test\n",
    "f, axes = plt.subplots(2, 1, figsize=(8, 16))\n",
    "sb.heatmap(trainData,\n",
    "           annot = True, fmt=\".0f\", annot_kws={\"size\": 18}, ax = axes[0])\n",
    "sb.heatmap(testData, \n",
    "           annot = True, fmt=\".0f\", annot_kws={\"size\": 18}, ax = axes[1])"
   ]
  },
  {
   "cell_type": "markdown",
   "id": "8b3f9a46",
   "metadata": {},
   "source": [
    "Overall, the Classification Tree model did quite a bad job of predicting our chocolate rating, let's see how we can improve upon that accuracy."
   ]
  },
  {
   "cell_type": "markdown",
   "id": "d05ac4a7",
   "metadata": {},
   "source": [
    "# Random Forest"
   ]
  },
  {
   "cell_type": "markdown",
   "id": "c19abb37",
   "metadata": {},
   "source": [
    "Importing the libraries"
   ]
  },
  {
   "cell_type": "code",
   "execution_count": 11,
   "id": "9f2c9e8b",
   "metadata": {},
   "outputs": [],
   "source": [
    "from sklearn.ensemble import RandomForestClassifier"
   ]
  },
  {
   "cell_type": "code",
   "execution_count": 12,
   "id": "c74bfcf1",
   "metadata": {},
   "outputs": [],
   "source": [
    "# Extract Response and Predictors\n",
    "y = pd.DataFrame(choc_ohe['rating_category'])\n",
    "X = pd.DataFrame(choc_ohe.drop('rating_category', axis = 1))"
   ]
  },
  {
   "cell_type": "markdown",
   "id": "8d16a7e5",
   "metadata": {},
   "source": [
    "Using stratified K fold cross validation to evaluate the model"
   ]
  },
  {
   "cell_type": "code",
   "execution_count": 14,
   "id": "6f31a982",
   "metadata": {},
   "outputs": [
    {
     "name": "stdout",
     "output_type": "stream",
     "text": [
      "accuracy: 0.682 (0.025)\n",
      "precison: 0.678 (0.017)\n",
      "recall: 0.828 (0.034)\n",
      "f1 score: 0.745 (0.022)\n"
     ]
    }
   ],
   "source": [
    "rforest = RandomForestClassifier(n_estimators = 800, max_depth = 80)\n",
    "cv = RepeatedStratifiedKFold(n_splits=5, n_repeats=3, random_state=1)\n",
    "n_scores = cross_validate(rforest, X, y, scoring=scoring, cv=cv, n_jobs=-1, error_score='raise')\n",
    "#print(n_scores)\n",
    "print('accuracy: %.3f (%.3f)' % (np.mean(n_scores[\"test_accuracy\"]), np.std(n_scores[\"test_accuracy\"])))\n",
    "print('precison: %.3f (%.3f)' % (np.mean(n_scores[\"test_precision\"]), np.std(n_scores[\"test_precision\"])))\n",
    "print('recall: %.3f (%.3f)' % (np.mean(n_scores[\"test_recall\"]), np.std(n_scores[\"test_recall\"])))\n",
    "print('f1 score: %.3f (%.3f)' % (np.mean(n_scores[\"test_f1_score\"]), np.std(n_scores[\"test_f1_score\"])))"
   ]
  },
  {
   "cell_type": "markdown",
   "id": "bf19d284",
   "metadata": {},
   "source": [
    "Test the model on a train and test data set"
   ]
  },
  {
   "cell_type": "code",
   "execution_count": 15,
   "id": "60f23220",
   "metadata": {},
   "outputs": [
    {
     "name": "stdout",
     "output_type": "stream",
     "text": [
      "Train Data\n",
      "Accuracy  :\t 0.9938167509836987\n",
      "\n",
      "Test Data\n",
      "Accuracy  :\t 0.6943820224719102\n",
      "\n",
      "True '1' rate Train :\t 1.0\n",
      "True '0' rate Train :\t 0.985897435897436\n",
      "\n",
      "False '1' rate Train :\t 0.014102564102564103\n",
      "False '0' rate Train :\t 0.0\n",
      "\n",
      "True '1' rate Test :\t 0.788\n",
      "True '0' rate Test :\t 0.5743589743589743\n",
      "\n",
      "False '1' rate Test :\t 0.4256410256410256\n",
      "False '0' rate Test :\t 0.212\n",
      "\n"
     ]
    },
    {
     "data": {
      "image/png": "[encoded data removed]",
      "text/plain": [
       "<Figure size 1152x576 with 4 Axes>"
      ]
     },
     "metadata": {},
     "output_type": "display_data"
    }
   ],
   "source": [
    "# Split the Dataset into Train and Test\n",
    "#X_train, X_test, y_train, y_test = train_test_split(X, y, test_size = 0.2)\n",
    "\n",
    "# Fit Random Forest on Train Data\n",
    "rforest.fit(X1_train, y1_train.rating_category.ravel())\n",
    "\n",
    "# Print the Classification Accuracy\n",
    "print(\"Train Data\")\n",
    "print(\"Accuracy  :\\t\", rforest.score(X1_train, y1_train))\n",
    "print()\n",
    "\n",
    "print(\"Test Data\")\n",
    "print(\"Accuracy  :\\t\", rforest.score(X1_test, y1_test))\n",
    "print()\n",
    "\n",
    "# Predict the Response corresponding to Predictors\n",
    "y_train_pred = rforest.predict(X1_train)\n",
    "y_test_pred = rforest.predict(X1_test)\n",
    "\n",
    "# Print the Accuracy Measures from the Confusion Matrix\n",
    "cmTrain = confusion_matrix(y1_train, y_train_pred)\n",
    "cmTest = confusion_matrix(y1_test, y_test_pred)\n",
    "\n",
    "print(\"True '1' rate Train :\\t\", (cmTrain[1][1]/(cmTrain[1][0]+cmTrain[1][1])))\n",
    "print(\"True '0' rate Train :\\t\", (cmTrain[0][0]/(cmTrain[0][0]+cmTrain[0][1])))\n",
    "print()\n",
    "\n",
    "\n",
    "print(\"False '1' rate Train :\\t\", ((cmTrain[0][1])/((cmTrain[0][1]+cmTrain[0][0]))))\n",
    "print(\"False '0' rate Train :\\t\", ((cmTrain[1][0])/((cmTrain[1][0]+cmTrain[1][1]))))\n",
    "print()\n",
    "\n",
    "\n",
    "print(\"True '1' rate Test :\\t\", (cmTest[1][1]/(cmTest[1][0]+cmTest[1][1])))\n",
    "print(\"True '0' rate Test :\\t\", (cmTest[0][0]/(cmTest[0][0]+cmTest[0][1])))\n",
    "print()\n",
    "\n",
    "print(\"False '1' rate Test :\\t\", ((cmTest[0][1])/((+cmTest[0][1]+cmTest[0][0]))))\n",
    "print(\"False '0' rate Test :\\t\", ((cmTest[1][0])/((cmTest[1][0]+cmTest[1][1]))))\n",
    "print()\n",
    "\n",
    "# Plot the Confusion Matrix\n",
    "f, axes = plt.subplots(1, 2, figsize=(16, 8))\n",
    "sb.heatmap(cmTrain, annot = True, fmt=\".0f\", annot_kws={\"size\": 18}, ax = axes[0])\n",
    "sb.heatmap(cmTest, annot = True, fmt=\".0f\", annot_kws={\"size\": 18}, ax = axes[1])\n",
    "plt.show()"
   ]
  },
  {
   "cell_type": "markdown",
   "id": "5d709a34",
   "metadata": {},
   "source": [
    "We have good accuracy on the training data set, but horrible accuracy on the test dataset, this might be a case of overfitting.\n",
    "We predict too much '0' value as '1', which can mess with our prediction of a highly rated chocolate bar"
   ]
  },
  {
   "cell_type": "markdown",
   "id": "d7598e5d",
   "metadata": {},
   "source": [
    "# Upsampling the minority classes"
   ]
  },
  {
   "cell_type": "code",
   "execution_count": 16,
   "id": "0159a675",
   "metadata": {},
   "outputs": [
    {
     "data": {
      "text/plain": [
       "1    1249\n",
       "0     975\n",
       "Name: rating_category, dtype: int64"
      ]
     },
     "execution_count": 16,
     "metadata": {},
     "output_type": "execute_result"
    }
   ],
   "source": [
    "# See which category of rating is imbalanced\n",
    "choc_ohe.rating_category.value_counts()"
   ]
  },
  {
   "cell_type": "code",
   "execution_count": 17,
   "id": "7cc2beaa",
   "metadata": {},
   "outputs": [],
   "source": [
    "from imblearn.over_sampling import SVMSMOTE\n",
    "from imblearn.over_sampling import SMOTE\n",
    "from imblearn.over_sampling import BorderlineSMOTE\n",
    "from imblearn.over_sampling import KMeansSMOTE\n",
    "from imblearn.over_sampling import ADASYN\n",
    "from imblearn.under_sampling import RandomUnderSampler\n",
    "from imblearn.pipeline import Pipeline"
   ]
  },
  {
   "cell_type": "code",
   "execution_count": 18,
   "id": "c0c73b3c",
   "metadata": {},
   "outputs": [],
   "source": [
    "# Extract Response and Predictors\n",
    "y = pd.DataFrame(choc_ohe['rating_category'])\n",
    "X = pd.DataFrame(choc_ohe.drop('rating_category', axis = 1))"
   ]
  },
  {
   "cell_type": "code",
   "execution_count": null,
   "id": "db44a70a",
   "metadata": {},
   "outputs": [],
   "source": [
    "cat_cols = [col for col in X.columns if col not in X.describe().columns]"
   ]
  },
  {
   "cell_type": "code",
   "execution_count": 29,
   "id": "82f4a397",
   "metadata": {},
   "outputs": [],
   "source": [
    "rforest = RandomForestClassifier(n_estimators = 600, max_depth = 60)\n",
    "over = ADASYN()\n",
    "under = RandomUnderSampler(sampling_strategy=0.5) \n",
    "steps = [(\"smote\", over),(\"model\", rforest)]\n",
    "pipeline = Pipeline(steps = steps)"
   ]
  },
  {
   "cell_type": "markdown",
   "id": "6d74d80f",
   "metadata": {},
   "source": [
    "Experimented with different kind of SMOTE algorithms, including SMOTE, SVMSMOTE, BorderlineSMOTE, KMeansSMOTE and ADASYN.\n",
    "Found that ADASYN generally resulted in the best parameters"
   ]
  },
  {
   "cell_type": "markdown",
   "id": "7fe54f19",
   "metadata": {},
   "source": [
    "Using stratified K fold cross validation to evalute the model"
   ]
  },
  {
   "cell_type": "code",
   "execution_count": 30,
   "id": "7d8cdf7f",
   "metadata": {},
   "outputs": [
    {
     "name": "stdout",
     "output_type": "stream",
     "text": [
      "accuracy: 0.688 (0.024)\n",
      "precison: 0.695 (0.017)\n",
      "recall: 0.791 (0.033)\n",
      "f1 score: 0.740 (0.022)\n"
     ]
    }
   ],
   "source": [
    "cv = RepeatedStratifiedKFold(n_splits=5, n_repeats=3, random_state=1)\n",
    "n_scores = cross_validate(pipeline, X, y, scoring=scoring, cv=cv, n_jobs=-1, error_score='raise')\n",
    "print('accuracy: %.3f (%.3f)' % (np.mean(n_scores[\"test_accuracy\"]), np.std(n_scores[\"test_accuracy\"])))\n",
    "print('precison: %.3f (%.3f)' % (np.mean(n_scores[\"test_precision\"]), np.std(n_scores[\"test_precision\"])))\n",
    "print('recall: %.3f (%.3f)' % (np.mean(n_scores[\"test_recall\"]), np.std(n_scores[\"test_recall\"])))\n",
    "print('f1 score: %.3f (%.3f)' % (np.mean(n_scores[\"test_f1_score\"]), np.std(n_scores[\"test_f1_score\"])))"
   ]
  },
  {
   "cell_type": "markdown",
   "id": "67d7ee9a",
   "metadata": {},
   "source": [
    "Test the model on a train and test data set"
   ]
  },
  {
   "cell_type": "code",
   "execution_count": 21,
   "id": "24dec37f",
   "metadata": {},
   "outputs": [
    {
     "data": {
      "text/plain": [
       "rating_category\n",
       "1                  999\n",
       "0                  780\n",
       "dtype: int64"
      ]
     },
     "execution_count": 21,
     "metadata": {},
     "output_type": "execute_result"
    }
   ],
   "source": [
    "y1_train.value_counts()"
   ]
  },
  {
   "cell_type": "code",
   "execution_count": 22,
   "id": "698aa97e",
   "metadata": {},
   "outputs": [
    {
     "data": {
      "text/plain": [
       "rating_category\n",
       "1                  999\n",
       "0                  835\n",
       "dtype: int64"
      ]
     },
     "execution_count": 22,
     "metadata": {},
     "output_type": "execute_result"
    }
   ],
   "source": [
    "X1_train_res, y1_train_res = over.fit_resample(X1_train, y1_train)\n",
    "y1_train_res.value_counts()"
   ]
  },
  {
   "cell_type": "code",
   "execution_count": null,
   "id": "1ff6198e",
   "metadata": {},
   "outputs": [],
   "source": []
  },
  {
   "cell_type": "code",
   "execution_count": 31,
   "id": "0ca02d85",
   "metadata": {},
   "outputs": [
    {
     "name": "stdout",
     "output_type": "stream",
     "text": [
      "Train Data\n",
      "Accuracy  :\t 0.9634678298800436\n",
      "\n",
      "Test Data\n",
      "Accuracy  :\t 0.6943820224719102\n",
      "\n",
      "True '1' rate Train :\t 1.0\n",
      "True '0' rate Train :\t 0.9197604790419162\n",
      "\n",
      "False '1' rate Train :\t 0.08023952095808383\n",
      "False '0' rate Train :\t 0.0\n",
      "\n",
      "True '1' rate Test :\t 0.764\n",
      "True '0' rate Test :\t 0.6051282051282051\n",
      "\n",
      "False '1' rate Test :\t 0.39487179487179486\n",
      "False '0' rate Test :\t 0.236\n",
      "\n"
     ]
    },
    {
     "data": {
      "image/png": "[encoded data removed]",
      "text/plain": [
       "<Figure size 1152x576 with 4 Axes>"
      ]
     },
     "metadata": {},
     "output_type": "display_data"
    }
   ],
   "source": [
    "# Split the Dataset into Train and Test\n",
    "#X_train, X_test, y_train, y_test = train_test_split(X, y, test_size = 0.2)\n",
    "\n",
    "# Fit Random Forest on Train Data\n",
    "rforest.fit(X1_train_res, y1_train_res.rating_category.ravel())\n",
    "\n",
    "# Print the Classification Accuracy\n",
    "print(\"Train Data\")\n",
    "print(\"Accuracy  :\\t\", rforest.score(X1_train_res, y1_train_res))\n",
    "print()\n",
    "print(\"Test Data\")\n",
    "print(\"Accuracy  :\\t\", rforest.score(X1_test, y1_test))\n",
    "print()\n",
    "\n",
    "# Predict the Response corresponding to Predictors\n",
    "y_train_pred = rforest.predict(X1_train_res)\n",
    "y_test_pred = rforest.predict(X1_test)\n",
    "\n",
    "# Print the Accuracy Measures from the Confusion Matrix\n",
    "cmTrain = confusion_matrix(y1_train_res, y_train_pred)\n",
    "cmTest = confusion_matrix(y1_test, y_test_pred)\n",
    "\n",
    "print(\"True '1' rate Train :\\t\", (cmTrain[1][1]/(cmTrain[1][0]+cmTrain[1][1])))\n",
    "print(\"True '0' rate Train :\\t\", (cmTrain[0][0]/(cmTrain[0][0]+cmTrain[0][1])))\n",
    "print()\n",
    "\n",
    "print(\"False '1' rate Train :\\t\", ((cmTrain[0][1])/((cmTrain[0][1]+cmTrain[0][0]))))\n",
    "print(\"False '0' rate Train :\\t\", ((cmTrain[1][0])/((cmTrain[1][0]+cmTrain[1][1]))))\n",
    "print()\n",
    "\n",
    "print(\"True '1' rate Test :\\t\", (cmTest[1][1]/(cmTest[1][0]+cmTest[1][1])))\n",
    "print(\"True '0' rate Test :\\t\", (cmTest[0][0]/(cmTest[0][0]+cmTest[0][1])))\n",
    "print()\n",
    "\n",
    "print(\"False '1' rate Test :\\t\", ((cmTest[0][1])/((cmTest[0][1]+cmTest[0][0]))))\n",
    "print(\"False '0' rate Test :\\t\", ((cmTest[1][0])/((cmTest[1][0]+cmTest[1][1]))))\n",
    "print()\n",
    "\n",
    "# Plot the Confusion Matrix\n",
    "f, axes = plt.subplots(1, 2, figsize=(16, 8))\n",
    "sb.heatmap(cmTrain, annot = True, fmt=\".0f\", annot_kws={\"size\": 18}, ax = axes[0])\n",
    "sb.heatmap(cmTest, annot = True, fmt=\".0f\", annot_kws={\"size\": 18}, ax = axes[1])\n",
    "plt.show()"
   ]
  },
  {
   "cell_type": "markdown",
   "id": "254341e6",
   "metadata": {},
   "source": [
    "Better accuracy, and better recall rate as well"
   ]
  },
  {
   "cell_type": "markdown",
   "id": "056cdd0c",
   "metadata": {},
   "source": [
    "# Removing minority classes"
   ]
  },
  {
   "cell_type": "code",
   "execution_count": 36,
   "id": "02bb857b",
   "metadata": {},
   "outputs": [
    {
     "data": {
      "text/html": [
       "<div>\n",
       "<style scoped>\n",
       "    .dataframe tbody tr th:only-of-type {\n",
       "        vertical-align: middle;\n",
       "    }\n",
       "\n",
       "    .dataframe tbody tr th {\n",
       "        vertical-align: top;\n",
       "    }\n",
       "\n",
       "    .dataframe thead th {\n",
       "        text-align: right;\n",
       "    }\n",
       "</style>\n",
       "<table border=\"1\" class=\"dataframe\">\n",
       "  <thead>\n",
       "    <tr style=\"text-align: right;\">\n",
       "      <th></th>\n",
       "      <th>index</th>\n",
       "      <th>country_of_bean_origin</th>\n",
       "    </tr>\n",
       "  </thead>\n",
       "  <tbody>\n",
       "    <tr>\n",
       "      <th>0</th>\n",
       "      <td>Venezuela</td>\n",
       "      <td>238</td>\n",
       "    </tr>\n",
       "    <tr>\n",
       "      <th>1</th>\n",
       "      <td>Peru</td>\n",
       "      <td>207</td>\n",
       "    </tr>\n",
       "    <tr>\n",
       "      <th>2</th>\n",
       "      <td>Dominican republic</td>\n",
       "      <td>200</td>\n",
       "    </tr>\n",
       "    <tr>\n",
       "      <th>3</th>\n",
       "      <td>Ecuador</td>\n",
       "      <td>194</td>\n",
       "    </tr>\n",
       "    <tr>\n",
       "      <th>4</th>\n",
       "      <td>Madagascar</td>\n",
       "      <td>157</td>\n",
       "    </tr>\n",
       "    <tr>\n",
       "      <th>5</th>\n",
       "      <td>Blend</td>\n",
       "      <td>140</td>\n",
       "    </tr>\n",
       "    <tr>\n",
       "      <th>6</th>\n",
       "      <td>Nicaragua</td>\n",
       "      <td>92</td>\n",
       "    </tr>\n",
       "    <tr>\n",
       "      <th>7</th>\n",
       "      <td>Brazil</td>\n",
       "      <td>74</td>\n",
       "    </tr>\n",
       "    <tr>\n",
       "      <th>8</th>\n",
       "      <td>Bolivia</td>\n",
       "      <td>71</td>\n",
       "    </tr>\n",
       "    <tr>\n",
       "      <th>9</th>\n",
       "      <td>Belize</td>\n",
       "      <td>65</td>\n",
       "    </tr>\n",
       "    <tr>\n",
       "      <th>10</th>\n",
       "      <td>Colombia</td>\n",
       "      <td>65</td>\n",
       "    </tr>\n",
       "    <tr>\n",
       "      <th>11</th>\n",
       "      <td>Vietnam</td>\n",
       "      <td>64</td>\n",
       "    </tr>\n",
       "    <tr>\n",
       "      <th>12</th>\n",
       "      <td>Tanzania</td>\n",
       "      <td>63</td>\n",
       "    </tr>\n",
       "    <tr>\n",
       "      <th>13</th>\n",
       "      <td>Guatemala</td>\n",
       "      <td>53</td>\n",
       "    </tr>\n",
       "    <tr>\n",
       "      <th>14</th>\n",
       "      <td>Papua new guinea</td>\n",
       "      <td>48</td>\n",
       "    </tr>\n",
       "    <tr>\n",
       "      <th>15</th>\n",
       "      <td>Mexico</td>\n",
       "      <td>45</td>\n",
       "    </tr>\n",
       "    <tr>\n",
       "      <th>16</th>\n",
       "      <td>Costa rica</td>\n",
       "      <td>42</td>\n",
       "    </tr>\n",
       "  </tbody>\n",
       "</table>\n",
       "</div>"
      ],
      "text/plain": [
       "                 index  country_of_bean_origin\n",
       "0            Venezuela                     238\n",
       "1                 Peru                     207\n",
       "2   Dominican republic                     200\n",
       "3              Ecuador                     194\n",
       "4           Madagascar                     157\n",
       "5                Blend                     140\n",
       "6            Nicaragua                      92\n",
       "7               Brazil                      74\n",
       "8              Bolivia                      71\n",
       "9               Belize                      65\n",
       "10            Colombia                      65\n",
       "11             Vietnam                      64\n",
       "12            Tanzania                      63\n",
       "13           Guatemala                      53\n",
       "14    Papua new guinea                      48\n",
       "15              Mexico                      45\n",
       "16          Costa rica                      42"
      ]
     },
     "execution_count": 36,
     "metadata": {},
     "output_type": "execute_result"
    }
   ],
   "source": [
    "beanOriginCounts = pd.DataFrame(choc['country_of_bean_origin'].value_counts())\n",
    "beanOriginTop = beanOriginCounts[beanOriginCounts['country_of_bean_origin'] > 40].reset_index()\n",
    "beanOriginTop"
   ]
  },
  {
   "cell_type": "markdown",
   "id": "3df819b1",
   "metadata": {},
   "source": [
    "In the columns \"country_of_bean_origin\", there are a lot of data which only appeared less than 1%."
   ]
  },
  {
   "cell_type": "code",
   "execution_count": 41,
   "id": "326e7182",
   "metadata": {},
   "outputs": [
    {
     "data": {
      "text/plain": [
       "1    1249\n",
       "0     975\n",
       "Name: rating_category, dtype: int64"
      ]
     },
     "execution_count": 41,
     "metadata": {},
     "output_type": "execute_result"
    }
   ],
   "source": [
    "choc_xoutlier = choc[choc[\"country_of_bean_origin\"].isin(beanOriginTop[\"index\"])]\n",
    "choc[\"rating_category\"].value_counts()"
   ]
  },
  {
   "cell_type": "code",
   "execution_count": 38,
   "id": "c5d72f3c",
   "metadata": {},
   "outputs": [
    {
     "data": {
      "text/html": [
       "<div>\n",
       "<style scoped>\n",
       "    .dataframe tbody tr th:only-of-type {\n",
       "        vertical-align: middle;\n",
       "    }\n",
       "\n",
       "    .dataframe tbody tr th {\n",
       "        vertical-align: top;\n",
       "    }\n",
       "\n",
       "    .dataframe thead th {\n",
       "        text-align: right;\n",
       "    }\n",
       "</style>\n",
       "<table border=\"1\" class=\"dataframe\">\n",
       "  <thead>\n",
       "    <tr style=\"text-align: right;\">\n",
       "      <th></th>\n",
       "      <th>country_of_bean_origin_Belize</th>\n",
       "      <th>country_of_bean_origin_Blend</th>\n",
       "      <th>country_of_bean_origin_Bolivia</th>\n",
       "      <th>country_of_bean_origin_Brazil</th>\n",
       "      <th>country_of_bean_origin_Colombia</th>\n",
       "      <th>country_of_bean_origin_Costa rica</th>\n",
       "      <th>country_of_bean_origin_Dominican republic</th>\n",
       "      <th>country_of_bean_origin_Ecuador</th>\n",
       "      <th>country_of_bean_origin_Guatemala</th>\n",
       "      <th>country_of_bean_origin_Madagascar</th>\n",
       "      <th>...</th>\n",
       "      <th>fourth_taste_wine</th>\n",
       "      <th>fourth_taste_woody</th>\n",
       "      <th>rating_category</th>\n",
       "      <th>cocoa_percent</th>\n",
       "      <th>counts_of_ingredients</th>\n",
       "      <th>number_of_taste</th>\n",
       "      <th>vanilla</th>\n",
       "      <th>lecithin</th>\n",
       "      <th>salt</th>\n",
       "      <th>sugar</th>\n",
       "    </tr>\n",
       "  </thead>\n",
       "  <tbody>\n",
       "    <tr>\n",
       "      <th>0</th>\n",
       "      <td>0</td>\n",
       "      <td>0</td>\n",
       "      <td>0</td>\n",
       "      <td>0</td>\n",
       "      <td>0</td>\n",
       "      <td>0</td>\n",
       "      <td>0</td>\n",
       "      <td>0</td>\n",
       "      <td>0</td>\n",
       "      <td>1</td>\n",
       "      <td>...</td>\n",
       "      <td>0</td>\n",
       "      <td>0</td>\n",
       "      <td>1</td>\n",
       "      <td>76.0</td>\n",
       "      <td>3</td>\n",
       "      <td>3</td>\n",
       "      <td>0</td>\n",
       "      <td>0</td>\n",
       "      <td>0</td>\n",
       "      <td>1</td>\n",
       "    </tr>\n",
       "    <tr>\n",
       "      <th>1</th>\n",
       "      <td>0</td>\n",
       "      <td>0</td>\n",
       "      <td>0</td>\n",
       "      <td>0</td>\n",
       "      <td>0</td>\n",
       "      <td>0</td>\n",
       "      <td>1</td>\n",
       "      <td>0</td>\n",
       "      <td>0</td>\n",
       "      <td>0</td>\n",
       "      <td>...</td>\n",
       "      <td>0</td>\n",
       "      <td>0</td>\n",
       "      <td>1</td>\n",
       "      <td>76.0</td>\n",
       "      <td>3</td>\n",
       "      <td>3</td>\n",
       "      <td>0</td>\n",
       "      <td>0</td>\n",
       "      <td>0</td>\n",
       "      <td>1</td>\n",
       "    </tr>\n",
       "    <tr>\n",
       "      <th>2</th>\n",
       "      <td>0</td>\n",
       "      <td>0</td>\n",
       "      <td>0</td>\n",
       "      <td>0</td>\n",
       "      <td>0</td>\n",
       "      <td>0</td>\n",
       "      <td>0</td>\n",
       "      <td>0</td>\n",
       "      <td>0</td>\n",
       "      <td>0</td>\n",
       "      <td>...</td>\n",
       "      <td>0</td>\n",
       "      <td>0</td>\n",
       "      <td>1</td>\n",
       "      <td>76.0</td>\n",
       "      <td>3</td>\n",
       "      <td>3</td>\n",
       "      <td>0</td>\n",
       "      <td>0</td>\n",
       "      <td>0</td>\n",
       "      <td>1</td>\n",
       "    </tr>\n",
       "    <tr>\n",
       "      <th>3</th>\n",
       "      <td>0</td>\n",
       "      <td>0</td>\n",
       "      <td>0</td>\n",
       "      <td>0</td>\n",
       "      <td>0</td>\n",
       "      <td>0</td>\n",
       "      <td>0</td>\n",
       "      <td>0</td>\n",
       "      <td>0</td>\n",
       "      <td>0</td>\n",
       "      <td>...</td>\n",
       "      <td>0</td>\n",
       "      <td>0</td>\n",
       "      <td>1</td>\n",
       "      <td>63.0</td>\n",
       "      <td>4</td>\n",
       "      <td>3</td>\n",
       "      <td>0</td>\n",
       "      <td>1</td>\n",
       "      <td>0</td>\n",
       "      <td>1</td>\n",
       "    </tr>\n",
       "    <tr>\n",
       "      <th>4</th>\n",
       "      <td>0</td>\n",
       "      <td>0</td>\n",
       "      <td>1</td>\n",
       "      <td>0</td>\n",
       "      <td>0</td>\n",
       "      <td>0</td>\n",
       "      <td>0</td>\n",
       "      <td>0</td>\n",
       "      <td>0</td>\n",
       "      <td>0</td>\n",
       "      <td>...</td>\n",
       "      <td>0</td>\n",
       "      <td>0</td>\n",
       "      <td>1</td>\n",
       "      <td>70.0</td>\n",
       "      <td>4</td>\n",
       "      <td>2</td>\n",
       "      <td>0</td>\n",
       "      <td>1</td>\n",
       "      <td>0</td>\n",
       "      <td>1</td>\n",
       "    </tr>\n",
       "    <tr>\n",
       "      <th>...</th>\n",
       "      <td>...</td>\n",
       "      <td>...</td>\n",
       "      <td>...</td>\n",
       "      <td>...</td>\n",
       "      <td>...</td>\n",
       "      <td>...</td>\n",
       "      <td>...</td>\n",
       "      <td>...</td>\n",
       "      <td>...</td>\n",
       "      <td>...</td>\n",
       "      <td>...</td>\n",
       "      <td>...</td>\n",
       "      <td>...</td>\n",
       "      <td>...</td>\n",
       "      <td>...</td>\n",
       "      <td>...</td>\n",
       "      <td>...</td>\n",
       "      <td>...</td>\n",
       "      <td>...</td>\n",
       "      <td>...</td>\n",
       "      <td>...</td>\n",
       "    </tr>\n",
       "    <tr>\n",
       "      <th>2218</th>\n",
       "      <td>0</td>\n",
       "      <td>0</td>\n",
       "      <td>0</td>\n",
       "      <td>0</td>\n",
       "      <td>0</td>\n",
       "      <td>0</td>\n",
       "      <td>0</td>\n",
       "      <td>0</td>\n",
       "      <td>0</td>\n",
       "      <td>0</td>\n",
       "      <td>...</td>\n",
       "      <td>0</td>\n",
       "      <td>0</td>\n",
       "      <td>0</td>\n",
       "      <td>75.0</td>\n",
       "      <td>4</td>\n",
       "      <td>2</td>\n",
       "      <td>0</td>\n",
       "      <td>0</td>\n",
       "      <td>1</td>\n",
       "      <td>0</td>\n",
       "    </tr>\n",
       "    <tr>\n",
       "      <th>2219</th>\n",
       "      <td>0</td>\n",
       "      <td>1</td>\n",
       "      <td>0</td>\n",
       "      <td>0</td>\n",
       "      <td>0</td>\n",
       "      <td>0</td>\n",
       "      <td>0</td>\n",
       "      <td>0</td>\n",
       "      <td>0</td>\n",
       "      <td>0</td>\n",
       "      <td>...</td>\n",
       "      <td>0</td>\n",
       "      <td>0</td>\n",
       "      <td>0</td>\n",
       "      <td>80.0</td>\n",
       "      <td>4</td>\n",
       "      <td>3</td>\n",
       "      <td>0</td>\n",
       "      <td>0</td>\n",
       "      <td>1</td>\n",
       "      <td>0</td>\n",
       "    </tr>\n",
       "    <tr>\n",
       "      <th>2220</th>\n",
       "      <td>0</td>\n",
       "      <td>0</td>\n",
       "      <td>0</td>\n",
       "      <td>0</td>\n",
       "      <td>1</td>\n",
       "      <td>0</td>\n",
       "      <td>0</td>\n",
       "      <td>0</td>\n",
       "      <td>0</td>\n",
       "      <td>0</td>\n",
       "      <td>...</td>\n",
       "      <td>0</td>\n",
       "      <td>0</td>\n",
       "      <td>1</td>\n",
       "      <td>75.0</td>\n",
       "      <td>3</td>\n",
       "      <td>2</td>\n",
       "      <td>0</td>\n",
       "      <td>0</td>\n",
       "      <td>0</td>\n",
       "      <td>1</td>\n",
       "    </tr>\n",
       "    <tr>\n",
       "      <th>2221</th>\n",
       "      <td>1</td>\n",
       "      <td>0</td>\n",
       "      <td>0</td>\n",
       "      <td>0</td>\n",
       "      <td>0</td>\n",
       "      <td>0</td>\n",
       "      <td>0</td>\n",
       "      <td>0</td>\n",
       "      <td>0</td>\n",
       "      <td>0</td>\n",
       "      <td>...</td>\n",
       "      <td>0</td>\n",
       "      <td>0</td>\n",
       "      <td>1</td>\n",
       "      <td>72.0</td>\n",
       "      <td>3</td>\n",
       "      <td>3</td>\n",
       "      <td>0</td>\n",
       "      <td>0</td>\n",
       "      <td>0</td>\n",
       "      <td>1</td>\n",
       "    </tr>\n",
       "    <tr>\n",
       "      <th>2223</th>\n",
       "      <td>0</td>\n",
       "      <td>1</td>\n",
       "      <td>0</td>\n",
       "      <td>0</td>\n",
       "      <td>0</td>\n",
       "      <td>0</td>\n",
       "      <td>0</td>\n",
       "      <td>0</td>\n",
       "      <td>0</td>\n",
       "      <td>0</td>\n",
       "      <td>...</td>\n",
       "      <td>0</td>\n",
       "      <td>0</td>\n",
       "      <td>0</td>\n",
       "      <td>75.0</td>\n",
       "      <td>3</td>\n",
       "      <td>3</td>\n",
       "      <td>0</td>\n",
       "      <td>0</td>\n",
       "      <td>0</td>\n",
       "      <td>1</td>\n",
       "    </tr>\n",
       "  </tbody>\n",
       "</table>\n",
       "<p>1818 rows × 1216 columns</p>\n",
       "</div>"
      ],
      "text/plain": [
       "      country_of_bean_origin_Belize  country_of_bean_origin_Blend  \\\n",
       "0                                 0                             0   \n",
       "1                                 0                             0   \n",
       "2                                 0                             0   \n",
       "3                                 0                             0   \n",
       "4                                 0                             0   \n",
       "...                             ...                           ...   \n",
       "2218                              0                             0   \n",
       "2219                              0                             1   \n",
       "2220                              0                             0   \n",
       "2221                              1                             0   \n",
       "2223                              0                             1   \n",
       "\n",
       "      country_of_bean_origin_Bolivia  country_of_bean_origin_Brazil  \\\n",
       "0                                  0                              0   \n",
       "1                                  0                              0   \n",
       "2                                  0                              0   \n",
       "3                                  0                              0   \n",
       "4                                  1                              0   \n",
       "...                              ...                            ...   \n",
       "2218                               0                              0   \n",
       "2219                               0                              0   \n",
       "2220                               0                              0   \n",
       "2221                               0                              0   \n",
       "2223                               0                              0   \n",
       "\n",
       "      country_of_bean_origin_Colombia  country_of_bean_origin_Costa rica  \\\n",
       "0                                   0                                  0   \n",
       "1                                   0                                  0   \n",
       "2                                   0                                  0   \n",
       "3                                   0                                  0   \n",
       "4                                   0                                  0   \n",
       "...                               ...                                ...   \n",
       "2218                                0                                  0   \n",
       "2219                                0                                  0   \n",
       "2220                                1                                  0   \n",
       "2221                                0                                  0   \n",
       "2223                                0                                  0   \n",
       "\n",
       "      country_of_bean_origin_Dominican republic  \\\n",
       "0                                             0   \n",
       "1                                             1   \n",
       "2                                             0   \n",
       "3                                             0   \n",
       "4                                             0   \n",
       "...                                         ...   \n",
       "2218                                          0   \n",
       "2219                                          0   \n",
       "2220                                          0   \n",
       "2221                                          0   \n",
       "2223                                          0   \n",
       "\n",
       "      country_of_bean_origin_Ecuador  country_of_bean_origin_Guatemala  \\\n",
       "0                                  0                                 0   \n",
       "1                                  0                                 0   \n",
       "2                                  0                                 0   \n",
       "3                                  0                                 0   \n",
       "4                                  0                                 0   \n",
       "...                              ...                               ...   \n",
       "2218                               0                                 0   \n",
       "2219                               0                                 0   \n",
       "2220                               0                                 0   \n",
       "2221                               0                                 0   \n",
       "2223                               0                                 0   \n",
       "\n",
       "      country_of_bean_origin_Madagascar  ...  fourth_taste_wine  \\\n",
       "0                                     1  ...                  0   \n",
       "1                                     0  ...                  0   \n",
       "2                                     0  ...                  0   \n",
       "3                                     0  ...                  0   \n",
       "4                                     0  ...                  0   \n",
       "...                                 ...  ...                ...   \n",
       "2218                                  0  ...                  0   \n",
       "2219                                  0  ...                  0   \n",
       "2220                                  0  ...                  0   \n",
       "2221                                  0  ...                  0   \n",
       "2223                                  0  ...                  0   \n",
       "\n",
       "      fourth_taste_woody  rating_category  cocoa_percent  \\\n",
       "0                      0                1           76.0   \n",
       "1                      0                1           76.0   \n",
       "2                      0                1           76.0   \n",
       "3                      0                1           63.0   \n",
       "4                      0                1           70.0   \n",
       "...                  ...              ...            ...   \n",
       "2218                   0                0           75.0   \n",
       "2219                   0                0           80.0   \n",
       "2220                   0                1           75.0   \n",
       "2221                   0                1           72.0   \n",
       "2223                   0                0           75.0   \n",
       "\n",
       "      counts_of_ingredients  number_of_taste  vanilla  lecithin  salt  sugar  \n",
       "0                         3                3        0         0     0      1  \n",
       "1                         3                3        0         0     0      1  \n",
       "2                         3                3        0         0     0      1  \n",
       "3                         4                3        0         1     0      1  \n",
       "4                         4                2        0         1     0      1  \n",
       "...                     ...              ...      ...       ...   ...    ...  \n",
       "2218                      4                2        0         0     1      0  \n",
       "2219                      4                3        0         0     1      0  \n",
       "2220                      3                2        0         0     0      1  \n",
       "2221                      3                3        0         0     0      1  \n",
       "2223                      3                3        0         0     0      1  \n",
       "\n",
       "[1818 rows x 1216 columns]"
      ]
     },
     "execution_count": 38,
     "metadata": {},
     "output_type": "execute_result"
    }
   ],
   "source": [
    "# one hot encoding\n",
    "choc_xoutlier_ohe = choc_xoutlier[['country_of_bean_origin',\n",
    "                                   'first_taste', 'second_taste', 'third_taste', 'fourth_taste']]\n",
    "choc_xoutlier_ohe = pd.get_dummies(data = choc_xoutlier_ohe)\n",
    "\n",
    "# extracting rest of the predictors\n",
    "choc_xoutlier_num = choc_xoutlier[['cocoa_percent', 'counts_of_ingredients', 'number_of_taste'\n",
    "                                   , 'vanilla', 'lecithin', 'salt', 'sugar']]\n",
    "\n",
    "# extracting response\n",
    "choc_xoutlier_response = choc_xoutlier['rating_category']\n",
    "\n",
    "#combining predictors and response\n",
    "choc_xoutlier_ohe = pd.concat([choc_xoutlier_ohe, choc_xoutlier_response, choc_xoutlier_num], sort = False, axis = 1)\n",
    "choc_xoutlier_ohe"
   ]
  },
  {
   "cell_type": "code",
   "execution_count": 39,
   "id": "fbec10bc",
   "metadata": {},
   "outputs": [
    {
     "data": {
      "text/plain": [
       "1    1039\n",
       "0     779\n",
       "Name: rating_category, dtype: int64"
      ]
     },
     "execution_count": 39,
     "metadata": {},
     "output_type": "execute_result"
    }
   ],
   "source": [
    "choc_xoutlier_ohe.rating_category.value_counts()"
   ]
  },
  {
   "cell_type": "code",
   "execution_count": 42,
   "id": "f6c5f66d",
   "metadata": {},
   "outputs": [],
   "source": [
    "# Extract Response and Predictors\n",
    "y = pd.DataFrame(choc_xoutlier_ohe['rating_category'])\n",
    "X = pd.DataFrame(choc_xoutlier_ohe.drop('rating_category', axis = 1))"
   ]
  },
  {
   "cell_type": "code",
   "execution_count": 50,
   "id": "74188fb2",
   "metadata": {},
   "outputs": [],
   "source": [
    "rforest = RandomForestClassifier(n_estimators = 400, max_depth = 60)\n",
    "over = ADASYN()\n",
    "under = RandomUnderSampler(sampling_strategy=0.5) \n",
    "steps = [(\"smote\", over),(\"model\", rforest)]\n",
    "pipeline = Pipeline(steps = steps)"
   ]
  },
  {
   "cell_type": "markdown",
   "id": "000f6aec",
   "metadata": {},
   "source": [
    "Using stratified K fold cross validation to evalute the model"
   ]
  },
  {
   "cell_type": "code",
   "execution_count": 51,
   "id": "f2cceb3e",
   "metadata": {},
   "outputs": [
    {
     "name": "stdout",
     "output_type": "stream",
     "text": [
      "accuracy: 0.655 (0.030)\n",
      "precison: 0.748 (0.025)\n",
      "recall: 0.597 (0.066)\n",
      "f1 score: 0.662 (0.039)\n"
     ]
    }
   ],
   "source": [
    "cv = RepeatedStratifiedKFold(n_splits=5, n_repeats=3, random_state=1)\n",
    "n_scores = cross_validate(pipeline, X, y, scoring=scoring, cv=cv, n_jobs=-1, error_score='raise')\n",
    "print('accuracy: %.3f (%.3f)' % (np.mean(n_scores[\"test_accuracy\"]), np.std(n_scores[\"test_accuracy\"])))\n",
    "print('precison: %.3f (%.3f)' % (np.mean(n_scores[\"test_precision\"]), np.std(n_scores[\"test_precision\"])))\n",
    "print('recall: %.3f (%.3f)' % (np.mean(n_scores[\"test_recall\"]), np.std(n_scores[\"test_recall\"])))\n",
    "print('f1 score: %.3f (%.3f)' % (np.mean(n_scores[\"test_f1_score\"]), np.std(n_scores[\"test_f1_score\"])))"
   ]
  },
  {
   "cell_type": "markdown",
   "id": "a6e75043",
   "metadata": {},
   "source": [
    "Test the model on a train and test data set"
   ]
  },
  {
   "cell_type": "code",
   "execution_count": 52,
   "id": "3e4dbe47",
   "metadata": {},
   "outputs": [
    {
     "data": {
      "text/plain": [
       "rating_category\n",
       "1                  841\n",
       "0                  780\n",
       "dtype: int64"
      ]
     },
     "execution_count": 52,
     "metadata": {},
     "output_type": "execute_result"
    }
   ],
   "source": [
    "X_train, X_test, y_train, y_test = train_test_split(X, y, test_size = 0.2)\n",
    "X_train_res, y_train_res = over.fit_resample(X_train, y_train)\n",
    "y_train_res.value_counts()"
   ]
  },
  {
   "cell_type": "markdown",
   "id": "ccc86666",
   "metadata": {},
   "source": [
    "Test the model on a train and test data set"
   ]
  },
  {
   "cell_type": "code",
   "execution_count": 53,
   "id": "415493df",
   "metadata": {},
   "outputs": [
    {
     "name": "stdout",
     "output_type": "stream",
     "text": [
      "Train Data\n",
      "Accuracy  :\t 0.9969154842689698\n",
      "\n",
      "Test Data\n",
      "Accuracy  :\t 0.6785714285714286\n",
      "\n",
      "True '1' rate Train :\t 0.9988109393579072\n",
      "True '0' rate Train :\t 0.9948717948717949\n",
      "\n",
      "False '1' rate Train :\t 0.005128205128205128\n",
      "False '0' rate Train :\t 0.0011890606420927466\n",
      "\n",
      "True '1' rate Test :\t 0.5909090909090909\n",
      "True '0' rate Test :\t 0.7831325301204819\n",
      "\n",
      "False '1' rate Test :\t 0.21686746987951808\n",
      "False '0' rate Test :\t 0.4090909090909091\n",
      "\n"
     ]
    },
    {
     "data": {
      "image/png": "[encoded data removed]",
      "text/plain": [
       "<Figure size 1152x576 with 4 Axes>"
      ]
     },
     "metadata": {},
     "output_type": "display_data"
    }
   ],
   "source": [
    "# Split the Dataset into Train and Test\n",
    "#X_train, X_test, y_train, y_test = train_test_split(X, y, test_size = 0.2)\n",
    "\n",
    "# Fit Random Forest on Train Data\n",
    "rforest.fit(X_train_res, y_train_res.rating_category.ravel())\n",
    "\n",
    "# Print the Classification Accuracy\n",
    "print(\"Train Data\")\n",
    "print(\"Accuracy  :\\t\", rforest.score(X_train_res, y_train_res))\n",
    "print()\n",
    "print(\"Test Data\")\n",
    "print(\"Accuracy  :\\t\", rforest.score(X_test, y_test))\n",
    "print()\n",
    "\n",
    "# Predict the Response corresponding to Predictors\n",
    "y_train_pred = rforest.predict(X_train_res)\n",
    "y_test_pred = rforest.predict(X_test)\n",
    "\n",
    "# Print the Accuracy Measures from the Confusion Matrix\n",
    "cmTrain = confusion_matrix(y_train_res, y_train_pred)\n",
    "cmTest = confusion_matrix(y_test, y_test_pred)\n",
    "\n",
    "print(\"True '1' rate Train :\\t\", (cmTrain[1][1]/(cmTrain[1][0]+cmTrain[1][1])))\n",
    "print(\"True '0' rate Train :\\t\", (cmTrain[0][0]/(cmTrain[0][0]+cmTrain[0][1])))\n",
    "print()\n",
    "\n",
    "print(\"False '1' rate Train :\\t\", ((cmTrain[0][1])/((cmTrain[0][1]+cmTrain[0][0]))))\n",
    "print(\"False '0' rate Train :\\t\", ((cmTrain[1][0])/((cmTrain[1][0]+cmTrain[1][1]))))\n",
    "print()\n",
    "\n",
    "\n",
    "print(\"True '1' rate Test :\\t\", (cmTest[1][1]/(cmTest[1][0]+cmTest[1][1])))\n",
    "print(\"True '0' rate Test :\\t\", (cmTest[0][0]/(cmTest[0][0]+cmTest[0][1])))\n",
    "print()\n",
    "\n",
    "print(\"False '1' rate Test :\\t\", ((cmTest[0][1])/((cmTest[0][1]+cmTest[0][0]))))\n",
    "print(\"False '0' rate Test :\\t\", ((cmTest[1][0])/((cmTest[1][0]+cmTest[1][1]))))\n",
    "print()\n",
    "\n",
    "# Plot the Confusion Matrix\n",
    "f, axes = plt.subplots(1, 2, figsize=(16, 8))\n",
    "sb.heatmap(cmTrain, annot = True, fmt=\".0f\", annot_kws={\"size\": 18}, ax = axes[0])\n",
    "sb.heatmap(cmTest, annot = True, fmt=\".0f\", annot_kws={\"size\": 18}, ax = axes[1])\n",
    "plt.show()"
   ]
  },
  {
   "cell_type": "markdown",
   "id": "9185a157",
   "metadata": {},
   "source": [
    "To add comment here"
   ]
  },
  {
   "cell_type": "markdown",
   "id": "1da8392c",
   "metadata": {},
   "source": [
    "# Gradient Boosting"
   ]
  },
  {
   "cell_type": "markdown",
   "id": "aa35e1c1",
   "metadata": {},
   "source": [
    "Let's try a more sophisticated model, Gradient Boosting Machine"
   ]
  },
  {
   "cell_type": "code",
   "execution_count": 57,
   "id": "28dbcaf2",
   "metadata": {},
   "outputs": [],
   "source": [
    "from sklearn.ensemble import GradientBoostingClassifier\n",
    "# gradient boosting for classification in scikit-learn"
   ]
  },
  {
   "cell_type": "code",
   "execution_count": 58,
   "id": "9c1f525d",
   "metadata": {},
   "outputs": [],
   "source": [
    "y = pd.DataFrame(choc_xoutlier_ohe['rating_category'])\n",
    "X = pd.DataFrame(choc_xoutlier_ohe.drop('rating_category', axis = 1))"
   ]
  },
  {
   "cell_type": "code",
   "execution_count": 62,
   "id": "ab93bf75",
   "metadata": {},
   "outputs": [],
   "source": [
    "GradBoost = GradientBoostingClassifier(loss = \"deviance\", learning_rate = 0.1, n_estimators = 500, subsample = 0.5, max_depth = 6)\n",
    "over = ADASYN()\n",
    "under = RandomUnderSampler(sampling_strategy=0.5) \n",
    "steps = [(\"smote\", over),(\"model\", GradBoost)]\n",
    "pipeline = Pipeline(steps = steps)"
   ]
  },
  {
   "cell_type": "markdown",
   "id": "df6d72d8",
   "metadata": {},
   "source": [
    "Using stratified K fold cross validation to evalute the model"
   ]
  },
  {
   "cell_type": "code",
   "execution_count": 63,
   "id": "1442edf8",
   "metadata": {},
   "outputs": [
    {
     "name": "stdout",
     "output_type": "stream",
     "text": [
      "accuracy: 0.670 (0.021)\n",
      "precison: 0.714 (0.018)\n",
      "recall: 0.705 (0.028)\n",
      "f1 score: 0.709 (0.020)\n"
     ]
    }
   ],
   "source": [
    "cv = RepeatedStratifiedKFold(n_splits=5, n_repeats=3, random_state=1)\n",
    "n_scores = cross_validate(pipeline, X, y, scoring=scoring, cv=cv, n_jobs=-1, error_score='raise')\n",
    "print('accuracy: %.3f (%.3f)' % (np.mean(n_scores[\"test_accuracy\"]), np.std(n_scores[\"test_accuracy\"])))\n",
    "print('precison: %.3f (%.3f)' % (np.mean(n_scores[\"test_precision\"]), np.std(n_scores[\"test_precision\"])))\n",
    "print('recall: %.3f (%.3f)' % (np.mean(n_scores[\"test_recall\"]), np.std(n_scores[\"test_recall\"])))\n",
    "print('f1 score: %.3f (%.3f)' % (np.mean(n_scores[\"test_f1_score\"]), np.std(n_scores[\"test_f1_score\"])))"
   ]
  },
  {
   "cell_type": "markdown",
   "id": "e86894ea",
   "metadata": {},
   "source": [
    "Test the model on a train and test data set"
   ]
  },
  {
   "cell_type": "code",
   "execution_count": 64,
   "id": "374c4bfd",
   "metadata": {},
   "outputs": [
    {
     "data": {
      "text/plain": [
       "rating_category\n",
       "1                  843\n",
       "0                  777\n",
       "dtype: int64"
      ]
     },
     "execution_count": 64,
     "metadata": {},
     "output_type": "execute_result"
    }
   ],
   "source": [
    "X_train, X_test, y_train, y_test = train_test_split(X, y, test_size = 0.2)\n",
    "X_train_res, y_train_res = over.fit_resample(X_train, y_train)\n",
    "y_train_res.value_counts()"
   ]
  },
  {
   "cell_type": "code",
   "execution_count": 65,
   "id": "568282c4",
   "metadata": {},
   "outputs": [
    {
     "name": "stderr",
     "output_type": "stream",
     "text": [
      "C:\\Users\\User\\AppData\\Local\\Programs\\Python\\Python39\\lib\\site-packages\\sklearn\\ensemble\\_gb.py:494: DataConversionWarning: A column-vector y was passed when a 1d array was expected. Please change the shape of y to (n_samples, ), for example using ravel().\n",
      "  y = column_or_1d(y, warn=True)\n"
     ]
    },
    {
     "name": "stdout",
     "output_type": "stream",
     "text": [
      "Train Data\n",
      "Accuracy  :\t 0.9919753086419754\n",
      "\n",
      "Test Data\n",
      "Accuracy  :\t 0.695054945054945\n",
      "\n",
      "True '1' rate Train :\t 1.0\n",
      "True '0' rate Train :\t 0.9832689832689833\n",
      "\n",
      "False '1' rate Train :\t 0.01673101673101673\n",
      "False '0' rate Train :\t 0.0\n",
      "\n",
      "True '1' rate Test :\t 0.7244897959183674\n",
      "True '0' rate Test :\t 0.6607142857142857\n",
      "\n",
      "False '1' rate Test :\t 0.3392857142857143\n",
      "False '0' rate Test :\t 0.2755102040816326\n",
      "\n"
     ]
    },
    {
     "data": {
      "image/png": "[encoded data removed]",
      "text/plain": [
       "<Figure size 1152x576 with 4 Axes>"
      ]
     },
     "metadata": {},
     "output_type": "display_data"
    }
   ],
   "source": [
    "GradBoost.fit(X_train_res, y_train_res)\n",
    "print(\"Train Data\")\n",
    "print(\"Accuracy  :\\t\", GradBoost.score(X_train_res, y_train_res))\n",
    "print()\n",
    "print(\"Test Data\")\n",
    "print(\"Accuracy  :\\t\", GradBoost.score(X_test, y_test))\n",
    "print()\n",
    "y_train_pred = GradBoost.predict(X_train_res)\n",
    "y_test_pred = GradBoost.predict(X_test)\n",
    "\n",
    "# Print the Accuracy Measures from the Confusion Matrix\n",
    "cmTrain = confusion_matrix(y_train_res, y_train_pred)\n",
    "cmTest = confusion_matrix(y_test, y_test_pred)\n",
    "\n",
    "print(\"True '1' rate Train :\\t\", (cmTrain[1][1]/(cmTrain[1][0]+cmTrain[1][1])))\n",
    "print(\"True '0' rate Train :\\t\", (cmTrain[0][0]/(cmTrain[0][0]+cmTrain[0][1])))\n",
    "print()\n",
    "\n",
    "print(\"False '1' rate Train :\\t\", ((cmTrain[0][1])/((cmTrain[0][1]+cmTrain[0][0]))))\n",
    "print(\"False '0' rate Train :\\t\", ((cmTrain[1][0])/((cmTrain[1][0]+cmTrain[1][1]))))\n",
    "print()\n",
    "\n",
    "print(\"True '1' rate Test :\\t\", (cmTest[1][1]/(cmTest[1][0]+cmTest[1][1])))\n",
    "print(\"True '0' rate Test :\\t\", (cmTest[0][0]/(cmTest[0][0]+cmTest[0][1])))\n",
    "print()\n",
    "\n",
    "print(\"False '1' rate Test :\\t\", ((cmTest[0][1])/((cmTest[0][1]+cmTest[0][0]))))\n",
    "print(\"False '0' rate Test :\\t\", ((cmTest[1][0])/((cmTest[1][0]+cmTest[1][1]))))\n",
    "print()\n",
    "\n",
    "# Plot the Confusion Matrix\n",
    "f, axes = plt.subplots(1, 2, figsize=(16, 8))\n",
    "sb.heatmap(cmTrain, annot = True, fmt=\".0f\", annot_kws={\"size\": 18}, ax = axes[0])\n",
    "sb.heatmap(cmTest, annot = True, fmt=\".0f\", annot_kws={\"size\": 18}, ax = axes[1])\n",
    "plt.show()"
   ]
  },
  {
   "cell_type": "markdown",
   "id": "4daa1b65",
   "metadata": {},
   "source": [
    "## Without removing outliers"
   ]
  },
  {
   "cell_type": "code",
   "execution_count": 86,
   "id": "08882745",
   "metadata": {},
   "outputs": [],
   "source": [
    "GradBoost = GradientBoostingClassifier(loss = \"deviance\", learning_rate = 0.08, n_estimators = 700, subsample = 0.8, max_depth = 9)\n",
    "over = ADASYN()\n",
    "under = RandomUnderSampler(sampling_strategy=0.5) \n",
    "steps = [(\"smote\", over),(\"model\", GradBoost)]\n",
    "pipeline = Pipeline(steps = steps)"
   ]
  },
  {
   "cell_type": "code",
   "execution_count": 87,
   "id": "4c74b5a0",
   "metadata": {},
   "outputs": [
    {
     "name": "stdout",
     "output_type": "stream",
     "text": [
      "accuracy: 0.686 (0.020)\n",
      "precison: 0.714 (0.020)\n",
      "recall: 0.737 (0.029)\n",
      "f1 score: 0.725 (0.019)\n"
     ]
    }
   ],
   "source": [
    "cv = RepeatedStratifiedKFold(n_splits=5, n_repeats=3, random_state=1)\n",
    "n_scores = cross_validate(pipeline, X1, y1, scoring=scoring, cv=cv, n_jobs=-1, error_score='raise')\n",
    "print('accuracy: %.3f (%.3f)' % (np.mean(n_scores[\"test_accuracy\"]), np.std(n_scores[\"test_accuracy\"])))\n",
    "print('precison: %.3f (%.3f)' % (np.mean(n_scores[\"test_precision\"]), np.std(n_scores[\"test_precision\"])))\n",
    "print('recall: %.3f (%.3f)' % (np.mean(n_scores[\"test_recall\"]), np.std(n_scores[\"test_recall\"])))\n",
    "print('f1 score: %.3f (%.3f)' % (np.mean(n_scores[\"test_f1_score\"]), np.std(n_scores[\"test_f1_score\"])))"
   ]
  },
  {
   "cell_type": "code",
   "execution_count": 75,
   "id": "396a1c8b",
   "metadata": {},
   "outputs": [
    {
     "data": {
      "text/plain": [
       "rating_category\n",
       "1                  999\n",
       "0                  835\n",
       "dtype: int64"
      ]
     },
     "execution_count": 75,
     "metadata": {},
     "output_type": "execute_result"
    }
   ],
   "source": [
    "X1_train_res, y1_train_res = over.fit_resample(X1_train, y1_train)\n",
    "y1_train_res.value_counts()"
   ]
  },
  {
   "cell_type": "code",
   "execution_count": 89,
   "id": "1330a1be",
   "metadata": {},
   "outputs": [
    {
     "name": "stderr",
     "output_type": "stream",
     "text": [
      "C:\\Users\\User\\AppData\\Local\\Programs\\Python\\Python39\\lib\\site-packages\\sklearn\\ensemble\\_gb.py:494: DataConversionWarning: A column-vector y was passed when a 1d array was expected. Please change the shape of y to (n_samples, ), for example using ravel().\n",
      "  y = column_or_1d(y, warn=True)\n"
     ]
    },
    {
     "name": "stdout",
     "output_type": "stream",
     "text": [
      "Train Data\n",
      "Accuracy  :\t 0.9923664122137404\n",
      "\n",
      "Test Data\n",
      "Accuracy  :\t 0.6898876404494382\n",
      "\n",
      "True '1' rate Train :\t 1.0\n",
      "True '0' rate Train :\t 0.9832335329341317\n",
      "\n",
      "False '1' rate Train :\t 0.016766467065868262\n",
      "False '0' rate Train :\t 0.0\n",
      "\n",
      "True '1' rate Test :\t 0.692\n",
      "True '0' rate Test :\t 0.6871794871794872\n",
      "\n",
      "False '1' rate Test :\t 0.3128205128205128\n",
      "False '0' rate Test :\t 0.308\n",
      "\n"
     ]
    },
    {
     "data": {
      "image/png": "[encoded data removed]",
      "text/plain": [
       "<Figure size 1152x576 with 4 Axes>"
      ]
     },
     "metadata": {},
     "output_type": "display_data"
    }
   ],
   "source": [
    "GradBoost.fit(X1_train_res, y1_train_res)\n",
    "print(\"Train Data\")\n",
    "print(\"Accuracy  :\\t\", GradBoost.score(X1_train_res, y1_train_res))\n",
    "print()\n",
    "print(\"Test Data\")\n",
    "print(\"Accuracy  :\\t\", GradBoost.score(X1_test, y1_test))\n",
    "print()\n",
    "y_train_pred = GradBoost.predict(X1_train_res)\n",
    "y_test_pred = GradBoost.predict(X1_test)\n",
    "\n",
    "# Print the Accuracy Measures from the Confusion Matrix\n",
    "cmTrain = confusion_matrix(y1_train_res, y_train_pred)\n",
    "cmTest = confusion_matrix(y1_test, y_test_pred)\n",
    "\n",
    "print(\"True '1' rate Train :\\t\", (cmTrain[1][1]/(cmTrain[1][0]+cmTrain[1][1])))\n",
    "print(\"True '0' rate Train :\\t\", (cmTrain[0][0]/(cmTrain[0][0]+cmTrain[0][1])))\n",
    "print()\n",
    "\n",
    "print(\"False '1' rate Train :\\t\", ((cmTrain[0][1])/((cmTrain[0][1]+cmTrain[0][0]))))\n",
    "print(\"False '0' rate Train :\\t\", ((cmTrain[1][0])/((cmTrain[1][0]+cmTrain[1][1]))))\n",
    "print()\n",
    "\n",
    "print(\"True '1' rate Test :\\t\", (cmTest[1][1]/(cmTest[1][0]+cmTest[1][1])))\n",
    "print(\"True '0' rate Test :\\t\", (cmTest[0][0]/(cmTest[0][0]+cmTest[0][1])))\n",
    "print()\n",
    "\n",
    "print(\"False '1' rate Test :\\t\", ((cmTest[0][1])/((cmTest[0][1]+cmTest[0][0]))))\n",
    "print(\"False '0' rate Test :\\t\", ((cmTest[1][0])/((cmTest[1][0]+cmTest[1][1]))))\n",
    "print()\n",
    "\n",
    "# Plot the Confusion Matrix\n",
    "f, axes = plt.subplots(1, 2, figsize=(16, 8))\n",
    "sb.heatmap(cmTrain, annot = True, fmt=\".0f\", annot_kws={\"size\": 18}, ax = axes[0])\n",
    "sb.heatmap(cmTest, annot = True, fmt=\".0f\", annot_kws={\"size\": 18}, ax = axes[1])\n",
    "plt.show()"
   ]
  },
  {
   "cell_type": "code",
   "execution_count": null,
   "id": "8b8bf6b9",
   "metadata": {},
   "outputs": [],
   "source": []
  }
 ],
 "metadata": {
  "kernelspec": {
   "display_name": "Python 3 (ipykernel)",
   "language": "python",
   "name": "python3"
  },
  "language_info": {
   "codemirror_mode": {
    "name": "ipython",
    "version": 3
   },
   "file_extension": ".py",
   "mimetype": "text/x-python",
   "name": "python",
   "nbconvert_exporter": "python",
   "pygments_lexer": "ipython3",
   "version": "3.9.7"
  }
 },
 "nbformat": 4,
 "nbformat_minor": 5
}
