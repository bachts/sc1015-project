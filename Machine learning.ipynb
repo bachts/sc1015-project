{
 "cells": [
  {
   "cell_type": "markdown",
   "id": "CQ1Iv7vSkt3O",
   "metadata": {
    "id": "CQ1Iv7vSkt3O"
   },
   "source": [
    "# Importing the necessary libraries and dataset"
   ]
  },
  {
   "cell_type": "code",
   "execution_count": 1,
   "id": "0t_W-Clbkvh9",
   "metadata": {
    "id": "0t_W-Clbkvh9"
   },
   "outputs": [],
   "source": [
    "import numpy as np\n",
    "import pandas as pd\n",
    "import seaborn as sb\n",
    "import matplotlib.pyplot as plt \n",
    "sb.set()"
   ]
  },
  {
   "cell_type": "code",
   "execution_count": 2,
   "id": "9GTiwaaEkxA2",
   "metadata": {
    "id": "9GTiwaaEkxA2"
   },
   "outputs": [],
   "source": [
    "choc = pd.read_csv('traintest.csv')"
   ]
  },
  {
   "cell_type": "markdown",
   "id": "6913e346",
   "metadata": {
    "id": "6913e346"
   },
   "source": [
    "# One-hot encoding for categorical variables"
   ]
  },
  {
   "cell_type": "code",
   "execution_count": 42,
   "id": "bf61371b",
   "metadata": {
    "colab": {
     "base_uri": "https://localhost:8080/",
     "height": 505
    },
    "id": "bf61371b",
    "outputId": "906d65fe-73f4-47bf-a416-b0873e742cea"
   },
   "outputs": [
    {
     "data": {
      "text/html": [
       "<div>\n",
       "<style scoped>\n",
       "    .dataframe tbody tr th:only-of-type {\n",
       "        vertical-align: middle;\n",
       "    }\n",
       "\n",
       "    .dataframe tbody tr th {\n",
       "        vertical-align: top;\n",
       "    }\n",
       "\n",
       "    .dataframe thead th {\n",
       "        text-align: right;\n",
       "    }\n",
       "</style>\n",
       "<table border=\"1\" class=\"dataframe\">\n",
       "  <thead>\n",
       "    <tr style=\"text-align: right;\">\n",
       "      <th></th>\n",
       "      <th>Andes mint</th>\n",
       "      <th>Australia</th>\n",
       "      <th>Belize</th>\n",
       "      <th>Blend</th>\n",
       "      <th>Bolivia</th>\n",
       "      <th>Bolvia</th>\n",
       "      <th>Brazil</th>\n",
       "      <th>Burma</th>\n",
       "      <th>Cadbury egg</th>\n",
       "      <th>Cameroon</th>\n",
       "      <th>...</th>\n",
       "      <th>why bother</th>\n",
       "      <th>wild berry</th>\n",
       "      <th>wine</th>\n",
       "      <th>winey</th>\n",
       "      <th>wood</th>\n",
       "      <th>woodsy</th>\n",
       "      <th>woody</th>\n",
       "      <th>wtf</th>\n",
       "      <th>yellow fruit</th>\n",
       "      <th>yogurt</th>\n",
       "    </tr>\n",
       "  </thead>\n",
       "  <tbody>\n",
       "    <tr>\n",
       "      <th>0</th>\n",
       "      <td>0.0</td>\n",
       "      <td>0.0</td>\n",
       "      <td>0.0</td>\n",
       "      <td>0.0</td>\n",
       "      <td>0.0</td>\n",
       "      <td>0.0</td>\n",
       "      <td>0.0</td>\n",
       "      <td>0.0</td>\n",
       "      <td>0.0</td>\n",
       "      <td>0.0</td>\n",
       "      <td>...</td>\n",
       "      <td>0.0</td>\n",
       "      <td>0.0</td>\n",
       "      <td>0.0</td>\n",
       "      <td>0.0</td>\n",
       "      <td>0.0</td>\n",
       "      <td>0.0</td>\n",
       "      <td>0.0</td>\n",
       "      <td>0.0</td>\n",
       "      <td>0.0</td>\n",
       "      <td>0.0</td>\n",
       "    </tr>\n",
       "    <tr>\n",
       "      <th>1</th>\n",
       "      <td>0.0</td>\n",
       "      <td>0.0</td>\n",
       "      <td>0.0</td>\n",
       "      <td>0.0</td>\n",
       "      <td>0.0</td>\n",
       "      <td>0.0</td>\n",
       "      <td>0.0</td>\n",
       "      <td>0.0</td>\n",
       "      <td>0.0</td>\n",
       "      <td>0.0</td>\n",
       "      <td>...</td>\n",
       "      <td>0.0</td>\n",
       "      <td>0.0</td>\n",
       "      <td>0.0</td>\n",
       "      <td>0.0</td>\n",
       "      <td>0.0</td>\n",
       "      <td>0.0</td>\n",
       "      <td>0.0</td>\n",
       "      <td>0.0</td>\n",
       "      <td>0.0</td>\n",
       "      <td>0.0</td>\n",
       "    </tr>\n",
       "    <tr>\n",
       "      <th>2</th>\n",
       "      <td>0.0</td>\n",
       "      <td>0.0</td>\n",
       "      <td>0.0</td>\n",
       "      <td>0.0</td>\n",
       "      <td>0.0</td>\n",
       "      <td>0.0</td>\n",
       "      <td>0.0</td>\n",
       "      <td>0.0</td>\n",
       "      <td>0.0</td>\n",
       "      <td>0.0</td>\n",
       "      <td>...</td>\n",
       "      <td>0.0</td>\n",
       "      <td>0.0</td>\n",
       "      <td>0.0</td>\n",
       "      <td>0.0</td>\n",
       "      <td>0.0</td>\n",
       "      <td>0.0</td>\n",
       "      <td>0.0</td>\n",
       "      <td>0.0</td>\n",
       "      <td>0.0</td>\n",
       "      <td>0.0</td>\n",
       "    </tr>\n",
       "    <tr>\n",
       "      <th>3</th>\n",
       "      <td>0.0</td>\n",
       "      <td>0.0</td>\n",
       "      <td>0.0</td>\n",
       "      <td>0.0</td>\n",
       "      <td>1.0</td>\n",
       "      <td>0.0</td>\n",
       "      <td>0.0</td>\n",
       "      <td>0.0</td>\n",
       "      <td>0.0</td>\n",
       "      <td>0.0</td>\n",
       "      <td>...</td>\n",
       "      <td>0.0</td>\n",
       "      <td>0.0</td>\n",
       "      <td>0.0</td>\n",
       "      <td>0.0</td>\n",
       "      <td>0.0</td>\n",
       "      <td>0.0</td>\n",
       "      <td>0.0</td>\n",
       "      <td>0.0</td>\n",
       "      <td>0.0</td>\n",
       "      <td>0.0</td>\n",
       "    </tr>\n",
       "    <tr>\n",
       "      <th>4</th>\n",
       "      <td>0.0</td>\n",
       "      <td>0.0</td>\n",
       "      <td>0.0</td>\n",
       "      <td>0.0</td>\n",
       "      <td>0.0</td>\n",
       "      <td>0.0</td>\n",
       "      <td>0.0</td>\n",
       "      <td>0.0</td>\n",
       "      <td>0.0</td>\n",
       "      <td>0.0</td>\n",
       "      <td>...</td>\n",
       "      <td>0.0</td>\n",
       "      <td>0.0</td>\n",
       "      <td>0.0</td>\n",
       "      <td>0.0</td>\n",
       "      <td>0.0</td>\n",
       "      <td>0.0</td>\n",
       "      <td>0.0</td>\n",
       "      <td>0.0</td>\n",
       "      <td>0.0</td>\n",
       "      <td>0.0</td>\n",
       "    </tr>\n",
       "    <tr>\n",
       "      <th>...</th>\n",
       "      <td>...</td>\n",
       "      <td>...</td>\n",
       "      <td>...</td>\n",
       "      <td>...</td>\n",
       "      <td>...</td>\n",
       "      <td>...</td>\n",
       "      <td>...</td>\n",
       "      <td>...</td>\n",
       "      <td>...</td>\n",
       "      <td>...</td>\n",
       "      <td>...</td>\n",
       "      <td>...</td>\n",
       "      <td>...</td>\n",
       "      <td>...</td>\n",
       "      <td>...</td>\n",
       "      <td>...</td>\n",
       "      <td>...</td>\n",
       "      <td>...</td>\n",
       "      <td>...</td>\n",
       "      <td>...</td>\n",
       "      <td>...</td>\n",
       "    </tr>\n",
       "    <tr>\n",
       "      <th>2010</th>\n",
       "      <td>0.0</td>\n",
       "      <td>0.0</td>\n",
       "      <td>0.0</td>\n",
       "      <td>1.0</td>\n",
       "      <td>0.0</td>\n",
       "      <td>0.0</td>\n",
       "      <td>0.0</td>\n",
       "      <td>0.0</td>\n",
       "      <td>0.0</td>\n",
       "      <td>0.0</td>\n",
       "      <td>...</td>\n",
       "      <td>0.0</td>\n",
       "      <td>0.0</td>\n",
       "      <td>0.0</td>\n",
       "      <td>0.0</td>\n",
       "      <td>0.0</td>\n",
       "      <td>0.0</td>\n",
       "      <td>0.0</td>\n",
       "      <td>0.0</td>\n",
       "      <td>0.0</td>\n",
       "      <td>0.0</td>\n",
       "    </tr>\n",
       "    <tr>\n",
       "      <th>2011</th>\n",
       "      <td>0.0</td>\n",
       "      <td>0.0</td>\n",
       "      <td>0.0</td>\n",
       "      <td>0.0</td>\n",
       "      <td>0.0</td>\n",
       "      <td>0.0</td>\n",
       "      <td>0.0</td>\n",
       "      <td>0.0</td>\n",
       "      <td>0.0</td>\n",
       "      <td>0.0</td>\n",
       "      <td>...</td>\n",
       "      <td>0.0</td>\n",
       "      <td>0.0</td>\n",
       "      <td>0.0</td>\n",
       "      <td>0.0</td>\n",
       "      <td>0.0</td>\n",
       "      <td>0.0</td>\n",
       "      <td>0.0</td>\n",
       "      <td>0.0</td>\n",
       "      <td>0.0</td>\n",
       "      <td>0.0</td>\n",
       "    </tr>\n",
       "    <tr>\n",
       "      <th>2012</th>\n",
       "      <td>0.0</td>\n",
       "      <td>0.0</td>\n",
       "      <td>1.0</td>\n",
       "      <td>0.0</td>\n",
       "      <td>0.0</td>\n",
       "      <td>0.0</td>\n",
       "      <td>0.0</td>\n",
       "      <td>0.0</td>\n",
       "      <td>0.0</td>\n",
       "      <td>0.0</td>\n",
       "      <td>...</td>\n",
       "      <td>0.0</td>\n",
       "      <td>0.0</td>\n",
       "      <td>0.0</td>\n",
       "      <td>0.0</td>\n",
       "      <td>0.0</td>\n",
       "      <td>0.0</td>\n",
       "      <td>0.0</td>\n",
       "      <td>0.0</td>\n",
       "      <td>0.0</td>\n",
       "      <td>0.0</td>\n",
       "    </tr>\n",
       "    <tr>\n",
       "      <th>2013</th>\n",
       "      <td>0.0</td>\n",
       "      <td>0.0</td>\n",
       "      <td>0.0</td>\n",
       "      <td>0.0</td>\n",
       "      <td>0.0</td>\n",
       "      <td>0.0</td>\n",
       "      <td>0.0</td>\n",
       "      <td>0.0</td>\n",
       "      <td>0.0</td>\n",
       "      <td>0.0</td>\n",
       "      <td>...</td>\n",
       "      <td>0.0</td>\n",
       "      <td>0.0</td>\n",
       "      <td>0.0</td>\n",
       "      <td>0.0</td>\n",
       "      <td>0.0</td>\n",
       "      <td>0.0</td>\n",
       "      <td>0.0</td>\n",
       "      <td>0.0</td>\n",
       "      <td>0.0</td>\n",
       "      <td>0.0</td>\n",
       "    </tr>\n",
       "    <tr>\n",
       "      <th>2014</th>\n",
       "      <td>0.0</td>\n",
       "      <td>0.0</td>\n",
       "      <td>0.0</td>\n",
       "      <td>1.0</td>\n",
       "      <td>0.0</td>\n",
       "      <td>0.0</td>\n",
       "      <td>0.0</td>\n",
       "      <td>0.0</td>\n",
       "      <td>0.0</td>\n",
       "      <td>0.0</td>\n",
       "      <td>...</td>\n",
       "      <td>0.0</td>\n",
       "      <td>0.0</td>\n",
       "      <td>0.0</td>\n",
       "      <td>0.0</td>\n",
       "      <td>0.0</td>\n",
       "      <td>0.0</td>\n",
       "      <td>0.0</td>\n",
       "      <td>0.0</td>\n",
       "      <td>0.0</td>\n",
       "      <td>0.0</td>\n",
       "    </tr>\n",
       "  </tbody>\n",
       "</table>\n",
       "<p>2015 rows × 853 columns</p>\n",
       "</div>"
      ],
      "text/plain": [
       "      Andes mint  Australia  Belize  Blend  Bolivia  Bolvia  Brazil  Burma  \\\n",
       "0            0.0        0.0     0.0    0.0      0.0     0.0     0.0    0.0   \n",
       "1            0.0        0.0     0.0    0.0      0.0     0.0     0.0    0.0   \n",
       "2            0.0        0.0     0.0    0.0      0.0     0.0     0.0    0.0   \n",
       "3            0.0        0.0     0.0    0.0      1.0     0.0     0.0    0.0   \n",
       "4            0.0        0.0     0.0    0.0      0.0     0.0     0.0    0.0   \n",
       "...          ...        ...     ...    ...      ...     ...     ...    ...   \n",
       "2010         0.0        0.0     0.0    1.0      0.0     0.0     0.0    0.0   \n",
       "2011         0.0        0.0     0.0    0.0      0.0     0.0     0.0    0.0   \n",
       "2012         0.0        0.0     1.0    0.0      0.0     0.0     0.0    0.0   \n",
       "2013         0.0        0.0     0.0    0.0      0.0     0.0     0.0    0.0   \n",
       "2014         0.0        0.0     0.0    1.0      0.0     0.0     0.0    0.0   \n",
       "\n",
       "      Cadbury egg  Cameroon  ...  why bother  wild berry  wine  winey  wood  \\\n",
       "0             0.0       0.0  ...         0.0         0.0   0.0    0.0   0.0   \n",
       "1             0.0       0.0  ...         0.0         0.0   0.0    0.0   0.0   \n",
       "2             0.0       0.0  ...         0.0         0.0   0.0    0.0   0.0   \n",
       "3             0.0       0.0  ...         0.0         0.0   0.0    0.0   0.0   \n",
       "4             0.0       0.0  ...         0.0         0.0   0.0    0.0   0.0   \n",
       "...           ...       ...  ...         ...         ...   ...    ...   ...   \n",
       "2010          0.0       0.0  ...         0.0         0.0   0.0    0.0   0.0   \n",
       "2011          0.0       0.0  ...         0.0         0.0   0.0    0.0   0.0   \n",
       "2012          0.0       0.0  ...         0.0         0.0   0.0    0.0   0.0   \n",
       "2013          0.0       0.0  ...         0.0         0.0   0.0    0.0   0.0   \n",
       "2014          0.0       0.0  ...         0.0         0.0   0.0    0.0   0.0   \n",
       "\n",
       "      woodsy  woody  wtf  yellow fruit  yogurt  \n",
       "0        0.0    0.0  0.0           0.0     0.0  \n",
       "1        0.0    0.0  0.0           0.0     0.0  \n",
       "2        0.0    0.0  0.0           0.0     0.0  \n",
       "3        0.0    0.0  0.0           0.0     0.0  \n",
       "4        0.0    0.0  0.0           0.0     0.0  \n",
       "...      ...    ...  ...           ...     ...  \n",
       "2010     0.0    0.0  0.0           0.0     0.0  \n",
       "2011     0.0    0.0  0.0           0.0     0.0  \n",
       "2012     0.0    0.0  0.0           0.0     0.0  \n",
       "2013     0.0    0.0  0.0           0.0     0.0  \n",
       "2014     0.0    0.0  0.0           0.0     0.0  \n",
       "\n",
       "[2015 rows x 853 columns]"
      ]
     },
     "execution_count": 42,
     "metadata": {},
     "output_type": "execute_result"
    }
   ],
   "source": [
    "# one hot encoding categoricals\n",
    "choc_cat = choc[['country_of_bean_origin', 'first_taste', 'second_taste', 'third_taste', 'fourth_taste']]\n",
    "choc_cat_ohe = pd.get_dummies(pd.DataFrame(choc_cat.values.tolist()),prefix_sep ='',prefix='')\n",
    "\n",
    "# extracting rest of the predictors\n",
    "choc_num = choc[['cocoa_percent', 'counts_of_ingredients', 'number_of_taste', 'vanilla', 'lecithin', 'salt', 'sugar']]\n",
    "\n",
    "# extracting response\n",
    "choc_response = choc['rating_category']\n",
    "\n",
    "# combining predictors and response\n",
    "choc_ohe = pd.concat([choc_cat_ohe, choc_response, choc_num], sort = False, axis = 1)\n",
    "choc_ohe = choc_ohe.groupby(level=0, axis=1).sum().drop(columns='no taste')\n",
    "choc_ohe"
   ]
  },
  {
   "cell_type": "markdown",
   "id": "9118ed2c",
   "metadata": {
    "id": "9118ed2c"
   },
   "source": [
    "For our models, we are going to use Stratified K Fold cross validation to evaluate the model, as well as calculating its accuracy rate on a training and testing data set"
   ]
  },
  {
   "cell_type": "code",
   "execution_count": 4,
   "id": "d8556a75",
   "metadata": {
    "id": "d8556a75"
   },
   "outputs": [],
   "source": [
    "from sklearn.model_selection import RepeatedStratifiedKFold, cross_validate, train_test_split"
   ]
  },
  {
   "cell_type": "code",
   "execution_count": 5,
   "id": "ab4aa915",
   "metadata": {
    "id": "ab4aa915"
   },
   "outputs": [],
   "source": [
    "from sklearn.metrics import make_scorer, accuracy_score, precision_score, recall_score, f1_score, confusion_matrix\n",
    "\n",
    "scoring = {'accuracy' : make_scorer(accuracy_score), \n",
    "           'precision' : make_scorer(precision_score),\n",
    "           'recall' : make_scorer(recall_score), \n",
    "           'f1_score' : make_scorer(f1_score)}"
   ]
  },
  {
   "cell_type": "markdown",
   "id": "6bf881f4",
   "metadata": {
    "id": "6bf881f4"
   },
   "source": [
    "Extract response and predictor variables, and split train and test set"
   ]
  },
  {
   "cell_type": "code",
   "execution_count": 6,
   "id": "697f0c34",
   "metadata": {
    "id": "697f0c34"
   },
   "outputs": [],
   "source": [
    "y = pd.DataFrame(choc_ohe['rating_category'])\n",
    "X = pd.DataFrame(choc_ohe.drop('rating_category', axis = 1))\n",
    "X_train, X_test, y_train, y_test = train_test_split(X, y, test_size = 0.2, stratify = y)"
   ]
  },
  {
   "cell_type": "markdown",
   "id": "yo8oGsIzlDMe",
   "metadata": {
    "id": "yo8oGsIzlDMe"
   },
   "source": [
    "# Creating helper function for decision tree and random forest"
   ]
  },
  {
   "cell_type": "code",
   "execution_count": 7,
   "id": "tmSRaf1BlCo-",
   "metadata": {
    "id": "tmSRaf1BlCo-"
   },
   "outputs": [],
   "source": [
    "def evalModel(classifier, X, y, scoring):\n",
    "    cv = RepeatedStratifiedKFold(n_splits=5, n_repeats=3, random_state=1)\n",
    "    n_scores = cross_validate(classifier, X, y, scoring=scoring, cv=cv, n_jobs=-1, error_score='raise')\n",
    "    print('accuracy: %.3f (%.3f)' % (np.mean(n_scores[\"test_accuracy\"]), np.std(n_scores[\"test_accuracy\"])))\n",
    "    print('precison: %.3f (%.3f)' % (np.mean(n_scores[\"test_precision\"]), np.std(n_scores[\"test_precision\"])))\n",
    "    print('recall: %.3f (%.3f)' % (np.mean(n_scores[\"test_recall\"]), np.std(n_scores[\"test_recall\"])))\n",
    "    print('f1 score: %.3f (%.3f)' % (np.mean(n_scores[\"test_f1_score\"]), np.std(n_scores[\"test_f1_score\"])))\n",
    "\n",
    "def fitModel(classifier, X_train, X_test, y_train, y_test):\n",
    "    # train thetree model\n",
    "    classifier.fit(X_train, y_train.rating_category.ravel())\n",
    "\n",
    "    # Predict Response corresponding to Predictors\n",
    "    y_train_pred = classifier.predict(X_train)\n",
    "    y_test_pred = classifier.predict(X_test)\n",
    "\n",
    "    # Check the Goodness of Fit on Train Data\n",
    "    print(\"Goodness of Fit of Model \\tTrain Dataset\")\n",
    "    print(\"Classification Accuracy \\t:\", classifier.score(X_train, y_train))\n",
    "    print()\n",
    "    # Check the Goodness of Fit on Test Data\n",
    "    print(\"Goodness of Fit of Model \\tTest Dataset\")\n",
    "    print(\"Classification Accuracy \\t:\", classifier.score(X_test, y_test))\n",
    "    print()\n",
    "\n",
    "    trainData = confusion_matrix(y_train, y_train_pred)\n",
    "    testData = confusion_matrix(y_test, y_test_pred)\n",
    "\n",
    "    print(\"True '1' rate Train :\\t\", (trainData[1][1]/(trainData[1][0]+trainData[1][1])))\n",
    "    print(\"True '0' rate Train :\\t\", (trainData[0][0]/(trainData[0][0]+trainData[0][1])))\n",
    "    print()\n",
    "    print(\"False '1' rate Train :\\t\", ((trainData[0][1])/((trainData[0][1]+trainData[0][0]))))\n",
    "    print(\"False '0' rate Train :\\t\", ((trainData[1][0])/((trainData[1][0]+trainData[1][1]))))\n",
    "    print()\n",
    "    print(\"True '1' rate Test :\\t\", (testData[1][1]/(testData[1][0]+testData[1][1])))\n",
    "    print(\"True '0' rate Test :\\t\", (testData[0][0]/(testData[0][0]+testData[0][1])))\n",
    "    print()\n",
    "    print(\"False '1' rate Test :\\t\", ((testData[0][1])/((testData[0][1]+testData[0][0]))))\n",
    "    print(\"False '0' rate Test :\\t\", ((testData[1][0])/((testData[1][0]+testData[1][1]))))\n",
    "    print()\n",
    "\n",
    "    # Plot the Confusion Matrix for Train and Test\n",
    "    f, axes = plt.subplots(2, 1, figsize=(8, 16))\n",
    "    sb.heatmap(trainData, annot = True, fmt=\".0f\", annot_kws={\"size\": 18}, ax = axes[0])\n",
    "    sb.heatmap(testData,  annot = True, fmt=\".0f\", annot_kws={\"size\": 18}, ax = axes[1])"
   ]
  },
  {
   "cell_type": "markdown",
   "id": "d71c725a",
   "metadata": {
    "id": "d71c725a"
   },
   "source": [
    "# Classification tree"
   ]
  },
  {
   "cell_type": "markdown",
   "id": "c05014f1",
   "metadata": {
    "id": "c05014f1"
   },
   "source": [
    "We start off with a very simple model, a decision tree classifier"
   ]
  },
  {
   "cell_type": "code",
   "execution_count": 8,
   "id": "cc9db588",
   "metadata": {
    "id": "cc9db588"
   },
   "outputs": [],
   "source": [
    "from sklearn.tree import DecisionTreeClassifier"
   ]
  },
  {
   "cell_type": "markdown",
   "id": "6174ce00",
   "metadata": {
    "id": "6174ce00"
   },
   "source": [
    "Using stratified K fold cross validation to evaluate the model"
   ]
  },
  {
   "cell_type": "code",
   "execution_count": 59,
   "id": "679eef7e",
   "metadata": {
    "colab": {
     "base_uri": "https://localhost:8080/"
    },
    "id": "679eef7e",
    "outputId": "c8669d00-b502-4bdb-8489-83ef33bbca55"
   },
   "outputs": [
    {
     "name": "stdout",
     "output_type": "stream",
     "text": [
      "accuracy: 0.672 (0.021)\n",
      "precison: 0.699 (0.018)\n",
      "recall: 0.762 (0.026)\n",
      "f1 score: 0.729 (0.018)\n"
     ]
    }
   ],
   "source": [
    "dectree = DecisionTreeClassifier(max_depth = 60)\n",
    "evalModel(dectree, X, y, scoring)"
   ]
  },
  {
   "cell_type": "markdown",
   "id": "284c8a1f",
   "metadata": {
    "id": "284c8a1f"
   },
   "source": [
    "Test the model on a train and test data set"
   ]
  },
  {
   "cell_type": "code",
   "execution_count": 60,
   "id": "956b4e16",
   "metadata": {
    "colab": {
     "base_uri": "https://localhost:8080/",
     "height": 1000
    },
    "id": "956b4e16",
    "outputId": "13d61af8-5449-4fd0-d97a-9c9b7f012731"
   },
   "outputs": [
    {
     "name": "stdout",
     "output_type": "stream",
     "text": [
      "Goodness of Fit of Model \tTrain Dataset\n",
      "Classification Accuracy \t: 0.9702233250620348\n",
      "\n",
      "Goodness of Fit of Model \tTest Dataset\n",
      "Classification Accuracy \t: 0.6550868486352357\n",
      "\n",
      "True '1' rate Train :\t 1.0\n",
      "True '0' rate Train :\t 0.9295154185022027\n",
      "\n",
      "False '1' rate Train :\t 0.07048458149779736\n",
      "False '0' rate Train :\t 0.0\n",
      "\n",
      "True '1' rate Test :\t 0.7811158798283262\n",
      "True '0' rate Test :\t 0.4823529411764706\n",
      "\n",
      "False '1' rate Test :\t 0.5176470588235295\n",
      "False '0' rate Test :\t 0.21888412017167383\n",
      "\n"
     ]
    },
    {
     "data": {
      "image/png": "[encoded data removed]",
      "text/plain": [
       "<Figure size 576x1152 with 4 Axes>"
      ]
     },
     "metadata": {},
     "output_type": "display_data"
    }
   ],
   "source": [
    "fitModel(dectree, X_train, X_test, y_train, y_test)"
   ]
  },
  {
   "cell_type": "markdown",
   "id": "8b3f9a46",
   "metadata": {
    "id": "8b3f9a46"
   },
   "source": [
    "Overall, the Classification Tree model did quite a bad job of predicting our chocolate rating, let's see how we can improve upon that accuracy."
   ]
  },
  {
   "cell_type": "markdown",
   "id": "d05ac4a7",
   "metadata": {
    "id": "d05ac4a7"
   },
   "source": [
    "# Random Forest"
   ]
  },
  {
   "cell_type": "code",
   "execution_count": 61,
   "id": "9f2c9e8b",
   "metadata": {
    "id": "9f2c9e8b"
   },
   "outputs": [],
   "source": [
    "from sklearn.ensemble import RandomForestClassifier"
   ]
  },
  {
   "cell_type": "markdown",
   "id": "8d16a7e5",
   "metadata": {
    "id": "8d16a7e5"
   },
   "source": [
    "Using stratified K fold cross validation to evaluate the model"
   ]
  },
  {
   "cell_type": "code",
   "execution_count": 62,
   "id": "6f31a982",
   "metadata": {
    "colab": {
     "base_uri": "https://localhost:8080/"
    },
    "id": "6f31a982",
    "outputId": "cfc38caa-8233-4e34-ddb0-4bce0f815cdb"
   },
   "outputs": [
    {
     "name": "stdout",
     "output_type": "stream",
     "text": [
      "accuracy: 0.723 (0.019)\n",
      "precison: 0.723 (0.015)\n",
      "recall: 0.846 (0.026)\n",
      "f1 score: 0.779 (0.016)\n"
     ]
    }
   ],
   "source": [
    "rforest = RandomForestClassifier(n_estimators = 800, max_depth = 80)\n",
    "evalModel(rforest, X, y, scoring)"
   ]
  },
  {
   "cell_type": "markdown",
   "id": "bf19d284",
   "metadata": {
    "id": "bf19d284"
   },
   "source": [
    "Test the model on a train and test data set"
   ]
  },
  {
   "cell_type": "code",
   "execution_count": 63,
   "id": "60f23220",
   "metadata": {
    "colab": {
     "base_uri": "https://localhost:8080/",
     "height": 1000
    },
    "id": "60f23220",
    "outputId": "fb9c450a-1f57-4dad-a0f7-383fe6446670"
   },
   "outputs": [
    {
     "name": "stdout",
     "output_type": "stream",
     "text": [
      "Goodness of Fit of Model \tTrain Dataset\n",
      "Classification Accuracy \t: 0.999379652605459\n",
      "\n",
      "Goodness of Fit of Model \tTest Dataset\n",
      "Classification Accuracy \t: 0.7196029776674938\n",
      "\n",
      "True '1' rate Train :\t 1.0\n",
      "True '0' rate Train :\t 0.9985315712187959\n",
      "\n",
      "False '1' rate Train :\t 0.0014684287812041115\n",
      "False '0' rate Train :\t 0.0\n",
      "\n",
      "True '1' rate Test :\t 0.8369098712446352\n",
      "True '0' rate Test :\t 0.5588235294117647\n",
      "\n",
      "False '1' rate Test :\t 0.4411764705882353\n",
      "False '0' rate Test :\t 0.1630901287553648\n",
      "\n"
     ]
    },
    {
     "data": {
      "image/png": "[encoded data removed]",
      "text/plain": [
       "<Figure size 576x1152 with 4 Axes>"
      ]
     },
     "metadata": {},
     "output_type": "display_data"
    }
   ],
   "source": [
    "fitModel(rforest, X_train, X_test, y_train, y_test)"
   ]
  },
  {
   "cell_type": "markdown",
   "id": "5d709a34",
   "metadata": {
    "id": "5d709a34"
   },
   "source": [
    "Better accuracy and recall value on the test set. Better ability of predicting true '1', however that is at the cost of high false '1' rate."
   ]
  },
  {
   "cell_type": "markdown",
   "id": "d7598e5d",
   "metadata": {
    "id": "d7598e5d"
   },
   "source": [
    "# Upsampling the minority class in rating category"
   ]
  },
  {
   "cell_type": "code",
   "execution_count": 64,
   "id": "0159a675",
   "metadata": {
    "colab": {
     "base_uri": "https://localhost:8080/"
    },
    "id": "0159a675",
    "outputId": "41ccfa4d-736b-4495-da6b-ea690ffbf9a5"
   },
   "outputs": [
    {
     "data": {
      "text/plain": [
       "1.0    1164\n",
       "0.0     851\n",
       "Name: rating_category, dtype: int64"
      ]
     },
     "execution_count": 64,
     "metadata": {},
     "output_type": "execute_result"
    }
   ],
   "source": [
    "# See which category of rating is imbalanced\n",
    "choc_ohe.rating_category.value_counts()"
   ]
  },
  {
   "cell_type": "code",
   "execution_count": 65,
   "id": "7cc2beaa",
   "metadata": {
    "id": "7cc2beaa"
   },
   "outputs": [],
   "source": [
    "from imblearn.over_sampling import SVMSMOTE\n",
    "from imblearn.over_sampling import SMOTE\n",
    "from imblearn.over_sampling import BorderlineSMOTE\n",
    "from imblearn.over_sampling import KMeansSMOTE\n",
    "from imblearn.over_sampling import ADASYN\n",
    "from imblearn.under_sampling import RandomUnderSampler\n",
    "from imblearn.pipeline import Pipeline"
   ]
  },
  {
   "cell_type": "code",
   "execution_count": 66,
   "id": "82f4a397",
   "metadata": {
    "id": "82f4a397"
   },
   "outputs": [],
   "source": [
    "rforest = RandomForestClassifier(n_estimators = 800, max_depth = 80)\n",
    "over = ADASYN()\n",
    "under = RandomUnderSampler(sampling_strategy=0.5) \n",
    "steps = [(\"smote\", over),(\"model\", rforest)]\n",
    "pipeline = Pipeline(steps = steps)"
   ]
  },
  {
   "cell_type": "markdown",
   "id": "6d74d80f",
   "metadata": {
    "id": "6d74d80f"
   },
   "source": [
    "Experimented with different kind of SMOTE algorithms, including SMOTE, SVMSMOTE, BorderlineSMOTE, KMeansSMOTE and ADASYN.\n",
    "Found that ADASYN generally resulted in the best parameters"
   ]
  },
  {
   "cell_type": "markdown",
   "id": "7fe54f19",
   "metadata": {
    "id": "7fe54f19"
   },
   "source": [
    "Using stratified K fold cross validation to evalute the model"
   ]
  },
  {
   "cell_type": "code",
   "execution_count": 67,
   "id": "7d8cdf7f",
   "metadata": {
    "colab": {
     "base_uri": "https://localhost:8080/"
    },
    "id": "7d8cdf7f",
    "outputId": "7427f52f-5036-4398-9159-64b8bab27c42"
   },
   "outputs": [
    {
     "name": "stdout",
     "output_type": "stream",
     "text": [
      "accuracy: 0.720 (0.018)\n",
      "precison: 0.725 (0.015)\n",
      "recall: 0.830 (0.027)\n",
      "f1 score: 0.774 (0.016)\n"
     ]
    }
   ],
   "source": [
    "evalModel(pipeline, X, y, scoring)"
   ]
  },
  {
   "cell_type": "markdown",
   "id": "67d7ee9a",
   "metadata": {
    "id": "67d7ee9a"
   },
   "source": [
    "Test the model on a train and test data set"
   ]
  },
  {
   "cell_type": "code",
   "execution_count": 68,
   "id": "24dec37f",
   "metadata": {
    "colab": {
     "base_uri": "https://localhost:8080/"
    },
    "id": "24dec37f",
    "outputId": "2540e635-7d79-4483-f569-11ea1074d195"
   },
   "outputs": [
    {
     "data": {
      "text/plain": [
       "rating_category\n",
       "1.0                931\n",
       "0.0                681\n",
       "dtype: int64"
      ]
     },
     "execution_count": 68,
     "metadata": {},
     "output_type": "execute_result"
    }
   ],
   "source": [
    "y_train.value_counts()"
   ]
  },
  {
   "cell_type": "code",
   "execution_count": 69,
   "id": "698aa97e",
   "metadata": {
    "colab": {
     "base_uri": "https://localhost:8080/"
    },
    "id": "698aa97e",
    "outputId": "54004ac0-0ca0-41ca-fec1-eb4fd76de037"
   },
   "outputs": [
    {
     "data": {
      "text/plain": [
       "rating_category\n",
       "1.0                931\n",
       "0.0                849\n",
       "dtype: int64"
      ]
     },
     "execution_count": 69,
     "metadata": {},
     "output_type": "execute_result"
    }
   ],
   "source": [
    "X_train_res, y_train_res = over.fit_resample(X_train, y_train)\n",
    "y_train_res.value_counts()"
   ]
  },
  {
   "cell_type": "code",
   "execution_count": 70,
   "id": "0ca02d85",
   "metadata": {
    "colab": {
     "base_uri": "https://localhost:8080/",
     "height": 1000
    },
    "id": "0ca02d85",
    "outputId": "97e20c5e-5d7c-4392-a574-3e7b1dbe1eac"
   },
   "outputs": [
    {
     "name": "stdout",
     "output_type": "stream",
     "text": [
      "Goodness of Fit of Model \tTrain Dataset\n",
      "Classification Accuracy \t: 0.999438202247191\n",
      "\n",
      "Goodness of Fit of Model \tTest Dataset\n",
      "Classification Accuracy \t: 0.7295285359801489\n",
      "\n",
      "True '1' rate Train :\t 1.0\n",
      "True '0' rate Train :\t 0.9988221436984688\n",
      "\n",
      "False '1' rate Train :\t 0.001177856301531213\n",
      "False '0' rate Train :\t 0.0\n",
      "\n",
      "True '1' rate Test :\t 0.8283261802575107\n",
      "True '0' rate Test :\t 0.5941176470588235\n",
      "\n",
      "False '1' rate Test :\t 0.40588235294117647\n",
      "False '0' rate Test :\t 0.17167381974248927\n",
      "\n"
     ]
    },
    {
     "data": {
      "image/png": "[encoded data removed]",
      "text/plain": [
       "<Figure size 576x1152 with 4 Axes>"
      ]
     },
     "metadata": {},
     "output_type": "display_data"
    }
   ],
   "source": [
    "fitModel(rforest, X_train_res, X_test, y_train_res, y_test)"
   ]
  },
  {
   "cell_type": "markdown",
   "id": "254341e6",
   "metadata": {
    "id": "254341e6"
   },
   "source": [
    "Better accuracy, and better recall rate as well"
   ]
  },
  {
   "cell_type": "markdown",
   "id": "056cdd0c",
   "metadata": {
    "id": "056cdd0c"
   },
   "source": [
    "# Removing minority classes in predictors"
   ]
  },
  {
   "cell_type": "code",
   "execution_count": 125,
   "id": "81f60a04",
   "metadata": {},
   "outputs": [
    {
     "data": {
      "text/plain": [
       "country_of_bean_origin    2.226323\n",
       "dtype: float64"
      ]
     },
     "execution_count": 125,
     "metadata": {},
     "output_type": "execute_result"
    }
   ],
   "source": [
    "pd.DataFrame(choc[\"country_of_bean_origin\"].value_counts()).skew()"
   ]
  },
  {
   "cell_type": "code",
   "execution_count": 132,
   "id": "71533a21",
   "metadata": {},
   "outputs": [
    {
     "data": {
      "text/plain": [
       "country_of_bean_origin    4.534471\n",
       "dtype: float64"
      ]
     },
     "execution_count": 132,
     "metadata": {},
     "output_type": "execute_result"
    }
   ],
   "source": [
    "pd.DataFrame(choc[\"country_of_bean_origin\"].value_counts()).kurtosis()"
   ]
  },
  {
   "cell_type": "markdown",
   "id": "02c04f02",
   "metadata": {},
   "source": [
    "Very skewed distribution"
   ]
  },
  {
   "cell_type": "code",
   "execution_count": 147,
   "id": "02bb857b",
   "metadata": {
    "colab": {
     "base_uri": "https://localhost:8080/",
     "height": 551
    },
    "id": "02bb857b",
    "outputId": "f8c7cf0e-34dd-4c65-d0ce-2d9740a22014"
   },
   "outputs": [
    {
     "name": "stderr",
     "output_type": "stream",
     "text": [
      "C:\\Users\\User\\AppData\\Local\\Temp/ipykernel_30128/3745821162.py:3: FutureWarning: Dropping of nuisance columns in DataFrame reductions (with 'numeric_only=None') is deprecated; in a future version this will raise TypeError.  Select only valid columns before calling the reduction.\n",
      "  beanOriginTop.skew()\n"
     ]
    },
    {
     "data": {
      "text/plain": [
       "country_of_bean_origin    0.982775\n",
       "dtype: float64"
      ]
     },
     "execution_count": 147,
     "metadata": {},
     "output_type": "execute_result"
    }
   ],
   "source": [
    "beanOriginCounts = pd.DataFrame(choc['country_of_bean_origin'].value_counts())\n",
    "beanOriginTop = beanOriginCounts[beanOriginCounts['country_of_bean_origin'] > 35].reset_index()\n",
    "beanOriginTop.skew()"
   ]
  },
  {
   "cell_type": "code",
   "execution_count": 131,
   "id": "6447caea",
   "metadata": {},
   "outputs": [
    {
     "name": "stderr",
     "output_type": "stream",
     "text": [
      "C:\\Users\\User\\AppData\\Local\\Temp/ipykernel_30128/2540313831.py:1: FutureWarning: Dropping of nuisance columns in DataFrame reductions (with 'numeric_only=None') is deprecated; in a future version this will raise TypeError.  Select only valid columns before calling the reduction.\n",
      "  beanOriginTop.kurtosis()\n"
     ]
    },
    {
     "data": {
      "text/plain": [
       "country_of_bean_origin   -0.520408\n",
       "dtype: float64"
      ]
     },
     "execution_count": 131,
     "metadata": {},
     "output_type": "execute_result"
    }
   ],
   "source": [
    "beanOriginTop.kurtosis()"
   ]
  },
  {
   "cell_type": "markdown",
   "id": "3df819b1",
   "metadata": {
    "id": "3df819b1"
   },
   "source": [
    "More acceptable skewness and kurtosis values"
   ]
  },
  {
   "cell_type": "code",
   "execution_count": 133,
   "id": "326e7182",
   "metadata": {
    "colab": {
     "base_uri": "https://localhost:8080/",
     "height": 487
    },
    "id": "326e7182",
    "outputId": "4c900a1e-4e08-4e3d-9d9f-da9bf61377fa"
   },
   "outputs": [
    {
     "data": {
      "text/html": [
       "<div>\n",
       "<style scoped>\n",
       "    .dataframe tbody tr th:only-of-type {\n",
       "        vertical-align: middle;\n",
       "    }\n",
       "\n",
       "    .dataframe tbody tr th {\n",
       "        vertical-align: top;\n",
       "    }\n",
       "\n",
       "    .dataframe thead th {\n",
       "        text-align: right;\n",
       "    }\n",
       "</style>\n",
       "<table border=\"1\" class=\"dataframe\">\n",
       "  <thead>\n",
       "    <tr style=\"text-align: right;\">\n",
       "      <th></th>\n",
       "      <th>country_of_bean_origin</th>\n",
       "      <th>cocoa_percent</th>\n",
       "      <th>rating_category</th>\n",
       "      <th>rating</th>\n",
       "      <th>counts_of_ingredients</th>\n",
       "      <th>cocoa_butter</th>\n",
       "      <th>vanilla</th>\n",
       "      <th>lecithin</th>\n",
       "      <th>salt</th>\n",
       "      <th>sugar</th>\n",
       "      <th>first_taste</th>\n",
       "      <th>second_taste</th>\n",
       "      <th>third_taste</th>\n",
       "      <th>fourth_taste</th>\n",
       "      <th>number_of_taste</th>\n",
       "    </tr>\n",
       "  </thead>\n",
       "  <tbody>\n",
       "    <tr>\n",
       "      <th>0</th>\n",
       "      <td>Madagascar</td>\n",
       "      <td>76.0</td>\n",
       "      <td>1</td>\n",
       "      <td>3.75</td>\n",
       "      <td>3</td>\n",
       "      <td>1</td>\n",
       "      <td>0</td>\n",
       "      <td>0</td>\n",
       "      <td>0</td>\n",
       "      <td>1</td>\n",
       "      <td>cocoa</td>\n",
       "      <td>blackberry</td>\n",
       "      <td>full body</td>\n",
       "      <td>no taste</td>\n",
       "      <td>3</td>\n",
       "    </tr>\n",
       "    <tr>\n",
       "      <th>1</th>\n",
       "      <td>Dominican republic</td>\n",
       "      <td>76.0</td>\n",
       "      <td>1</td>\n",
       "      <td>3.50</td>\n",
       "      <td>3</td>\n",
       "      <td>1</td>\n",
       "      <td>0</td>\n",
       "      <td>0</td>\n",
       "      <td>0</td>\n",
       "      <td>1</td>\n",
       "      <td>cocoa</td>\n",
       "      <td>vegetal</td>\n",
       "      <td>savory</td>\n",
       "      <td>no taste</td>\n",
       "      <td>3</td>\n",
       "    </tr>\n",
       "    <tr>\n",
       "      <th>2</th>\n",
       "      <td>Tanzania</td>\n",
       "      <td>76.0</td>\n",
       "      <td>1</td>\n",
       "      <td>3.25</td>\n",
       "      <td>3</td>\n",
       "      <td>1</td>\n",
       "      <td>0</td>\n",
       "      <td>0</td>\n",
       "      <td>0</td>\n",
       "      <td>1</td>\n",
       "      <td>rich cocoa</td>\n",
       "      <td>fatty</td>\n",
       "      <td>bready</td>\n",
       "      <td>no taste</td>\n",
       "      <td>3</td>\n",
       "    </tr>\n",
       "    <tr>\n",
       "      <th>3</th>\n",
       "      <td>Bolivia</td>\n",
       "      <td>70.0</td>\n",
       "      <td>1</td>\n",
       "      <td>3.50</td>\n",
       "      <td>4</td>\n",
       "      <td>1</td>\n",
       "      <td>0</td>\n",
       "      <td>1</td>\n",
       "      <td>0</td>\n",
       "      <td>1</td>\n",
       "      <td>vegetal</td>\n",
       "      <td>nutty</td>\n",
       "      <td>no taste</td>\n",
       "      <td>no taste</td>\n",
       "      <td>2</td>\n",
       "    </tr>\n",
       "    <tr>\n",
       "      <th>4</th>\n",
       "      <td>Venezuela</td>\n",
       "      <td>70.0</td>\n",
       "      <td>1</td>\n",
       "      <td>4.00</td>\n",
       "      <td>4</td>\n",
       "      <td>1</td>\n",
       "      <td>0</td>\n",
       "      <td>1</td>\n",
       "      <td>0</td>\n",
       "      <td>1</td>\n",
       "      <td>oily</td>\n",
       "      <td>nut</td>\n",
       "      <td>caramel</td>\n",
       "      <td>raspberry</td>\n",
       "      <td>4</td>\n",
       "    </tr>\n",
       "    <tr>\n",
       "      <th>...</th>\n",
       "      <td>...</td>\n",
       "      <td>...</td>\n",
       "      <td>...</td>\n",
       "      <td>...</td>\n",
       "      <td>...</td>\n",
       "      <td>...</td>\n",
       "      <td>...</td>\n",
       "      <td>...</td>\n",
       "      <td>...</td>\n",
       "      <td>...</td>\n",
       "      <td>...</td>\n",
       "      <td>...</td>\n",
       "      <td>...</td>\n",
       "      <td>...</td>\n",
       "      <td>...</td>\n",
       "    </tr>\n",
       "    <tr>\n",
       "      <th>1637</th>\n",
       "      <td>Papua new guinea</td>\n",
       "      <td>75.0</td>\n",
       "      <td>0</td>\n",
       "      <td>3.00</td>\n",
       "      <td>4</td>\n",
       "      <td>1</td>\n",
       "      <td>0</td>\n",
       "      <td>0</td>\n",
       "      <td>1</td>\n",
       "      <td>0</td>\n",
       "      <td>hint of smoke</td>\n",
       "      <td>fruit</td>\n",
       "      <td>no taste</td>\n",
       "      <td>no taste</td>\n",
       "      <td>2</td>\n",
       "    </tr>\n",
       "    <tr>\n",
       "      <th>1638</th>\n",
       "      <td>Blend</td>\n",
       "      <td>80.0</td>\n",
       "      <td>0</td>\n",
       "      <td>2.75</td>\n",
       "      <td>4</td>\n",
       "      <td>1</td>\n",
       "      <td>0</td>\n",
       "      <td>0</td>\n",
       "      <td>1</td>\n",
       "      <td>0</td>\n",
       "      <td>waxy</td>\n",
       "      <td>cloying</td>\n",
       "      <td>vegetal</td>\n",
       "      <td>no taste</td>\n",
       "      <td>3</td>\n",
       "    </tr>\n",
       "    <tr>\n",
       "      <th>1639</th>\n",
       "      <td>Colombia</td>\n",
       "      <td>75.0</td>\n",
       "      <td>1</td>\n",
       "      <td>3.75</td>\n",
       "      <td>3</td>\n",
       "      <td>1</td>\n",
       "      <td>0</td>\n",
       "      <td>0</td>\n",
       "      <td>0</td>\n",
       "      <td>1</td>\n",
       "      <td>strong nutty</td>\n",
       "      <td>marshmallow</td>\n",
       "      <td>no taste</td>\n",
       "      <td>no taste</td>\n",
       "      <td>2</td>\n",
       "    </tr>\n",
       "    <tr>\n",
       "      <th>1640</th>\n",
       "      <td>Belize</td>\n",
       "      <td>72.0</td>\n",
       "      <td>1</td>\n",
       "      <td>3.50</td>\n",
       "      <td>3</td>\n",
       "      <td>1</td>\n",
       "      <td>0</td>\n",
       "      <td>0</td>\n",
       "      <td>0</td>\n",
       "      <td>1</td>\n",
       "      <td>muted</td>\n",
       "      <td>roasty</td>\n",
       "      <td>accessible</td>\n",
       "      <td>no taste</td>\n",
       "      <td>3</td>\n",
       "    </tr>\n",
       "    <tr>\n",
       "      <th>1641</th>\n",
       "      <td>Blend</td>\n",
       "      <td>75.0</td>\n",
       "      <td>0</td>\n",
       "      <td>3.00</td>\n",
       "      <td>3</td>\n",
       "      <td>1</td>\n",
       "      <td>0</td>\n",
       "      <td>0</td>\n",
       "      <td>0</td>\n",
       "      <td>1</td>\n",
       "      <td>fatty</td>\n",
       "      <td>earthy</td>\n",
       "      <td>cocoa</td>\n",
       "      <td>no taste</td>\n",
       "      <td>3</td>\n",
       "    </tr>\n",
       "  </tbody>\n",
       "</table>\n",
       "<p>1642 rows × 15 columns</p>\n",
       "</div>"
      ],
      "text/plain": [
       "     country_of_bean_origin  cocoa_percent  rating_category  rating  \\\n",
       "0                Madagascar           76.0                1    3.75   \n",
       "1        Dominican republic           76.0                1    3.50   \n",
       "2                  Tanzania           76.0                1    3.25   \n",
       "3                   Bolivia           70.0                1    3.50   \n",
       "4                 Venezuela           70.0                1    4.00   \n",
       "...                     ...            ...              ...     ...   \n",
       "1637       Papua new guinea           75.0                0    3.00   \n",
       "1638                  Blend           80.0                0    2.75   \n",
       "1639               Colombia           75.0                1    3.75   \n",
       "1640                 Belize           72.0                1    3.50   \n",
       "1641                  Blend           75.0                0    3.00   \n",
       "\n",
       "      counts_of_ingredients  cocoa_butter  vanilla  lecithin  salt  sugar  \\\n",
       "0                         3             1        0         0     0      1   \n",
       "1                         3             1        0         0     0      1   \n",
       "2                         3             1        0         0     0      1   \n",
       "3                         4             1        0         1     0      1   \n",
       "4                         4             1        0         1     0      1   \n",
       "...                     ...           ...      ...       ...   ...    ...   \n",
       "1637                      4             1        0         0     1      0   \n",
       "1638                      4             1        0         0     1      0   \n",
       "1639                      3             1        0         0     0      1   \n",
       "1640                      3             1        0         0     0      1   \n",
       "1641                      3             1        0         0     0      1   \n",
       "\n",
       "        first_taste second_taste third_taste fourth_taste  number_of_taste  \n",
       "0             cocoa   blackberry   full body     no taste                3  \n",
       "1             cocoa      vegetal      savory     no taste                3  \n",
       "2        rich cocoa        fatty      bready     no taste                3  \n",
       "3           vegetal        nutty    no taste     no taste                2  \n",
       "4              oily          nut     caramel    raspberry                4  \n",
       "...             ...          ...         ...          ...              ...  \n",
       "1637  hint of smoke        fruit    no taste     no taste                2  \n",
       "1638           waxy      cloying     vegetal     no taste                3  \n",
       "1639   strong nutty  marshmallow    no taste     no taste                2  \n",
       "1640          muted       roasty  accessible     no taste                3  \n",
       "1641          fatty       earthy       cocoa     no taste                3  \n",
       "\n",
       "[1642 rows x 15 columns]"
      ]
     },
     "execution_count": 133,
     "metadata": {},
     "output_type": "execute_result"
    }
   ],
   "source": [
    "choc_xoutlier = choc[choc[\"country_of_bean_origin\"].isin(beanOriginTop[\"index\"])].reset_index(drop=True)\n",
    "choc_xoutlier"
   ]
  },
  {
   "cell_type": "code",
   "execution_count": 134,
   "id": "c5d72f3c",
   "metadata": {
    "colab": {
     "base_uri": "https://localhost:8080/",
     "height": 505
    },
    "id": "c5d72f3c",
    "outputId": "5b835e71-721a-467d-f75f-3e3df14a64ca"
   },
   "outputs": [
    {
     "data": {
      "text/html": [
       "<div>\n",
       "<style scoped>\n",
       "    .dataframe tbody tr th:only-of-type {\n",
       "        vertical-align: middle;\n",
       "    }\n",
       "\n",
       "    .dataframe tbody tr th {\n",
       "        vertical-align: top;\n",
       "    }\n",
       "\n",
       "    .dataframe thead th {\n",
       "        text-align: right;\n",
       "    }\n",
       "</style>\n",
       "<table border=\"1\" class=\"dataframe\">\n",
       "  <thead>\n",
       "    <tr style=\"text-align: right;\">\n",
       "      <th></th>\n",
       "      <th>Belize</th>\n",
       "      <th>Blend</th>\n",
       "      <th>Bolivia</th>\n",
       "      <th>Brazil</th>\n",
       "      <th>Cadbury egg</th>\n",
       "      <th>Colombia</th>\n",
       "      <th>Costa rica</th>\n",
       "      <th>Dominican republic</th>\n",
       "      <th>Easter candy</th>\n",
       "      <th>Ecuador</th>\n",
       "      <th>...</th>\n",
       "      <th>why bother</th>\n",
       "      <th>wild berry</th>\n",
       "      <th>wine</th>\n",
       "      <th>winey</th>\n",
       "      <th>wood</th>\n",
       "      <th>woodsy</th>\n",
       "      <th>woody</th>\n",
       "      <th>wtf</th>\n",
       "      <th>yellow fruit</th>\n",
       "      <th>yogurt</th>\n",
       "    </tr>\n",
       "  </thead>\n",
       "  <tbody>\n",
       "    <tr>\n",
       "      <th>0</th>\n",
       "      <td>0.0</td>\n",
       "      <td>0.0</td>\n",
       "      <td>0.0</td>\n",
       "      <td>0.0</td>\n",
       "      <td>0.0</td>\n",
       "      <td>0.0</td>\n",
       "      <td>0.0</td>\n",
       "      <td>0.0</td>\n",
       "      <td>0.0</td>\n",
       "      <td>0.0</td>\n",
       "      <td>...</td>\n",
       "      <td>0.0</td>\n",
       "      <td>0.0</td>\n",
       "      <td>0.0</td>\n",
       "      <td>0.0</td>\n",
       "      <td>0.0</td>\n",
       "      <td>0.0</td>\n",
       "      <td>0.0</td>\n",
       "      <td>0.0</td>\n",
       "      <td>0.0</td>\n",
       "      <td>0.0</td>\n",
       "    </tr>\n",
       "    <tr>\n",
       "      <th>1</th>\n",
       "      <td>0.0</td>\n",
       "      <td>0.0</td>\n",
       "      <td>0.0</td>\n",
       "      <td>0.0</td>\n",
       "      <td>0.0</td>\n",
       "      <td>0.0</td>\n",
       "      <td>0.0</td>\n",
       "      <td>1.0</td>\n",
       "      <td>0.0</td>\n",
       "      <td>0.0</td>\n",
       "      <td>...</td>\n",
       "      <td>0.0</td>\n",
       "      <td>0.0</td>\n",
       "      <td>0.0</td>\n",
       "      <td>0.0</td>\n",
       "      <td>0.0</td>\n",
       "      <td>0.0</td>\n",
       "      <td>0.0</td>\n",
       "      <td>0.0</td>\n",
       "      <td>0.0</td>\n",
       "      <td>0.0</td>\n",
       "    </tr>\n",
       "    <tr>\n",
       "      <th>2</th>\n",
       "      <td>0.0</td>\n",
       "      <td>0.0</td>\n",
       "      <td>0.0</td>\n",
       "      <td>0.0</td>\n",
       "      <td>0.0</td>\n",
       "      <td>0.0</td>\n",
       "      <td>0.0</td>\n",
       "      <td>0.0</td>\n",
       "      <td>0.0</td>\n",
       "      <td>0.0</td>\n",
       "      <td>...</td>\n",
       "      <td>0.0</td>\n",
       "      <td>0.0</td>\n",
       "      <td>0.0</td>\n",
       "      <td>0.0</td>\n",
       "      <td>0.0</td>\n",
       "      <td>0.0</td>\n",
       "      <td>0.0</td>\n",
       "      <td>0.0</td>\n",
       "      <td>0.0</td>\n",
       "      <td>0.0</td>\n",
       "    </tr>\n",
       "    <tr>\n",
       "      <th>3</th>\n",
       "      <td>0.0</td>\n",
       "      <td>0.0</td>\n",
       "      <td>1.0</td>\n",
       "      <td>0.0</td>\n",
       "      <td>0.0</td>\n",
       "      <td>0.0</td>\n",
       "      <td>0.0</td>\n",
       "      <td>0.0</td>\n",
       "      <td>0.0</td>\n",
       "      <td>0.0</td>\n",
       "      <td>...</td>\n",
       "      <td>0.0</td>\n",
       "      <td>0.0</td>\n",
       "      <td>0.0</td>\n",
       "      <td>0.0</td>\n",
       "      <td>0.0</td>\n",
       "      <td>0.0</td>\n",
       "      <td>0.0</td>\n",
       "      <td>0.0</td>\n",
       "      <td>0.0</td>\n",
       "      <td>0.0</td>\n",
       "    </tr>\n",
       "    <tr>\n",
       "      <th>4</th>\n",
       "      <td>0.0</td>\n",
       "      <td>0.0</td>\n",
       "      <td>0.0</td>\n",
       "      <td>0.0</td>\n",
       "      <td>0.0</td>\n",
       "      <td>0.0</td>\n",
       "      <td>0.0</td>\n",
       "      <td>0.0</td>\n",
       "      <td>0.0</td>\n",
       "      <td>0.0</td>\n",
       "      <td>...</td>\n",
       "      <td>0.0</td>\n",
       "      <td>0.0</td>\n",
       "      <td>0.0</td>\n",
       "      <td>0.0</td>\n",
       "      <td>0.0</td>\n",
       "      <td>0.0</td>\n",
       "      <td>0.0</td>\n",
       "      <td>0.0</td>\n",
       "      <td>0.0</td>\n",
       "      <td>0.0</td>\n",
       "    </tr>\n",
       "    <tr>\n",
       "      <th>...</th>\n",
       "      <td>...</td>\n",
       "      <td>...</td>\n",
       "      <td>...</td>\n",
       "      <td>...</td>\n",
       "      <td>...</td>\n",
       "      <td>...</td>\n",
       "      <td>...</td>\n",
       "      <td>...</td>\n",
       "      <td>...</td>\n",
       "      <td>...</td>\n",
       "      <td>...</td>\n",
       "      <td>...</td>\n",
       "      <td>...</td>\n",
       "      <td>...</td>\n",
       "      <td>...</td>\n",
       "      <td>...</td>\n",
       "      <td>...</td>\n",
       "      <td>...</td>\n",
       "      <td>...</td>\n",
       "      <td>...</td>\n",
       "      <td>...</td>\n",
       "    </tr>\n",
       "    <tr>\n",
       "      <th>1637</th>\n",
       "      <td>0.0</td>\n",
       "      <td>0.0</td>\n",
       "      <td>0.0</td>\n",
       "      <td>0.0</td>\n",
       "      <td>0.0</td>\n",
       "      <td>0.0</td>\n",
       "      <td>0.0</td>\n",
       "      <td>0.0</td>\n",
       "      <td>0.0</td>\n",
       "      <td>0.0</td>\n",
       "      <td>...</td>\n",
       "      <td>0.0</td>\n",
       "      <td>0.0</td>\n",
       "      <td>0.0</td>\n",
       "      <td>0.0</td>\n",
       "      <td>0.0</td>\n",
       "      <td>0.0</td>\n",
       "      <td>0.0</td>\n",
       "      <td>0.0</td>\n",
       "      <td>0.0</td>\n",
       "      <td>0.0</td>\n",
       "    </tr>\n",
       "    <tr>\n",
       "      <th>1638</th>\n",
       "      <td>0.0</td>\n",
       "      <td>1.0</td>\n",
       "      <td>0.0</td>\n",
       "      <td>0.0</td>\n",
       "      <td>0.0</td>\n",
       "      <td>0.0</td>\n",
       "      <td>0.0</td>\n",
       "      <td>0.0</td>\n",
       "      <td>0.0</td>\n",
       "      <td>0.0</td>\n",
       "      <td>...</td>\n",
       "      <td>0.0</td>\n",
       "      <td>0.0</td>\n",
       "      <td>0.0</td>\n",
       "      <td>0.0</td>\n",
       "      <td>0.0</td>\n",
       "      <td>0.0</td>\n",
       "      <td>0.0</td>\n",
       "      <td>0.0</td>\n",
       "      <td>0.0</td>\n",
       "      <td>0.0</td>\n",
       "    </tr>\n",
       "    <tr>\n",
       "      <th>1639</th>\n",
       "      <td>0.0</td>\n",
       "      <td>0.0</td>\n",
       "      <td>0.0</td>\n",
       "      <td>0.0</td>\n",
       "      <td>0.0</td>\n",
       "      <td>1.0</td>\n",
       "      <td>0.0</td>\n",
       "      <td>0.0</td>\n",
       "      <td>0.0</td>\n",
       "      <td>0.0</td>\n",
       "      <td>...</td>\n",
       "      <td>0.0</td>\n",
       "      <td>0.0</td>\n",
       "      <td>0.0</td>\n",
       "      <td>0.0</td>\n",
       "      <td>0.0</td>\n",
       "      <td>0.0</td>\n",
       "      <td>0.0</td>\n",
       "      <td>0.0</td>\n",
       "      <td>0.0</td>\n",
       "      <td>0.0</td>\n",
       "    </tr>\n",
       "    <tr>\n",
       "      <th>1640</th>\n",
       "      <td>1.0</td>\n",
       "      <td>0.0</td>\n",
       "      <td>0.0</td>\n",
       "      <td>0.0</td>\n",
       "      <td>0.0</td>\n",
       "      <td>0.0</td>\n",
       "      <td>0.0</td>\n",
       "      <td>0.0</td>\n",
       "      <td>0.0</td>\n",
       "      <td>0.0</td>\n",
       "      <td>...</td>\n",
       "      <td>0.0</td>\n",
       "      <td>0.0</td>\n",
       "      <td>0.0</td>\n",
       "      <td>0.0</td>\n",
       "      <td>0.0</td>\n",
       "      <td>0.0</td>\n",
       "      <td>0.0</td>\n",
       "      <td>0.0</td>\n",
       "      <td>0.0</td>\n",
       "      <td>0.0</td>\n",
       "    </tr>\n",
       "    <tr>\n",
       "      <th>1641</th>\n",
       "      <td>0.0</td>\n",
       "      <td>1.0</td>\n",
       "      <td>0.0</td>\n",
       "      <td>0.0</td>\n",
       "      <td>0.0</td>\n",
       "      <td>0.0</td>\n",
       "      <td>0.0</td>\n",
       "      <td>0.0</td>\n",
       "      <td>0.0</td>\n",
       "      <td>0.0</td>\n",
       "      <td>...</td>\n",
       "      <td>0.0</td>\n",
       "      <td>0.0</td>\n",
       "      <td>0.0</td>\n",
       "      <td>0.0</td>\n",
       "      <td>0.0</td>\n",
       "      <td>0.0</td>\n",
       "      <td>0.0</td>\n",
       "      <td>0.0</td>\n",
       "      <td>0.0</td>\n",
       "      <td>0.0</td>\n",
       "    </tr>\n",
       "  </tbody>\n",
       "</table>\n",
       "<p>1642 rows × 707 columns</p>\n",
       "</div>"
      ],
      "text/plain": [
       "      Belize  Blend  Bolivia  Brazil  Cadbury egg  Colombia  Costa rica  \\\n",
       "0        0.0    0.0      0.0     0.0          0.0       0.0         0.0   \n",
       "1        0.0    0.0      0.0     0.0          0.0       0.0         0.0   \n",
       "2        0.0    0.0      0.0     0.0          0.0       0.0         0.0   \n",
       "3        0.0    0.0      1.0     0.0          0.0       0.0         0.0   \n",
       "4        0.0    0.0      0.0     0.0          0.0       0.0         0.0   \n",
       "...      ...    ...      ...     ...          ...       ...         ...   \n",
       "1637     0.0    0.0      0.0     0.0          0.0       0.0         0.0   \n",
       "1638     0.0    1.0      0.0     0.0          0.0       0.0         0.0   \n",
       "1639     0.0    0.0      0.0     0.0          0.0       1.0         0.0   \n",
       "1640     1.0    0.0      0.0     0.0          0.0       0.0         0.0   \n",
       "1641     0.0    1.0      0.0     0.0          0.0       0.0         0.0   \n",
       "\n",
       "      Dominican republic  Easter candy  Ecuador  ...  why bother  wild berry  \\\n",
       "0                    0.0           0.0      0.0  ...         0.0         0.0   \n",
       "1                    1.0           0.0      0.0  ...         0.0         0.0   \n",
       "2                    0.0           0.0      0.0  ...         0.0         0.0   \n",
       "3                    0.0           0.0      0.0  ...         0.0         0.0   \n",
       "4                    0.0           0.0      0.0  ...         0.0         0.0   \n",
       "...                  ...           ...      ...  ...         ...         ...   \n",
       "1637                 0.0           0.0      0.0  ...         0.0         0.0   \n",
       "1638                 0.0           0.0      0.0  ...         0.0         0.0   \n",
       "1639                 0.0           0.0      0.0  ...         0.0         0.0   \n",
       "1640                 0.0           0.0      0.0  ...         0.0         0.0   \n",
       "1641                 0.0           0.0      0.0  ...         0.0         0.0   \n",
       "\n",
       "      wine  winey  wood  woodsy  woody  wtf  yellow fruit  yogurt  \n",
       "0      0.0    0.0   0.0     0.0    0.0  0.0           0.0     0.0  \n",
       "1      0.0    0.0   0.0     0.0    0.0  0.0           0.0     0.0  \n",
       "2      0.0    0.0   0.0     0.0    0.0  0.0           0.0     0.0  \n",
       "3      0.0    0.0   0.0     0.0    0.0  0.0           0.0     0.0  \n",
       "4      0.0    0.0   0.0     0.0    0.0  0.0           0.0     0.0  \n",
       "...    ...    ...   ...     ...    ...  ...           ...     ...  \n",
       "1637   0.0    0.0   0.0     0.0    0.0  0.0           0.0     0.0  \n",
       "1638   0.0    0.0   0.0     0.0    0.0  0.0           0.0     0.0  \n",
       "1639   0.0    0.0   0.0     0.0    0.0  0.0           0.0     0.0  \n",
       "1640   0.0    0.0   0.0     0.0    0.0  0.0           0.0     0.0  \n",
       "1641   0.0    0.0   0.0     0.0    0.0  0.0           0.0     0.0  \n",
       "\n",
       "[1642 rows x 707 columns]"
      ]
     },
     "execution_count": 134,
     "metadata": {},
     "output_type": "execute_result"
    }
   ],
   "source": [
    "# one hot encoding categoricals\n",
    "choc_cat = choc_xoutlier[['country_of_bean_origin', 'first_taste', 'second_taste', 'third_taste', 'fourth_taste']]\n",
    "choc_cat_ohe = pd.get_dummies(pd.DataFrame(choc_cat.values.tolist()),prefix_sep ='',prefix='')\n",
    "\n",
    "# extracting rest of the predictors\n",
    "choc_num = choc_xoutlier[['cocoa_percent', 'counts_of_ingredients', 'number_of_taste', 'vanilla', 'lecithin', 'salt', 'sugar']]\n",
    "\n",
    "# extracting response\n",
    "choc_response = pd.DataFrame(choc_xoutlier['rating_category'])\n",
    "\n",
    "# combining predictors and response\n",
    "choc_xoutlier_ohe = pd.concat([choc_cat_ohe, choc_response, choc_num], sort = False, axis = 1)\n",
    "choc_xoutlier_ohe = choc_xoutlier_ohe.groupby(level=0, axis=1).sum().drop(columns='no taste')\n",
    "choc_xoutlier_ohe"
   ]
  },
  {
   "cell_type": "code",
   "execution_count": 135,
   "id": "fbec10bc",
   "metadata": {
    "colab": {
     "base_uri": "https://localhost:8080/"
    },
    "id": "fbec10bc",
    "outputId": "b0748ae5-c03d-459e-c884-d8bccf142a97"
   },
   "outputs": [
    {
     "data": {
      "text/plain": [
       "1.0    965\n",
       "0.0    677\n",
       "Name: rating_category, dtype: int64"
      ]
     },
     "execution_count": 135,
     "metadata": {},
     "output_type": "execute_result"
    }
   ],
   "source": [
    "choc_xoutlier_ohe.rating_category.value_counts()"
   ]
  },
  {
   "cell_type": "code",
   "execution_count": 136,
   "id": "f6c5f66d",
   "metadata": {
    "id": "f6c5f66d"
   },
   "outputs": [],
   "source": [
    "y = pd.DataFrame(choc_xoutlier_ohe['rating_category'])\n",
    "X = pd.DataFrame(choc_xoutlier_ohe.drop('rating_category', axis = 1))\n",
    "X_train, X_test, y_train, y_test = train_test_split(X, y, test_size = 0.2, stratify = y)"
   ]
  },
  {
   "cell_type": "code",
   "execution_count": 137,
   "id": "74188fb2",
   "metadata": {
    "id": "74188fb2"
   },
   "outputs": [],
   "source": [
    "rforest = RandomForestClassifier(n_estimators = 800, max_depth = 60)\n",
    "over = ADASYN()\n",
    "under = RandomUnderSampler(sampling_strategy=0.5) \n",
    "steps = [(\"smote\", over),(\"model\", rforest)]\n",
    "pipeline = Pipeline(steps = steps)"
   ]
  },
  {
   "cell_type": "markdown",
   "id": "000f6aec",
   "metadata": {
    "id": "000f6aec"
   },
   "source": [
    "Using stratified K fold cross validation to evalute the model"
   ]
  },
  {
   "cell_type": "code",
   "execution_count": 138,
   "id": "f2cceb3e",
   "metadata": {
    "colab": {
     "base_uri": "https://localhost:8080/"
    },
    "id": "f2cceb3e",
    "outputId": "4c7b3066-5664-4b54-83dd-3a85492cf295"
   },
   "outputs": [
    {
     "name": "stdout",
     "output_type": "stream",
     "text": [
      "accuracy: 0.719 (0.016)\n",
      "precison: 0.718 (0.011)\n",
      "recall: 0.860 (0.019)\n",
      "f1 score: 0.783 (0.013)\n"
     ]
    }
   ],
   "source": [
    "evalModel(rforest, X, y, scoring)"
   ]
  },
  {
   "cell_type": "markdown",
   "id": "a6e75043",
   "metadata": {
    "id": "a6e75043"
   },
   "source": [
    "Test the model on a train and test data set"
   ]
  },
  {
   "cell_type": "code",
   "execution_count": 139,
   "id": "3e4dbe47",
   "metadata": {
    "colab": {
     "base_uri": "https://localhost:8080/"
    },
    "id": "3e4dbe47",
    "outputId": "f0873964-5f78-47fa-f4a3-165b024c9c43"
   },
   "outputs": [
    {
     "data": {
      "text/plain": [
       "rating_category\n",
       "1.0                772\n",
       "0.0                696\n",
       "dtype: int64"
      ]
     },
     "execution_count": 139,
     "metadata": {},
     "output_type": "execute_result"
    }
   ],
   "source": [
    "X_train_res, y_train_res = over.fit_resample(X_train, y_train)\n",
    "y_train_res.value_counts()"
   ]
  },
  {
   "cell_type": "markdown",
   "id": "ccc86666",
   "metadata": {
    "id": "ccc86666"
   },
   "source": [
    "Test the model on a train and test data set"
   ]
  },
  {
   "cell_type": "code",
   "execution_count": 140,
   "id": "415493df",
   "metadata": {
    "colab": {
     "base_uri": "https://localhost:8080/",
     "height": 1000
    },
    "id": "415493df",
    "outputId": "2e0f82c1-0618-4581-cce3-542d89b60db9"
   },
   "outputs": [
    {
     "name": "stdout",
     "output_type": "stream",
     "text": [
      "Goodness of Fit of Model \tTrain Dataset\n",
      "Classification Accuracy \t: 0.9993188010899182\n",
      "\n",
      "Goodness of Fit of Model \tTest Dataset\n",
      "Classification Accuracy \t: 0.729483282674772\n",
      "\n",
      "True '1' rate Train :\t 1.0\n",
      "True '0' rate Train :\t 0.9985632183908046\n",
      "\n",
      "False '1' rate Train :\t 0.0014367816091954023\n",
      "False '0' rate Train :\t 0.0\n",
      "\n",
      "True '1' rate Test :\t 0.8549222797927462\n",
      "True '0' rate Test :\t 0.5514705882352942\n",
      "\n",
      "False '1' rate Test :\t 0.4485294117647059\n",
      "False '0' rate Test :\t 0.14507772020725387\n",
      "\n"
     ]
    },
    {
     "data": {
      "image/png": "[encoded data removed]",
      "text/plain": [
       "<Figure size 576x1152 with 4 Axes>"
      ]
     },
     "metadata": {},
     "output_type": "display_data"
    }
   ],
   "source": [
    "fitModel(rforest, X_train_res, X_test, y_train_res, y_test)"
   ]
  },
  {
   "cell_type": "markdown",
   "id": "9185a157",
   "metadata": {
    "id": "9185a157"
   },
   "source": [
    "To add comment here"
   ]
  },
  {
   "cell_type": "markdown",
   "id": "1da8392c",
   "metadata": {
    "id": "1da8392c"
   },
   "source": [
    "# Gradient Boosting"
   ]
  },
  {
   "cell_type": "markdown",
   "id": "aa35e1c1",
   "metadata": {
    "id": "aa35e1c1"
   },
   "source": [
    "Let's try a more sophisticated model, Gradient Boosting Machine"
   ]
  },
  {
   "cell_type": "code",
   "execution_count": 141,
   "id": "28dbcaf2",
   "metadata": {
    "id": "28dbcaf2"
   },
   "outputs": [],
   "source": [
    "from sklearn.ensemble import GradientBoostingClassifier\n",
    "# gradient boosting for classification in scikit-learn"
   ]
  },
  {
   "cell_type": "code",
   "execution_count": 142,
   "id": "ab93bf75",
   "metadata": {
    "id": "ab93bf75"
   },
   "outputs": [],
   "source": [
    "GradBoost = GradientBoostingClassifier(loss = \"deviance\", learning_rate = 0.1, n_estimators = 500, subsample = 0.8, max_depth = 6)\n",
    "over = ADASYN()\n",
    "under = RandomUnderSampler(sampling_strategy=0.5) \n",
    "steps = [(\"smote\", over),(\"model\", GradBoost)]\n",
    "pipeline = Pipeline(steps = steps)"
   ]
  },
  {
   "cell_type": "markdown",
   "id": "df6d72d8",
   "metadata": {
    "id": "df6d72d8"
   },
   "source": [
    "Using stratified K fold cross validation to evalute the model"
   ]
  },
  {
   "cell_type": "code",
   "execution_count": 143,
   "id": "1442edf8",
   "metadata": {
    "colab": {
     "base_uri": "https://localhost:8080/"
    },
    "id": "1442edf8",
    "outputId": "24a03025-4d57-45fd-8b35-4307b1558199"
   },
   "outputs": [
    {
     "name": "stdout",
     "output_type": "stream",
     "text": [
      "accuracy: 0.725 (0.019)\n",
      "precison: 0.743 (0.011)\n",
      "recall: 0.812 (0.028)\n",
      "f1 score: 0.776 (0.017)\n"
     ]
    }
   ],
   "source": [
    "evalModel(pipeline, X, y, scoring)"
   ]
  },
  {
   "cell_type": "markdown",
   "id": "e86894ea",
   "metadata": {
    "id": "e86894ea"
   },
   "source": [
    "Test the model on a train and test data set"
   ]
  },
  {
   "cell_type": "code",
   "execution_count": 144,
   "id": "374c4bfd",
   "metadata": {
    "colab": {
     "base_uri": "https://localhost:8080/"
    },
    "id": "374c4bfd",
    "outputId": "f4fdc661-b546-4cbe-dc34-60884e43b925"
   },
   "outputs": [
    {
     "data": {
      "text/plain": [
       "rating_category\n",
       "1.0                772\n",
       "0.0                696\n",
       "dtype: int64"
      ]
     },
     "execution_count": 144,
     "metadata": {},
     "output_type": "execute_result"
    }
   ],
   "source": [
    "X_train_res, y_train_res = over.fit_resample(X_train, y_train)\n",
    "y_train_res.value_counts()"
   ]
  },
  {
   "cell_type": "code",
   "execution_count": 145,
   "id": "568282c4",
   "metadata": {
    "colab": {
     "base_uri": "https://localhost:8080/",
     "height": 1000
    },
    "id": "568282c4",
    "outputId": "c6e16745-6d67-42b5-fb8f-f3779ff20c66"
   },
   "outputs": [
    {
     "name": "stdout",
     "output_type": "stream",
     "text": [
      "Goodness of Fit of Model \tTrain Dataset\n",
      "Classification Accuracy \t: 0.9986376021798365\n",
      "\n",
      "Goodness of Fit of Model \tTest Dataset\n",
      "Classification Accuracy \t: 0.7477203647416414\n",
      "\n",
      "True '1' rate Train :\t 0.9987046632124352\n",
      "True '0' rate Train :\t 0.9985632183908046\n",
      "\n",
      "False '1' rate Train :\t 0.0014367816091954023\n",
      "False '0' rate Train :\t 0.0012953367875647669\n",
      "\n",
      "True '1' rate Test :\t 0.8290155440414507\n",
      "True '0' rate Test :\t 0.6323529411764706\n",
      "\n",
      "False '1' rate Test :\t 0.36764705882352944\n",
      "False '0' rate Test :\t 0.17098445595854922\n",
      "\n"
     ]
    },
    {
     "data": {
      "image/png": "[encoded data removed]",
      "text/plain": [
       "<Figure size 576x1152 with 4 Axes>"
      ]
     },
     "metadata": {},
     "output_type": "display_data"
    }
   ],
   "source": [
    "fitModel(GradBoost, X_train_res, X_test, y_train_res, y_test)"
   ]
  },
  {
   "cell_type": "markdown",
   "id": "4daa1b65",
   "metadata": {
    "id": "4daa1b65"
   },
   "source": [
    "## Without removing outliers"
   ]
  },
  {
   "cell_type": "code",
   "execution_count": 105,
   "id": "NU35P8hd3vfb",
   "metadata": {
    "id": "NU35P8hd3vfb"
   },
   "outputs": [],
   "source": [
    "y = pd.DataFrame(choc_ohe['rating_category'])\n",
    "X = pd.DataFrame(choc_ohe.drop('rating_category', axis = 1))\n",
    "X_train, X_test, y_train, y_test = train_test_split(X, y, test_size = 0.2, stratify = y)"
   ]
  },
  {
   "cell_type": "code",
   "execution_count": 106,
   "id": "52d-vGqM37Xe",
   "metadata": {
    "colab": {
     "base_uri": "https://localhost:8080/"
    },
    "id": "52d-vGqM37Xe",
    "outputId": "2e6873e6-6a9e-46e3-c0b3-48badf6b1123"
   },
   "outputs": [
    {
     "data": {
      "text/plain": [
       "1.0    931\n",
       "0.0    681\n",
       "Name: rating_category, dtype: int64"
      ]
     },
     "execution_count": 106,
     "metadata": {},
     "output_type": "execute_result"
    }
   ],
   "source": [
    "y_train.rating_category.value_counts()"
   ]
  },
  {
   "cell_type": "code",
   "execution_count": 121,
   "id": "08882745",
   "metadata": {
    "id": "08882745"
   },
   "outputs": [],
   "source": [
    "GradBoost = GradientBoostingClassifier(loss = \"deviance\", learning_rate = 0.1, n_estimators = 500, subsample = 0.8, max_depth = 9)\n",
    "over = ADASYN(sampling_strategy = )\n",
    "under = RandomUnderSampler(sampling_strategy=0.5)\n",
    "steps = [(\"smote\", over),(\"under\", under),(\"model\", GradBoost)]\n",
    "pipeline = Pipeline(steps = steps)"
   ]
  },
  {
   "cell_type": "code",
   "execution_count": 122,
   "id": "4c74b5a0",
   "metadata": {
    "colab": {
     "base_uri": "https://localhost:8080/"
    },
    "id": "4c74b5a0",
    "outputId": "ecfaa868-8754-423a-a9ae-ace6b0bf3902"
   },
   "outputs": [
    {
     "ename": "ValueError",
     "evalue": "The specified ratio required to remove samples from the minority class while trying to generate new samples. Please increase the ratio.",
     "output_type": "error",
     "traceback": [
      "\u001b[1;31m---------------------------------------------------------------------------\u001b[0m",
      "\u001b[1;31m_RemoteTraceback\u001b[0m                          Traceback (most recent call last)",
      "\u001b[1;31m_RemoteTraceback\u001b[0m: \n\"\"\"\nTraceback (most recent call last):\n  File \"C:\\Users\\User\\AppData\\Local\\Programs\\Python\\Python39\\lib\\site-packages\\joblib\\externals\\loky\\process_executor.py\", line 436, in _process_worker\n    r = call_item()\n  File \"C:\\Users\\User\\AppData\\Local\\Programs\\Python\\Python39\\lib\\site-packages\\joblib\\externals\\loky\\process_executor.py\", line 288, in __call__\n    return self.fn(*self.args, **self.kwargs)\n  File \"C:\\Users\\User\\AppData\\Local\\Programs\\Python\\Python39\\lib\\site-packages\\joblib\\_parallel_backends.py\", line 595, in __call__\n    return self.func(*args, **kwargs)\n  File \"C:\\Users\\User\\AppData\\Local\\Programs\\Python\\Python39\\lib\\site-packages\\joblib\\parallel.py\", line 262, in __call__\n    return [func(*args, **kwargs)\n  File \"C:\\Users\\User\\AppData\\Local\\Programs\\Python\\Python39\\lib\\site-packages\\joblib\\parallel.py\", line 262, in <listcomp>\n    return [func(*args, **kwargs)\n  File \"C:\\Users\\User\\AppData\\Local\\Programs\\Python\\Python39\\lib\\site-packages\\sklearn\\utils\\fixes.py\", line 216, in __call__\n    return self.function(*args, **kwargs)\n  File \"C:\\Users\\User\\AppData\\Local\\Programs\\Python\\Python39\\lib\\site-packages\\sklearn\\model_selection\\_validation.py\", line 680, in _fit_and_score\n    estimator.fit(X_train, y_train, **fit_params)\n  File \"C:\\Users\\User\\AppData\\Local\\Programs\\Python\\Python39\\lib\\site-packages\\imblearn\\pipeline.py\", line 268, in fit\n    Xt, yt = self._fit(X, y, **fit_params_steps)\n  File \"C:\\Users\\User\\AppData\\Local\\Programs\\Python\\Python39\\lib\\site-packages\\imblearn\\pipeline.py\", line 226, in _fit\n    X, y, fitted_transformer = fit_resample_one_cached(\n  File \"C:\\Users\\User\\AppData\\Local\\Programs\\Python\\Python39\\lib\\site-packages\\joblib\\memory.py\", line 349, in __call__\n    return self.func(*args, **kwargs)\n  File \"C:\\Users\\User\\AppData\\Local\\Programs\\Python\\Python39\\lib\\site-packages\\imblearn\\pipeline.py\", line 394, in _fit_resample_one\n    X_res, y_res = sampler.fit_resample(X, y, **fit_params)\n  File \"C:\\Users\\User\\AppData\\Local\\Programs\\Python\\Python39\\lib\\site-packages\\imblearn\\base.py\", line 79, in fit_resample\n    self.sampling_strategy_ = check_sampling_strategy(\n  File \"C:\\Users\\User\\AppData\\Local\\Programs\\Python\\Python39\\lib\\site-packages\\imblearn\\utils\\_validation.py\", line 534, in check_sampling_strategy\n    _sampling_strategy_float(sampling_strategy, y, sampling_type).items()\n  File \"C:\\Users\\User\\AppData\\Local\\Programs\\Python\\Python39\\lib\\site-packages\\imblearn\\utils\\_validation.py\", line 373, in _sampling_strategy_float\n    raise ValueError(\nValueError: The specified ratio required to remove samples from the minority class while trying to generate new samples. Please increase the ratio.\n\"\"\"",
      "\nThe above exception was the direct cause of the following exception:\n",
      "\u001b[1;31mValueError\u001b[0m                                Traceback (most recent call last)",
      "\u001b[1;32m~\\AppData\\Local\\Temp/ipykernel_30128/3038255257.py\u001b[0m in \u001b[0;36m<module>\u001b[1;34m\u001b[0m\n\u001b[1;32m----> 1\u001b[1;33m \u001b[0mevalModel\u001b[0m\u001b[1;33m(\u001b[0m\u001b[0mpipeline\u001b[0m\u001b[1;33m,\u001b[0m \u001b[0mX\u001b[0m\u001b[1;33m,\u001b[0m \u001b[0my\u001b[0m\u001b[1;33m,\u001b[0m \u001b[0mscoring\u001b[0m\u001b[1;33m)\u001b[0m\u001b[1;33m\u001b[0m\u001b[1;33m\u001b[0m\u001b[0m\n\u001b[0m",
      "\u001b[1;32m~\\AppData\\Local\\Temp/ipykernel_30128/4048441245.py\u001b[0m in \u001b[0;36mevalModel\u001b[1;34m(classifier, X, y, scoring)\u001b[0m\n\u001b[0;32m      1\u001b[0m \u001b[1;32mdef\u001b[0m \u001b[0mevalModel\u001b[0m\u001b[1;33m(\u001b[0m\u001b[0mclassifier\u001b[0m\u001b[1;33m,\u001b[0m \u001b[0mX\u001b[0m\u001b[1;33m,\u001b[0m \u001b[0my\u001b[0m\u001b[1;33m,\u001b[0m \u001b[0mscoring\u001b[0m\u001b[1;33m)\u001b[0m\u001b[1;33m:\u001b[0m\u001b[1;33m\u001b[0m\u001b[1;33m\u001b[0m\u001b[0m\n\u001b[0;32m      2\u001b[0m     \u001b[0mcv\u001b[0m \u001b[1;33m=\u001b[0m \u001b[0mRepeatedStratifiedKFold\u001b[0m\u001b[1;33m(\u001b[0m\u001b[0mn_splits\u001b[0m\u001b[1;33m=\u001b[0m\u001b[1;36m5\u001b[0m\u001b[1;33m,\u001b[0m \u001b[0mn_repeats\u001b[0m\u001b[1;33m=\u001b[0m\u001b[1;36m3\u001b[0m\u001b[1;33m,\u001b[0m \u001b[0mrandom_state\u001b[0m\u001b[1;33m=\u001b[0m\u001b[1;36m1\u001b[0m\u001b[1;33m)\u001b[0m\u001b[1;33m\u001b[0m\u001b[1;33m\u001b[0m\u001b[0m\n\u001b[1;32m----> 3\u001b[1;33m     \u001b[0mn_scores\u001b[0m \u001b[1;33m=\u001b[0m \u001b[0mcross_validate\u001b[0m\u001b[1;33m(\u001b[0m\u001b[0mclassifier\u001b[0m\u001b[1;33m,\u001b[0m \u001b[0mX\u001b[0m\u001b[1;33m,\u001b[0m \u001b[0my\u001b[0m\u001b[1;33m,\u001b[0m \u001b[0mscoring\u001b[0m\u001b[1;33m=\u001b[0m\u001b[0mscoring\u001b[0m\u001b[1;33m,\u001b[0m \u001b[0mcv\u001b[0m\u001b[1;33m=\u001b[0m\u001b[0mcv\u001b[0m\u001b[1;33m,\u001b[0m \u001b[0mn_jobs\u001b[0m\u001b[1;33m=\u001b[0m\u001b[1;33m-\u001b[0m\u001b[1;36m1\u001b[0m\u001b[1;33m,\u001b[0m \u001b[0merror_score\u001b[0m\u001b[1;33m=\u001b[0m\u001b[1;34m'raise'\u001b[0m\u001b[1;33m)\u001b[0m\u001b[1;33m\u001b[0m\u001b[1;33m\u001b[0m\u001b[0m\n\u001b[0m\u001b[0;32m      4\u001b[0m     \u001b[0mprint\u001b[0m\u001b[1;33m(\u001b[0m\u001b[1;34m'accuracy: %.3f (%.3f)'\u001b[0m \u001b[1;33m%\u001b[0m \u001b[1;33m(\u001b[0m\u001b[0mnp\u001b[0m\u001b[1;33m.\u001b[0m\u001b[0mmean\u001b[0m\u001b[1;33m(\u001b[0m\u001b[0mn_scores\u001b[0m\u001b[1;33m[\u001b[0m\u001b[1;34m\"test_accuracy\"\u001b[0m\u001b[1;33m]\u001b[0m\u001b[1;33m)\u001b[0m\u001b[1;33m,\u001b[0m \u001b[0mnp\u001b[0m\u001b[1;33m.\u001b[0m\u001b[0mstd\u001b[0m\u001b[1;33m(\u001b[0m\u001b[0mn_scores\u001b[0m\u001b[1;33m[\u001b[0m\u001b[1;34m\"test_accuracy\"\u001b[0m\u001b[1;33m]\u001b[0m\u001b[1;33m)\u001b[0m\u001b[1;33m)\u001b[0m\u001b[1;33m)\u001b[0m\u001b[1;33m\u001b[0m\u001b[1;33m\u001b[0m\u001b[0m\n\u001b[0;32m      5\u001b[0m     \u001b[0mprint\u001b[0m\u001b[1;33m(\u001b[0m\u001b[1;34m'precison: %.3f (%.3f)'\u001b[0m \u001b[1;33m%\u001b[0m \u001b[1;33m(\u001b[0m\u001b[0mnp\u001b[0m\u001b[1;33m.\u001b[0m\u001b[0mmean\u001b[0m\u001b[1;33m(\u001b[0m\u001b[0mn_scores\u001b[0m\u001b[1;33m[\u001b[0m\u001b[1;34m\"test_precision\"\u001b[0m\u001b[1;33m]\u001b[0m\u001b[1;33m)\u001b[0m\u001b[1;33m,\u001b[0m \u001b[0mnp\u001b[0m\u001b[1;33m.\u001b[0m\u001b[0mstd\u001b[0m\u001b[1;33m(\u001b[0m\u001b[0mn_scores\u001b[0m\u001b[1;33m[\u001b[0m\u001b[1;34m\"test_precision\"\u001b[0m\u001b[1;33m]\u001b[0m\u001b[1;33m)\u001b[0m\u001b[1;33m)\u001b[0m\u001b[1;33m)\u001b[0m\u001b[1;33m\u001b[0m\u001b[1;33m\u001b[0m\u001b[0m\n",
      "\u001b[1;32m~\\AppData\\Local\\Programs\\Python\\Python39\\lib\\site-packages\\sklearn\\model_selection\\_validation.py\u001b[0m in \u001b[0;36mcross_validate\u001b[1;34m(estimator, X, y, groups, scoring, cv, n_jobs, verbose, fit_params, pre_dispatch, return_train_score, return_estimator, error_score)\u001b[0m\n\u001b[0;32m    265\u001b[0m     \u001b[1;31m# independent, and that it is pickle-able.\u001b[0m\u001b[1;33m\u001b[0m\u001b[1;33m\u001b[0m\u001b[0m\n\u001b[0;32m    266\u001b[0m     \u001b[0mparallel\u001b[0m \u001b[1;33m=\u001b[0m \u001b[0mParallel\u001b[0m\u001b[1;33m(\u001b[0m\u001b[0mn_jobs\u001b[0m\u001b[1;33m=\u001b[0m\u001b[0mn_jobs\u001b[0m\u001b[1;33m,\u001b[0m \u001b[0mverbose\u001b[0m\u001b[1;33m=\u001b[0m\u001b[0mverbose\u001b[0m\u001b[1;33m,\u001b[0m \u001b[0mpre_dispatch\u001b[0m\u001b[1;33m=\u001b[0m\u001b[0mpre_dispatch\u001b[0m\u001b[1;33m)\u001b[0m\u001b[1;33m\u001b[0m\u001b[1;33m\u001b[0m\u001b[0m\n\u001b[1;32m--> 267\u001b[1;33m     results = parallel(\n\u001b[0m\u001b[0;32m    268\u001b[0m         delayed(_fit_and_score)(\n\u001b[0;32m    269\u001b[0m             \u001b[0mclone\u001b[0m\u001b[1;33m(\u001b[0m\u001b[0mestimator\u001b[0m\u001b[1;33m)\u001b[0m\u001b[1;33m,\u001b[0m\u001b[1;33m\u001b[0m\u001b[1;33m\u001b[0m\u001b[0m\n",
      "\u001b[1;32m~\\AppData\\Local\\Programs\\Python\\Python39\\lib\\site-packages\\joblib\\parallel.py\u001b[0m in \u001b[0;36m__call__\u001b[1;34m(self, iterable)\u001b[0m\n\u001b[0;32m   1054\u001b[0m \u001b[1;33m\u001b[0m\u001b[0m\n\u001b[0;32m   1055\u001b[0m             \u001b[1;32mwith\u001b[0m \u001b[0mself\u001b[0m\u001b[1;33m.\u001b[0m\u001b[0m_backend\u001b[0m\u001b[1;33m.\u001b[0m\u001b[0mretrieval_context\u001b[0m\u001b[1;33m(\u001b[0m\u001b[1;33m)\u001b[0m\u001b[1;33m:\u001b[0m\u001b[1;33m\u001b[0m\u001b[1;33m\u001b[0m\u001b[0m\n\u001b[1;32m-> 1056\u001b[1;33m                 \u001b[0mself\u001b[0m\u001b[1;33m.\u001b[0m\u001b[0mretrieve\u001b[0m\u001b[1;33m(\u001b[0m\u001b[1;33m)\u001b[0m\u001b[1;33m\u001b[0m\u001b[1;33m\u001b[0m\u001b[0m\n\u001b[0m\u001b[0;32m   1057\u001b[0m             \u001b[1;31m# Make sure that we get a last message telling us we are done\u001b[0m\u001b[1;33m\u001b[0m\u001b[1;33m\u001b[0m\u001b[0m\n\u001b[0;32m   1058\u001b[0m             \u001b[0melapsed_time\u001b[0m \u001b[1;33m=\u001b[0m \u001b[0mtime\u001b[0m\u001b[1;33m.\u001b[0m\u001b[0mtime\u001b[0m\u001b[1;33m(\u001b[0m\u001b[1;33m)\u001b[0m \u001b[1;33m-\u001b[0m \u001b[0mself\u001b[0m\u001b[1;33m.\u001b[0m\u001b[0m_start_time\u001b[0m\u001b[1;33m\u001b[0m\u001b[1;33m\u001b[0m\u001b[0m\n",
      "\u001b[1;32m~\\AppData\\Local\\Programs\\Python\\Python39\\lib\\site-packages\\joblib\\parallel.py\u001b[0m in \u001b[0;36mretrieve\u001b[1;34m(self)\u001b[0m\n\u001b[0;32m    933\u001b[0m             \u001b[1;32mtry\u001b[0m\u001b[1;33m:\u001b[0m\u001b[1;33m\u001b[0m\u001b[1;33m\u001b[0m\u001b[0m\n\u001b[0;32m    934\u001b[0m                 \u001b[1;32mif\u001b[0m \u001b[0mgetattr\u001b[0m\u001b[1;33m(\u001b[0m\u001b[0mself\u001b[0m\u001b[1;33m.\u001b[0m\u001b[0m_backend\u001b[0m\u001b[1;33m,\u001b[0m \u001b[1;34m'supports_timeout'\u001b[0m\u001b[1;33m,\u001b[0m \u001b[1;32mFalse\u001b[0m\u001b[1;33m)\u001b[0m\u001b[1;33m:\u001b[0m\u001b[1;33m\u001b[0m\u001b[1;33m\u001b[0m\u001b[0m\n\u001b[1;32m--> 935\u001b[1;33m                     \u001b[0mself\u001b[0m\u001b[1;33m.\u001b[0m\u001b[0m_output\u001b[0m\u001b[1;33m.\u001b[0m\u001b[0mextend\u001b[0m\u001b[1;33m(\u001b[0m\u001b[0mjob\u001b[0m\u001b[1;33m.\u001b[0m\u001b[0mget\u001b[0m\u001b[1;33m(\u001b[0m\u001b[0mtimeout\u001b[0m\u001b[1;33m=\u001b[0m\u001b[0mself\u001b[0m\u001b[1;33m.\u001b[0m\u001b[0mtimeout\u001b[0m\u001b[1;33m)\u001b[0m\u001b[1;33m)\u001b[0m\u001b[1;33m\u001b[0m\u001b[1;33m\u001b[0m\u001b[0m\n\u001b[0m\u001b[0;32m    936\u001b[0m                 \u001b[1;32melse\u001b[0m\u001b[1;33m:\u001b[0m\u001b[1;33m\u001b[0m\u001b[1;33m\u001b[0m\u001b[0m\n\u001b[0;32m    937\u001b[0m                     \u001b[0mself\u001b[0m\u001b[1;33m.\u001b[0m\u001b[0m_output\u001b[0m\u001b[1;33m.\u001b[0m\u001b[0mextend\u001b[0m\u001b[1;33m(\u001b[0m\u001b[0mjob\u001b[0m\u001b[1;33m.\u001b[0m\u001b[0mget\u001b[0m\u001b[1;33m(\u001b[0m\u001b[1;33m)\u001b[0m\u001b[1;33m)\u001b[0m\u001b[1;33m\u001b[0m\u001b[1;33m\u001b[0m\u001b[0m\n",
      "\u001b[1;32m~\\AppData\\Local\\Programs\\Python\\Python39\\lib\\site-packages\\joblib\\_parallel_backends.py\u001b[0m in \u001b[0;36mwrap_future_result\u001b[1;34m(future, timeout)\u001b[0m\n\u001b[0;32m    540\u001b[0m         AsyncResults.get from multiprocessing.\"\"\"\n\u001b[0;32m    541\u001b[0m         \u001b[1;32mtry\u001b[0m\u001b[1;33m:\u001b[0m\u001b[1;33m\u001b[0m\u001b[1;33m\u001b[0m\u001b[0m\n\u001b[1;32m--> 542\u001b[1;33m             \u001b[1;32mreturn\u001b[0m \u001b[0mfuture\u001b[0m\u001b[1;33m.\u001b[0m\u001b[0mresult\u001b[0m\u001b[1;33m(\u001b[0m\u001b[0mtimeout\u001b[0m\u001b[1;33m=\u001b[0m\u001b[0mtimeout\u001b[0m\u001b[1;33m)\u001b[0m\u001b[1;33m\u001b[0m\u001b[1;33m\u001b[0m\u001b[0m\n\u001b[0m\u001b[0;32m    543\u001b[0m         \u001b[1;32mexcept\u001b[0m \u001b[0mCfTimeoutError\u001b[0m \u001b[1;32mas\u001b[0m \u001b[0me\u001b[0m\u001b[1;33m:\u001b[0m\u001b[1;33m\u001b[0m\u001b[1;33m\u001b[0m\u001b[0m\n\u001b[0;32m    544\u001b[0m             \u001b[1;32mraise\u001b[0m \u001b[0mTimeoutError\u001b[0m \u001b[1;32mfrom\u001b[0m \u001b[0me\u001b[0m\u001b[1;33m\u001b[0m\u001b[1;33m\u001b[0m\u001b[0m\n",
      "\u001b[1;32m~\\AppData\\Local\\Programs\\Python\\Python39\\lib\\concurrent\\futures\\_base.py\u001b[0m in \u001b[0;36mresult\u001b[1;34m(self, timeout)\u001b[0m\n\u001b[0;32m    443\u001b[0m                     \u001b[1;32mraise\u001b[0m \u001b[0mCancelledError\u001b[0m\u001b[1;33m(\u001b[0m\u001b[1;33m)\u001b[0m\u001b[1;33m\u001b[0m\u001b[1;33m\u001b[0m\u001b[0m\n\u001b[0;32m    444\u001b[0m                 \u001b[1;32melif\u001b[0m \u001b[0mself\u001b[0m\u001b[1;33m.\u001b[0m\u001b[0m_state\u001b[0m \u001b[1;33m==\u001b[0m \u001b[0mFINISHED\u001b[0m\u001b[1;33m:\u001b[0m\u001b[1;33m\u001b[0m\u001b[1;33m\u001b[0m\u001b[0m\n\u001b[1;32m--> 445\u001b[1;33m                     \u001b[1;32mreturn\u001b[0m \u001b[0mself\u001b[0m\u001b[1;33m.\u001b[0m\u001b[0m__get_result\u001b[0m\u001b[1;33m(\u001b[0m\u001b[1;33m)\u001b[0m\u001b[1;33m\u001b[0m\u001b[1;33m\u001b[0m\u001b[0m\n\u001b[0m\u001b[0;32m    446\u001b[0m                 \u001b[1;32melse\u001b[0m\u001b[1;33m:\u001b[0m\u001b[1;33m\u001b[0m\u001b[1;33m\u001b[0m\u001b[0m\n\u001b[0;32m    447\u001b[0m                     \u001b[1;32mraise\u001b[0m \u001b[0mTimeoutError\u001b[0m\u001b[1;33m(\u001b[0m\u001b[1;33m)\u001b[0m\u001b[1;33m\u001b[0m\u001b[1;33m\u001b[0m\u001b[0m\n",
      "\u001b[1;32m~\\AppData\\Local\\Programs\\Python\\Python39\\lib\\concurrent\\futures\\_base.py\u001b[0m in \u001b[0;36m__get_result\u001b[1;34m(self)\u001b[0m\n\u001b[0;32m    388\u001b[0m         \u001b[1;32mif\u001b[0m \u001b[0mself\u001b[0m\u001b[1;33m.\u001b[0m\u001b[0m_exception\u001b[0m\u001b[1;33m:\u001b[0m\u001b[1;33m\u001b[0m\u001b[1;33m\u001b[0m\u001b[0m\n\u001b[0;32m    389\u001b[0m             \u001b[1;32mtry\u001b[0m\u001b[1;33m:\u001b[0m\u001b[1;33m\u001b[0m\u001b[1;33m\u001b[0m\u001b[0m\n\u001b[1;32m--> 390\u001b[1;33m                 \u001b[1;32mraise\u001b[0m \u001b[0mself\u001b[0m\u001b[1;33m.\u001b[0m\u001b[0m_exception\u001b[0m\u001b[1;33m\u001b[0m\u001b[1;33m\u001b[0m\u001b[0m\n\u001b[0m\u001b[0;32m    391\u001b[0m             \u001b[1;32mfinally\u001b[0m\u001b[1;33m:\u001b[0m\u001b[1;33m\u001b[0m\u001b[1;33m\u001b[0m\u001b[0m\n\u001b[0;32m    392\u001b[0m                 \u001b[1;31m# Break a reference cycle with the exception in self._exception\u001b[0m\u001b[1;33m\u001b[0m\u001b[1;33m\u001b[0m\u001b[0m\n",
      "\u001b[1;31mValueError\u001b[0m: The specified ratio required to remove samples from the minority class while trying to generate new samples. Please increase the ratio."
     ]
    }
   ],
   "source": [
    "evalModel(pipeline, X, y, scoring)"
   ]
  },
  {
   "cell_type": "code",
   "execution_count": 110,
   "id": "396a1c8b",
   "metadata": {
    "colab": {
     "base_uri": "https://localhost:8080/"
    },
    "id": "396a1c8b",
    "outputId": "368bdb48-29e9-4d93-c361-12cbc657c686"
   },
   "outputs": [
    {
     "data": {
      "text/plain": [
       "rating_category\n",
       "1.0                931\n",
       "0.0                846\n",
       "dtype: int64"
      ]
     },
     "execution_count": 110,
     "metadata": {},
     "output_type": "execute_result"
    }
   ],
   "source": [
    "X_train_res, y_train_res = over.fit_resample(X_train, y_train)\n",
    "y_train_res.value_counts()"
   ]
  },
  {
   "cell_type": "code",
   "execution_count": 111,
   "id": "1330a1be",
   "metadata": {
    "colab": {
     "base_uri": "https://localhost:8080/",
     "height": 1000
    },
    "id": "1330a1be",
    "outputId": "a24bbe1a-3738-4d0a-b637-d4594cf747f2"
   },
   "outputs": [
    {
     "name": "stdout",
     "output_type": "stream",
     "text": [
      "Goodness of Fit of Model \tTrain Dataset\n",
      "Classification Accuracy \t: 1.0\n",
      "\n",
      "Goodness of Fit of Model \tTest Dataset\n",
      "Classification Accuracy \t: 0.7146401985111662\n",
      "\n",
      "True '1' rate Train :\t 1.0\n",
      "True '0' rate Train :\t 1.0\n",
      "\n",
      "False '1' rate Train :\t 0.0\n",
      "False '0' rate Train :\t 0.0\n",
      "\n",
      "True '1' rate Test :\t 0.8025751072961373\n",
      "True '0' rate Test :\t 0.5941176470588235\n",
      "\n",
      "False '1' rate Test :\t 0.40588235294117647\n",
      "False '0' rate Test :\t 0.19742489270386265\n",
      "\n"
     ]
    },
    {
     "data": {
      "image/png": "[encoded data removed]",
      "text/plain": [
       "<Figure size 576x1152 with 4 Axes>"
      ]
     },
     "metadata": {},
     "output_type": "display_data"
    }
   ],
   "source": [
    "fitModel(GradBoost, X_train_res, X_test, y_train_res, y_test)"
   ]
  },
  {
   "cell_type": "code",
   "execution_count": null,
   "id": "c3beab3f",
   "metadata": {},
   "outputs": [],
   "source": []
  }
 ],
 "metadata": {
  "colab": {
   "name": "Copy of Machine learning.ipynb",
   "provenance": [],
   "toc_visible": true
  },
  "kernelspec": {
   "display_name": "Python 3 (ipykernel)",
   "language": "python",
   "name": "python3"
  },
  "language_info": {
   "codemirror_mode": {
    "name": "ipython",
    "version": 3
   },
   "file_extension": ".py",
   "mimetype": "text/x-python",
   "name": "python",
   "nbconvert_exporter": "python",
   "pygments_lexer": "ipython3",
   "version": "3.9.7"
  }
 },
 "nbformat": 4,
 "nbformat_minor": 5
}
