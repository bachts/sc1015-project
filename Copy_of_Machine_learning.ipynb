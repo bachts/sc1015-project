{
  "cells": [
    {
      "cell_type": "markdown",
      "source": [
        "# Importing the necessary libraries and dataset"
      ],
      "metadata": {
        "id": "CQ1Iv7vSkt3O"
      },
      "id": "CQ1Iv7vSkt3O"
    },
    {
      "cell_type": "code",
      "source": [
        "import numpy as np\n",
        "import pandas as pd\n",
        "import seaborn as sb\n",
        "import matplotlib.pyplot as plt \n",
        "sb.set()"
      ],
      "metadata": {
        "id": "0t_W-Clbkvh9"
      },
      "id": "0t_W-Clbkvh9",
      "execution_count": 1,
      "outputs": []
    },
    {
      "cell_type": "code",
      "source": [
        "choc = pd.read_csv('traintest.csv')"
      ],
      "metadata": {
        "id": "9GTiwaaEkxA2"
      },
      "id": "9GTiwaaEkxA2",
      "execution_count": 2,
      "outputs": []
    },
    {
      "cell_type": "markdown",
      "id": "6913e346",
      "metadata": {
        "id": "6913e346"
      },
      "source": [
        "# One-hot encoding for categorical variables"
      ]
    },
    {
      "cell_type": "code",
      "execution_count": 3,
      "id": "bf61371b",
      "metadata": {
        "id": "bf61371b"
      },
      "outputs": [],
      "source": [
        "# one hot encoding\n",
        "choc_ohe = choc[['country_of_bean_origin',\n",
        "                 'first_taste', 'second_taste', 'third_taste', 'fourth_taste']]\n",
        "choc_ohe = pd.get_dummies(data = choc_ohe)\n",
        "\n",
        "# extracting rest of the predictors\n",
        "choc_num = choc[['cocoa_percent', 'counts_of_ingredients', 'number_of_taste',\n",
        "                 'vanilla', 'lecithin', 'salt', 'sugar']]\n",
        "\n",
        "# extracting response\n",
        "choc_response = choc['rating_category']\n",
        "\n",
        "# combining predictors and response\n",
        "choc_ohe = pd.concat([choc_ohe, choc_response, choc_num], sort = False, axis = 1)"
      ]
    },
    {
      "cell_type": "markdown",
      "id": "9118ed2c",
      "metadata": {
        "id": "9118ed2c"
      },
      "source": [
        "For our models, we are going to use Stratified K Fold cross validation to evaluate the model, as well as calculating its accuracy rate on a training and testing data set"
      ]
    },
    {
      "cell_type": "code",
      "execution_count": 4,
      "id": "d8556a75",
      "metadata": {
        "id": "d8556a75"
      },
      "outputs": [],
      "source": [
        "from sklearn.model_selection import RepeatedStratifiedKFold, cross_validate, train_test_split"
      ]
    },
    {
      "cell_type": "code",
      "execution_count": 5,
      "id": "ab4aa915",
      "metadata": {
        "id": "ab4aa915"
      },
      "outputs": [],
      "source": [
        "from sklearn.metrics import make_scorer, accuracy_score, precision_score, recall_score, f1_score, confusion_matrix\n",
        "\n",
        "scoring = {'accuracy' : make_scorer(accuracy_score), \n",
        "           'precision' : make_scorer(precision_score),\n",
        "           'recall' : make_scorer(recall_score), \n",
        "           'f1_score' : make_scorer(f1_score)}"
      ]
    },
    {
      "cell_type": "markdown",
      "id": "6bf881f4",
      "metadata": {
        "id": "6bf881f4"
      },
      "source": [
        "Extract response and predictor variables, and split train and test set"
      ]
    },
    {
      "cell_type": "code",
      "execution_count": 6,
      "id": "697f0c34",
      "metadata": {
        "id": "697f0c34"
      },
      "outputs": [],
      "source": [
        "y = pd.DataFrame(choc_ohe['rating_category'])\n",
        "X = pd.DataFrame(choc_ohe.drop('rating_category', axis = 1))\n",
        "X_train, X_test, y_train, y_test = train_test_split(X, y, test_size = 0.2, stratify = y)"
      ]
    },
    {
      "cell_type": "markdown",
      "source": [
        "# Creating helper function for decision tree and random forest"
      ],
      "metadata": {
        "id": "yo8oGsIzlDMe"
      },
      "id": "yo8oGsIzlDMe"
    },
    {
      "cell_type": "code",
      "source": [
        "def evalModel(classifier, X, y, scoring):\n",
        "    cv = RepeatedStratifiedKFold(n_splits=5, n_repeats=3, random_state=1)\n",
        "    n_scores = cross_validate(classifier, X, y, scoring=scoring, cv=cv, n_jobs=-1, error_score='raise')\n",
        "    print('accuracy: %.3f (%.3f)' % (np.mean(n_scores[\"test_accuracy\"]), np.std(n_scores[\"test_accuracy\"])))\n",
        "    print('precison: %.3f (%.3f)' % (np.mean(n_scores[\"test_precision\"]), np.std(n_scores[\"test_precision\"])))\n",
        "    print('recall: %.3f (%.3f)' % (np.mean(n_scores[\"test_recall\"]), np.std(n_scores[\"test_recall\"])))\n",
        "    print('f1 score: %.3f (%.3f)' % (np.mean(n_scores[\"test_f1_score\"]), np.std(n_scores[\"test_f1_score\"])))\n",
        "\n",
        "def fitModel(classifier, X_train, X_test, y_train, y_test):\n",
        "    # train thetree model\n",
        "    classifier.fit(X_train, y_train.rating_category.ravel())\n",
        "\n",
        "    # Predict Response corresponding to Predictors\n",
        "    y_train_pred = classifier.predict(X_train)\n",
        "    y_test_pred = classifier.predict(X_test)\n",
        "\n",
        "    # Check the Goodness of Fit on Train Data\n",
        "    print(\"Goodness of Fit of Model \\tTrain Dataset\")\n",
        "    print(\"Classification Accuracy \\t:\", classifier.score(X_train, y_train))\n",
        "    print()\n",
        "    # Check the Goodness of Fit on Test Data\n",
        "    print(\"Goodness of Fit of Model \\tTest Dataset\")\n",
        "    print(\"Classification Accuracy \\t:\", classifier.score(X_test, y_test))\n",
        "    print()\n",
        "\n",
        "    trainData = confusion_matrix(y_train, y_train_pred)\n",
        "    testData = confusion_matrix(y_test, y_test_pred)\n",
        "\n",
        "    print(\"True '1' rate Train :\\t\", (trainData[1][1]/(trainData[1][0]+trainData[1][1])))\n",
        "    print(\"True '0' rate Train :\\t\", (trainData[0][0]/(trainData[0][0]+trainData[0][1])))\n",
        "    print()\n",
        "    print(\"False '1' rate Train :\\t\", ((trainData[0][1])/((trainData[0][1]+trainData[0][0]))))\n",
        "    print(\"False '0' rate Train :\\t\", ((trainData[1][0])/((trainData[1][0]+trainData[1][1]))))\n",
        "    print()\n",
        "    print(\"True '1' rate Test :\\t\", (testData[1][1]/(testData[1][0]+testData[1][1])))\n",
        "    print(\"True '0' rate Test :\\t\", (testData[0][0]/(testData[0][0]+testData[0][1])))\n",
        "    print()\n",
        "    print(\"False '1' rate Test :\\t\", ((testData[0][1])/((testData[0][1]+testData[0][0]))))\n",
        "    print(\"False '0' rate Test :\\t\", ((testData[1][0])/((testData[1][0]+testData[1][1]))))\n",
        "    print()\n",
        "\n",
        "    # Plot the Confusion Matrix for Train and Test\n",
        "    f, axes = plt.subplots(2, 1, figsize=(8, 16))\n",
        "    sb.heatmap(trainData, annot = True, fmt=\".0f\", annot_kws={\"size\": 18}, ax = axes[0])\n",
        "    sb.heatmap(testData,  annot = True, fmt=\".0f\", annot_kws={\"size\": 18}, ax = axes[1])"
      ],
      "metadata": {
        "id": "tmSRaf1BlCo-"
      },
      "id": "tmSRaf1BlCo-",
      "execution_count": 7,
      "outputs": []
    },
    {
      "cell_type": "markdown",
      "id": "d71c725a",
      "metadata": {
        "id": "d71c725a"
      },
      "source": [
        "# Classification tree"
      ]
    },
    {
      "cell_type": "markdown",
      "id": "c05014f1",
      "metadata": {
        "id": "c05014f1"
      },
      "source": [
        "We start off with a very simple model, a decision tree classifier"
      ]
    },
    {
      "cell_type": "code",
      "execution_count": 8,
      "id": "cc9db588",
      "metadata": {
        "id": "cc9db588"
      },
      "outputs": [],
      "source": [
        "from sklearn.tree import DecisionTreeClassifier"
      ]
    },
    {
      "cell_type": "markdown",
      "id": "6174ce00",
      "metadata": {
        "id": "6174ce00"
      },
      "source": [
        "Using stratified K fold cross validation to evaluate the model"
      ]
    },
    {
      "cell_type": "code",
      "execution_count": 9,
      "id": "679eef7e",
      "metadata": {
        "id": "679eef7e",
        "outputId": "b3e522c9-c94a-432f-e00d-b424c62dd8d7",
        "colab": {
          "base_uri": "https://localhost:8080/"
        }
      },
      "outputs": [
        {
          "output_type": "stream",
          "name": "stdout",
          "text": [
            "accuracy: 0.626 (0.021)\n",
            "precison: 0.655 (0.017)\n",
            "recall: 0.747 (0.050)\n",
            "f1 score: 0.697 (0.023)\n"
          ]
        }
      ],
      "source": [
        "dectree = DecisionTreeClassifier(max_depth = 40)\n",
        "evalModel(dectree, X, y, scoring)"
      ]
    },
    {
      "cell_type": "markdown",
      "id": "284c8a1f",
      "metadata": {
        "id": "284c8a1f"
      },
      "source": [
        "Test the model on a train and test data set"
      ]
    },
    {
      "cell_type": "code",
      "execution_count": 10,
      "id": "956b4e16",
      "metadata": {
        "id": "956b4e16",
        "outputId": "f498a5b9-0ea8-41d2-c2a4-76d4e12f67f0",
        "colab": {
          "base_uri": "https://localhost:8080/",
          "height": 1000
        }
      },
      "outputs": [
        {
          "output_type": "stream",
          "name": "stdout",
          "text": [
            "Goodness of Fit of Model \tTrain Dataset\n",
            "Classification Accuracy \t: 0.9119106699751861\n",
            "\n",
            "Goodness of Fit of Model \tTest Dataset\n",
            "Classification Accuracy \t: 0.6377171215880894\n",
            "\n",
            "True '1' rate Train :\t 0.9935553168635876\n",
            "True '0' rate Train :\t 0.8002936857562408\n",
            "\n",
            "False '1' rate Train :\t 0.19970631424375918\n",
            "False '0' rate Train :\t 0.00644468313641246\n",
            "\n",
            "True '1' rate Test :\t 0.7896995708154506\n",
            "True '0' rate Test :\t 0.4294117647058823\n",
            "\n",
            "False '1' rate Test :\t 0.5705882352941176\n",
            "False '0' rate Test :\t 0.21030042918454936\n",
            "\n"
          ]
        },
        {
          "output_type": "display_data",
          "data": {
            "text/plain": [
              "<Figure size 576x1152 with 4 Axes>"
            ],
            "image/png": "[encoded data removed]"
          },
          "metadata": {
            "needs_background": "light"
          }
        }
      ],
      "source": [
        "fitModel(dectree, X_train, X_test, y_train, y_test)"
      ]
    },
    {
      "cell_type": "markdown",
      "id": "8b3f9a46",
      "metadata": {
        "id": "8b3f9a46"
      },
      "source": [
        "Overall, the Classification Tree model did quite a bad job of predicting our chocolate rating, let's see how we can improve upon that accuracy."
      ]
    },
    {
      "cell_type": "markdown",
      "id": "d05ac4a7",
      "metadata": {
        "id": "d05ac4a7"
      },
      "source": [
        "# Random Forest"
      ]
    },
    {
      "cell_type": "code",
      "execution_count": 11,
      "id": "9f2c9e8b",
      "metadata": {
        "id": "9f2c9e8b"
      },
      "outputs": [],
      "source": [
        "from sklearn.ensemble import RandomForestClassifier"
      ]
    },
    {
      "cell_type": "markdown",
      "id": "8d16a7e5",
      "metadata": {
        "id": "8d16a7e5"
      },
      "source": [
        "Using stratified K fold cross validation to evaluate the model"
      ]
    },
    {
      "cell_type": "code",
      "execution_count": 12,
      "id": "6f31a982",
      "metadata": {
        "id": "6f31a982",
        "outputId": "739e9cc6-e953-4213-ceed-3b7b0a38bf60",
        "colab": {
          "base_uri": "https://localhost:8080/"
        }
      },
      "outputs": [
        {
          "output_type": "stream",
          "name": "stdout",
          "text": [
            "accuracy: 0.680 (0.015)\n",
            "precison: 0.676 (0.014)\n",
            "recall: 0.857 (0.022)\n",
            "f1 score: 0.756 (0.011)\n"
          ]
        }
      ],
      "source": [
        "rforest = RandomForestClassifier(n_estimators = 800, max_depth = 80)\n",
        "evalModel(rforest, X, y, scoring)"
      ]
    },
    {
      "cell_type": "markdown",
      "id": "bf19d284",
      "metadata": {
        "id": "bf19d284"
      },
      "source": [
        "Test the model on a train and test data set"
      ]
    },
    {
      "cell_type": "code",
      "execution_count": 13,
      "id": "60f23220",
      "metadata": {
        "id": "60f23220",
        "outputId": "9070cdac-486f-473a-b1ee-eec2a373a840",
        "colab": {
          "base_uri": "https://localhost:8080/",
          "height": 1000
        }
      },
      "outputs": [
        {
          "output_type": "stream",
          "name": "stdout",
          "text": [
            "Goodness of Fit of Model \tTrain Dataset\n",
            "Classification Accuracy \t: 0.9950372208436724\n",
            "\n",
            "Goodness of Fit of Model \tTest Dataset\n",
            "Classification Accuracy \t: 0.6997518610421837\n",
            "\n",
            "True '1' rate Train :\t 1.0\n",
            "True '0' rate Train :\t 0.9882525697503671\n",
            "\n",
            "False '1' rate Train :\t 0.011747430249632892\n",
            "False '0' rate Train :\t 0.0\n",
            "\n",
            "True '1' rate Test :\t 0.8412017167381974\n",
            "True '0' rate Test :\t 0.5058823529411764\n",
            "\n",
            "False '1' rate Test :\t 0.49411764705882355\n",
            "False '0' rate Test :\t 0.15879828326180256\n",
            "\n"
          ]
        },
        {
          "output_type": "display_data",
          "data": {
            "text/plain": [
              "<Figure size 576x1152 with 4 Axes>"
            ],
            "image/png": "[encoded data removed]"
          },
          "metadata": {
            "needs_background": "light"
          }
        }
      ],
      "source": [
        "fitModel(rforest, X_train, X_test, y_train, y_test)"
      ]
    },
    {
      "cell_type": "markdown",
      "id": "5d709a34",
      "metadata": {
        "id": "5d709a34"
      },
      "source": [
        "We have good accuracy on the training data set, but horrible accuracy on the test dataset, this might be a case of overfitting.\n",
        "We predict too much '0' value as '1', which can mess with our prediction of a highly rated chocolate bar"
      ]
    },
    {
      "cell_type": "markdown",
      "id": "d7598e5d",
      "metadata": {
        "id": "d7598e5d"
      },
      "source": [
        "# Upsampling the minority class in rating category"
      ]
    },
    {
      "cell_type": "code",
      "execution_count": 14,
      "id": "0159a675",
      "metadata": {
        "id": "0159a675",
        "outputId": "a5550c9d-c999-433e-930b-f323e62e01cd",
        "colab": {
          "base_uri": "https://localhost:8080/"
        }
      },
      "outputs": [
        {
          "output_type": "execute_result",
          "data": {
            "text/plain": [
              "1    1164\n",
              "0     851\n",
              "Name: rating_category, dtype: int64"
            ]
          },
          "metadata": {},
          "execution_count": 14
        }
      ],
      "source": [
        "# See which category of rating is imbalanced\n",
        "choc_ohe.rating_category.value_counts()"
      ]
    },
    {
      "cell_type": "code",
      "execution_count": 15,
      "id": "7cc2beaa",
      "metadata": {
        "id": "7cc2beaa"
      },
      "outputs": [],
      "source": [
        "from imblearn.over_sampling import SVMSMOTE\n",
        "from imblearn.over_sampling import SMOTE\n",
        "from imblearn.over_sampling import BorderlineSMOTE\n",
        "from imblearn.over_sampling import KMeansSMOTE\n",
        "from imblearn.over_sampling import ADASYN\n",
        "from imblearn.under_sampling import RandomUnderSampler\n",
        "from imblearn.pipeline import Pipeline"
      ]
    },
    {
      "cell_type": "code",
      "execution_count": 16,
      "id": "82f4a397",
      "metadata": {
        "id": "82f4a397"
      },
      "outputs": [],
      "source": [
        "rforest = RandomForestClassifier(n_estimators = 600, max_depth = 60)\n",
        "over = ADASYN()\n",
        "under = RandomUnderSampler(sampling_strategy=0.5) \n",
        "steps = [(\"smote\", over),(\"model\", rforest)]\n",
        "pipeline = Pipeline(steps = steps)"
      ]
    },
    {
      "cell_type": "markdown",
      "id": "6d74d80f",
      "metadata": {
        "id": "6d74d80f"
      },
      "source": [
        "Experimented with different kind of SMOTE algorithms, including SMOTE, SVMSMOTE, BorderlineSMOTE, KMeansSMOTE and ADASYN.\n",
        "Found that ADASYN generally resulted in the best parameters"
      ]
    },
    {
      "cell_type": "markdown",
      "id": "7fe54f19",
      "metadata": {
        "id": "7fe54f19"
      },
      "source": [
        "Using stratified K fold cross validation to evalute the model"
      ]
    },
    {
      "cell_type": "code",
      "execution_count": 17,
      "id": "7d8cdf7f",
      "metadata": {
        "id": "7d8cdf7f",
        "outputId": "872e33db-adec-4a58-a87f-011ee492f011",
        "colab": {
          "base_uri": "https://localhost:8080/"
        }
      },
      "outputs": [
        {
          "output_type": "stream",
          "name": "stdout",
          "text": [
            "accuracy: 0.641 (0.023)\n",
            "precison: 0.755 (0.022)\n",
            "recall: 0.561 (0.037)\n",
            "f1 score: 0.643 (0.028)\n"
          ]
        }
      ],
      "source": [
        "evalModel(pipeline, X, y, scoring)"
      ]
    },
    {
      "cell_type": "markdown",
      "id": "67d7ee9a",
      "metadata": {
        "id": "67d7ee9a"
      },
      "source": [
        "Test the model on a train and test data set"
      ]
    },
    {
      "cell_type": "code",
      "execution_count": 18,
      "id": "24dec37f",
      "metadata": {
        "id": "24dec37f",
        "outputId": "a9f25170-7792-4e03-f6c7-9cf498f6d870",
        "colab": {
          "base_uri": "https://localhost:8080/"
        }
      },
      "outputs": [
        {
          "output_type": "execute_result",
          "data": {
            "text/plain": [
              "rating_category\n",
              "1                  931\n",
              "0                  681\n",
              "dtype: int64"
            ]
          },
          "metadata": {},
          "execution_count": 18
        }
      ],
      "source": [
        "y_train.value_counts()"
      ]
    },
    {
      "cell_type": "code",
      "execution_count": 19,
      "id": "698aa97e",
      "metadata": {
        "id": "698aa97e",
        "outputId": "a62ae4f6-4c2e-4dd4-dfe8-d1f2c8b873a7",
        "colab": {
          "base_uri": "https://localhost:8080/"
        }
      },
      "outputs": [
        {
          "output_type": "execute_result",
          "data": {
            "text/plain": [
              "rating_category\n",
              "1                  931\n",
              "0                  869\n",
              "dtype: int64"
            ]
          },
          "metadata": {},
          "execution_count": 19
        }
      ],
      "source": [
        "X_train_res, y_train_res = over.fit_resample(X_train, y_train)\n",
        "y_train_res.value_counts()"
      ]
    },
    {
      "cell_type": "code",
      "execution_count": 20,
      "id": "0ca02d85",
      "metadata": {
        "id": "0ca02d85",
        "outputId": "2b3cfae1-9c9d-4514-b0f0-338e042b7cb4",
        "colab": {
          "base_uri": "https://localhost:8080/",
          "height": 1000
        }
      },
      "outputs": [
        {
          "output_type": "stream",
          "name": "stdout",
          "text": [
            "Goodness of Fit of Model \tTrain Dataset\n",
            "Classification Accuracy \t: 0.9955555555555555\n",
            "\n",
            "Goodness of Fit of Model \tTest Dataset\n",
            "Classification Accuracy \t: 0.6575682382133995\n",
            "\n",
            "True '1' rate Train :\t 1.0\n",
            "True '0' rate Train :\t 0.9907940161104718\n",
            "\n",
            "False '1' rate Train :\t 0.009205983889528193\n",
            "False '0' rate Train :\t 0.0\n",
            "\n",
            "True '1' rate Test :\t 0.5665236051502146\n",
            "True '0' rate Test :\t 0.7823529411764706\n",
            "\n",
            "False '1' rate Test :\t 0.21764705882352942\n",
            "False '0' rate Test :\t 0.4334763948497854\n",
            "\n"
          ]
        },
        {
          "output_type": "display_data",
          "data": {
            "text/plain": [
              "<Figure size 576x1152 with 4 Axes>"
            ],
            "image/png": "[encoded data removed]"
          },
          "metadata": {
            "needs_background": "light"
          }
        }
      ],
      "source": [
        "fitModel(rforest, X_train_res, X_test, y_train_res, y_test)"
      ]
    },
    {
      "cell_type": "markdown",
      "id": "254341e6",
      "metadata": {
        "id": "254341e6"
      },
      "source": [
        "Better accuracy, and better recall rate as well"
      ]
    },
    {
      "cell_type": "markdown",
      "id": "056cdd0c",
      "metadata": {
        "id": "056cdd0c"
      },
      "source": [
        "# Removing minority classes in predictors"
      ]
    },
    {
      "cell_type": "code",
      "execution_count": 21,
      "id": "02bb857b",
      "metadata": {
        "id": "02bb857b",
        "outputId": "7f5e0c29-28cf-4cfe-e907-a4fe83973bb4",
        "colab": {
          "base_uri": "https://localhost:8080/",
          "height": 551
        }
      },
      "outputs": [
        {
          "output_type": "execute_result",
          "data": {
            "text/plain": [
              "                 index  country_of_bean_origin\n",
              "0            Venezuela                     220\n",
              "1                 Peru                     188\n",
              "2   Dominican republic                     182\n",
              "3              Ecuador                     159\n",
              "4           Madagascar                     151\n",
              "5                Blend                     101\n",
              "6            Nicaragua                      87\n",
              "7              Bolivia                      67\n",
              "8               Brazil                      65\n",
              "9             Tanzania                      62\n",
              "10             Vietnam                      62\n",
              "11            Colombia                      61\n",
              "12              Belize                      60\n",
              "13           Guatemala                      50\n",
              "14              Mexico                      44\n",
              "15    Papua new guinea                      44"
            ],
            "text/html": [
              "\n",
              "  <div id=\"df-ac7922b5-384c-4df0-bfcf-76dd99225007\">\n",
              "    <div class=\"colab-df-container\">\n",
              "      <div>\n",
              "<style scoped>\n",
              "    .dataframe tbody tr th:only-of-type {\n",
              "        vertical-align: middle;\n",
              "    }\n",
              "\n",
              "    .dataframe tbody tr th {\n",
              "        vertical-align: top;\n",
              "    }\n",
              "\n",
              "    .dataframe thead th {\n",
              "        text-align: right;\n",
              "    }\n",
              "</style>\n",
              "<table border=\"1\" class=\"dataframe\">\n",
              "  <thead>\n",
              "    <tr style=\"text-align: right;\">\n",
              "      <th></th>\n",
              "      <th>index</th>\n",
              "      <th>country_of_bean_origin</th>\n",
              "    </tr>\n",
              "  </thead>\n",
              "  <tbody>\n",
              "    <tr>\n",
              "      <th>0</th>\n",
              "      <td>Venezuela</td>\n",
              "      <td>220</td>\n",
              "    </tr>\n",
              "    <tr>\n",
              "      <th>1</th>\n",
              "      <td>Peru</td>\n",
              "      <td>188</td>\n",
              "    </tr>\n",
              "    <tr>\n",
              "      <th>2</th>\n",
              "      <td>Dominican republic</td>\n",
              "      <td>182</td>\n",
              "    </tr>\n",
              "    <tr>\n",
              "      <th>3</th>\n",
              "      <td>Ecuador</td>\n",
              "      <td>159</td>\n",
              "    </tr>\n",
              "    <tr>\n",
              "      <th>4</th>\n",
              "      <td>Madagascar</td>\n",
              "      <td>151</td>\n",
              "    </tr>\n",
              "    <tr>\n",
              "      <th>5</th>\n",
              "      <td>Blend</td>\n",
              "      <td>101</td>\n",
              "    </tr>\n",
              "    <tr>\n",
              "      <th>6</th>\n",
              "      <td>Nicaragua</td>\n",
              "      <td>87</td>\n",
              "    </tr>\n",
              "    <tr>\n",
              "      <th>7</th>\n",
              "      <td>Bolivia</td>\n",
              "      <td>67</td>\n",
              "    </tr>\n",
              "    <tr>\n",
              "      <th>8</th>\n",
              "      <td>Brazil</td>\n",
              "      <td>65</td>\n",
              "    </tr>\n",
              "    <tr>\n",
              "      <th>9</th>\n",
              "      <td>Tanzania</td>\n",
              "      <td>62</td>\n",
              "    </tr>\n",
              "    <tr>\n",
              "      <th>10</th>\n",
              "      <td>Vietnam</td>\n",
              "      <td>62</td>\n",
              "    </tr>\n",
              "    <tr>\n",
              "      <th>11</th>\n",
              "      <td>Colombia</td>\n",
              "      <td>61</td>\n",
              "    </tr>\n",
              "    <tr>\n",
              "      <th>12</th>\n",
              "      <td>Belize</td>\n",
              "      <td>60</td>\n",
              "    </tr>\n",
              "    <tr>\n",
              "      <th>13</th>\n",
              "      <td>Guatemala</td>\n",
              "      <td>50</td>\n",
              "    </tr>\n",
              "    <tr>\n",
              "      <th>14</th>\n",
              "      <td>Mexico</td>\n",
              "      <td>44</td>\n",
              "    </tr>\n",
              "    <tr>\n",
              "      <th>15</th>\n",
              "      <td>Papua new guinea</td>\n",
              "      <td>44</td>\n",
              "    </tr>\n",
              "  </tbody>\n",
              "</table>\n",
              "</div>\n",
              "      <button class=\"colab-df-convert\" onclick=\"convertToInteractive('df-ac7922b5-384c-4df0-bfcf-76dd99225007')\"\n",
              "              title=\"Convert this dataframe to an interactive table.\"\n",
              "              style=\"display:none;\">\n",
              "        \n",
              "  <svg xmlns=\"http://www.w3.org/2000/svg\" height=\"24px\"viewBox=\"0 0 24 24\"\n",
              "       width=\"24px\">\n",
              "    <path d=\"M0 0h24v24H0V0z\" fill=\"none\"/>\n",
              "    <path d=\"M18.56 5.44l.94 2.06.94-2.06 2.06-.94-2.06-.94-.94-2.06-.94 2.06-2.06.94zm-11 1L8.5 8.5l.94-2.06 2.06-.94-2.06-.94L8.5 2.5l-.94 2.06-2.06.94zm10 10l.94 2.06.94-2.06 2.06-.94-2.06-.94-.94-2.06-.94 2.06-2.06.94z\"/><path d=\"M17.41 7.96l-1.37-1.37c-.4-.4-.92-.59-1.43-.59-.52 0-1.04.2-1.43.59L10.3 9.45l-7.72 7.72c-.78.78-.78 2.05 0 2.83L4 21.41c.39.39.9.59 1.41.59.51 0 1.02-.2 1.41-.59l7.78-7.78 2.81-2.81c.8-.78.8-2.07 0-2.86zM5.41 20L4 18.59l7.72-7.72 1.47 1.35L5.41 20z\"/>\n",
              "  </svg>\n",
              "      </button>\n",
              "      \n",
              "  <style>\n",
              "    .colab-df-container {\n",
              "      display:flex;\n",
              "      flex-wrap:wrap;\n",
              "      gap: 12px;\n",
              "    }\n",
              "\n",
              "    .colab-df-convert {\n",
              "      background-color: #E8F0FE;\n",
              "      border: none;\n",
              "      border-radius: 50%;\n",
              "      cursor: pointer;\n",
              "      display: none;\n",
              "      fill: #1967D2;\n",
              "      height: 32px;\n",
              "      padding: 0 0 0 0;\n",
              "      width: 32px;\n",
              "    }\n",
              "\n",
              "    .colab-df-convert:hover {\n",
              "      background-color: #E2EBFA;\n",
              "      box-shadow: 0px 1px 2px rgba(60, 64, 67, 0.3), 0px 1px 3px 1px rgba(60, 64, 67, 0.15);\n",
              "      fill: #174EA6;\n",
              "    }\n",
              "\n",
              "    [theme=dark] .colab-df-convert {\n",
              "      background-color: #3B4455;\n",
              "      fill: #D2E3FC;\n",
              "    }\n",
              "\n",
              "    [theme=dark] .colab-df-convert:hover {\n",
              "      background-color: #434B5C;\n",
              "      box-shadow: 0px 1px 3px 1px rgba(0, 0, 0, 0.15);\n",
              "      filter: drop-shadow(0px 1px 2px rgba(0, 0, 0, 0.3));\n",
              "      fill: #FFFFFF;\n",
              "    }\n",
              "  </style>\n",
              "\n",
              "      <script>\n",
              "        const buttonEl =\n",
              "          document.querySelector('#df-ac7922b5-384c-4df0-bfcf-76dd99225007 button.colab-df-convert');\n",
              "        buttonEl.style.display =\n",
              "          google.colab.kernel.accessAllowed ? 'block' : 'none';\n",
              "\n",
              "        async function convertToInteractive(key) {\n",
              "          const element = document.querySelector('#df-ac7922b5-384c-4df0-bfcf-76dd99225007');\n",
              "          const dataTable =\n",
              "            await google.colab.kernel.invokeFunction('convertToInteractive',\n",
              "                                                     [key], {});\n",
              "          if (!dataTable) return;\n",
              "\n",
              "          const docLinkHtml = 'Like what you see? Visit the ' +\n",
              "            '<a target=\"_blank\" href=https://colab.research.google.com/notebooks/data_table.ipynb>data table notebook</a>'\n",
              "            + ' to learn more about interactive tables.';\n",
              "          element.innerHTML = '';\n",
              "          dataTable['output_type'] = 'display_data';\n",
              "          await google.colab.output.renderOutput(dataTable, element);\n",
              "          const docLink = document.createElement('div');\n",
              "          docLink.innerHTML = docLinkHtml;\n",
              "          element.appendChild(docLink);\n",
              "        }\n",
              "      </script>\n",
              "    </div>\n",
              "  </div>\n",
              "  "
            ]
          },
          "metadata": {},
          "execution_count": 21
        }
      ],
      "source": [
        "beanOriginCounts = pd.DataFrame(choc['country_of_bean_origin'].value_counts())\n",
        "beanOriginTop = beanOriginCounts[beanOriginCounts['country_of_bean_origin'] > 40].reset_index()\n",
        "beanOriginTop"
      ]
    },
    {
      "cell_type": "markdown",
      "id": "3df819b1",
      "metadata": {
        "id": "3df819b1"
      },
      "source": [
        "In the column `country_of_bean_origin`, there are a lot of data which only appeared very few times."
      ]
    },
    {
      "cell_type": "code",
      "execution_count": 22,
      "id": "326e7182",
      "metadata": {
        "id": "326e7182",
        "outputId": "bb204922-f825-4157-fbed-52ff78fd591d",
        "colab": {
          "base_uri": "https://localhost:8080/",
          "height": 487
        }
      },
      "outputs": [
        {
          "output_type": "execute_result",
          "data": {
            "text/plain": [
              "     country_of_bean_origin  cocoa_percent  rating_category  rating  \\\n",
              "0                Madagascar           76.0                1    3.75   \n",
              "1        Dominican republic           76.0                1    3.50   \n",
              "2                  Tanzania           76.0                1    3.25   \n",
              "3                   Bolivia           70.0                1    3.50   \n",
              "4                 Venezuela           70.0                1    4.00   \n",
              "...                     ...            ...              ...     ...   \n",
              "1598       Papua new guinea           75.0                0    3.00   \n",
              "1599                  Blend           80.0                0    2.75   \n",
              "1600               Colombia           75.0                1    3.75   \n",
              "1601                 Belize           72.0                1    3.50   \n",
              "1602                  Blend           75.0                0    3.00   \n",
              "\n",
              "      counts_of_ingredients  cocoa_butter  vanilla  lecithin  salt  sugar  \\\n",
              "0                         3             1        0         0     0      1   \n",
              "1                         3             1        0         0     0      1   \n",
              "2                         3             1        0         0     0      1   \n",
              "3                         4             1        0         1     0      1   \n",
              "4                         4             1        0         1     0      1   \n",
              "...                     ...           ...      ...       ...   ...    ...   \n",
              "1598                      4             1        0         0     1      0   \n",
              "1599                      4             1        0         0     1      0   \n",
              "1600                      3             1        0         0     0      1   \n",
              "1601                      3             1        0         0     0      1   \n",
              "1602                      3             1        0         0     0      1   \n",
              "\n",
              "        first_taste second_taste third_taste fourth_taste  number_of_taste  \n",
              "0             cocoa   blackberry   full body     no taste                3  \n",
              "1             cocoa      vegetal      savory     no taste                3  \n",
              "2        rich cocoa        fatty      bready     no taste                3  \n",
              "3           vegetal        nutty    no taste     no taste                2  \n",
              "4              oily          nut     caramel    raspberry                4  \n",
              "...             ...          ...         ...          ...              ...  \n",
              "1598  hint of smoke        fruit    no taste     no taste                2  \n",
              "1599           waxy      cloying     vegetal     no taste                3  \n",
              "1600   strong nutty  marshmallow    no taste     no taste                2  \n",
              "1601          muted       roasty  accessible     no taste                3  \n",
              "1602          fatty       earthy       cocoa     no taste                3  \n",
              "\n",
              "[1603 rows x 15 columns]"
            ],
            "text/html": [
              "\n",
              "  <div id=\"df-5c334727-13d9-402a-9de2-c12138789fca\">\n",
              "    <div class=\"colab-df-container\">\n",
              "      <div>\n",
              "<style scoped>\n",
              "    .dataframe tbody tr th:only-of-type {\n",
              "        vertical-align: middle;\n",
              "    }\n",
              "\n",
              "    .dataframe tbody tr th {\n",
              "        vertical-align: top;\n",
              "    }\n",
              "\n",
              "    .dataframe thead th {\n",
              "        text-align: right;\n",
              "    }\n",
              "</style>\n",
              "<table border=\"1\" class=\"dataframe\">\n",
              "  <thead>\n",
              "    <tr style=\"text-align: right;\">\n",
              "      <th></th>\n",
              "      <th>country_of_bean_origin</th>\n",
              "      <th>cocoa_percent</th>\n",
              "      <th>rating_category</th>\n",
              "      <th>rating</th>\n",
              "      <th>counts_of_ingredients</th>\n",
              "      <th>cocoa_butter</th>\n",
              "      <th>vanilla</th>\n",
              "      <th>lecithin</th>\n",
              "      <th>salt</th>\n",
              "      <th>sugar</th>\n",
              "      <th>first_taste</th>\n",
              "      <th>second_taste</th>\n",
              "      <th>third_taste</th>\n",
              "      <th>fourth_taste</th>\n",
              "      <th>number_of_taste</th>\n",
              "    </tr>\n",
              "  </thead>\n",
              "  <tbody>\n",
              "    <tr>\n",
              "      <th>0</th>\n",
              "      <td>Madagascar</td>\n",
              "      <td>76.0</td>\n",
              "      <td>1</td>\n",
              "      <td>3.75</td>\n",
              "      <td>3</td>\n",
              "      <td>1</td>\n",
              "      <td>0</td>\n",
              "      <td>0</td>\n",
              "      <td>0</td>\n",
              "      <td>1</td>\n",
              "      <td>cocoa</td>\n",
              "      <td>blackberry</td>\n",
              "      <td>full body</td>\n",
              "      <td>no taste</td>\n",
              "      <td>3</td>\n",
              "    </tr>\n",
              "    <tr>\n",
              "      <th>1</th>\n",
              "      <td>Dominican republic</td>\n",
              "      <td>76.0</td>\n",
              "      <td>1</td>\n",
              "      <td>3.50</td>\n",
              "      <td>3</td>\n",
              "      <td>1</td>\n",
              "      <td>0</td>\n",
              "      <td>0</td>\n",
              "      <td>0</td>\n",
              "      <td>1</td>\n",
              "      <td>cocoa</td>\n",
              "      <td>vegetal</td>\n",
              "      <td>savory</td>\n",
              "      <td>no taste</td>\n",
              "      <td>3</td>\n",
              "    </tr>\n",
              "    <tr>\n",
              "      <th>2</th>\n",
              "      <td>Tanzania</td>\n",
              "      <td>76.0</td>\n",
              "      <td>1</td>\n",
              "      <td>3.25</td>\n",
              "      <td>3</td>\n",
              "      <td>1</td>\n",
              "      <td>0</td>\n",
              "      <td>0</td>\n",
              "      <td>0</td>\n",
              "      <td>1</td>\n",
              "      <td>rich cocoa</td>\n",
              "      <td>fatty</td>\n",
              "      <td>bready</td>\n",
              "      <td>no taste</td>\n",
              "      <td>3</td>\n",
              "    </tr>\n",
              "    <tr>\n",
              "      <th>3</th>\n",
              "      <td>Bolivia</td>\n",
              "      <td>70.0</td>\n",
              "      <td>1</td>\n",
              "      <td>3.50</td>\n",
              "      <td>4</td>\n",
              "      <td>1</td>\n",
              "      <td>0</td>\n",
              "      <td>1</td>\n",
              "      <td>0</td>\n",
              "      <td>1</td>\n",
              "      <td>vegetal</td>\n",
              "      <td>nutty</td>\n",
              "      <td>no taste</td>\n",
              "      <td>no taste</td>\n",
              "      <td>2</td>\n",
              "    </tr>\n",
              "    <tr>\n",
              "      <th>4</th>\n",
              "      <td>Venezuela</td>\n",
              "      <td>70.0</td>\n",
              "      <td>1</td>\n",
              "      <td>4.00</td>\n",
              "      <td>4</td>\n",
              "      <td>1</td>\n",
              "      <td>0</td>\n",
              "      <td>1</td>\n",
              "      <td>0</td>\n",
              "      <td>1</td>\n",
              "      <td>oily</td>\n",
              "      <td>nut</td>\n",
              "      <td>caramel</td>\n",
              "      <td>raspberry</td>\n",
              "      <td>4</td>\n",
              "    </tr>\n",
              "    <tr>\n",
              "      <th>...</th>\n",
              "      <td>...</td>\n",
              "      <td>...</td>\n",
              "      <td>...</td>\n",
              "      <td>...</td>\n",
              "      <td>...</td>\n",
              "      <td>...</td>\n",
              "      <td>...</td>\n",
              "      <td>...</td>\n",
              "      <td>...</td>\n",
              "      <td>...</td>\n",
              "      <td>...</td>\n",
              "      <td>...</td>\n",
              "      <td>...</td>\n",
              "      <td>...</td>\n",
              "      <td>...</td>\n",
              "    </tr>\n",
              "    <tr>\n",
              "      <th>1598</th>\n",
              "      <td>Papua new guinea</td>\n",
              "      <td>75.0</td>\n",
              "      <td>0</td>\n",
              "      <td>3.00</td>\n",
              "      <td>4</td>\n",
              "      <td>1</td>\n",
              "      <td>0</td>\n",
              "      <td>0</td>\n",
              "      <td>1</td>\n",
              "      <td>0</td>\n",
              "      <td>hint of smoke</td>\n",
              "      <td>fruit</td>\n",
              "      <td>no taste</td>\n",
              "      <td>no taste</td>\n",
              "      <td>2</td>\n",
              "    </tr>\n",
              "    <tr>\n",
              "      <th>1599</th>\n",
              "      <td>Blend</td>\n",
              "      <td>80.0</td>\n",
              "      <td>0</td>\n",
              "      <td>2.75</td>\n",
              "      <td>4</td>\n",
              "      <td>1</td>\n",
              "      <td>0</td>\n",
              "      <td>0</td>\n",
              "      <td>1</td>\n",
              "      <td>0</td>\n",
              "      <td>waxy</td>\n",
              "      <td>cloying</td>\n",
              "      <td>vegetal</td>\n",
              "      <td>no taste</td>\n",
              "      <td>3</td>\n",
              "    </tr>\n",
              "    <tr>\n",
              "      <th>1600</th>\n",
              "      <td>Colombia</td>\n",
              "      <td>75.0</td>\n",
              "      <td>1</td>\n",
              "      <td>3.75</td>\n",
              "      <td>3</td>\n",
              "      <td>1</td>\n",
              "      <td>0</td>\n",
              "      <td>0</td>\n",
              "      <td>0</td>\n",
              "      <td>1</td>\n",
              "      <td>strong nutty</td>\n",
              "      <td>marshmallow</td>\n",
              "      <td>no taste</td>\n",
              "      <td>no taste</td>\n",
              "      <td>2</td>\n",
              "    </tr>\n",
              "    <tr>\n",
              "      <th>1601</th>\n",
              "      <td>Belize</td>\n",
              "      <td>72.0</td>\n",
              "      <td>1</td>\n",
              "      <td>3.50</td>\n",
              "      <td>3</td>\n",
              "      <td>1</td>\n",
              "      <td>0</td>\n",
              "      <td>0</td>\n",
              "      <td>0</td>\n",
              "      <td>1</td>\n",
              "      <td>muted</td>\n",
              "      <td>roasty</td>\n",
              "      <td>accessible</td>\n",
              "      <td>no taste</td>\n",
              "      <td>3</td>\n",
              "    </tr>\n",
              "    <tr>\n",
              "      <th>1602</th>\n",
              "      <td>Blend</td>\n",
              "      <td>75.0</td>\n",
              "      <td>0</td>\n",
              "      <td>3.00</td>\n",
              "      <td>3</td>\n",
              "      <td>1</td>\n",
              "      <td>0</td>\n",
              "      <td>0</td>\n",
              "      <td>0</td>\n",
              "      <td>1</td>\n",
              "      <td>fatty</td>\n",
              "      <td>earthy</td>\n",
              "      <td>cocoa</td>\n",
              "      <td>no taste</td>\n",
              "      <td>3</td>\n",
              "    </tr>\n",
              "  </tbody>\n",
              "</table>\n",
              "<p>1603 rows × 15 columns</p>\n",
              "</div>\n",
              "      <button class=\"colab-df-convert\" onclick=\"convertToInteractive('df-5c334727-13d9-402a-9de2-c12138789fca')\"\n",
              "              title=\"Convert this dataframe to an interactive table.\"\n",
              "              style=\"display:none;\">\n",
              "        \n",
              "  <svg xmlns=\"http://www.w3.org/2000/svg\" height=\"24px\"viewBox=\"0 0 24 24\"\n",
              "       width=\"24px\">\n",
              "    <path d=\"M0 0h24v24H0V0z\" fill=\"none\"/>\n",
              "    <path d=\"M18.56 5.44l.94 2.06.94-2.06 2.06-.94-2.06-.94-.94-2.06-.94 2.06-2.06.94zm-11 1L8.5 8.5l.94-2.06 2.06-.94-2.06-.94L8.5 2.5l-.94 2.06-2.06.94zm10 10l.94 2.06.94-2.06 2.06-.94-2.06-.94-.94-2.06-.94 2.06-2.06.94z\"/><path d=\"M17.41 7.96l-1.37-1.37c-.4-.4-.92-.59-1.43-.59-.52 0-1.04.2-1.43.59L10.3 9.45l-7.72 7.72c-.78.78-.78 2.05 0 2.83L4 21.41c.39.39.9.59 1.41.59.51 0 1.02-.2 1.41-.59l7.78-7.78 2.81-2.81c.8-.78.8-2.07 0-2.86zM5.41 20L4 18.59l7.72-7.72 1.47 1.35L5.41 20z\"/>\n",
              "  </svg>\n",
              "      </button>\n",
              "      \n",
              "  <style>\n",
              "    .colab-df-container {\n",
              "      display:flex;\n",
              "      flex-wrap:wrap;\n",
              "      gap: 12px;\n",
              "    }\n",
              "\n",
              "    .colab-df-convert {\n",
              "      background-color: #E8F0FE;\n",
              "      border: none;\n",
              "      border-radius: 50%;\n",
              "      cursor: pointer;\n",
              "      display: none;\n",
              "      fill: #1967D2;\n",
              "      height: 32px;\n",
              "      padding: 0 0 0 0;\n",
              "      width: 32px;\n",
              "    }\n",
              "\n",
              "    .colab-df-convert:hover {\n",
              "      background-color: #E2EBFA;\n",
              "      box-shadow: 0px 1px 2px rgba(60, 64, 67, 0.3), 0px 1px 3px 1px rgba(60, 64, 67, 0.15);\n",
              "      fill: #174EA6;\n",
              "    }\n",
              "\n",
              "    [theme=dark] .colab-df-convert {\n",
              "      background-color: #3B4455;\n",
              "      fill: #D2E3FC;\n",
              "    }\n",
              "\n",
              "    [theme=dark] .colab-df-convert:hover {\n",
              "      background-color: #434B5C;\n",
              "      box-shadow: 0px 1px 3px 1px rgba(0, 0, 0, 0.15);\n",
              "      filter: drop-shadow(0px 1px 2px rgba(0, 0, 0, 0.3));\n",
              "      fill: #FFFFFF;\n",
              "    }\n",
              "  </style>\n",
              "\n",
              "      <script>\n",
              "        const buttonEl =\n",
              "          document.querySelector('#df-5c334727-13d9-402a-9de2-c12138789fca button.colab-df-convert');\n",
              "        buttonEl.style.display =\n",
              "          google.colab.kernel.accessAllowed ? 'block' : 'none';\n",
              "\n",
              "        async function convertToInteractive(key) {\n",
              "          const element = document.querySelector('#df-5c334727-13d9-402a-9de2-c12138789fca');\n",
              "          const dataTable =\n",
              "            await google.colab.kernel.invokeFunction('convertToInteractive',\n",
              "                                                     [key], {});\n",
              "          if (!dataTable) return;\n",
              "\n",
              "          const docLinkHtml = 'Like what you see? Visit the ' +\n",
              "            '<a target=\"_blank\" href=https://colab.research.google.com/notebooks/data_table.ipynb>data table notebook</a>'\n",
              "            + ' to learn more about interactive tables.';\n",
              "          element.innerHTML = '';\n",
              "          dataTable['output_type'] = 'display_data';\n",
              "          await google.colab.output.renderOutput(dataTable, element);\n",
              "          const docLink = document.createElement('div');\n",
              "          docLink.innerHTML = docLinkHtml;\n",
              "          element.appendChild(docLink);\n",
              "        }\n",
              "      </script>\n",
              "    </div>\n",
              "  </div>\n",
              "  "
            ]
          },
          "metadata": {},
          "execution_count": 22
        }
      ],
      "source": [
        "choc_xoutlier = choc[choc[\"country_of_bean_origin\"].isin(beanOriginTop[\"index\"])].reset_index(drop=True)\n",
        "choc_xoutlier"
      ]
    },
    {
      "cell_type": "code",
      "execution_count": 23,
      "id": "c5d72f3c",
      "metadata": {
        "id": "c5d72f3c"
      },
      "outputs": [],
      "source": [
        "# one hot encoding\n",
        "choc_xoutlier_ohe = choc_xoutlier[['country_of_bean_origin',\n",
        "                 'first_taste', 'second_taste', 'third_taste', 'fourth_taste']]\n",
        "choc_xoutlier_ohe = pd.get_dummies(data = choc_xoutlier_ohe)\n",
        "\n",
        "# extracting rest of the predictors\n",
        "choc_num = choc_xoutlier[['cocoa_percent', 'counts_of_ingredients', 'number_of_taste',\n",
        "                          'vanilla', 'lecithin', 'salt', 'sugar']]\n",
        "\n",
        "# extracting response\n",
        "choc_response = choc_xoutlier['rating_category']\n",
        "\n",
        "# combining predictors and response\n",
        "choc_xoutlier_ohe = pd.concat([choc_xoutlier_ohe, choc_response, choc_num], sort = False, axis = 1)"
      ]
    },
    {
      "cell_type": "code",
      "execution_count": 24,
      "id": "fbec10bc",
      "metadata": {
        "id": "fbec10bc",
        "outputId": "a4ca39ea-bb0c-4cbb-90b5-2d38329bca1a",
        "colab": {
          "base_uri": "https://localhost:8080/"
        }
      },
      "outputs": [
        {
          "output_type": "execute_result",
          "data": {
            "text/plain": [
              "1    945\n",
              "0    658\n",
              "Name: rating_category, dtype: int64"
            ]
          },
          "metadata": {},
          "execution_count": 24
        }
      ],
      "source": [
        "choc_xoutlier_ohe.rating_category.value_counts()"
      ]
    },
    {
      "cell_type": "code",
      "execution_count": 25,
      "id": "f6c5f66d",
      "metadata": {
        "id": "f6c5f66d"
      },
      "outputs": [],
      "source": [
        "y = pd.DataFrame(choc_xoutlier_ohe['rating_category'])\n",
        "X = pd.DataFrame(choc_xoutlier_ohe.drop('rating_category', axis = 1))\n",
        "X_train, X_test, y_train, y_test = train_test_split(X, y, test_size = 0.2, stratify = y)"
      ]
    },
    {
      "cell_type": "code",
      "execution_count": 26,
      "id": "74188fb2",
      "metadata": {
        "id": "74188fb2"
      },
      "outputs": [],
      "source": [
        "rforest = RandomForestClassifier(n_estimators = 400, max_depth = 60)\n",
        "over = ADASYN()\n",
        "under = RandomUnderSampler(sampling_strategy=0.5) \n",
        "steps = [(\"smote\", over),(\"model\", rforest)]\n",
        "pipeline = Pipeline(steps = steps)"
      ]
    },
    {
      "cell_type": "markdown",
      "id": "000f6aec",
      "metadata": {
        "id": "000f6aec"
      },
      "source": [
        "Using stratified K fold cross validation to evalute the model"
      ]
    },
    {
      "cell_type": "code",
      "execution_count": 27,
      "id": "f2cceb3e",
      "metadata": {
        "id": "f2cceb3e",
        "outputId": "400557f5-cb25-42a9-bf2f-06e58e52d64c",
        "colab": {
          "base_uri": "https://localhost:8080/"
        }
      },
      "outputs": [
        {
          "output_type": "stream",
          "name": "stdout",
          "text": [
            "accuracy: 0.679 (0.015)\n",
            "precison: 0.676 (0.012)\n",
            "recall: 0.877 (0.026)\n",
            "f1 score: 0.763 (0.012)\n"
          ]
        }
      ],
      "source": [
        "evalModel(rforest, X, y, scoring)"
      ]
    },
    {
      "cell_type": "markdown",
      "id": "a6e75043",
      "metadata": {
        "id": "a6e75043"
      },
      "source": [
        "Test the model on a train and test data set"
      ]
    },
    {
      "cell_type": "code",
      "execution_count": 28,
      "id": "3e4dbe47",
      "metadata": {
        "id": "3e4dbe47",
        "outputId": "0a310418-c35a-4d86-f2d4-a4f5109a46e2",
        "colab": {
          "base_uri": "https://localhost:8080/"
        }
      },
      "outputs": [
        {
          "output_type": "execute_result",
          "data": {
            "text/plain": [
              "rating_category\n",
              "1                  756\n",
              "0                  679\n",
              "dtype: int64"
            ]
          },
          "metadata": {},
          "execution_count": 28
        }
      ],
      "source": [
        "X_train_res, y_train_res = over.fit_resample(X_train, y_train)\n",
        "y_train_res.value_counts()"
      ]
    },
    {
      "cell_type": "markdown",
      "id": "ccc86666",
      "metadata": {
        "id": "ccc86666"
      },
      "source": [
        "Test the model on a train and test data set"
      ]
    },
    {
      "cell_type": "code",
      "execution_count": 29,
      "id": "415493df",
      "metadata": {
        "id": "415493df",
        "outputId": "2c1ccadd-b6da-4eba-8583-0f1b6288bd9e",
        "colab": {
          "base_uri": "https://localhost:8080/",
          "height": 1000
        }
      },
      "outputs": [
        {
          "output_type": "stream",
          "name": "stdout",
          "text": [
            "Goodness of Fit of Model \tTrain Dataset\n",
            "Classification Accuracy \t: 0.9965156794425087\n",
            "\n",
            "Goodness of Fit of Model \tTest Dataset\n",
            "Classification Accuracy \t: 0.6448598130841121\n",
            "\n",
            "True '1' rate Train :\t 0.9986772486772487\n",
            "True '0' rate Train :\t 0.9941089837997055\n",
            "\n",
            "False '1' rate Train :\t 0.005891016200294551\n",
            "False '0' rate Train :\t 0.0013227513227513227\n",
            "\n",
            "True '1' rate Test :\t 0.5767195767195767\n",
            "True '0' rate Test :\t 0.7424242424242424\n",
            "\n",
            "False '1' rate Test :\t 0.25757575757575757\n",
            "False '0' rate Test :\t 0.42328042328042326\n",
            "\n"
          ]
        },
        {
          "output_type": "display_data",
          "data": {
            "text/plain": [
              "<Figure size 576x1152 with 4 Axes>"
            ],
            "image/png": "[encoded data removed]"
          },
          "metadata": {
            "needs_background": "light"
          }
        }
      ],
      "source": [
        "fitModel(rforest, X_train_res, X_test, y_train_res, y_test)"
      ]
    },
    {
      "cell_type": "markdown",
      "id": "9185a157",
      "metadata": {
        "id": "9185a157"
      },
      "source": [
        "To add comment here"
      ]
    },
    {
      "cell_type": "markdown",
      "id": "1da8392c",
      "metadata": {
        "id": "1da8392c"
      },
      "source": [
        "# Gradient Boosting"
      ]
    },
    {
      "cell_type": "markdown",
      "id": "aa35e1c1",
      "metadata": {
        "id": "aa35e1c1"
      },
      "source": [
        "Let's try a more sophisticated model, Gradient Boosting Machine"
      ]
    },
    {
      "cell_type": "code",
      "execution_count": 30,
      "id": "28dbcaf2",
      "metadata": {
        "id": "28dbcaf2"
      },
      "outputs": [],
      "source": [
        "from sklearn.ensemble import GradientBoostingClassifier\n",
        "# gradient boosting for classification in scikit-learn"
      ]
    },
    {
      "cell_type": "code",
      "execution_count": 31,
      "id": "ab93bf75",
      "metadata": {
        "id": "ab93bf75"
      },
      "outputs": [],
      "source": [
        "GradBoost = GradientBoostingClassifier(loss = \"deviance\", learning_rate = 0.1, n_estimators = 500, subsample = 0.5, max_depth = 6)\n",
        "over = ADASYN()\n",
        "under = RandomUnderSampler(sampling_strategy=0.5) \n",
        "steps = [(\"smote\", over),(\"model\", GradBoost)]\n",
        "pipeline = Pipeline(steps = steps)"
      ]
    },
    {
      "cell_type": "markdown",
      "id": "df6d72d8",
      "metadata": {
        "id": "df6d72d8"
      },
      "source": [
        "Using stratified K fold cross validation to evalute the model"
      ]
    },
    {
      "cell_type": "code",
      "execution_count": 32,
      "id": "1442edf8",
      "metadata": {
        "id": "1442edf8",
        "outputId": "867d3579-2ee7-4968-fdd4-4abd97edff0e",
        "colab": {
          "base_uri": "https://localhost:8080/"
        }
      },
      "outputs": [
        {
          "output_type": "stream",
          "name": "stdout",
          "text": [
            "accuracy: 0.675 (0.028)\n",
            "precison: 0.723 (0.023)\n",
            "recall: 0.729 (0.042)\n",
            "f1 score: 0.726 (0.026)\n"
          ]
        }
      ],
      "source": [
        "evalModel(pipeline, X, y, scoring)"
      ]
    },
    {
      "cell_type": "markdown",
      "id": "e86894ea",
      "metadata": {
        "id": "e86894ea"
      },
      "source": [
        "Test the model on a train and test data set"
      ]
    },
    {
      "cell_type": "code",
      "execution_count": 33,
      "id": "374c4bfd",
      "metadata": {
        "id": "374c4bfd",
        "outputId": "cb89ac5a-2bc7-49e3-ff0d-a8a9db99103e",
        "colab": {
          "base_uri": "https://localhost:8080/"
        }
      },
      "outputs": [
        {
          "output_type": "execute_result",
          "data": {
            "text/plain": [
              "rating_category\n",
              "1                  756\n",
              "0                  679\n",
              "dtype: int64"
            ]
          },
          "metadata": {},
          "execution_count": 33
        }
      ],
      "source": [
        "X_train_res, y_train_res = over.fit_resample(X_train, y_train)\n",
        "y_train_res.value_counts()"
      ]
    },
    {
      "cell_type": "code",
      "execution_count": 34,
      "id": "568282c4",
      "metadata": {
        "id": "568282c4",
        "outputId": "0f003512-85a4-4cbd-8ef6-ebc0a03e73fb",
        "colab": {
          "base_uri": "https://localhost:8080/",
          "height": 1000
        }
      },
      "outputs": [
        {
          "output_type": "stream",
          "name": "stdout",
          "text": [
            "Goodness of Fit of Model \tTrain Dataset\n",
            "Classification Accuracy \t: 0.9951219512195122\n",
            "\n",
            "Goodness of Fit of Model \tTest Dataset\n",
            "Classification Accuracy \t: 0.67601246105919\n",
            "\n",
            "True '1' rate Train :\t 1.0\n",
            "True '0' rate Train :\t 0.9896907216494846\n",
            "\n",
            "False '1' rate Train :\t 0.010309278350515464\n",
            "False '0' rate Train :\t 0.0\n",
            "\n",
            "True '1' rate Test :\t 0.7195767195767195\n",
            "True '0' rate Test :\t 0.6136363636363636\n",
            "\n",
            "False '1' rate Test :\t 0.38636363636363635\n",
            "False '0' rate Test :\t 0.2804232804232804\n",
            "\n"
          ]
        },
        {
          "output_type": "display_data",
          "data": {
            "text/plain": [
              "<Figure size 576x1152 with 4 Axes>"
            ],
            "image/png": "[encoded data removed]"
          },
          "metadata": {
            "needs_background": "light"
          }
        }
      ],
      "source": [
        "fitModel(GradBoost, X_train_res, X_test, y_train_res, y_test)"
      ]
    },
    {
      "cell_type": "markdown",
      "id": "4daa1b65",
      "metadata": {
        "id": "4daa1b65"
      },
      "source": [
        "## Without removing outliers"
      ]
    },
    {
      "cell_type": "code",
      "source": [
        "y = pd.DataFrame(choc_ohe['rating_category'])\n",
        "X = pd.DataFrame(choc_ohe.drop('rating_category', axis = 1))\n",
        "X_train, X_test, y_train, y_test = train_test_split(X, y, test_size = 0.2, stratify = y)"
      ],
      "metadata": {
        "id": "NU35P8hd3vfb"
      },
      "id": "NU35P8hd3vfb",
      "execution_count": 35,
      "outputs": []
    },
    {
      "cell_type": "code",
      "source": [
        "y_train.rating_category.value_counts()"
      ],
      "metadata": {
        "colab": {
          "base_uri": "https://localhost:8080/"
        },
        "id": "52d-vGqM37Xe",
        "outputId": "5f88cf46-7f29-4dd2-8fec-4bbe5c6099c1"
      },
      "id": "52d-vGqM37Xe",
      "execution_count": 36,
      "outputs": [
        {
          "output_type": "execute_result",
          "data": {
            "text/plain": [
              "1    931\n",
              "0    681\n",
              "Name: rating_category, dtype: int64"
            ]
          },
          "metadata": {},
          "execution_count": 36
        }
      ]
    },
    {
      "cell_type": "code",
      "execution_count": 37,
      "id": "08882745",
      "metadata": {
        "id": "08882745"
      },
      "outputs": [],
      "source": [
        "GradBoost = GradientBoostingClassifier(loss = \"deviance\", learning_rate = 0.08, n_estimators = 700, subsample = 0.8, max_depth = 9)\n",
        "over = ADASYN()\n",
        "under = RandomUnderSampler(sampling_strategy=0.5)\n",
        "steps = [(\"smote\", over),(\"model\", GradBoost)]\n",
        "pipeline = Pipeline(steps = steps)"
      ]
    },
    {
      "cell_type": "code",
      "execution_count": 38,
      "id": "4c74b5a0",
      "metadata": {
        "id": "4c74b5a0",
        "outputId": "ec76a2df-8af2-4d5f-ffd9-462618f947b2",
        "colab": {
          "base_uri": "https://localhost:8080/"
        }
      },
      "outputs": [
        {
          "output_type": "stream",
          "name": "stdout",
          "text": [
            "accuracy: 0.670 (0.024)\n",
            "precison: 0.719 (0.021)\n",
            "recall: 0.706 (0.038)\n",
            "f1 score: 0.712 (0.024)\n"
          ]
        }
      ],
      "source": [
        "evalModel(pipeline, X, y, scoring)"
      ]
    },
    {
      "cell_type": "code",
      "execution_count": 39,
      "id": "396a1c8b",
      "metadata": {
        "id": "396a1c8b",
        "outputId": "513cbdb9-35b1-4e69-faf5-3a00d3f86f36",
        "colab": {
          "base_uri": "https://localhost:8080/"
        }
      },
      "outputs": [
        {
          "output_type": "execute_result",
          "data": {
            "text/plain": [
              "rating_category\n",
              "1                  931\n",
              "0                  880\n",
              "dtype: int64"
            ]
          },
          "metadata": {},
          "execution_count": 39
        }
      ],
      "source": [
        "X_train_res, y_train_res = over.fit_resample(X_train, y_train)\n",
        "y_train_res.value_counts()"
      ]
    },
    {
      "cell_type": "code",
      "execution_count": 40,
      "id": "1330a1be",
      "metadata": {
        "id": "1330a1be",
        "outputId": "d38d6f01-fc87-4bfe-a9af-e5a4583cb846",
        "colab": {
          "base_uri": "https://localhost:8080/",
          "height": 1000
        }
      },
      "outputs": [
        {
          "output_type": "stream",
          "name": "stdout",
          "text": [
            "Goodness of Fit of Model \tTrain Dataset\n",
            "Classification Accuracy \t: 0.9983434566537824\n",
            "\n",
            "Goodness of Fit of Model \tTest Dataset\n",
            "Classification Accuracy \t: 0.6575682382133995\n",
            "\n",
            "True '1' rate Train :\t 1.0\n",
            "True '0' rate Train :\t 0.9965909090909091\n",
            "\n",
            "False '1' rate Train :\t 0.003409090909090909\n",
            "False '0' rate Train :\t 0.0\n",
            "\n",
            "True '1' rate Test :\t 0.6866952789699571\n",
            "True '0' rate Test :\t 0.6176470588235294\n",
            "\n",
            "False '1' rate Test :\t 0.38235294117647056\n",
            "False '0' rate Test :\t 0.3133047210300429\n",
            "\n"
          ]
        },
        {
          "output_type": "display_data",
          "data": {
            "text/plain": [
              "<Figure size 576x1152 with 4 Axes>"
            ],
            "image/png": "[encoded data removed]"
          },
          "metadata": {
            "needs_background": "light"
          }
        }
      ],
      "source": [
        "fitModel(GradBoost, X_train_res, X_test, y_train_res, y_test)"
      ]
    }
  ],
  "metadata": {
    "kernelspec": {
      "display_name": "Python 3 (ipykernel)",
      "language": "python",
      "name": "python3"
    },
    "language_info": {
      "codemirror_mode": {
        "name": "ipython",
        "version": 3
      },
      "file_extension": ".py",
      "mimetype": "text/x-python",
      "name": "python",
      "nbconvert_exporter": "python",
      "pygments_lexer": "ipython3",
      "version": "3.9.7"
    },
    "colab": {
      "name": "Copy of Machine learning.ipynb",
      "provenance": [],
      "toc_visible": true
    }
  },
  "nbformat": 4,
  "nbformat_minor": 5
}